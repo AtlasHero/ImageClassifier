{
 "cells": [
  {
   "cell_type": "code",
   "execution_count": 8,
   "metadata": {},
   "outputs": [],
   "source": [
    "import os\n",
    "import numpy as np\n",
    "import matplotlib.pyplot as plt\n",
    "import matplotlib.image as mpimg\n",
    "#import cv2\n",
    "\n",
    "# defining global variable path\n",
    "image_path = \"assets\"\n",
    "\n",
    "'''function to load folder into arrays and \n",
    "then it returns that same array'''\n",
    "def load_images(path):\n",
    "    list_of_files = []\n",
    "    dirName = path\n",
    "    for (dirpath, dirnames, filenames) in os.walk(dirName):\n",
    "        list_of_files += [os.path.join(dirpath, file) for file in filenames]\n",
    "    return list_of_files"
   ]
  },
  {
   "cell_type": "code",
   "execution_count": 9,
   "metadata": {},
   "outputs": [
    {
     "name": "stderr",
     "output_type": "stream",
     "text": [
      "Using TensorFlow backend.\n"
     ]
    }
   ],
   "source": [
    "from scipy import ndimage\n",
    "from keras.preprocessing.image import ImageDataGenerator, array_to_img, img_to_array, load_img"
   ]
  },
  {
   "cell_type": "code",
   "execution_count": 10,
   "metadata": {},
   "outputs": [],
   "source": [
    "def process_image(image_path): \n",
    "    images = []\n",
    "    list_image_paths = load_images(image_path)\n",
    "    for path in list_image_paths: \n",
    "        image= (load_img(path))\n",
    "        images.append((img_to_array(image).flatten()))\n",
    "        #print(type(img))\n",
    "        #print(img.mode)\n",
    "    #img.show()\n",
    "    return images"
   ]
  },
  {
   "cell_type": "code",
   "execution_count": 11,
   "metadata": {},
   "outputs": [],
   "source": [
    "def load_images_from_list(image_list):\n",
    "    images = []\n",
    "    for image_path in image_list: \n",
    "        image= (load_img(image_path))\n",
    "        images.append(img_to_array(image).flatten())\n",
    "        #print(type(img))\n",
    "        #print(img.mode)\n",
    "    #img.show()\n",
    "    return images"
   ]
  },
  {
   "cell_type": "code",
   "execution_count": 8,
   "metadata": {},
   "outputs": [
    {
     "name": "stdout",
     "output_type": "stream",
     "text": [
      "['assets/addi/fire/rescaled_image_5.jpg', 'assets/addi/fire/rescaled_image_7.jpg', 'assets/addi/fire/rescaled_image_6.jpg', 'assets/addi/fire/rescaled_image_26.jpg', 'assets/addi/fire/rescaled_image_24.jpg', 'assets/addi/fire/rescaled_image_27.jpg', 'assets/addi/fire/rescaled_image_17.jpg', 'assets/addi/fire/rescaled_image_12.jpg', 'assets/addi/fire/rescaled_image_14.jpg', 'assets/addi/fire/rescaled_image_16.jpg', 'assets/addi/fire/rescaled_image_19.jpg', 'assets/addi/fire/rescaled_image_10.jpg', 'assets/addi/fire/rescaled_image_25.jpg', 'assets/addi/fire/rescaled_image_21.jpg', 'assets/addi/fire/rescaled_image_8.jpg', 'assets/addi/fire/rescaled_image_18.jpg', 'assets/addi/fire/rescaled_image_11.jpg', 'assets/addi/fire/rescaled_image_23.jpg', 'assets/addi/fire/rescaled_image_0.jpg', 'assets/addi/fire/rescaled_image_13.jpg', 'assets/addi/fire/rescaled_image_4.jpg', 'assets/addi/fire/rescaled_image_9.jpg', 'assets/addi/fire/rescaled_image_1.jpg', 'assets/addi/fire/rescaled_image_3.jpg', 'assets/addi/fire/rescaled_image_2.jpg', 'assets/addi/fire/rescaled_image_22.jpg', 'assets/addi/fire/rescaled_image_15.jpg', 'assets/addi/fire/rescaled_image_20.jpg', 'assets/addi/photos/rescaled_image_5.jpg', 'assets/addi/photos/rescaled_image_28.jpg', 'assets/addi/photos/rescaled_image_7.jpg', 'assets/addi/photos/rescaled_image_6.jpg', 'assets/addi/photos/rescaled_image_26.jpg', 'assets/addi/photos/rescaled_image_24.jpg', 'assets/addi/photos/rescaled_image_27.jpg', 'assets/addi/photos/rescaled_image_17.jpg', 'assets/addi/photos/rescaled_image_12.jpg', 'assets/addi/photos/rescaled_image_14.jpg', 'assets/addi/photos/rescaled_image_16.jpg', 'assets/addi/photos/rescaled_image_19.jpg', 'assets/addi/photos/rescaled_image_10.jpg', 'assets/addi/photos/rescaled_image_25.jpg', 'assets/addi/photos/rescaled_image_29.jpg', 'assets/addi/photos/rescaled_image_21.jpg', 'assets/addi/photos/rescaled_image_8.jpg', 'assets/addi/photos/rescaled_image_18.jpg', 'assets/addi/photos/rescaled_image_11.jpg', 'assets/addi/photos/rescaled_image_23.jpg', 'assets/addi/photos/rescaled_image_0.jpg', 'assets/addi/photos/rescaled_image_13.jpg', 'assets/addi/photos/rescaled_image_4.jpg', 'assets/addi/photos/rescaled_image_9.jpg', 'assets/addi/photos/rescaled_image_1.jpg', 'assets/addi/photos/rescaled_image_3.jpg', 'assets/addi/photos/rescaled_image_2.jpg', 'assets/addi/photos/rescaled_image_22.jpg', 'assets/addi/photos/rescaled_image_30.jpg', 'assets/addi/photos/rescaled_image_15.jpg', 'assets/addi/photos/rescaled_image_20.jpg', 'assets/addi/no_fire/rescaled_image_5.jpg', 'assets/addi/no_fire/rescaled_image_7.jpg', 'assets/addi/no_fire/rescaled_image_6.jpg', 'assets/addi/no_fire/rescaled_image_26.jpg', 'assets/addi/no_fire/rescaled_image_24.jpg', 'assets/addi/no_fire/rescaled_image_17.jpg', 'assets/addi/no_fire/rescaled_image_12.jpg', 'assets/addi/no_fire/rescaled_image_14.jpg', 'assets/addi/no_fire/rescaled_image_16.jpg', 'assets/addi/no_fire/rescaled_image_19.jpg', 'assets/addi/no_fire/rescaled_image_10.jpg', 'assets/addi/no_fire/rescaled_image_25.jpg', 'assets/addi/no_fire/rescaled_image_21.jpg', 'assets/addi/no_fire/rescaled_image_8.jpg', 'assets/addi/no_fire/rescaled_image_18.jpg', 'assets/addi/no_fire/rescaled_image_11.jpg', 'assets/addi/no_fire/rescaled_image_23.jpg', 'assets/addi/no_fire/rescaled_image_0.jpg', 'assets/addi/no_fire/rescaled_image_13.jpg', 'assets/addi/no_fire/rescaled_image_4.jpg', 'assets/addi/no_fire/rescaled_image_9.jpg', 'assets/addi/no_fire/rescaled_image_1.jpg', 'assets/addi/no_fire/rescaled_image_3.jpg', 'assets/addi/no_fire/rescaled_image_2.jpg', 'assets/addi/no_fire/rescaled_image_22.jpg', 'assets/addi/no_fire/rescaled_image_15.jpg', 'assets/addi/no_fire/rescaled_image_20.jpg']\n",
      "24097920\n"
     ]
    }
   ],
   "source": [
    "print(len(process_image(image_path)[0]))"
   ]
  },
  {
   "cell_type": "code",
   "execution_count": 6,
   "metadata": {},
   "outputs": [
    {
     "ename": "NameError",
     "evalue": "name 'listOfFiles' is not defined",
     "output_type": "error",
     "traceback": [
      "\u001b[0;31m---------------------------------------------------------------------------\u001b[0m",
      "\u001b[0;31mNameError\u001b[0m                                 Traceback (most recent call last)",
      "\u001b[0;32m<ipython-input-6-092539ca11aa>\u001b[0m in \u001b[0;36m<module>\u001b[0;34m\u001b[0m\n\u001b[0;32m----> 1\u001b[0;31m \u001b[0mlistOfFiles\u001b[0m\u001b[0;34m\u001b[0m\u001b[0;34m\u001b[0m\u001b[0m\n\u001b[0m",
      "\u001b[0;31mNameError\u001b[0m: name 'listOfFiles' is not defined"
     ]
    }
   ],
   "source": [
    "listOfFiles"
   ]
  },
  {
   "cell_type": "code",
   "execution_count": 12,
   "metadata": {},
   "outputs": [
    {
     "name": "stdout",
     "output_type": "stream",
     "text": [
      "76\n"
     ]
    }
   ],
   "source": [
    "import pandas as pd\n",
    "from sklearn.utils import shuffle\n",
    "from sklearn.model_selection import train_test_split\n",
    "from sklearn.ensemble import RandomForestClassifier\n",
    "df = pd.read_csv(\"fire_data.csv\")\n",
    "df = shuffle(df)\n",
    "df = df.drop(list(df.columns)[0], axis=1)\n",
    "X = df[\"file\"]\n",
    "list_files=df[\"file\"].tolist()\n",
    "X_images = load_images_from_list(list_files)\n",
    "print(len(X_images))\n"
   ]
  },
  {
   "cell_type": "code",
   "execution_count": 13,
   "metadata": {},
   "outputs": [
    {
     "name": "stdout",
     "output_type": "stream",
     "text": [
      "['no_fire', 'fire', 'fire', 'fire', 'no_fire', 'no_fire', 'no_fire', 'fire', 'fire', 'fire', 'no_fire', 'no_fire', 'fire', 'no_fire', 'no_fire', 'fire', 'fire', 'fire', 'no_fire', 'fire', 'fire', 'fire', 'fire', 'fire', 'no_fire', 'no_fire', 'fire', 'no_fire', 'fire', 'fire', 'fire', 'fire', 'fire', 'fire', 'fire', 'no_fire', 'fire', 'fire', 'no_fire', 'fire', 'fire', 'fire', 'fire', 'no_fire', 'no_fire', 'no_fire', 'no_fire', 'no_fire', 'no_fire', 'no_fire', 'no_fire', 'fire', 'no_fire', 'fire', 'fire', 'no_fire', 'fire', 'no_fire', 'fire', 'no_fire', 'fire', 'fire', 'no_fire', 'no_fire', 'no_fire', 'no_fire', 'no_fire', 'no_fire', 'no_fire', 'fire', 'no_fire', 'fire', 'no_fire', 'no_fire', 'no_fire', 'fire']\n"
     ]
    }
   ],
   "source": [
    "y = df[\"label\"].to_list()\n",
    "print(y)\n",
    "train_X, test_X, train_y, test_y = train_test_split(X_images, y, test_size=0.25, random_state=42)"
   ]
  },
  {
   "cell_type": "code",
   "execution_count": 34,
   "metadata": {},
   "outputs": [],
   "source": [
    "parameters = {'bootstrap': True,\n",
    "              'min_samples_leaf': 4,\n",
    "              'n_estimators':30, \n",
    "              'min_samples_split': 10,\n",
    "              'max_features': 'sqrt',\n",
    "              'max_depth': 2,\n",
    "              'max_leaf_nodes': None}"
   ]
  },
  {
   "cell_type": "code",
   "execution_count": 35,
   "metadata": {},
   "outputs": [],
   "source": [
    "RF_model = RandomForestClassifier(**parameters)"
   ]
  },
  {
   "cell_type": "code",
   "execution_count": 36,
   "metadata": {},
   "outputs": [
    {
     "data": {
      "text/plain": [
       "RandomForestClassifier(bootstrap=True, class_weight=None, criterion='gini',\n",
       "                       max_depth=2, max_features='sqrt', max_leaf_nodes=None,\n",
       "                       min_impurity_decrease=0.0, min_impurity_split=None,\n",
       "                       min_samples_leaf=4, min_samples_split=10,\n",
       "                       min_weight_fraction_leaf=0.0, n_estimators=30,\n",
       "                       n_jobs=None, oob_score=False, random_state=None,\n",
       "                       verbose=0, warm_start=False)"
      ]
     },
     "execution_count": 36,
     "metadata": {},
     "output_type": "execute_result"
    }
   ],
   "source": [
    "RF_model.fit(train_X, train_y)\n"
   ]
  },
  {
   "cell_type": "code",
   "execution_count": 37,
   "metadata": {},
   "outputs": [
    {
     "name": "stdout",
     "output_type": "stream",
     "text": [
      "0.7894736842105263\n"
     ]
    }
   ],
   "source": [
    "from sklearn.metrics import accuracy_score\n",
    "RF_predictions = RF_model.predict(test_X)\n",
    "score = accuracy_score(test_y ,RF_predictions)\n",
    "print(score)"
   ]
  },
  {
   "cell_type": "code",
   "execution_count": 38,
   "metadata": {},
   "outputs": [
    {
     "name": "stdout",
     "output_type": "stream",
     "text": [
      "0.9824561403508771\n"
     ]
    }
   ],
   "source": [
    "from sklearn.metrics import accuracy_score\n",
    "RF_predictions = RF_model.predict(train_X)\n",
    "score = accuracy_score(train_y ,RF_predictions)\n",
    "print(score)"
   ]
  },
  {
   "cell_type": "code",
   "execution_count": 25,
   "metadata": {},
   "outputs": [
    {
     "data": {
      "text/plain": [
       "array([[ 4,  3],\n",
       "       [ 1, 11]])"
      ]
     },
     "execution_count": 25,
     "metadata": {},
     "output_type": "execute_result"
    }
   ],
   "source": [
    "from sklearn.metrics import confusion_matrix\n",
    "confusion_matrix(test_y, RF_predictions)"
   ]
  },
  {
   "cell_type": "code",
   "execution_count": 18,
   "metadata": {},
   "outputs": [
    {
     "data": {
      "text/plain": [
       "39"
      ]
     },
     "execution_count": 18,
     "metadata": {},
     "output_type": "execute_result"
    }
   ],
   "source": [
    "labels = df[\"label\"]\n",
    "y_fire = len(labels[labels == \"fire\"])\n",
    "y_fire"
   ]
  },
  {
   "cell_type": "code",
   "execution_count": 19,
   "metadata": {},
   "outputs": [
    {
     "data": {
      "text/plain": [
       "37"
      ]
     },
     "execution_count": 19,
     "metadata": {},
     "output_type": "execute_result"
    }
   ],
   "source": [
    "y_no_fire = len(labels[labels == \"no_fire\"])\n",
    "y_no_fire"
   ]
  },
  {
   "cell_type": "code",
   "execution_count": 20,
   "metadata": {},
   "outputs": [
    {
     "name": "stdout",
     "output_type": "stream",
     "text": [
      "0.5131578947368421\n"
     ]
    }
   ],
   "source": [
    "distribution = y_fire/(y_no_fire+y_fire)\n",
    "print(distribution)"
   ]
  },
  {
   "cell_type": "code",
   "execution_count": 21,
   "metadata": {},
   "outputs": [],
   "source": [
    "import os\n",
    "entries_fire = os.listdir('assets/addi/drone_shots')\n",
    "entries_fire = [ 'assets/addi/drone_shots/' + x for x in entries_fire]\n",
    "X_images_prod = load_images_from_list(entries_fire)"
   ]
  },
  {
   "cell_type": "code",
   "execution_count": 23,
   "metadata": {},
   "outputs": [
    {
     "name": "stdout",
     "output_type": "stream",
     "text": [
      "['assets/addi/drone_shots/5083E1A5CC3E12C1D7702D9A59E222D3.JPG', 'assets/addi/drone_shots/EC5F69EDF7433C9F50E8B4C445CD0806.JPG', 'assets/addi/drone_shots/E0E9F437A160DA51E327E3CCE9767D70.JPG', 'assets/addi/drone_shots/4D0DACFF770944E73370523D940F3349.JPG', 'assets/addi/drone_shots/5F2FA2C041C1396F6C22CA97721FC82A.JPG', 'assets/addi/drone_shots/0A247D357322CB55B43F19FA1A2D319D.JPG', 'assets/addi/drone_shots/3CEA8DC79833A9FB0DCF83C803D747CB.JPG', 'assets/addi/drone_shots/80755A11FC8B59C3FE307E06EEFDB263.JPG', 'assets/addi/drone_shots/7B36063879E34E75B29AE625C974F250.JPG', 'assets/addi/drone_shots/1F1887599FF394A68C419833BA5E95DE.JPG', 'assets/addi/drone_shots/A0F2662ED7A326D183AC541461B55D51.JPG']\n"
     ]
    },
    {
     "data": {
      "text/plain": [
       "array(['no_fire', 'no_fire', 'no_fire', 'fire', 'no_fire', 'no_fire',\n",
       "       'no_fire', 'fire', 'no_fire', 'no_fire', 'no_fire', 'no_fire',\n",
       "       'no_fire', 'no_fire', 'no_fire', 'fire', 'fire', 'no_fire', 'fire'],\n",
       "      dtype='<U7')"
      ]
     },
     "execution_count": 23,
     "metadata": {},
     "output_type": "execute_result"
    }
   ],
   "source": [
    "print(entries_fire)\n",
    "RF_predictions_prod = RF_model.predict(test_X)\n",
    "RF_predictions_prod"
   ]
  },
  {
   "cell_type": "code",
   "execution_count": null,
   "metadata": {},
   "outputs": [],
   "source": []
  }
 ],
 "metadata": {
  "kernelspec": {
   "display_name": "Python 3",
   "language": "python",
   "name": "python3"
  },
  "language_info": {
   "codemirror_mode": {
    "name": "ipython",
    "version": 3
   },
   "file_extension": ".py",
   "mimetype": "text/x-python",
   "name": "python",
   "nbconvert_exporter": "python",
   "pygments_lexer": "ipython3",
   "version": "3.6.9"
  }
 },
 "nbformat": 4,
 "nbformat_minor": 2
}
