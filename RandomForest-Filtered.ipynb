{
 "cells": [
  {
   "cell_type": "code",
   "execution_count": 1,
   "metadata": {},
   "outputs": [],
   "source": [
    "import os\n",
    "import numpy as np\n",
    "import matplotlib.pyplot as plt\n",
    "import matplotlib.image as mpimg\n",
    "#import cv2\n",
    "\n",
    "# defining global variable path\n",
    "image_path = \"assets\"\n",
    "\n",
    "'''function to load folder into arrays and \n",
    "then it returns that same array'''\n",
    "def load_images(path):\n",
    "    list_of_files = []\n",
    "    dirName = path\n",
    "    for (dirpath, dirnames, filenames) in os.walk(dirName):\n",
    "        list_of_files += [os.path.join(dirpath, file) for file in filenames]\n",
    "    return list_of_files"
   ]
  },
  {
   "cell_type": "code",
   "execution_count": 2,
   "metadata": {},
   "outputs": [
    {
     "name": "stderr",
     "output_type": "stream",
     "text": [
      "Using TensorFlow backend.\n"
     ]
    }
   ],
   "source": [
    "from scipy import ndimage\n",
    "from keras.preprocessing.image import ImageDataGenerator, array_to_img, img_to_array, load_img"
   ]
  },
  {
   "cell_type": "code",
   "execution_count": 3,
   "metadata": {},
   "outputs": [],
   "source": [
    "def process_image(image_path): \n",
    "    images = []\n",
    "    list_image_paths = load_images(image_path)\n",
    "    for path in list_image_paths: \n",
    "        image= (load_img(path))\n",
    "        images.append((img_to_array(image).flatten()))\n",
    "        #print(type(img))\n",
    "        #print(img.mode)\n",
    "    #img.show()\n",
    "    return images"
   ]
  },
  {
   "cell_type": "code",
   "execution_count": 4,
   "metadata": {},
   "outputs": [],
   "source": [
    "def load_images_from_list(image_list):\n",
    "    images = []\n",
    "    for image_path in image_list: \n",
    "        image= (load_img(image_path))\n",
    "        images.append(img_to_array(image).flatten())\n",
    "        #print(type(img))\n",
    "        #print(img.mode)\n",
    "    #img.show()\n",
    "    return images"
   ]
  },
  {
   "cell_type": "code",
   "execution_count": null,
   "metadata": {},
   "outputs": [],
   "source": [
    "print(len(process_image(image_path)[0]))"
   ]
  },
  {
   "cell_type": "code",
   "execution_count": null,
   "metadata": {},
   "outputs": [],
   "source": [
    "listOfFiles"
   ]
  },
  {
   "cell_type": "code",
   "execution_count": 5,
   "metadata": {},
   "outputs": [
    {
     "name": "stdout",
     "output_type": "stream",
     "text": [
      "76\n"
     ]
    }
   ],
   "source": [
    "import pandas as pd\n",
    "from sklearn.utils import shuffle\n",
    "from sklearn.model_selection import train_test_split\n",
    "from sklearn.ensemble import RandomForestClassifier\n",
    "df = pd.read_csv(\"fire_data.csv\")\n",
    "df = shuffle(df)\n",
    "df = df.drop(list(df.columns)[0], axis=1)\n",
    "X = df[\"file\"]\n",
    "\n",
    "list_files=df[\"file\"].tolist()\n",
    "list_files = [x.replace(\"rescaled\", \"filtered_rescaled\") for x in list_files]\n",
    "X_images = load_images_from_list(list_files)\n",
    "\n",
    "print(len(X_images))\n"
   ]
  },
  {
   "cell_type": "code",
   "execution_count": 15,
   "metadata": {},
   "outputs": [
    {
     "data": {
      "text/plain": [
       "['assets/addi/no_fire/filtered_rescaled_image_7.jpg',\n",
       " 'assets/addi/fire/filtered_rescaled_image_7.jpg',\n",
       " 'assets/addi/no_fire/filtered_rescaled_image_2.jpg',\n",
       " 'assets/addi/no_fire/filtered_rescaled_image_25.jpg',\n",
       " 'assets/addi/photos/filtered_rescaled_image_21.jpg',\n",
       " 'assets/addi/photos/filtered_rescaled_image_14.jpg',\n",
       " 'assets/addi/photos/filtered_rescaled_image_11.jpg',\n",
       " 'assets/addi/fire/filtered_rescaled_image_27.jpg',\n",
       " 'assets/addi/fire/filtered_rescaled_image_13.jpg',\n",
       " 'assets/addi/fire/filtered_rescaled_image_26.jpg',\n",
       " 'assets/addi/photos/filtered_rescaled_image_13.jpg',\n",
       " 'assets/addi/fire/filtered_rescaled_image_20.jpg',\n",
       " 'assets/addi/fire/filtered_rescaled_image_11.jpg',\n",
       " 'assets/addi/photos/filtered_rescaled_image_17.jpg',\n",
       " 'assets/addi/photos/filtered_rescaled_image_9.jpg',\n",
       " 'assets/addi/photos/filtered_rescaled_image_12.jpg',\n",
       " 'assets/addi/fire/filtered_rescaled_image_19.jpg',\n",
       " 'assets/addi/fire/filtered_rescaled_image_23.jpg',\n",
       " 'assets/addi/fire/filtered_rescaled_image_2.jpg',\n",
       " 'assets/addi/no_fire/filtered_rescaled_image_26.jpg',\n",
       " 'assets/addi/fire/filtered_rescaled_image_21.jpg',\n",
       " 'assets/addi/no_fire/filtered_rescaled_image_12.jpg',\n",
       " 'assets/addi/no_fire/filtered_rescaled_image_19.jpg',\n",
       " 'assets/addi/photos/filtered_rescaled_image_18.jpg',\n",
       " 'assets/addi/fire/filtered_rescaled_image_4.jpg',\n",
       " 'assets/addi/fire/filtered_rescaled_image_25.jpg',\n",
       " 'assets/addi/photos/filtered_rescaled_image_16.jpg',\n",
       " 'assets/addi/photos/filtered_rescaled_image_8.jpg',\n",
       " 'assets/addi/photos/filtered_rescaled_image_26.jpg',\n",
       " 'assets/addi/fire/filtered_rescaled_image_9.jpg',\n",
       " 'assets/addi/photos/filtered_rescaled_image_1.jpg',\n",
       " 'assets/addi/no_fire/filtered_rescaled_image_5.jpg',\n",
       " 'assets/addi/fire/filtered_rescaled_image_15.jpg',\n",
       " 'assets/addi/photos/filtered_rescaled_image_20.jpg',\n",
       " 'assets/addi/no_fire/filtered_rescaled_image_4.jpg',\n",
       " 'assets/addi/photos/filtered_rescaled_image_5.jpg',\n",
       " 'assets/addi/no_fire/filtered_rescaled_image_13.jpg',\n",
       " 'assets/addi/fire/filtered_rescaled_image_10.jpg',\n",
       " 'assets/addi/no_fire/filtered_rescaled_image_20.jpg',\n",
       " 'assets/addi/fire/filtered_rescaled_image_5.jpg',\n",
       " 'assets/addi/fire/filtered_rescaled_image_0.jpg',\n",
       " 'assets/addi/fire/filtered_rescaled_image_16.jpg',\n",
       " 'assets/addi/photos/filtered_rescaled_image_15.jpg',\n",
       " 'assets/addi/fire/filtered_rescaled_image_24.jpg',\n",
       " 'assets/addi/no_fire/filtered_rescaled_image_0.jpg',\n",
       " 'assets/addi/no_fire/filtered_rescaled_image_17.jpg',\n",
       " 'assets/addi/photos/filtered_rescaled_image_19.jpg',\n",
       " 'assets/addi/no_fire/filtered_rescaled_image_3.jpg',\n",
       " 'assets/addi/fire/filtered_rescaled_image_14.jpg',\n",
       " 'assets/addi/photos/filtered_rescaled_image_6.jpg',\n",
       " 'assets/addi/no_fire/filtered_rescaled_image_10.jpg',\n",
       " 'assets/addi/no_fire/filtered_rescaled_image_6.jpg',\n",
       " 'assets/addi/photos/filtered_rescaled_image_0.jpg',\n",
       " 'assets/addi/photos/filtered_rescaled_image_3.jpg',\n",
       " 'assets/addi/fire/filtered_rescaled_image_6.jpg',\n",
       " 'assets/addi/no_fire/filtered_rescaled_image_24.jpg',\n",
       " 'assets/addi/no_fire/filtered_rescaled_image_11.jpg',\n",
       " 'assets/addi/no_fire/filtered_rescaled_image_15.jpg',\n",
       " 'assets/addi/photos/filtered_rescaled_image_7.jpg',\n",
       " 'assets/addi/no_fire/filtered_rescaled_image_1.jpg',\n",
       " 'assets/addi/no_fire/filtered_rescaled_image_8.jpg',\n",
       " 'assets/addi/no_fire/filtered_rescaled_image_9.jpg',\n",
       " 'assets/addi/no_fire/filtered_rescaled_image_23.jpg',\n",
       " 'assets/addi/photos/filtered_rescaled_image_22.jpg',\n",
       " 'assets/addi/photos/filtered_rescaled_image_24.jpg',\n",
       " 'assets/addi/no_fire/filtered_rescaled_image_21.jpg',\n",
       " 'assets/addi/photos/filtered_rescaled_image_23.jpg',\n",
       " 'assets/addi/photos/filtered_rescaled_image_2.jpg',\n",
       " 'assets/addi/fire/filtered_rescaled_image_18.jpg',\n",
       " 'assets/addi/photos/filtered_rescaled_image_25.jpg',\n",
       " 'assets/addi/fire/filtered_rescaled_image_1.jpg',\n",
       " 'assets/addi/fire/filtered_rescaled_image_22.jpg',\n",
       " 'assets/addi/no_fire/filtered_rescaled_image_18.jpg',\n",
       " 'assets/addi/fire/filtered_rescaled_image_8.jpg',\n",
       " 'assets/addi/fire/filtered_rescaled_image_17.jpg',\n",
       " 'assets/addi/photos/filtered_rescaled_image_10.jpg']"
      ]
     },
     "execution_count": 15,
     "metadata": {},
     "output_type": "execute_result"
    }
   ],
   "source": [
    "\n",
    "list_files"
   ]
  },
  {
   "cell_type": "code",
   "execution_count": 6,
   "metadata": {},
   "outputs": [
    {
     "name": "stdout",
     "output_type": "stream",
     "text": [
      "['fire', 'fire', 'no_fire', 'no_fire', 'no_fire', 'no_fire', 'no_fire', 'fire', 'fire', 'no_fire', 'no_fire', 'fire', 'fire', 'fire', 'fire', 'fire', 'fire', 'no_fire', 'fire', 'no_fire', 'no_fire', 'no_fire', 'fire', 'fire', 'no_fire', 'fire', 'no_fire', 'fire', 'fire', 'no_fire', 'fire', 'no_fire', 'no_fire', 'no_fire', 'no_fire', 'fire', 'no_fire', 'no_fire', 'fire', 'fire', 'fire', 'fire', 'fire', 'no_fire', 'no_fire', 'fire', 'fire', 'no_fire', 'fire', 'no_fire', 'fire', 'fire', 'no_fire', 'fire', 'fire', 'fire', 'no_fire', 'fire', 'no_fire', 'fire', 'fire', 'no_fire', 'no_fire', 'fire', 'no_fire', 'no_fire', 'no_fire', 'fire', 'no_fire', 'no_fire', 'fire', 'no_fire', 'no_fire', 'no_fire', 'fire', 'fire']\n"
     ]
    }
   ],
   "source": [
    "y = df[\"label\"].to_list()\n",
    "print(y)\n",
    "train_X, test_X, train_y, test_y = train_test_split(X_images, y, test_size=0.25, random_state=42)"
   ]
  },
  {
   "cell_type": "code",
   "execution_count": 7,
   "metadata": {},
   "outputs": [],
   "source": [
    "parameters = {'bootstrap': True,\n",
    "              'min_samples_leaf': 4,\n",
    "              'n_estimators': 50, \n",
    "              'min_samples_split': 10,\n",
    "              'max_features': 'sqrt',\n",
    "              'max_depth': 2,\n",
    "              'max_leaf_nodes': None}"
   ]
  },
  {
   "cell_type": "code",
   "execution_count": 8,
   "metadata": {},
   "outputs": [],
   "source": [
    "RF_model = RandomForestClassifier(**parameters)"
   ]
  },
  {
   "cell_type": "code",
   "execution_count": 9,
   "metadata": {},
   "outputs": [
    {
     "data": {
      "text/plain": [
       "RandomForestClassifier(bootstrap=True, class_weight=None, criterion='gini',\n",
       "                       max_depth=2, max_features='sqrt', max_leaf_nodes=None,\n",
       "                       min_impurity_decrease=0.0, min_impurity_split=None,\n",
       "                       min_samples_leaf=4, min_samples_split=10,\n",
       "                       min_weight_fraction_leaf=0.0, n_estimators=50,\n",
       "                       n_jobs=None, oob_score=False, random_state=None,\n",
       "                       verbose=0, warm_start=False)"
      ]
     },
     "execution_count": 9,
     "metadata": {},
     "output_type": "execute_result"
    }
   ],
   "source": [
    "RF_model.fit(train_X, train_y)"
   ]
  },
  {
   "cell_type": "code",
   "execution_count": 14,
   "metadata": {},
   "outputs": [
    {
     "name": "stdout",
     "output_type": "stream",
     "text": [
      "0.6842105263157895\n"
     ]
    }
   ],
   "source": [
    "from sklearn.metrics import accuracy_score\n",
    "RF_predictions = RF_model.predict(test_X)\n",
    "score = accuracy_score(test_y ,RF_predictions)\n",
    "print(score)"
   ]
  },
  {
   "cell_type": "code",
   "execution_count": 11,
   "metadata": {},
   "outputs": [
    {
     "data": {
      "text/plain": [
       "39"
      ]
     },
     "execution_count": 11,
     "metadata": {},
     "output_type": "execute_result"
    }
   ],
   "source": [
    "labels = df[\"label\"]\n",
    "y_fire = len(labels[labels == \"fire\"])\n",
    "y_fire"
   ]
  },
  {
   "cell_type": "code",
   "execution_count": 12,
   "metadata": {},
   "outputs": [
    {
     "data": {
      "text/plain": [
       "37"
      ]
     },
     "execution_count": 12,
     "metadata": {},
     "output_type": "execute_result"
    }
   ],
   "source": [
    "y_no_fire = len(labels[labels == \"no_fire\"])\n",
    "y_no_fire"
   ]
  },
  {
   "cell_type": "code",
   "execution_count": 13,
   "metadata": {},
   "outputs": [
    {
     "name": "stdout",
     "output_type": "stream",
     "text": [
      "0.5131578947368421\n"
     ]
    }
   ],
   "source": [
    "distribution = y_fire/(y_no_fire+y_fire)\n",
    "print(distribution)"
   ]
  },
  {
   "cell_type": "code",
   "execution_count": 34,
   "metadata": {},
   "outputs": [
    {
     "data": {
      "text/plain": [
       "['no_fire',\n",
       " 'fire',\n",
       " 'fire',\n",
       " 'fire',\n",
       " 'no_fire',\n",
       " 'fire',\n",
       " 'no_fire',\n",
       " 'fire',\n",
       " 'no_fire',\n",
       " 'no_fire',\n",
       " 'fire',\n",
       " 'no_fire',\n",
       " 'fire',\n",
       " 'no_fire',\n",
       " 'fire',\n",
       " 'fire',\n",
       " 'fire',\n",
       " 'no_fire',\n",
       " 'no_fire',\n",
       " 'no_fire',\n",
       " 'fire',\n",
       " 'no_fire',\n",
       " 'no_fire',\n",
       " 'no_fire',\n",
       " 'fire',\n",
       " 'fire',\n",
       " 'no_fire',\n",
       " 'fire',\n",
       " 'fire',\n",
       " 'no_fire',\n",
       " 'fire',\n",
       " 'fire',\n",
       " 'fire',\n",
       " 'fire',\n",
       " 'no_fire',\n",
       " 'fire',\n",
       " 'no_fire',\n",
       " 'no_fire',\n",
       " 'no_fire',\n",
       " 'no_fire',\n",
       " 'fire',\n",
       " 'no_fire',\n",
       " 'no_fire',\n",
       " 'fire',\n",
       " 'no_fire',\n",
       " 'fire',\n",
       " 'fire',\n",
       " 'no_fire',\n",
       " 'no_fire',\n",
       " 'fire',\n",
       " 'no_fire',\n",
       " 'no_fire',\n",
       " 'no_fire',\n",
       " 'no_fire',\n",
       " 'fire',\n",
       " 'no_fire',\n",
       " 'fire',\n",
       " 'no_fire',\n",
       " 'fire',\n",
       " 'fire',\n",
       " 'no_fire',\n",
       " 'no_fire',\n",
       " 'no_fire',\n",
       " 'fire',\n",
       " 'fire',\n",
       " 'fire',\n",
       " 'fire',\n",
       " 'no_fire',\n",
       " 'fire',\n",
       " 'fire',\n",
       " 'no_fire',\n",
       " 'fire',\n",
       " 'fire',\n",
       " 'fire',\n",
       " 'fire',\n",
       " 'no_fire']"
      ]
     },
     "execution_count": 34,
     "metadata": {},
     "output_type": "execute_result"
    }
   ],
   "source": []
  },
  {
   "cell_type": "code",
   "execution_count": null,
   "metadata": {},
   "outputs": [],
   "source": []
  }
 ],
 "metadata": {
  "kernelspec": {
   "display_name": "Python 3",
   "language": "python",
   "name": "python3"
  },
  "language_info": {
   "codemirror_mode": {
    "name": "ipython",
    "version": 3
   },
   "file_extension": ".py",
   "mimetype": "text/x-python",
   "name": "python",
   "nbconvert_exporter": "python",
   "pygments_lexer": "ipython3",
   "version": "3.6.9"
  }
 },
 "nbformat": 4,
 "nbformat_minor": 2
}
