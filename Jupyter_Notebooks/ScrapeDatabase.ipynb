{
 "cells": [
  {
   "cell_type": "code",
   "execution_count": 3,
   "metadata": {},
   "outputs": [
    {
     "name": "stdout",
     "output_type": "stream",
     "text": [
      "Started Reading JSON file which contains multiple JSON document\n",
      "Printing each JSON Decoded Object\n"
     ]
    }
   ],
   "source": [
    "import pandas as pd \n",
    "import json\n",
    "\n",
    "\n",
    "#df = pd.read_json(r'assets/addi/fire_database/Forest_Fire.json')\n",
    "\n",
    "links = []\n",
    "print(\"Started Reading JSON file which contains multiple JSON document\")\n",
    "with open(r'assets/addi/Forest_Fire.json') as f:\n",
    "    for jsonObj in f:\n",
    "        json_dict = json.loads(jsonObj)\n",
    "        links.append(json_dict)\n",
    "\n",
    "print(\"Printing each JSON Decoded Object\")\n",
    "link_list = []\n",
    "for link in links:\n",
    "    link_list.append(link[\"content\"])\n",
    "\n"
   ]
  },
  {
   "cell_type": "code",
   "execution_count": null,
   "metadata": {},
   "outputs": [
    {
     "name": "stderr",
     "output_type": "stream",
     "text": [
      "- |#                                                  | 0 Elapsed Time: 0:00:00\n"
     ]
    },
    {
     "name": "stdout",
     "output_type": "stream",
     "text": [
      "Downloading image from  http://com.dataturks.a96-i23.open.s3.amazonaws.com/2c9fafb06702b2c1016723e86959020f/eebd6e85-4ffc-48ad-8393-32a48c78e83a___FF160.JPEG\n"
     ]
    },
    {
     "name": "stderr",
     "output_type": "stream",
     "text": [
      "\r",
      "/ |#                                                  | 0 Elapsed Time: 0:00:00"
     ]
    },
    {
     "name": "stdout",
     "output_type": "stream",
     "text": [
      "Save image to path  assets/addi/fire_database/image1.jpg\n",
      "Downloading image from  http://com.dataturks.a96-i23.open.s3.amazonaws.com/2c9fafb06702b2c1016723e86959020f/c310beae-e545-47aa-bab4-65dedc89b406___373.JPEG\n"
     ]
    },
    {
     "name": "stderr",
     "output_type": "stream",
     "text": [
      "\r",
      "- |     #                                             | 3 Elapsed Time: 0:00:00"
     ]
    },
    {
     "name": "stdout",
     "output_type": "stream",
     "text": [
      "Save image to path  assets/addi/fire_database/image2.jpg\n",
      "Downloading image from  http://com.dataturks.a96-i23.open.s3.amazonaws.com/2c9fafb06702b2c1016723e86959020f/5c626593-3d6b-4c87-be52-014fefeb428f___236.JPEG\n"
     ]
    },
    {
     "name": "stderr",
     "output_type": "stream",
     "text": [
      "\r",
      "\\ |         #                                         | 4 Elapsed Time: 0:00:00"
     ]
    },
    {
     "name": "stdout",
     "output_type": "stream",
     "text": [
      "Save image to path  assets/addi/fire_database/image3.jpg\n",
      "Downloading image from  http://com.dataturks.a96-i23.open.s3.amazonaws.com/2c9fafb06702b2c1016723e86959020f/b6596d91-223c-4178-880b-76ca82d5ae58___FF21.JPEG\n"
     ]
    },
    {
     "name": "stderr",
     "output_type": "stream",
     "text": [
      "\r",
      "| |             #                                     | 5 Elapsed Time: 0:00:01"
     ]
    },
    {
     "name": "stdout",
     "output_type": "stream",
     "text": [
      "Save image to path  assets/addi/fire_database/image4.jpg\n",
      "Downloading image from  http://com.dataturks.a96-i23.open.s3.amazonaws.com/2c9fafb06702b2c1016723e86959020f/9995ec8c-6f8e-445d-9104-6b3857f501fc___47.JPEG\n"
     ]
    },
    {
     "name": "stderr",
     "output_type": "stream",
     "text": [
      "\r",
      "/ |                   #                               | 6 Elapsed Time: 0:00:01"
     ]
    },
    {
     "name": "stdout",
     "output_type": "stream",
     "text": [
      "Save image to path  assets/addi/fire_database/image5.jpg\n",
      "Downloading image from  http://com.dataturks.a96-i23.open.s3.amazonaws.com/2c9fafb06702b2c1016723e86959020f/9945b568-29f9-4b9c-840a-83b9ec9433b0___FF249.JPEG\n"
     ]
    },
    {
     "name": "stderr",
     "output_type": "stream",
     "text": [
      "\r",
      "- |                          #                        | 7 Elapsed Time: 0:00:02"
     ]
    },
    {
     "name": "stdout",
     "output_type": "stream",
     "text": [
      "Save image to path  assets/addi/fire_database/image6.jpg\n",
      "Downloading image from  http://com.dataturks.a96-i23.open.s3.amazonaws.com/2c9fafb06702b2c1016723e86959020f/9035fced-3431-4f64-a60a-1862fb7bdd77___324.JPEG\n"
     ]
    },
    {
     "name": "stderr",
     "output_type": "stream",
     "text": [
      "\r",
      "\\ |                             #                     | 8 Elapsed Time: 0:00:02"
     ]
    },
    {
     "name": "stdout",
     "output_type": "stream",
     "text": [
      "Save image to path  assets/addi/fire_database/image7.jpg\n",
      "Downloading image from  http://com.dataturks.a96-i23.open.s3.amazonaws.com/2c9fafb06702b2c1016723e86959020f/338eafa5-5a30-462a-910c-699f92c275c0___FF99.JPEG\n"
     ]
    },
    {
     "name": "stderr",
     "output_type": "stream",
     "text": [
      "\r",
      "| |                                  #                | 9 Elapsed Time: 0:00:03"
     ]
    },
    {
     "name": "stdout",
     "output_type": "stream",
     "text": [
      "Save image to path  assets/addi/fire_database/image8.jpg\n",
      "Downloading image from  http://com.dataturks.a96-i23.open.s3.amazonaws.com/2c9fafb06702b2c1016723e86959020f/1289f5db-2ee4-426c-8db4-bfb4c0ae6a50___FF137.JPEG\n"
     ]
    },
    {
     "name": "stderr",
     "output_type": "stream",
     "text": [
      "\r",
      "/ |                                      #           | 10 Elapsed Time: 0:00:03"
     ]
    },
    {
     "name": "stdout",
     "output_type": "stream",
     "text": [
      "Save image to path  assets/addi/fire_database/image9.jpg\n",
      "Downloading image from  http://com.dataturks.a96-i23.open.s3.amazonaws.com/2c9fafb06702b2c1016723e86959020f/77c03ec3-3b55-4b7f-9843-d0bdbbd2e6a2___FF76.JPEG\n"
     ]
    },
    {
     "name": "stderr",
     "output_type": "stream",
     "text": [
      "\r",
      "- |                                          #       | 11 Elapsed Time: 0:00:04"
     ]
    },
    {
     "name": "stdout",
     "output_type": "stream",
     "text": [
      "Save image to path  assets/addi/fire_database/image10.jpg\n",
      "Downloading image from  http://com.dataturks.a96-i23.open.s3.amazonaws.com/2c9fafb06702b2c1016723e86959020f/e17198e6-f9ab-4f85-a6e6-5092867b35ae___261.JPEG\n"
     ]
    },
    {
     "name": "stderr",
     "output_type": "stream",
     "text": [
      "\r",
      "\\ |                                              #   | 12 Elapsed Time: 0:00:04"
     ]
    },
    {
     "name": "stdout",
     "output_type": "stream",
     "text": [
      "Save image to path  assets/addi/fire_database/image11.jpg\n",
      "Downloading image from  http://com.dataturks.a96-i23.open.s3.amazonaws.com/2c9fafb06702b2c1016723e86959020f/4e26fd15-ba6f-4202-b00c-11911fc4a818___518.JPEG\n"
     ]
    },
    {
     "name": "stderr",
     "output_type": "stream",
     "text": [
      "\r",
      "| |                                                 #| 13 Elapsed Time: 0:00:05"
     ]
    },
    {
     "name": "stdout",
     "output_type": "stream",
     "text": [
      "Save image to path  assets/addi/fire_database/image12.jpg\n",
      "Downloading image from  http://com.dataturks.a96-i23.open.s3.amazonaws.com/2c9fafb06702b2c1016723e86959020f/fd7c33e2-a193-4ebd-9fd5-43697565eb9a___FF2.JPEG\n"
     ]
    },
    {
     "name": "stderr",
     "output_type": "stream",
     "text": [
      "\r",
      "/ |                                             #    | 14 Elapsed Time: 0:00:05"
     ]
    },
    {
     "name": "stdout",
     "output_type": "stream",
     "text": [
      "Save image to path  assets/addi/fire_database/image13.jpg\n",
      "Downloading image from  http://com.dataturks.a96-i23.open.s3.amazonaws.com/2c9fafb06702b2c1016723e86959020f/d80f4b5c-d082-45df-b864-05ef9328da60___148.JPEG\n"
     ]
    },
    {
     "name": "stderr",
     "output_type": "stream",
     "text": [
      "\r",
      "- |                                       #          | 15 Elapsed Time: 0:00:06"
     ]
    },
    {
     "name": "stdout",
     "output_type": "stream",
     "text": [
      "Save image to path  assets/addi/fire_database/image14.jpg\n",
      "Downloading image from  http://com.dataturks.a96-i23.open.s3.amazonaws.com/2c9fafb06702b2c1016723e86959020f/bf12734f-f891-4f69-bf1d-3616a97955ac___10.JPEG\n"
     ]
    },
    {
     "name": "stderr",
     "output_type": "stream",
     "text": [
      "\r",
      "\\ |                                  #               | 16 Elapsed Time: 0:00:06"
     ]
    },
    {
     "name": "stdout",
     "output_type": "stream",
     "text": [
      "Save image to path  assets/addi/fire_database/image15.jpg\n",
      "Downloading image from  http://com.dataturks.a96-i23.open.s3.amazonaws.com/2c9fafb06702b2c1016723e86959020f/6301c4aa-dcf1-4744-a131-430203bd0d73___FF121.JPEG\n"
     ]
    },
    {
     "name": "stderr",
     "output_type": "stream",
     "text": [
      "\r",
      "| |                              #                   | 17 Elapsed Time: 0:00:06"
     ]
    },
    {
     "name": "stdout",
     "output_type": "stream",
     "text": [
      "Save image to path  assets/addi/fire_database/image16.jpg\n",
      "Downloading image from  http://com.dataturks.a96-i23.open.s3.amazonaws.com/2c9fafb06702b2c1016723e86959020f/9778f7b2-7b4b-452b-afde-707abd45cdd2___298.JPEG\n"
     ]
    },
    {
     "name": "stderr",
     "output_type": "stream",
     "text": [
      "\r",
      "/ |                         #                        | 18 Elapsed Time: 0:00:07"
     ]
    },
    {
     "name": "stdout",
     "output_type": "stream",
     "text": [
      "Save image to path  assets/addi/fire_database/image17.jpg\n",
      "Downloading image from  http://com.dataturks.a96-i23.open.s3.amazonaws.com/2c9fafb06702b2c1016723e86959020f/e9d49ba2-e39e-4ea9-a963-8d4e980074c6___332.JPEG\n"
     ]
    },
    {
     "name": "stderr",
     "output_type": "stream",
     "text": [
      "\r",
      "- |                   #                              | 19 Elapsed Time: 0:00:08"
     ]
    },
    {
     "name": "stdout",
     "output_type": "stream",
     "text": [
      "Save image to path  assets/addi/fire_database/image18.jpg\n",
      "Downloading image from  http://com.dataturks.a96-i23.open.s3.amazonaws.com/2c9fafb06702b2c1016723e86959020f/b7330dd2-72f4-4f85-9f96-382248fe7050___277.JPEG\n"
     ]
    },
    {
     "name": "stderr",
     "output_type": "stream",
     "text": [
      "\r",
      "\\ |              #                                   | 20 Elapsed Time: 0:00:08"
     ]
    },
    {
     "name": "stdout",
     "output_type": "stream",
     "text": [
      "Save image to path  assets/addi/fire_database/image19.jpg\n",
      "Downloading image from  http://com.dataturks.a96-i23.open.s3.amazonaws.com/2c9fafb06702b2c1016723e86959020f/42814e0e-f597-476c-8be3-f410e6d96685___FF60.JPEG\n"
     ]
    },
    {
     "name": "stderr",
     "output_type": "stream",
     "text": [
      "\r",
      "| |          #                                       | 21 Elapsed Time: 0:00:08"
     ]
    },
    {
     "name": "stdout",
     "output_type": "stream",
     "text": [
      "Save image to path  assets/addi/fire_database/image20.jpg\n",
      "Downloading image from  http://com.dataturks.a96-i23.open.s3.amazonaws.com/2c9fafb06702b2c1016723e86959020f/c6fe962c-0b27-4a61-9da0-b6e7f09abe92___FF208.JPEG\n"
     ]
    },
    {
     "name": "stderr",
     "output_type": "stream",
     "text": [
      "\r",
      "/ |      #                                           | 22 Elapsed Time: 0:00:09"
     ]
    },
    {
     "name": "stdout",
     "output_type": "stream",
     "text": [
      "Save image to path  assets/addi/fire_database/image21.jpg\n",
      "Downloading image from  http://com.dataturks.a96-i23.open.s3.amazonaws.com/2c9fafb06702b2c1016723e86959020f/059227bf-b56d-4baf-8c7f-65416125ec31___365.JPEG\n"
     ]
    },
    {
     "name": "stderr",
     "output_type": "stream",
     "text": [
      "\r",
      "- |#                                                 | 23 Elapsed Time: 0:00:09"
     ]
    },
    {
     "name": "stdout",
     "output_type": "stream",
     "text": [
      "Save image to path  assets/addi/fire_database/image22.jpg\n",
      "Downloading image from  http://com.dataturks.a96-i23.open.s3.amazonaws.com/2c9fafb06702b2c1016723e86959020f/50d82b5d-71e5-4544-8b78-871a534cd87f___FF176.JPEG\n"
     ]
    },
    {
     "name": "stderr",
     "output_type": "stream",
     "text": [
      "\r",
      "\\ |   #                                              | 24 Elapsed Time: 0:00:10"
     ]
    },
    {
     "name": "stdout",
     "output_type": "stream",
     "text": [
      "Save image to path  assets/addi/fire_database/image23.jpg\n",
      "Downloading image from  http://com.dataturks.a96-i23.open.s3.amazonaws.com/2c9fafb06702b2c1016723e86959020f/be5cf455-2194-4f96-8ad6-5664013e987c___FF37.JPEG\n"
     ]
    },
    {
     "name": "stderr",
     "output_type": "stream",
     "text": [
      "\r",
      "| |       #                                          | 25 Elapsed Time: 0:00:10"
     ]
    },
    {
     "name": "stdout",
     "output_type": "stream",
     "text": [
      "Save image to path  assets/addi/fire_database/image24.jpg\n",
      "Downloading image from  http://com.dataturks.a96-i23.open.s3.amazonaws.com/2c9fafb06702b2c1016723e86959020f/070011cd-7637-494c-8725-b48cf766b832___FF199.JPEG\n"
     ]
    },
    {
     "name": "stderr",
     "output_type": "stream",
     "text": [
      "\r",
      "/ |           #                                      | 26 Elapsed Time: 0:00:11"
     ]
    },
    {
     "name": "stdout",
     "output_type": "stream",
     "text": [
      "Save image to path  assets/addi/fire_database/image25.jpg\n",
      "Downloading image from  http://com.dataturks.a96-i23.open.s3.amazonaws.com/2c9fafb06702b2c1016723e86959020f/f12aa9e0-cbf1-464c-9029-93dacc12f243___220.JPEG\n"
     ]
    },
    {
     "name": "stderr",
     "output_type": "stream",
     "text": [
      "\r",
      "- |               #                                  | 27 Elapsed Time: 0:00:11"
     ]
    },
    {
     "name": "stdout",
     "output_type": "stream",
     "text": [
      "Save image to path  assets/addi/fire_database/image26.jpg\n",
      "Downloading image from  http://com.dataturks.a96-i23.open.s3.amazonaws.com/2c9fafb06702b2c1016723e86959020f/12b21039-5337-4a8b-b4e9-8ec792d803e9___559.JPEG\n"
     ]
    },
    {
     "name": "stderr",
     "output_type": "stream",
     "text": [
      "\r",
      "\\ |                   #                              | 28 Elapsed Time: 0:00:11"
     ]
    },
    {
     "name": "stdout",
     "output_type": "stream",
     "text": [
      "Save image to path  assets/addi/fire_database/image27.jpg\n",
      "Downloading image from  http://com.dataturks.a96-i23.open.s3.amazonaws.com/2c9fafb06702b2c1016723e86959020f/0918059a-98a7-47b0-87b9-d9ecede99e04___109.JPEG\n"
     ]
    },
    {
     "name": "stderr",
     "output_type": "stream",
     "text": [
      "\r",
      "| |                        #                         | 29 Elapsed Time: 0:00:12"
     ]
    },
    {
     "name": "stdout",
     "output_type": "stream",
     "text": [
      "Save image to path  assets/addi/fire_database/image28.jpg\n",
      "Downloading image from  http://com.dataturks.a96-i23.open.s3.amazonaws.com/2c9fafb06702b2c1016723e86959020f/fff060b2-2488-474f-8872-4f70b3b49606___51.JPEG\n"
     ]
    },
    {
     "name": "stderr",
     "output_type": "stream",
     "text": [
      "\r",
      "/ |                             #                    | 30 Elapsed Time: 0:00:12"
     ]
    },
    {
     "name": "stdout",
     "output_type": "stream",
     "text": [
      "Save image to path  assets/addi/fire_database/image29.jpg\n",
      "Downloading image from  http://com.dataturks.a96-i23.open.s3.amazonaws.com/2c9fafb06702b2c1016723e86959020f/b011cfdc-c552-4179-ba72-68530d094268___467.JPEG\n"
     ]
    },
    {
     "name": "stderr",
     "output_type": "stream",
     "text": [
      "\r",
      "- |                                   #              | 31 Elapsed Time: 0:00:13"
     ]
    },
    {
     "name": "stdout",
     "output_type": "stream",
     "text": [
      "Save image to path  assets/addi/fire_database/image30.jpg\n",
      "Downloading image from  http://com.dataturks.a96-i23.open.s3.amazonaws.com/2c9fafb06702b2c1016723e86959020f/1e8cd52f-8d60-4a13-99f5-ebe7950f394d___FF224.JPEG\n"
     ]
    },
    {
     "name": "stderr",
     "output_type": "stream",
     "text": [
      "\r",
      "\\ |                                       #          | 32 Elapsed Time: 0:00:13"
     ]
    },
    {
     "name": "stdout",
     "output_type": "stream",
     "text": [
      "Save image to path  assets/addi/fire_database/image31.jpg\n",
      "Downloading image from  http://com.dataturks.a96-i23.open.s3.amazonaws.com/2c9fafb06702b2c1016723e86959020f/761cece7-476c-402a-bc1e-4ccf456c9ff8___522.JPEG\n"
     ]
    },
    {
     "name": "stderr",
     "output_type": "stream",
     "text": [
      "\r",
      "| |                                            #     | 33 Elapsed Time: 0:00:14"
     ]
    },
    {
     "name": "stdout",
     "output_type": "stream",
     "text": [
      "Save image to path  assets/addi/fire_database/image32.jpg\n",
      "Downloading image from  http://com.dataturks.a96-i23.open.s3.amazonaws.com/2c9fafb06702b2c1016723e86959020f/f0235c70-5433-4232-a60c-b58eae3c878d___488.JPEG\n"
     ]
    },
    {
     "name": "stderr",
     "output_type": "stream",
     "text": [
      "\r",
      "/ |                                                 #| 34 Elapsed Time: 0:00:15"
     ]
    },
    {
     "name": "stdout",
     "output_type": "stream",
     "text": [
      "Save image to path  assets/addi/fire_database/image33.jpg\n",
      "Downloading image from  http://com.dataturks.a96-i23.open.s3.amazonaws.com/2c9fafb06702b2c1016723e86959020f/1dbff2d5-dbb7-4d01-be08-975345c41fa6___172.JPEG\n"
     ]
    },
    {
     "name": "stderr",
     "output_type": "stream",
     "text": [
      "\r",
      "- |                                             #    | 35 Elapsed Time: 0:00:15"
     ]
    },
    {
     "name": "stdout",
     "output_type": "stream",
     "text": [
      "Save image to path  assets/addi/fire_database/image34.jpg\n",
      "Downloading image from  http://com.dataturks.a96-i23.open.s3.amazonaws.com/2c9fafb06702b2c1016723e86959020f/da70a5b4-63da-431a-92c4-51a148bd5b7d___349.JPEG\n"
     ]
    },
    {
     "name": "stderr",
     "output_type": "stream",
     "text": [
      "\r",
      "\\ |                                        #         | 36 Elapsed Time: 0:00:15"
     ]
    },
    {
     "name": "stdout",
     "output_type": "stream",
     "text": [
      "Save image to path  assets/addi/fire_database/image35.jpg\n",
      "Downloading image from  http://com.dataturks.a96-i23.open.s3.amazonaws.com/2c9fafb06702b2c1016723e86959020f/4927bd60-5e62-4ee0-894c-35442db13df6___FF273.JPEG\n"
     ]
    },
    {
     "name": "stderr",
     "output_type": "stream",
     "text": [
      "\r",
      "| |                                    #             | 37 Elapsed Time: 0:00:16"
     ]
    },
    {
     "name": "stdout",
     "output_type": "stream",
     "text": [
      "Save image to path  assets/addi/fire_database/image36.jpg\n",
      "Downloading image from  http://com.dataturks.a96-i23.open.s3.amazonaws.com/2c9fafb06702b2c1016723e86959020f/f5e69ca9-d30e-436b-ad70-79f0295c3284___430.JPEG\n"
     ]
    },
    {
     "name": "stderr",
     "output_type": "stream",
     "text": [
      "\r",
      "/ |                               #                  | 38 Elapsed Time: 0:00:16"
     ]
    },
    {
     "name": "stdout",
     "output_type": "stream",
     "text": [
      "Save image to path  assets/addi/fire_database/image37.jpg\n",
      "Downloading image from  http://com.dataturks.a96-i23.open.s3.amazonaws.com/2c9fafb06702b2c1016723e86959020f/aee64d2e-9238-4e51-8d6a-c0541f65741d___92.JPEG\n"
     ]
    },
    {
     "name": "stderr",
     "output_type": "stream",
     "text": [
      "\r",
      "- |                          #                       | 39 Elapsed Time: 0:00:17"
     ]
    },
    {
     "name": "stdout",
     "output_type": "stream",
     "text": [
      "Save image to path  assets/addi/fire_database/image38.jpg\n",
      "Downloading image from  http://com.dataturks.a96-i23.open.s3.amazonaws.com/2c9fafb06702b2c1016723e86959020f/7a2502c2-7c02-4ef4-bcfb-8a43516f3b06___125.JPEG\n"
     ]
    },
    {
     "name": "stderr",
     "output_type": "stream",
     "text": [
      "\r",
      "\\ |                     #                            | 40 Elapsed Time: 0:00:17"
     ]
    },
    {
     "name": "stdout",
     "output_type": "stream",
     "text": [
      "Save image to path  assets/addi/fire_database/image39.jpg\n",
      "Downloading image from  http://com.dataturks.a96-i23.open.s3.amazonaws.com/2c9fafb06702b2c1016723e86959020f/e7a66878-6536-419c-a398-d8517d7cdf4d___84.JPEG\n"
     ]
    },
    {
     "name": "stderr",
     "output_type": "stream",
     "text": [
      "\r",
      "| |               #                                  | 41 Elapsed Time: 0:00:18"
     ]
    },
    {
     "name": "stdout",
     "output_type": "stream",
     "text": [
      "Save image to path  assets/addi/fire_database/image40.jpg\n",
      "Downloading image from  http://com.dataturks.a96-i23.open.s3.amazonaws.com/2c9fafb06702b2c1016723e86959020f/67b546a7-dc43-4c57-abf9-605c12c4b102___426.JPEG\n"
     ]
    },
    {
     "name": "stderr",
     "output_type": "stream",
     "text": [
      "\r",
      "/ |         #                                        | 42 Elapsed Time: 0:00:19"
     ]
    },
    {
     "name": "stdout",
     "output_type": "stream",
     "text": [
      "Save image to path  assets/addi/fire_database/image41.jpg\n",
      "Downloading image from  http://com.dataturks.a96-i23.open.s3.amazonaws.com/2c9fafb06702b2c1016723e86959020f/8cfdbd54-7e1f-4660-b119-2c28e2a90e17___FF265.JPEG\n"
     ]
    },
    {
     "name": "stderr",
     "output_type": "stream",
     "text": [
      "\r",
      "- |     #                                            | 43 Elapsed Time: 0:00:19"
     ]
    },
    {
     "name": "stdout",
     "output_type": "stream",
     "text": [
      "Save image to path  assets/addi/fire_database/image42.jpg\n",
      "Downloading image from  http://com.dataturks.a96-i23.open.s3.amazonaws.com/2c9fafb06702b2c1016723e86959020f/e0091813-ff53-42b9-af3c-5a3156d032b9___133.JPEG\n"
     ]
    },
    {
     "name": "stderr",
     "output_type": "stream",
     "text": [
      "\r",
      "\\ |#                                                 | 44 Elapsed Time: 0:00:19"
     ]
    },
    {
     "name": "stdout",
     "output_type": "stream",
     "text": [
      "Save image to path  assets/addi/fire_database/image43.jpg\n",
      "Downloading image from  http://com.dataturks.a96-i23.open.s3.amazonaws.com/2c9fafb06702b2c1016723e86959020f/d13b30a1-1349-4a3d-9256-42e9bf84b4c3___308.JPEG\n"
     ]
    },
    {
     "name": "stderr",
     "output_type": "stream",
     "text": [
      "\r",
      "| |    #                                             | 45 Elapsed Time: 0:00:20"
     ]
    },
    {
     "name": "stdout",
     "output_type": "stream",
     "text": [
      "Save image to path  assets/addi/fire_database/image44.jpg\n",
      "Downloading image from  http://com.dataturks.a96-i23.open.s3.amazonaws.com/2c9fafb06702b2c1016723e86959020f/1a727737-b400-4365-92c6-acde33d68af7___FF232.JPEG\n"
     ]
    },
    {
     "name": "stderr",
     "output_type": "stream",
     "text": [
      "\r",
      "/ |        #                                         | 46 Elapsed Time: 0:00:20"
     ]
    },
    {
     "name": "stdout",
     "output_type": "stream",
     "text": [
      "Save image to path  assets/addi/fire_database/image45.jpg\n",
      "Downloading image from  http://com.dataturks.a96-i23.open.s3.amazonaws.com/2c9fafb06702b2c1016723e86959020f/e4125ed8-9436-4321-8090-830890b29d04___471.JPEG\n"
     ]
    },
    {
     "name": "stderr",
     "output_type": "stream",
     "text": [
      "\r",
      "- |              #                                   | 47 Elapsed Time: 0:00:21"
     ]
    },
    {
     "name": "stdout",
     "output_type": "stream",
     "text": [
      "Save image to path  assets/addi/fire_database/image46.jpg\n",
      "Downloading image from  http://com.dataturks.a96-i23.open.s3.amazonaws.com/2c9fafb06702b2c1016723e86959020f/975c9560-0acf-40ba-8e85-1cab01599b77___164.JPEG\n"
     ]
    },
    {
     "name": "stderr",
     "output_type": "stream",
     "text": [
      "\r",
      "\\ |                   #                              | 48 Elapsed Time: 0:00:21"
     ]
    },
    {
     "name": "stdout",
     "output_type": "stream",
     "text": [
      "Save image to path  assets/addi/fire_database/image47.jpg\n",
      "Downloading image from  http://com.dataturks.a96-i23.open.s3.amazonaws.com/2c9fafb06702b2c1016723e86959020f/e09123ba-8bc6-4ac2-b0a2-b7b524df0cb1___534.JPEG\n"
     ]
    },
    {
     "name": "stderr",
     "output_type": "stream",
     "text": [
      "\r",
      "| |                         #                        | 49 Elapsed Time: 0:00:22"
     ]
    },
    {
     "name": "stdout",
     "output_type": "stream",
     "text": [
      "Save image to path  assets/addi/fire_database/image48.jpg\n",
      "Downloading image from  http://com.dataturks.a96-i23.open.s3.amazonaws.com/2c9fafb06702b2c1016723e86959020f/96f3a33d-d517-41cc-b7a0-514f364679ac___FF300.JPEG\n"
     ]
    },
    {
     "name": "stderr",
     "output_type": "stream",
     "text": [
      "\r",
      "/ |                            #                     | 50 Elapsed Time: 0:00:22"
     ]
    },
    {
     "name": "stdout",
     "output_type": "stream",
     "text": [
      "Save image to path  assets/addi/fire_database/image49.jpg\n",
      "Downloading image from  http://com.dataturks.a96-i23.open.s3.amazonaws.com/2c9fafb06702b2c1016723e86959020f/02028a7b-01b6-4f52-aea3-de9ad71c4a8d___543.JPEG\n"
     ]
    },
    {
     "name": "stderr",
     "output_type": "stream",
     "text": [
      "\r",
      "- |                                #                 | 51 Elapsed Time: 0:00:23"
     ]
    },
    {
     "name": "stdout",
     "output_type": "stream",
     "text": [
      "Save image to path  assets/addi/fire_database/image50.jpg\n",
      "Downloading image from  http://com.dataturks.a96-i23.open.s3.amazonaws.com/2c9fafb06702b2c1016723e86959020f/5bd03439-9ba0-4905-a067-a981039f8392___113.JPEG\n"
     ]
    },
    {
     "name": "stderr",
     "output_type": "stream",
     "text": [
      "\r",
      "\\ |                                     #            | 52 Elapsed Time: 0:00:23"
     ]
    },
    {
     "name": "stdout",
     "output_type": "stream",
     "text": [
      "Save image to path  assets/addi/fire_database/image51.jpg\n",
      "Downloading image from  http://com.dataturks.a96-i23.open.s3.amazonaws.com/2c9fafb06702b2c1016723e86959020f/c505e0e1-bcd5-435c-a3f5-9209e8502c8b___406.JPEG\n"
     ]
    },
    {
     "name": "stderr",
     "output_type": "stream",
     "text": [
      "\r",
      "| |                                          #       | 53 Elapsed Time: 0:00:24"
     ]
    },
    {
     "name": "stdout",
     "output_type": "stream",
     "text": [
      "Save image to path  assets/addi/fire_database/image52.jpg\n",
      "Downloading image from  http://com.dataturks.a96-i23.open.s3.amazonaws.com/2c9fafb06702b2c1016723e86959020f/216a88d7-c524-4ffc-bdfa-324b05ea03bb___FF245.JPEG\n"
     ]
    },
    {
     "name": "stderr",
     "output_type": "stream",
     "text": [
      "\r",
      "/ |                                              #   | 54 Elapsed Time: 0:00:24"
     ]
    },
    {
     "name": "stdout",
     "output_type": "stream",
     "text": [
      "Save image to path  assets/addi/fire_database/image53.jpg\n",
      "Downloading image from  http://com.dataturks.a96-i23.open.s3.amazonaws.com/2c9fafb06702b2c1016723e86959020f/271a910d-ca9b-4561-95fb-92d6ae240051___FF183.JPEG\n"
     ]
    },
    {
     "name": "stderr",
     "output_type": "stream",
     "text": [
      "\r",
      "- |                                                 #| 55 Elapsed Time: 0:00:24"
     ]
    },
    {
     "name": "stdout",
     "output_type": "stream",
     "text": [
      "Save image to path  assets/addi/fire_database/image54.jpg\n",
      "Downloading image from  http://com.dataturks.a96-i23.open.s3.amazonaws.com/2c9fafb06702b2c1016723e86959020f/e7ad964c-5e13-4b02-ab68-535c78544abe___390.JPEG\n"
     ]
    },
    {
     "name": "stderr",
     "output_type": "stream",
     "text": [
      "\r",
      "\\ |                                              #   | 56 Elapsed Time: 0:00:25"
     ]
    },
    {
     "name": "stdout",
     "output_type": "stream",
     "text": [
      "Save image to path  assets/addi/fire_database/image55.jpg\n",
      "Downloading image from  http://com.dataturks.a96-i23.open.s3.amazonaws.com/2c9fafb06702b2c1016723e86959020f/5b7c366a-7f41-43e9-a2c0-cc8759eee203___144.JPEG\n"
     ]
    },
    {
     "name": "stderr",
     "output_type": "stream",
     "text": [
      "\r",
      "| |                                        #         | 57 Elapsed Time: 0:00:25"
     ]
    },
    {
     "name": "stdout",
     "output_type": "stream",
     "text": [
      "Save image to path  assets/addi/fire_database/image56.jpg\n",
      "Downloading image from  http://com.dataturks.a96-i23.open.s3.amazonaws.com/2c9fafb06702b2c1016723e86959020f/df00e969-a61c-4c92-a503-431d9f7b5c09___514.JPEG\n"
     ]
    },
    {
     "name": "stderr",
     "output_type": "stream",
     "text": [
      "\r",
      "/ |                                  #               | 58 Elapsed Time: 0:00:26"
     ]
    },
    {
     "name": "stdout",
     "output_type": "stream",
     "text": [
      "Save image to path  assets/addi/fire_database/image57.jpg\n",
      "Downloading image from  http://com.dataturks.a96-i23.open.s3.amazonaws.com/2c9fafb06702b2c1016723e86959020f/6bf8e669-9495-41e5-b01b-502a3c542e1d___FF212.JPEG\n"
     ]
    },
    {
     "name": "stderr",
     "output_type": "stream",
     "text": [
      "\r",
      "- |                              #                   | 59 Elapsed Time: 0:00:26"
     ]
    },
    {
     "name": "stdout",
     "output_type": "stream",
     "text": [
      "Save image to path  assets/addi/fire_database/image58.jpg\n",
      "Downloading image from  http://com.dataturks.a96-i23.open.s3.amazonaws.com/2c9fafb06702b2c1016723e86959020f/d5d36562-6c40-42d7-aee4-66cd4f150855___451.JPEG\n"
     ]
    },
    {
     "name": "stderr",
     "output_type": "stream",
     "text": [
      "\r",
      "\\ |                          #                       | 60 Elapsed Time: 0:00:27"
     ]
    },
    {
     "name": "stdout",
     "output_type": "stream",
     "text": [
      "Save image to path  assets/addi/fire_database/image59.jpg\n",
      "Downloading image from  http://com.dataturks.a96-i23.open.s3.amazonaws.com/2c9fafb06702b2c1016723e86959020f/ea4d3992-a422-489b-816f-3566f8137d63___282.JPEG\n"
     ]
    },
    {
     "name": "stderr",
     "output_type": "stream",
     "text": [
      "\r",
      "| |                      #                           | 61 Elapsed Time: 0:00:27"
     ]
    },
    {
     "name": "stdout",
     "output_type": "stream",
     "text": [
      "Save image to path  assets/addi/fire_database/image60.jpg\n",
      "Downloading image from  http://com.dataturks.a96-i23.open.s3.amazonaws.com/2c9fafb06702b2c1016723e86959020f/b54bc467-1c6d-4b2a-86ae-b9bd9be5f906___FF95.JPEG\n"
     ]
    },
    {
     "name": "stderr",
     "output_type": "stream",
     "text": [
      "\r",
      "/ |                 #                                | 62 Elapsed Time: 0:00:28"
     ]
    },
    {
     "name": "stdout",
     "output_type": "stream",
     "text": [
      "Save image to path  assets/addi/fire_database/image61.jpg\n",
      "Downloading image from  http://com.dataturks.a96-i23.open.s3.amazonaws.com/2c9fafb06702b2c1016723e86959020f/2a09c65d-dd67-404c-baa2-dd1c48e15ab2___328.JPEG\n"
     ]
    },
    {
     "name": "stderr",
     "output_type": "stream",
     "text": [
      "\r",
      "- |             #                                    | 63 Elapsed Time: 0:00:28"
     ]
    },
    {
     "name": "stdout",
     "output_type": "stream",
     "text": [
      "Save image to path  assets/addi/fire_database/image62.jpg\n",
      "Downloading image from  http://com.dataturks.a96-i23.open.s3.amazonaws.com/2c9fafb06702b2c1016723e86959020f/7b2b9434-e68b-4481-81d4-03e8a62ee55f___502.JPEG\n"
     ]
    },
    {
     "name": "stderr",
     "output_type": "stream",
     "text": [
      "\r",
      "\\ |        #                                         | 64 Elapsed Time: 0:00:29"
     ]
    },
    {
     "name": "stdout",
     "output_type": "stream",
     "text": [
      "Save image to path  assets/addi/fire_database/image63.jpg\n",
      "Downloading image from  http://com.dataturks.a96-i23.open.s3.amazonaws.com/2c9fafb06702b2c1016723e86959020f/c6ae5488-5907-4fa9-94c5-f4eb7f165ca7___152.JPEG\n"
     ]
    },
    {
     "name": "stderr",
     "output_type": "stream",
     "text": [
      "\r",
      "| |   #                                              | 65 Elapsed Time: 0:00:29"
     ]
    },
    {
     "name": "stdout",
     "output_type": "stream",
     "text": [
      "Save image to path  assets/addi/fire_database/image64.jpg\n",
      "Downloading image from  http://com.dataturks.a96-i23.open.s3.amazonaws.com/2c9fafb06702b2c1016723e86959020f/a09401ac-d52e-4e01-93fb-a39c91032e64___447.JPEG\n"
     ]
    },
    {
     "name": "stderr",
     "output_type": "stream",
     "text": [
      "\r",
      "/ |  #                                               | 66 Elapsed Time: 0:00:30"
     ]
    },
    {
     "name": "stdout",
     "output_type": "stream",
     "text": [
      "Save image to path  assets/addi/fire_database/image65.jpg\n",
      "Downloading image from  http://com.dataturks.a96-i23.open.s3.amazonaws.com/2c9fafb06702b2c1016723e86959020f/168c4bb4-29a0-4b12-a372-ab537ad65d48___FF204.JPEG\n"
     ]
    },
    {
     "name": "stderr",
     "output_type": "stream",
     "text": [
      "\r",
      "- |        #                                         | 67 Elapsed Time: 0:00:30"
     ]
    },
    {
     "name": "stdout",
     "output_type": "stream",
     "text": [
      "Save image to path  assets/addi/fire_database/image66.jpg\n",
      "Downloading image from  http://com.dataturks.a96-i23.open.s3.amazonaws.com/2c9fafb06702b2c1016723e86959020f/24bc053b-b4ef-4e5a-ba11-866f1592603b___FF83.JPEG\n"
     ]
    },
    {
     "name": "stderr",
     "output_type": "stream",
     "text": [
      "\r",
      "\\ |            #                                     | 68 Elapsed Time: 0:00:31"
     ]
    },
    {
     "name": "stdout",
     "output_type": "stream",
     "text": [
      "Save image to path  assets/addi/fire_database/image67.jpg\n",
      "Downloading image from  http://com.dataturks.a96-i23.open.s3.amazonaws.com/2c9fafb06702b2c1016723e86959020f/6a1fb182-73b6-4b51-b008-9f0704b5328a___294.JPEG\n"
     ]
    },
    {
     "name": "stderr",
     "output_type": "stream",
     "text": [
      "\r",
      "| |                 #                                | 69 Elapsed Time: 0:00:31"
     ]
    },
    {
     "name": "stdout",
     "output_type": "stream",
     "text": [
      "Save image to path  assets/addi/fire_database/image68.jpg\n",
      "Downloading image from  http://com.dataturks.a96-i23.open.s3.amazonaws.com/2c9fafb06702b2c1016723e86959020f/37b13dd8-4264-45c4-a920-5163c62a0eb7___105.JPEG\n"
     ]
    },
    {
     "name": "stderr",
     "output_type": "stream",
     "text": [
      "\r",
      "/ |                      #                           | 70 Elapsed Time: 0:00:32"
     ]
    },
    {
     "name": "stdout",
     "output_type": "stream",
     "text": [
      "Save image to path  assets/addi/fire_database/image69.jpg\n",
      "Downloading image from  http://com.dataturks.a96-i23.open.s3.amazonaws.com/2c9fafb06702b2c1016723e86959020f/d7fa809b-7faa-4132-8b66-6a832e545cea___555.JPEG\n"
     ]
    },
    {
     "name": "stderr",
     "output_type": "stream",
     "text": [
      "\r",
      "- |                            #                     | 71 Elapsed Time: 0:00:32"
     ]
    },
    {
     "name": "stdout",
     "output_type": "stream",
     "text": [
      "Save image to path  assets/addi/fire_database/image70.jpg\n",
      "Downloading image from  http://com.dataturks.a96-i23.open.s3.amazonaws.com/2c9fafb06702b2c1016723e86959020f/1eb13976-18c7-442d-9e06-7f2d891d2e57___FF316.JPEG\n"
     ]
    },
    {
     "name": "stderr",
     "output_type": "stream",
     "text": [
      "\r",
      "\\ |                                #                 | 72 Elapsed Time: 0:00:33"
     ]
    },
    {
     "name": "stdout",
     "output_type": "stream",
     "text": [
      "Save image to path  assets/addi/fire_database/image71.jpg\n",
      "Downloading image from  http://com.dataturks.a96-i23.open.s3.amazonaws.com/2c9fafb06702b2c1016723e86959020f/02d8238a-2371-4edc-880b-054f4f8c5b79___FF253.JPEG\n"
     ]
    },
    {
     "name": "stderr",
     "output_type": "stream",
     "text": [
      "\r",
      "| |                                    #             | 73 Elapsed Time: 0:00:33"
     ]
    },
    {
     "name": "stdout",
     "output_type": "stream",
     "text": [
      "Save image to path  assets/addi/fire_database/image72.jpg\n",
      "Downloading image from  http://com.dataturks.a96-i23.open.s3.amazonaws.com/2c9fafb06702b2c1016723e86959020f/7176eb54-9d19-45f4-9164-0d681081c3e6___410.JPEG\n"
     ]
    },
    {
     "name": "stderr",
     "output_type": "stream",
     "text": [
      "\r",
      "/ |                                         #        | 74 Elapsed Time: 0:00:34"
     ]
    },
    {
     "name": "stdout",
     "output_type": "stream",
     "text": [
      "Save image to path  assets/addi/fire_database/image73.jpg\n",
      "Downloading image from  http://com.dataturks.a96-i23.open.s3.amazonaws.com/2c9fafb06702b2c1016723e86959020f/0aa8d613-6407-436b-8eaa-b8683e516795___369.JPEG\n"
     ]
    },
    {
     "name": "stderr",
     "output_type": "stream",
     "text": [
      "\r",
      "- |                                               #  | 75 Elapsed Time: 0:00:34"
     ]
    },
    {
     "name": "stdout",
     "output_type": "stream",
     "text": [
      "Save image to path  assets/addi/fire_database/image74.jpg\n",
      "Downloading image from  http://com.dataturks.a96-i23.open.s3.amazonaws.com/2c9fafb06702b2c1016723e86959020f/2132854b-896d-41a7-9599-2d8b2a672210___386.JPEG\n"
     ]
    },
    {
     "name": "stderr",
     "output_type": "stream",
     "text": [
      "\r",
      "\\ |                                                # | 76 Elapsed Time: 0:00:35"
     ]
    },
    {
     "name": "stdout",
     "output_type": "stream",
     "text": [
      "Save image to path  assets/addi/fire_database/image75.jpg\n",
      "Downloading image from  http://com.dataturks.a96-i23.open.s3.amazonaws.com/2c9fafb06702b2c1016723e86959020f/51f60648-cedb-41a1-93ce-923048dd180e___FF195.JPEG\n"
     ]
    },
    {
     "name": "stderr",
     "output_type": "stream",
     "text": [
      "\r",
      "| |                                            #     | 77 Elapsed Time: 0:00:35"
     ]
    },
    {
     "name": "stdout",
     "output_type": "stream",
     "text": [
      "Save image to path  assets/addi/fire_database/image76.jpg\n",
      "Downloading image from  http://com.dataturks.a96-i23.open.s3.amazonaws.com/2c9fafb06702b2c1016723e86959020f/dfa07822-b411-4cd9-b7b1-18c4d6bb5dab___FF228.JPEG\n"
     ]
    },
    {
     "name": "stderr",
     "output_type": "stream",
     "text": [
      "\r",
      "/ |                                       #          | 78 Elapsed Time: 0:00:36"
     ]
    },
    {
     "name": "stdout",
     "output_type": "stream",
     "text": [
      "Save image to path  assets/addi/fire_database/image77.jpg\n",
      "Downloading image from  http://com.dataturks.a96-i23.open.s3.amazonaws.com/2c9fafb06702b2c1016723e86959020f/b951d1c4-9b1d-4418-ba9a-580b2a636596___191.JPEG\n"
     ]
    },
    {
     "name": "stderr",
     "output_type": "stream",
     "text": [
      "\r",
      "- |                                  #               | 79 Elapsed Time: 0:00:36"
     ]
    },
    {
     "name": "stdout",
     "output_type": "stream",
     "text": [
      "Save image to path  assets/addi/fire_database/image78.jpg\n",
      "Downloading image from  http://com.dataturks.a96-i23.open.s3.amazonaws.com/2c9fafb06702b2c1016723e86959020f/8efe15f9-a9e4-4582-b581-f84a3265b914___26.JPEG\n"
     ]
    },
    {
     "name": "stderr",
     "output_type": "stream",
     "text": [
      "\r",
      "\\ |                            #                     | 80 Elapsed Time: 0:00:37"
     ]
    },
    {
     "name": "stdout",
     "output_type": "stream",
     "text": [
      "Save image to path  assets/addi/fire_database/image79.jpg\n",
      "Downloading image from  http://com.dataturks.a96-i23.open.s3.amazonaws.com/2c9fafb06702b2c1016723e86959020f/245fa3d5-16af-4d52-97fa-1def8f0582d2___484.JPEG\n"
     ]
    },
    {
     "name": "stderr",
     "output_type": "stream",
     "text": [
      "\r",
      "| |                        #                         | 81 Elapsed Time: 0:00:37"
     ]
    },
    {
     "name": "stdout",
     "output_type": "stream",
     "text": [
      "Save image to path  assets/addi/fire_database/image80.jpg\n",
      "Downloading image from  http://com.dataturks.a96-i23.open.s3.amazonaws.com/2c9fafb06702b2c1016723e86959020f/72921e5d-2205-4abc-9508-840981448dc5___257.JPEG\n"
     ]
    },
    {
     "name": "stderr",
     "output_type": "stream",
     "text": [
      "\r",
      "/ |                 #                                | 82 Elapsed Time: 0:00:38"
     ]
    },
    {
     "name": "stdout",
     "output_type": "stream",
     "text": [
      "Save image to path  assets/addi/fire_database/image81.jpg\n",
      "Downloading image from  http://com.dataturks.a96-i23.open.s3.amazonaws.com/2c9fafb06702b2c1016723e86959020f/7325b64e-ed4a-442d-b29d-9cc41a495a49___FF40.JPEG\n"
     ]
    },
    {
     "name": "stderr",
     "output_type": "stream",
     "text": [
      "\r",
      "- |             #                                    | 83 Elapsed Time: 0:00:38"
     ]
    },
    {
     "name": "stdout",
     "output_type": "stream",
     "text": [
      "Save image to path  assets/addi/fire_database/image82.jpg\n",
      "Downloading image from  http://com.dataturks.a96-i23.open.s3.amazonaws.com/2c9fafb06702b2c1016723e86959020f/225f6e65-a0a4-47c0-b65d-a74df57c7438___FF101.JPEG\n"
     ]
    },
    {
     "name": "stderr",
     "output_type": "stream",
     "text": [
      "\r",
      "\\ |        #                                         | 84 Elapsed Time: 0:00:39"
     ]
    },
    {
     "name": "stdout",
     "output_type": "stream",
     "text": [
      "Save image to path  assets/addi/fire_database/image83.jpg\n",
      "Downloading image from  http://com.dataturks.a96-i23.open.s3.amazonaws.com/2c9fafb06702b2c1016723e86959020f/9e42a42e-9122-4848-84ee-95e7efd662e6___312.JPEG\n"
     ]
    },
    {
     "name": "stderr",
     "output_type": "stream",
     "text": [
      "\r",
      "| |    #                                             | 85 Elapsed Time: 0:00:39"
     ]
    },
    {
     "name": "stdout",
     "output_type": "stream",
     "text": [
      "Save image to path  assets/addi/fire_database/image84.jpg\n",
      "Downloading image from  http://com.dataturks.a96-i23.open.s3.amazonaws.com/2c9fafb06702b2c1016723e86959020f/c952c49f-27d4-4807-9d71-3c88073765a9___FF290.JPEG\n"
     ]
    },
    {
     "name": "stderr",
     "output_type": "stream",
     "text": [
      "\r",
      "/ |#                                                 | 86 Elapsed Time: 0:00:39"
     ]
    },
    {
     "name": "stdout",
     "output_type": "stream",
     "text": [
      "Save image to path  assets/addi/fire_database/image85.jpg\n",
      "Downloading image from  http://com.dataturks.a96-i23.open.s3.amazonaws.com/2c9fafb06702b2c1016723e86959020f/a0802a9b-6f49-4574-a916-29022df07165___129.JPEG\n"
     ]
    },
    {
     "name": "stderr",
     "output_type": "stream",
     "text": [
      "\r",
      "- |     #                                            | 87 Elapsed Time: 0:00:40"
     ]
    },
    {
     "name": "stdout",
     "output_type": "stream",
     "text": [
      "Save image to path  assets/addi/fire_database/image86.jpg\n",
      "Downloading image from  http://com.dataturks.a96-i23.open.s3.amazonaws.com/2c9fafb06702b2c1016723e86959020f/f6958b3d-adac-4089-9bd6-70150f59952b___71.JPEG\n"
     ]
    },
    {
     "name": "stderr",
     "output_type": "stream",
     "text": [
      "\r",
      "\\ |          #                                       | 88 Elapsed Time: 0:00:41"
     ]
    },
    {
     "name": "stdout",
     "output_type": "stream",
     "text": [
      "Save image to path  assets/addi/fire_database/image87.jpg\n",
      "Downloading image from  http://com.dataturks.a96-i23.open.s3.amazonaws.com/2c9fafb06702b2c1016723e86959020f/f8254582-9673-4d51-aa34-6c5ea9a6f0db___FF17.JPEG\n"
     ]
    },
    {
     "name": "stderr",
     "output_type": "stream",
     "text": [
      "\r",
      "| |              #                                   | 89 Elapsed Time: 0:00:41"
     ]
    },
    {
     "name": "stdout",
     "output_type": "stream",
     "text": [
      "Save image to path  assets/addi/fire_database/image88.jpg\n",
      "Downloading image from  http://com.dataturks.a96-i23.open.s3.amazonaws.com/2c9fafb06702b2c1016723e86959020f/51a43a10-cb87-462a-ac50-925388585f5e___200.JPEG\n"
     ]
    },
    {
     "name": "stderr",
     "output_type": "stream",
     "text": [
      "\r",
      "/ |                  #                               | 90 Elapsed Time: 0:00:41"
     ]
    },
    {
     "name": "stdout",
     "output_type": "stream",
     "text": [
      "Save image to path  assets/addi/fire_database/image89.jpg\n",
      "Downloading image from  http://com.dataturks.a96-i23.open.s3.amazonaws.com/2c9fafb06702b2c1016723e86959020f/731fda46-7133-4978-b242-8ef30384bee4___345.JPEG\n"
     ]
    },
    {
     "name": "stderr",
     "output_type": "stream",
     "text": [
      "\r",
      "- |                        #                         | 91 Elapsed Time: 0:00:42"
     ]
    },
    {
     "name": "stdout",
     "output_type": "stream",
     "text": [
      "Save image to path  assets/addi/fire_database/image90.jpg\n",
      "Downloading image from  http://com.dataturks.a96-i23.open.s3.amazonaws.com/2c9fafb06702b2c1016723e86959020f/64d6e891-052d-4f15-b5a0-d0485e65854c___FF156.JPEG\n"
     ]
    },
    {
     "name": "stderr",
     "output_type": "stream",
     "text": [
      "\r",
      "\\ |                            #                     | 92 Elapsed Time: 0:00:42"
     ]
    },
    {
     "name": "stdout",
     "output_type": "stream",
     "text": [
      "Save image to path  assets/addi/fire_database/image91.jpg\n",
      "Downloading image from  http://com.dataturks.a96-i23.open.s3.amazonaws.com/2c9fafb06702b2c1016723e86959020f/d256f88b-7f01-475c-bb70-551fca1691f9___FF269.JPEG\n"
     ]
    },
    {
     "name": "stderr",
     "output_type": "stream",
     "text": [
      "\r",
      "| |                                #                 | 93 Elapsed Time: 0:00:43"
     ]
    },
    {
     "name": "stdout",
     "output_type": "stream",
     "text": [
      "Save image to path  assets/addi/fire_database/image92.jpg\n",
      "Downloading image from  http://com.dataturks.a96-i23.open.s3.amazonaws.com/2c9fafb06702b2c1016723e86959020f/642f2dfe-710e-4458-aac2-1cebb936daf6___88.JPEG\n"
     ]
    },
    {
     "name": "stderr",
     "output_type": "stream",
     "text": [
      "\r",
      "/ |                                     #            | 94 Elapsed Time: 0:00:43"
     ]
    },
    {
     "name": "stdout",
     "output_type": "stream",
     "text": [
      "Save image to path  assets/addi/fire_database/image93.jpg\n",
      "Downloading image from  http://com.dataturks.a96-i23.open.s3.amazonaws.com/2c9fafb06702b2c1016723e86959020f/42f1ec9f-bd3f-4a3f-8291-cf06d6bf1564___67.JPEG\n"
     ]
    },
    {
     "name": "stderr",
     "output_type": "stream",
     "text": [
      "\r",
      "- |                                         #        | 95 Elapsed Time: 0:00:44"
     ]
    },
    {
     "name": "stdout",
     "output_type": "stream",
     "text": [
      "Save image to path  assets/addi/fire_database/image94.jpg\n",
      "Downloading image from  http://com.dataturks.a96-i23.open.s3.amazonaws.com/2c9fafb06702b2c1016723e86959020f/2c93c3c9-b8ac-4bd3-a38d-96181e87636f___FF286.JPEG\n"
     ]
    },
    {
     "name": "stderr",
     "output_type": "stream",
     "text": [
      "\r",
      "\\ |                                             #    | 96 Elapsed Time: 0:00:44"
     ]
    },
    {
     "name": "stdout",
     "output_type": "stream",
     "text": [
      "Save image to path  assets/addi/fire_database/image95.jpg\n",
      "Downloading image from  http://com.dataturks.a96-i23.open.s3.amazonaws.com/2c9fafb06702b2c1016723e86959020f/2b217f13-9bb9-4cd0-b2f6-3cbbece3b667___216.JPEG\n"
     ]
    },
    {
     "name": "stderr",
     "output_type": "stream",
     "text": [
      "\r",
      "| |                                                # | 97 Elapsed Time: 0:00:45"
     ]
    },
    {
     "name": "stdout",
     "output_type": "stream",
     "text": [
      "Save image to path  assets/addi/fire_database/image96.jpg\n",
      "Downloading image from  http://com.dataturks.a96-i23.open.s3.amazonaws.com/2c9fafb06702b2c1016723e86959020f/167d6615-446f-439e-8d30-2f3dfc68d438___FF140.JPEG\n"
     ]
    },
    {
     "name": "stderr",
     "output_type": "stream",
     "text": [
      "\r",
      "/ |                                             #    | 98 Elapsed Time: 0:00:45"
     ]
    },
    {
     "name": "stdout",
     "output_type": "stream",
     "text": [
      "Save image to path  assets/addi/fire_database/image97.jpg\n",
      "Downloading image from  http://com.dataturks.a96-i23.open.s3.amazonaws.com/2c9fafb06702b2c1016723e86959020f/94909538-cd5d-4c8c-8e31-2f1982a537c2___353.JPEG\n"
     ]
    },
    {
     "name": "stderr",
     "output_type": "stream",
     "text": [
      "\r",
      "- |                                        #         | 99 Elapsed Time: 0:00:45"
     ]
    },
    {
     "name": "stdout",
     "output_type": "stream",
     "text": [
      "Save image to path  assets/addi/fire_database/image98.jpg\n",
      "Downloading image from  http://com.dataturks.a96-i23.open.s3.amazonaws.com/2c9fafb06702b2c1016723e86959020f/581d424e-fff0-42bf-8080-5cb5ffd60ce6___187.JPEG\n"
     ]
    },
    {
     "name": "stderr",
     "output_type": "stream",
     "text": [
      "\r",
      "\\ |                        #                        | 100 Elapsed Time: 0:00:46"
     ]
    },
    {
     "name": "stdout",
     "output_type": "stream",
     "text": [
      "Save image to path  assets/addi/fire_database/image99.jpg\n",
      "Downloading image from  http://com.dataturks.a96-i23.open.s3.amazonaws.com/2c9fafb06702b2c1016723e86959020f/4a1270aa-f5e5-46f0-9d3f-57b5d7f251c0___538.JPEG\n"
     ]
    },
    {
     "name": "stderr",
     "output_type": "stream",
     "text": [
      "\r",
      "| |                    #                            | 101 Elapsed Time: 0:00:46"
     ]
    },
    {
     "name": "stdout",
     "output_type": "stream",
     "text": [
      "Save image to path  assets/addi/fire_database/image100.jpg\n",
      "Downloading image from  http://com.dataturks.a96-i23.open.s3.amazonaws.com/2c9fafb06702b2c1016723e86959020f/6dd186e9-69b4-455d-ae96-6d0c4eef9b30___492.JPEG\n"
     ]
    },
    {
     "name": "stderr",
     "output_type": "stream",
     "text": [
      "\r",
      "/ |               #                                 | 102 Elapsed Time: 0:00:47"
     ]
    },
    {
     "name": "stdout",
     "output_type": "stream",
     "text": [
      "Save image to path  assets/addi/fire_database/image101.jpg\n",
      "Downloading image from  http://com.dataturks.a96-i23.open.s3.amazonaws.com/2c9fafb06702b2c1016723e86959020f/a57a6dbd-903b-4851-abdf-00fa4c08cf85___168.JPEG\n"
     ]
    },
    {
     "name": "stderr",
     "output_type": "stream",
     "text": [
      "\r",
      "- |         #                                       | 103 Elapsed Time: 0:00:48"
     ]
    },
    {
     "name": "stdout",
     "output_type": "stream",
     "text": [
      "Save image to path  assets/addi/fire_database/image102.jpg\n",
      "Downloading image from  http://com.dataturks.a96-i23.open.s3.amazonaws.com/2c9fafb06702b2c1016723e86959020f/27ec9458-6149-4295-912e-d6563d574942___30.JPEG\n"
     ]
    },
    {
     "name": "stderr",
     "output_type": "stream",
     "text": [
      "\r",
      "\\ |    #                                            | 104 Elapsed Time: 0:00:48"
     ]
    },
    {
     "name": "stdout",
     "output_type": "stream",
     "text": [
      "Save image to path  assets/addi/fire_database/image103.jpg\n",
      "Downloading image from  http://com.dataturks.a96-i23.open.s3.amazonaws.com/2c9fafb06702b2c1016723e86959020f/bad0ef05-5ad3-41e6-8552-9e5ae4b5f16d___FF56.JPEG\n"
     ]
    },
    {
     "name": "stderr",
     "output_type": "stream",
     "text": [
      "\r",
      "| |#                                                | 105 Elapsed Time: 0:00:49"
     ]
    },
    {
     "name": "stdout",
     "output_type": "stream",
     "text": [
      "Save image to path  assets/addi/fire_database/image104.jpg\n",
      "Downloading image from  http://com.dataturks.a96-i23.open.s3.amazonaws.com/2c9fafb06702b2c1016723e86959020f/9d22a5f5-84a9-43bc-a989-a3ed227b7222___241.JPEG\n"
     ]
    },
    {
     "name": "stderr",
     "output_type": "stream",
     "text": [
      "\r",
      "/ |     #                                           | 106 Elapsed Time: 0:00:49"
     ]
    },
    {
     "name": "stdout",
     "output_type": "stream",
     "text": [
      "Save image to path  assets/addi/fire_database/image105.jpg\n",
      "Downloading image from  http://com.dataturks.a96-i23.open.s3.amazonaws.com/2c9fafb06702b2c1016723e86959020f/2c6a29dc-56a4-4b43-8723-f6225df31799___304.JPEG\n"
     ]
    },
    {
     "name": "stderr",
     "output_type": "stream",
     "text": [
      "\r",
      "- |          #                                      | 107 Elapsed Time: 0:00:50"
     ]
    },
    {
     "name": "stdout",
     "output_type": "stream",
     "text": [
      "Save image to path  assets/addi/fire_database/image106.jpg\n",
      "Downloading image from  http://com.dataturks.a96-i23.open.s3.amazonaws.com/2c9fafb06702b2c1016723e86959020f/5734e3b0-87dd-48b1-945f-f2769beb10db___FF117.JPEG\n"
     ]
    },
    {
     "name": "stderr",
     "output_type": "stream",
     "text": [
      "\r",
      "\\ |              #                                  | 108 Elapsed Time: 0:00:50"
     ]
    },
    {
     "name": "stdout",
     "output_type": "stream",
     "text": [
      "Save image to path  assets/addi/fire_database/image107.jpg\n",
      "Downloading image from  http://com.dataturks.a96-i23.open.s3.amazonaws.com/2c9fafb06702b2c1016723e86959020f/f5722e43-ad9e-41fb-8611-2c7104a9abab___FF57.JPEG\n"
     ]
    },
    {
     "name": "stderr",
     "output_type": "stream",
     "text": [
      "\r",
      "| |                  #                              | 109 Elapsed Time: 0:00:50"
     ]
    },
    {
     "name": "stdout",
     "output_type": "stream",
     "text": [
      "Save image to path  assets/addi/fire_database/image108.jpg\n",
      "Downloading image from  http://com.dataturks.a96-i23.open.s3.amazonaws.com/2c9fafb06702b2c1016723e86959020f/ee9a7b64-300f-45fc-8a55-29b7984511c8___240.JPEG\n"
     ]
    },
    {
     "name": "stderr",
     "output_type": "stream",
     "text": [
      "\r",
      "/ |                       #                         | 110 Elapsed Time: 0:00:51"
     ]
    },
    {
     "name": "stdout",
     "output_type": "stream",
     "text": [
      "Save image to path  assets/addi/fire_database/image109.jpg\n",
      "Downloading image from  http://com.dataturks.a96-i23.open.s3.amazonaws.com/2c9fafb06702b2c1016723e86959020f/3ca79c66-dce6-453d-9e77-72eaaa572b94___305.JPEG\n"
     ]
    },
    {
     "name": "stderr",
     "output_type": "stream",
     "text": [
      "\r",
      "- |                           #                     | 111 Elapsed Time: 0:00:51"
     ]
    },
    {
     "name": "stdout",
     "output_type": "stream",
     "text": [
      "Save image to path  assets/addi/fire_database/image110.jpg\n",
      "Downloading image from  http://com.dataturks.a96-i23.open.s3.amazonaws.com/2c9fafb06702b2c1016723e86959020f/d1a5b2bf-9f28-4b5d-a4c3-cd2fb6d8b4c4___FF116.JPEG\n"
     ]
    },
    {
     "name": "stderr",
     "output_type": "stream",
     "text": [
      "\r",
      "\\ |                               #                 | 112 Elapsed Time: 0:00:52"
     ]
    },
    {
     "name": "stdout",
     "output_type": "stream",
     "text": [
      "Save image to path  assets/addi/fire_database/image111.jpg\n",
      "Downloading image from  http://com.dataturks.a96-i23.open.s3.amazonaws.com/2c9fafb06702b2c1016723e86959020f/d90c6820-4950-4a99-a997-30827894a4ce___186.JPEG\n"
     ]
    },
    {
     "name": "stderr",
     "output_type": "stream",
     "text": [
      "\r",
      "| |                                    #            | 113 Elapsed Time: 0:00:52"
     ]
    },
    {
     "name": "stdout",
     "output_type": "stream",
     "text": [
      "Save image to path  assets/addi/fire_database/image112.jpg\n",
      "Downloading image from  http://com.dataturks.a96-i23.open.s3.amazonaws.com/2c9fafb06702b2c1016723e86959020f/70c89892-455b-4b93-ab3f-c05b14fc5b3a___539.JPEG\n"
     ]
    },
    {
     "name": "stderr",
     "output_type": "stream",
     "text": [
      "\r",
      "/ |                                          #      | 114 Elapsed Time: 0:00:53"
     ]
    },
    {
     "name": "stdout",
     "output_type": "stream",
     "text": [
      "Save image to path  assets/addi/fire_database/image113.jpg\n",
      "Downloading image from  http://com.dataturks.a96-i23.open.s3.amazonaws.com/2c9fafb06702b2c1016723e86959020f/c5002844-fd3e-46ab-91c3-dcaf1ce46ee1___493.JPEG\n"
     ]
    },
    {
     "name": "stderr",
     "output_type": "stream",
     "text": [
      "\r",
      "- |                                               # | 115 Elapsed Time: 0:00:53"
     ]
    },
    {
     "name": "stdout",
     "output_type": "stream",
     "text": [
      "Save image to path  assets/addi/fire_database/image114.jpg\n",
      "Downloading image from  http://com.dataturks.a96-i23.open.s3.amazonaws.com/2c9fafb06702b2c1016723e86959020f/69a52bc9-5ccf-4fb5-a9d3-de2949b3ace5___169.JPEG\n"
     ]
    },
    {
     "name": "stderr",
     "output_type": "stream",
     "text": [
      "\r",
      "\\ |                                             #   | 116 Elapsed Time: 0:00:54"
     ]
    },
    {
     "name": "stdout",
     "output_type": "stream",
     "text": [
      "Save image to path  assets/addi/fire_database/image115.jpg\n",
      "Downloading image from  http://com.dataturks.a96-i23.open.s3.amazonaws.com/2c9fafb06702b2c1016723e86959020f/92d612d6-d2bd-4a84-8c9a-6626c270c97e___31.JPEG\n"
     ]
    },
    {
     "name": "stderr",
     "output_type": "stream",
     "text": [
      "\r",
      "| |                                        #        | 117 Elapsed Time: 0:00:54"
     ]
    },
    {
     "name": "stdout",
     "output_type": "stream",
     "text": [
      "Save image to path  assets/addi/fire_database/image116.jpg\n",
      "Downloading image from  http://com.dataturks.a96-i23.open.s3.amazonaws.com/2c9fafb06702b2c1016723e86959020f/d88d9d01-5018-4aba-be33-d73005e3af52___217.JPEG\n"
     ]
    },
    {
     "name": "stderr",
     "output_type": "stream",
     "text": [
      "\r",
      "/ |                                   #             | 118 Elapsed Time: 0:00:55"
     ]
    },
    {
     "name": "stdout",
     "output_type": "stream",
     "text": [
      "Save image to path  assets/addi/fire_database/image117.jpg\n",
      "Downloading image from  http://com.dataturks.a96-i23.open.s3.amazonaws.com/2c9fafb06702b2c1016723e86959020f/081eb4c0-759e-4502-b7d0-b98b6a6cc17e___FF141.JPEG\n"
     ]
    },
    {
     "name": "stderr",
     "output_type": "stream",
     "text": [
      "\r",
      "- |                               #                 | 119 Elapsed Time: 0:00:55"
     ]
    },
    {
     "name": "stdout",
     "output_type": "stream",
     "text": [
      "Save image to path  assets/addi/fire_database/image118.jpg\n",
      "Downloading image from  http://com.dataturks.a96-i23.open.s3.amazonaws.com/2c9fafb06702b2c1016723e86959020f/b5c38bb5-8f01-4e12-b618-c8c861416913___352.JPEG\n"
     ]
    },
    {
     "name": "stderr",
     "output_type": "stream",
     "text": [
      "\r",
      "\\ |                         #                       | 120 Elapsed Time: 0:00:56"
     ]
    },
    {
     "name": "stdout",
     "output_type": "stream",
     "text": [
      "Save image to path  assets/addi/fire_database/image119.jpg\n",
      "Downloading image from  http://com.dataturks.a96-i23.open.s3.amazonaws.com/2c9fafb06702b2c1016723e86959020f/8daf71a4-c08f-4f4d-90fd-507c93db618f___FF268.JPEG\n"
     ]
    },
    {
     "name": "stderr",
     "output_type": "stream",
     "text": [
      "\r",
      "| |                     #                           | 121 Elapsed Time: 0:00:56"
     ]
    },
    {
     "name": "stdout",
     "output_type": "stream",
     "text": [
      "Save image to path  assets/addi/fire_database/image120.jpg\n",
      "Downloading image from  http://com.dataturks.a96-i23.open.s3.amazonaws.com/2c9fafb06702b2c1016723e86959020f/9ceae7d8-5f55-4028-8520-c9fa1f5024a7___89.JPEG\n"
     ]
    },
    {
     "name": "stderr",
     "output_type": "stream",
     "text": [
      "\r",
      "/ |             #                                   | 122 Elapsed Time: 0:00:57"
     ]
    },
    {
     "name": "stdout",
     "output_type": "stream",
     "text": [
      "Save image to path  assets/addi/fire_database/image121.jpg\n",
      "Downloading image from  http://com.dataturks.a96-i23.open.s3.amazonaws.com/2c9fafb06702b2c1016723e86959020f/fb1c87be-f07e-40b9-b090-607ff2209b27___66.JPEG\n"
     ]
    },
    {
     "name": "stderr",
     "output_type": "stream",
     "text": [
      "\r",
      "- |         #                                       | 123 Elapsed Time: 0:00:57"
     ]
    },
    {
     "name": "stdout",
     "output_type": "stream",
     "text": [
      "Save image to path  assets/addi/fire_database/image122.jpg\n",
      "Downloading image from  http://com.dataturks.a96-i23.open.s3.amazonaws.com/2c9fafb06702b2c1016723e86959020f/9e86772d-0259-47ba-b806-01fb9d417f1f___FF287.JPEG\n"
     ]
    },
    {
     "name": "stderr",
     "output_type": "stream",
     "text": [
      "\r",
      "\\ |     #                                           | 124 Elapsed Time: 0:00:58"
     ]
    },
    {
     "name": "stdout",
     "output_type": "stream",
     "text": [
      "Save image to path  assets/addi/fire_database/image123.jpg\n",
      "Downloading image from  http://com.dataturks.a96-i23.open.s3.amazonaws.com/2c9fafb06702b2c1016723e86959020f/b923db09-1c15-44d6-b587-d2c69f94a46e___FF16.JPEG\n"
     ]
    },
    {
     "name": "stderr",
     "output_type": "stream",
     "text": [
      "\r",
      "| | #                                               | 125 Elapsed Time: 0:00:58"
     ]
    },
    {
     "name": "stdout",
     "output_type": "stream",
     "text": [
      "Save image to path  assets/addi/fire_database/image124.jpg\n",
      "Downloading image from  http://com.dataturks.a96-i23.open.s3.amazonaws.com/2c9fafb06702b2c1016723e86959020f/401e940d-2957-4118-aa41-6700e97ea170___201.JPEG\n"
     ]
    },
    {
     "name": "stderr",
     "output_type": "stream",
     "text": [
      "\r",
      "/ |  #                                              | 126 Elapsed Time: 0:00:59"
     ]
    },
    {
     "name": "stdout",
     "output_type": "stream",
     "text": [
      "Save image to path  assets/addi/fire_database/image125.jpg\n",
      "Downloading image from  http://com.dataturks.a96-i23.open.s3.amazonaws.com/2c9fafb06702b2c1016723e86959020f/80b84167-95c3-46b4-9156-7f59cf119737___344.JPEG\n"
     ]
    },
    {
     "name": "stderr",
     "output_type": "stream",
     "text": [
      "\r",
      "- |        #                                        | 127 Elapsed Time: 0:00:59"
     ]
    },
    {
     "name": "stdout",
     "output_type": "stream",
     "text": [
      "Save image to path  assets/addi/fire_database/image126.jpg\n",
      "Downloading image from  http://com.dataturks.a96-i23.open.s3.amazonaws.com/2c9fafb06702b2c1016723e86959020f/c8b40d0a-c0bc-4378-962d-e2317003387a___FF157.JPEG\n"
     ]
    },
    {
     "name": "stderr",
     "output_type": "stream",
     "text": [
      "\r",
      "\\ |             #                                   | 128 Elapsed Time: 0:01:00"
     ]
    },
    {
     "name": "stdout",
     "output_type": "stream",
     "text": [
      "Save image to path  assets/addi/fire_database/image127.jpg\n",
      "Downloading image from  http://com.dataturks.a96-i23.open.s3.amazonaws.com/2c9fafb06702b2c1016723e86959020f/541a1794-51be-49c6-a555-ca8dfd1a2ee7___FF291.JPEG\n"
     ]
    },
    {
     "name": "stderr",
     "output_type": "stream",
     "text": [
      "\r",
      "| |                  #                              | 129 Elapsed Time: 0:01:00"
     ]
    },
    {
     "name": "stdout",
     "output_type": "stream",
     "text": [
      "Save image to path  assets/addi/fire_database/image128.jpg\n",
      "Downloading image from  http://com.dataturks.a96-i23.open.s3.amazonaws.com/2c9fafb06702b2c1016723e86959020f/9bac04e1-5073-48b3-88e9-754616d5ced3___128.JPEG\n"
     ]
    },
    {
     "name": "stderr",
     "output_type": "stream",
     "text": [
      "\r",
      "/ |                       #                         | 130 Elapsed Time: 0:01:01"
     ]
    },
    {
     "name": "stdout",
     "output_type": "stream",
     "text": [
      "Save image to path  assets/addi/fire_database/image129.jpg\n",
      "Downloading image from  http://com.dataturks.a96-i23.open.s3.amazonaws.com/2c9fafb06702b2c1016723e86959020f/18975b28-2526-4f69-a20d-a5f18b7e5536___70.JPEG\n"
     ]
    },
    {
     "name": "stderr",
     "output_type": "stream",
     "text": [
      "\r",
      "- |                            #                    | 131 Elapsed Time: 0:01:01"
     ]
    },
    {
     "name": "stdout",
     "output_type": "stream",
     "text": [
      "Save image to path  assets/addi/fire_database/image130.jpg\n",
      "Downloading image from  http://com.dataturks.a96-i23.open.s3.amazonaws.com/2c9fafb06702b2c1016723e86959020f/a6925d7b-fa83-4250-89df-9b2fd5a5c8a7___256.JPEG\n"
     ]
    },
    {
     "name": "stderr",
     "output_type": "stream",
     "text": [
      "\r",
      "\\ |                                #                | 132 Elapsed Time: 0:01:02"
     ]
    },
    {
     "name": "stdout",
     "output_type": "stream",
     "text": [
      "Save image to path  assets/addi/fire_database/image131.jpg\n",
      "Downloading image from  http://com.dataturks.a96-i23.open.s3.amazonaws.com/2c9fafb06702b2c1016723e86959020f/f559a9b4-36ac-49d0-b0bb-877f3002b303___FF41.JPEG\n"
     ]
    },
    {
     "name": "stderr",
     "output_type": "stream",
     "text": [
      "\r",
      "| |                                    #            | 133 Elapsed Time: 0:01:02"
     ]
    },
    {
     "name": "stdout",
     "output_type": "stream",
     "text": [
      "Save image to path  assets/addi/fire_database/image132.jpg\n",
      "Downloading image from  http://com.dataturks.a96-i23.open.s3.amazonaws.com/2c9fafb06702b2c1016723e86959020f/85c01636-e8b8-4a00-ae9c-3f6494eaae70___FF100.JPEG\n"
     ]
    },
    {
     "name": "stderr",
     "output_type": "stream",
     "text": [
      "\r",
      "/ |                                        #        | 134 Elapsed Time: 0:01:02"
     ]
    },
    {
     "name": "stdout",
     "output_type": "stream",
     "text": [
      "Save image to path  assets/addi/fire_database/image133.jpg\n",
      "Downloading image from  http://com.dataturks.a96-i23.open.s3.amazonaws.com/2c9fafb06702b2c1016723e86959020f/deff11e0-d321-43f3-8723-3bf734eee192___313.JPEG\n"
     ]
    },
    {
     "name": "stderr",
     "output_type": "stream",
     "text": [
      "\r",
      "- |                                              #  | 135 Elapsed Time: 0:01:03"
     ]
    },
    {
     "name": "stdout",
     "output_type": "stream",
     "text": [
      "Save image to path  assets/addi/fire_database/image134.jpg\n",
      "Downloading image from  http://com.dataturks.a96-i23.open.s3.amazonaws.com/2c9fafb06702b2c1016723e86959020f/1867123a-30bb-46e6-ba69-84a098bb49e4___FF229.JPEG\n"
     ]
    },
    {
     "name": "stderr",
     "output_type": "stream",
     "text": [
      "\r",
      "\\ |                                               # | 136 Elapsed Time: 0:01:03"
     ]
    },
    {
     "name": "stdout",
     "output_type": "stream",
     "text": [
      "Save image to path  assets/addi/fire_database/image135.jpg\n",
      "Downloading image from  http://com.dataturks.a96-i23.open.s3.amazonaws.com/2c9fafb06702b2c1016723e86959020f/cf2bf44e-0cbd-491a-95c1-d7daddc3fc87___190.JPEG\n"
     ]
    },
    {
     "name": "stderr",
     "output_type": "stream",
     "text": [
      "\r",
      "| |                                           #     | 137 Elapsed Time: 0:01:04"
     ]
    },
    {
     "name": "stdout",
     "output_type": "stream",
     "text": [
      "Save image to path  assets/addi/fire_database/image136.jpg\n",
      "Downloading image from  http://com.dataturks.a96-i23.open.s3.amazonaws.com/2c9fafb06702b2c1016723e86959020f/879e0bd2-85b7-497e-a5ce-dca2c5116d26___27.JPEG\n"
     ]
    },
    {
     "name": "stderr",
     "output_type": "stream",
     "text": [
      "\r",
      "/ |                                       #         | 138 Elapsed Time: 0:01:04"
     ]
    },
    {
     "name": "stdout",
     "output_type": "stream",
     "text": [
      "Save image to path  assets/addi/fire_database/image137.jpg\n",
      "Downloading image from  http://com.dataturks.a96-i23.open.s3.amazonaws.com/2c9fafb06702b2c1016723e86959020f/59805fd0-05ab-41b0-8e71-f56b0cb379af___485.JPEG\n"
     ]
    },
    {
     "name": "stderr",
     "output_type": "stream",
     "text": [
      "\r",
      "- |                                 #               | 139 Elapsed Time: 0:01:05"
     ]
    },
    {
     "name": "stdout",
     "output_type": "stream",
     "text": [
      "Save image to path  assets/addi/fire_database/image138.jpg\n",
      "Downloading image from  http://com.dataturks.a96-i23.open.s3.amazonaws.com/2c9fafb06702b2c1016723e86959020f/167ae0cb-752e-441d-a0a9-1ae96ea8e939___368.JPEG\n"
     ]
    },
    {
     "name": "stderr",
     "output_type": "stream",
     "text": [
      "\r",
      "\\ |                             #                   | 140 Elapsed Time: 0:01:05"
     ]
    },
    {
     "name": "stdout",
     "output_type": "stream",
     "text": [
      "Save image to path  assets/addi/fire_database/image139.jpg\n",
      "Downloading image from  http://com.dataturks.a96-i23.open.s3.amazonaws.com/2c9fafb06702b2c1016723e86959020f/60c21028-aa72-46e5-8272-a566494e22ea___387.JPEG\n"
     ]
    },
    {
     "name": "stderr",
     "output_type": "stream",
     "text": [
      "\r",
      "| |                        #                        | 141 Elapsed Time: 0:01:06"
     ]
    },
    {
     "name": "stdout",
     "output_type": "stream",
     "text": [
      "Save image to path  assets/addi/fire_database/image140.jpg\n",
      "Downloading image from  http://com.dataturks.a96-i23.open.s3.amazonaws.com/2c9fafb06702b2c1016723e86959020f/419d531b-f80e-4bde-90a5-06e08a60e270___FF194.JPEG\n"
     ]
    },
    {
     "name": "stderr",
     "output_type": "stream",
     "text": [
      "\r",
      "/ |                    #                            | 142 Elapsed Time: 0:01:06"
     ]
    },
    {
     "name": "stdout",
     "output_type": "stream",
     "text": [
      "Save image to path  assets/addi/fire_database/image141.jpg\n",
      "Downloading image from  http://com.dataturks.a96-i23.open.s3.amazonaws.com/2c9fafb06702b2c1016723e86959020f/8fe677cc-35ce-4426-ad17-d53942fc409c___104.JPEG\n"
     ]
    },
    {
     "name": "stderr",
     "output_type": "stream",
     "text": [
      "\r",
      "- |               #                                 | 143 Elapsed Time: 0:01:07"
     ]
    },
    {
     "name": "stdout",
     "output_type": "stream",
     "text": [
      "Save image to path  assets/addi/fire_database/image142.jpg\n",
      "Downloading image from  http://com.dataturks.a96-i23.open.s3.amazonaws.com/2c9fafb06702b2c1016723e86959020f/8baaff16-04ae-4938-9e4f-1fdc08dbafd7___554.JPEG\n"
     ]
    },
    {
     "name": "stderr",
     "output_type": "stream",
     "text": [
      "\r",
      "\\ |          #                                      | 144 Elapsed Time: 0:01:07"
     ]
    },
    {
     "name": "stdout",
     "output_type": "stream",
     "text": [
      "Save image to path  assets/addi/fire_database/image143.jpg\n",
      "Downloading image from  http://com.dataturks.a96-i23.open.s3.amazonaws.com/2c9fafb06702b2c1016723e86959020f/76b7337e-56a0-486b-97d6-839ad6055390___FF317.JPEG\n"
     ]
    },
    {
     "name": "stderr",
     "output_type": "stream",
     "text": [
      "\r",
      "| |     #                                           | 145 Elapsed Time: 0:01:08"
     ]
    },
    {
     "name": "stdout",
     "output_type": "stream",
     "text": [
      "Save image to path  assets/addi/fire_database/image144.jpg\n",
      "Downloading image from  http://com.dataturks.a96-i23.open.s3.amazonaws.com/2c9fafb06702b2c1016723e86959020f/cc134761-1d70-403d-af8e-a778c30b42b1___FF252.JPEG\n"
     ]
    },
    {
     "name": "stderr",
     "output_type": "stream",
     "text": [
      "\r",
      "/ | #                                               | 146 Elapsed Time: 0:01:08"
     ]
    },
    {
     "name": "stdout",
     "output_type": "stream",
     "text": [
      "Save image to path  assets/addi/fire_database/image145.jpg\n",
      "Downloading image from  http://com.dataturks.a96-i23.open.s3.amazonaws.com/2c9fafb06702b2c1016723e86959020f/a2e1cf37-722e-45cd-aa9e-e6e51536de38___411.JPEG\n"
     ]
    },
    {
     "name": "stderr",
     "output_type": "stream",
     "text": [
      "\r",
      "- |   #                                             | 147 Elapsed Time: 0:01:08"
     ]
    },
    {
     "name": "stdout",
     "output_type": "stream",
     "text": [
      "Save image to path  assets/addi/fire_database/image146.jpg\n",
      "Downloading image from  http://com.dataturks.a96-i23.open.s3.amazonaws.com/2c9fafb06702b2c1016723e86959020f/6743d5dd-5036-4d6b-99a2-42b612768e2f___FF82.JPEG\n"
     ]
    },
    {
     "name": "stderr",
     "output_type": "stream",
     "text": [
      "\r",
      "\\ |        #                                        | 148 Elapsed Time: 0:01:09"
     ]
    },
    {
     "name": "stdout",
     "output_type": "stream",
     "text": [
      "Save image to path  assets/addi/fire_database/image147.jpg\n",
      "Downloading image from  http://com.dataturks.a96-i23.open.s3.amazonaws.com/2c9fafb06702b2c1016723e86959020f/40d2ff0f-6f93-4d5b-bf9f-37a4c3a5bcd7___295.JPEG\n"
     ]
    },
    {
     "name": "stderr",
     "output_type": "stream",
     "text": [
      "\r",
      "| |            #                                    | 149 Elapsed Time: 0:01:09"
     ]
    },
    {
     "name": "stdout",
     "output_type": "stream",
     "text": [
      "Save image to path  assets/addi/fire_database/image148.jpg\n",
      "Downloading image from  http://com.dataturks.a96-i23.open.s3.amazonaws.com/2c9fafb06702b2c1016723e86959020f/8bc4095e-c8f8-43ba-8e15-ddc5ca98a88f___503.JPEG\n"
     ]
    },
    {
     "name": "stderr",
     "output_type": "stream",
     "text": [
      "\r",
      "/ |                  #                              | 150 Elapsed Time: 0:01:10"
     ]
    },
    {
     "name": "stdout",
     "output_type": "stream",
     "text": [
      "Save image to path  assets/addi/fire_database/image149.jpg\n",
      "Downloading image from  http://com.dataturks.a96-i23.open.s3.amazonaws.com/2c9fafb06702b2c1016723e86959020f/84af9fe4-4942-46d2-b039-2f69580caef8___153.JPEG\n"
     ]
    },
    {
     "name": "stderr",
     "output_type": "stream",
     "text": [
      "\r",
      "- |                       #                         | 151 Elapsed Time: 0:01:10"
     ]
    },
    {
     "name": "stdout",
     "output_type": "stream",
     "text": [
      "Save image to path  assets/addi/fire_database/image150.jpg\n",
      "Downloading image from  http://com.dataturks.a96-i23.open.s3.amazonaws.com/2c9fafb06702b2c1016723e86959020f/e7917fcd-0bb8-4bba-8f84-44af57287587___446.JPEG\n"
     ]
    },
    {
     "name": "stderr",
     "output_type": "stream",
     "text": [
      "\r",
      "\\ |                           #                     | 152 Elapsed Time: 0:01:11"
     ]
    },
    {
     "name": "stdout",
     "output_type": "stream",
     "text": [
      "Save image to path  assets/addi/fire_database/image151.jpg\n",
      "Downloading image from  http://com.dataturks.a96-i23.open.s3.amazonaws.com/2c9fafb06702b2c1016723e86959020f/4b1c6f4e-b2c8-4124-bcdc-b7dc0fec4a3e___FF205.JPEG\n"
     ]
    },
    {
     "name": "stderr",
     "output_type": "stream",
     "text": [
      "\r",
      "| |                                #                | 153 Elapsed Time: 0:01:11"
     ]
    },
    {
     "name": "stdout",
     "output_type": "stream",
     "text": [
      "Save image to path  assets/addi/fire_database/image152.jpg\n",
      "Downloading image from  http://com.dataturks.a96-i23.open.s3.amazonaws.com/2c9fafb06702b2c1016723e86959020f/02698e4e-02fb-4116-9d4b-dd6e4b03d8da___283.JPEG\n"
     ]
    },
    {
     "name": "stderr",
     "output_type": "stream",
     "text": [
      "\r",
      "/ |                                   #             | 154 Elapsed Time: 0:01:12"
     ]
    },
    {
     "name": "stdout",
     "output_type": "stream",
     "text": [
      "Save image to path  assets/addi/fire_database/image153.jpg\n",
      "Downloading image from  http://com.dataturks.a96-i23.open.s3.amazonaws.com/2c9fafb06702b2c1016723e86959020f/c511e647-d680-46de-a22a-9a1f0e296fad___FF94.JPEG\n"
     ]
    },
    {
     "name": "stderr",
     "output_type": "stream",
     "text": [
      "\r",
      "- |                                       #         | 155 Elapsed Time: 0:01:12"
     ]
    },
    {
     "name": "stdout",
     "output_type": "stream",
     "text": [
      "Save image to path  assets/addi/fire_database/image154.jpg\n",
      "Downloading image from  http://com.dataturks.a96-i23.open.s3.amazonaws.com/2c9fafb06702b2c1016723e86959020f/ac98df96-0279-4cad-b538-a703105f9b65___329.JPEG\n"
     ]
    },
    {
     "name": "stderr",
     "output_type": "stream",
     "text": [
      "\r",
      "\\ |                                             #   | 156 Elapsed Time: 0:01:13"
     ]
    },
    {
     "name": "stdout",
     "output_type": "stream",
     "text": [
      "Save image to path  assets/addi/fire_database/image155.jpg\n",
      "Downloading image from  http://com.dataturks.a96-i23.open.s3.amazonaws.com/2c9fafb06702b2c1016723e86959020f/9efcb4bc-94f7-4905-95e9-d7a6b10497e8___145.JPEG\n"
     ]
    },
    {
     "name": "stderr",
     "output_type": "stream",
     "text": [
      "\r",
      "| |                                               # | 157 Elapsed Time: 0:01:13"
     ]
    },
    {
     "name": "stdout",
     "output_type": "stream",
     "text": [
      "Save image to path  assets/addi/fire_database/image156.jpg\n",
      "Downloading image from  http://com.dataturks.a96-i23.open.s3.amazonaws.com/2c9fafb06702b2c1016723e86959020f/2c4fcbf7-8549-4ec3-b6a0-ded9b3c54730___515.JPEG\n"
     ]
    },
    {
     "name": "stderr",
     "output_type": "stream",
     "text": [
      "\r",
      "/ |                                         #       | 158 Elapsed Time: 0:01:14"
     ]
    },
    {
     "name": "stdout",
     "output_type": "stream",
     "text": [
      "Save image to path  assets/addi/fire_database/image157.jpg\n",
      "Downloading image from  http://com.dataturks.a96-i23.open.s3.amazonaws.com/2c9fafb06702b2c1016723e86959020f/534cfa91-a1c5-444c-b88b-e452d4384cb8___FF213.JPEG\n"
     ]
    },
    {
     "name": "stderr",
     "output_type": "stream",
     "text": [
      "\r",
      "- |                                     #           | 159 Elapsed Time: 0:01:14"
     ]
    },
    {
     "name": "stdout",
     "output_type": "stream",
     "text": [
      "Save image to path  assets/addi/fire_database/image158.jpg\n",
      "Downloading image from  http://com.dataturks.a96-i23.open.s3.amazonaws.com/2c9fafb06702b2c1016723e86959020f/881449f2-16d9-446e-a070-075745499251___450.JPEG\n"
     ]
    },
    {
     "name": "stderr",
     "output_type": "stream",
     "text": [
      "\r",
      "\\ |                                #                | 160 Elapsed Time: 0:01:15"
     ]
    },
    {
     "name": "stdout",
     "output_type": "stream",
     "text": [
      "Save image to path  assets/addi/fire_database/image159.jpg\n",
      "Downloading image from  http://com.dataturks.a96-i23.open.s3.amazonaws.com/2c9fafb06702b2c1016723e86959020f/833f3a10-cf97-4e00-a0df-20e1da5716d7___FF182.JPEG\n"
     ]
    },
    {
     "name": "stderr",
     "output_type": "stream",
     "text": [
      "\r",
      "| |                         #                       | 161 Elapsed Time: 0:01:15"
     ]
    },
    {
     "name": "stdout",
     "output_type": "stream",
     "text": [
      "Save image to path  assets/addi/fire_database/image160.jpg\n",
      "Downloading image from  http://com.dataturks.a96-i23.open.s3.amazonaws.com/2c9fafb06702b2c1016723e86959020f/7375ce6b-0cf1-4887-8dbc-60c213efbf5e___391.JPEG\n"
     ]
    },
    {
     "name": "stderr",
     "output_type": "stream",
     "text": [
      "\r",
      "/ |                   #                             | 162 Elapsed Time: 0:01:16"
     ]
    },
    {
     "name": "stdout",
     "output_type": "stream",
     "text": [
      "Save image to path  assets/addi/fire_database/image161.jpg\n",
      "Downloading image from  http://com.dataturks.a96-i23.open.s3.amazonaws.com/2c9fafb06702b2c1016723e86959020f/51da093c-ae7c-483f-8db4-2d3499064fe1___FF301.JPEG\n"
     ]
    },
    {
     "name": "stderr",
     "output_type": "stream",
     "text": [
      "\r",
      "- |               #                                 | 163 Elapsed Time: 0:01:16"
     ]
    },
    {
     "name": "stdout",
     "output_type": "stream",
     "text": [
      "Save image to path  assets/addi/fire_database/image162.jpg\n",
      "Downloading image from  http://com.dataturks.a96-i23.open.s3.amazonaws.com/2c9fafb06702b2c1016723e86959020f/c93c6a7e-a036-4282-8559-3c78928d7831___542.JPEG\n"
     ]
    },
    {
     "name": "stderr",
     "output_type": "stream",
     "text": [
      "\r",
      "\\ |       #                                         | 164 Elapsed Time: 0:01:17"
     ]
    },
    {
     "name": "stdout",
     "output_type": "stream",
     "text": [
      "Save image to path  assets/addi/fire_database/image163.jpg\n",
      "Downloading image from  http://com.dataturks.a96-i23.open.s3.amazonaws.com/2c9fafb06702b2c1016723e86959020f/c7c3d0b1-8266-43c8-a1f3-13184f0b1890___112.JPEG\n"
     ]
    },
    {
     "name": "stderr",
     "output_type": "stream",
     "text": [
      "\r",
      "| | #                                               | 165 Elapsed Time: 0:01:18"
     ]
    },
    {
     "name": "stdout",
     "output_type": "stream",
     "text": [
      "Save image to path  assets/addi/fire_database/image164.jpg\n",
      "Downloading image from  http://com.dataturks.a96-i23.open.s3.amazonaws.com/2c9fafb06702b2c1016723e86959020f/7c3406b8-d8e0-4560-85d9-c4e1a2503805___407.JPEG\n"
     ]
    },
    {
     "name": "stderr",
     "output_type": "stream",
     "text": [
      "\r",
      "/ |   #                                             | 166 Elapsed Time: 0:01:18"
     ]
    },
    {
     "name": "stdout",
     "output_type": "stream",
     "text": [
      "Save image to path  assets/addi/fire_database/image165.jpg\n",
      "Downloading image from  http://com.dataturks.a96-i23.open.s3.amazonaws.com/2c9fafb06702b2c1016723e86959020f/71edb251-a22d-4b0b-bfcd-3512c23183ef___FF244.JPEG\n"
     ]
    },
    {
     "name": "stderr",
     "output_type": "stream",
     "text": [
      "\r",
      "- |       #                                         | 167 Elapsed Time: 0:01:19"
     ]
    },
    {
     "name": "stdout",
     "output_type": "stream",
     "text": [
      "Save image to path  assets/addi/fire_database/image166.jpg\n",
      "Downloading image from  http://com.dataturks.a96-i23.open.s3.amazonaws.com/2c9fafb06702b2c1016723e86959020f/fd3c9bde-dfc8-469b-b16f-18e184015eed___FF233.JPEG\n"
     ]
    },
    {
     "name": "stderr",
     "output_type": "stream",
     "text": [
      "\r",
      "\\ |           #                                     | 168 Elapsed Time: 0:01:19"
     ]
    },
    {
     "name": "stdout",
     "output_type": "stream",
     "text": [
      "Save image to path  assets/addi/fire_database/image167.jpg\n",
      "Downloading image from  http://com.dataturks.a96-i23.open.s3.amazonaws.com/2c9fafb06702b2c1016723e86959020f/185a03ac-74cd-4eb2-9466-40a1894fa973___470.JPEG\n"
     ]
    },
    {
     "name": "stderr",
     "output_type": "stream",
     "text": [
      "\r",
      "| |                #                                | 169 Elapsed Time: 0:01:20"
     ]
    },
    {
     "name": "stdout",
     "output_type": "stream",
     "text": [
      "Save image to path  assets/addi/fire_database/image168.jpg\n",
      "Downloading image from  http://com.dataturks.a96-i23.open.s3.amazonaws.com/2c9fafb06702b2c1016723e86959020f/79d93038-4701-4e4d-8549-3108ddfac89e___165.JPEG\n"
     ]
    },
    {
     "name": "stderr",
     "output_type": "stream",
     "text": [
      "\r",
      "/ |                   #                             | 170 Elapsed Time: 0:01:20"
     ]
    },
    {
     "name": "stdout",
     "output_type": "stream",
     "text": [
      "Save image to path  assets/addi/fire_database/image169.jpg\n",
      "Downloading image from  http://com.dataturks.a96-i23.open.s3.amazonaws.com/2c9fafb06702b2c1016723e86959020f/e44e6d2c-ec18-4afe-86a8-3f2ae3b6d5c2___535.JPEG\n"
     ]
    },
    {
     "name": "stderr",
     "output_type": "stream",
     "text": [
      "\r",
      "- |                         #                       | 171 Elapsed Time: 0:01:20"
     ]
    },
    {
     "name": "stdout",
     "output_type": "stream",
     "text": [
      "Save image to path  assets/addi/fire_database/image170.jpg\n",
      "Downloading image from  http://com.dataturks.a96-i23.open.s3.amazonaws.com/2c9fafb06702b2c1016723e86959020f/5199bcee-849a-4435-b98c-e4489abc7719___309.JPEG\n"
     ]
    },
    {
     "name": "stderr",
     "output_type": "stream",
     "text": [
      "\r",
      "\\ |                               #                 | 172 Elapsed Time: 0:01:21"
     ]
    },
    {
     "name": "stdout",
     "output_type": "stream",
     "text": [
      "Save image to path  assets/addi/fire_database/image171.jpg\n",
      "Downloading image from  http://com.dataturks.a96-i23.open.s3.amazonaws.com/2c9fafb06702b2c1016723e86959020f/5462e882-71ea-405b-b495-25ad7aab5261___85.JPEG\n"
     ]
    },
    {
     "name": "stderr",
     "output_type": "stream",
     "text": [
      "\r",
      "| |                                    #            | 173 Elapsed Time: 0:01:22"
     ]
    },
    {
     "name": "stdout",
     "output_type": "stream",
     "text": [
      "Save image to path  assets/addi/fire_database/image172.jpg\n",
      "Downloading image from  http://com.dataturks.a96-i23.open.s3.amazonaws.com/2c9fafb06702b2c1016723e86959020f/cb99f48d-1a7f-4506-9793-1c66ae1f7543___1.JPEG\n"
     ]
    },
    {
     "name": "stderr",
     "output_type": "stream",
     "text": [
      "\r",
      "/ |                                          #      | 174 Elapsed Time: 0:01:22"
     ]
    },
    {
     "name": "stdout",
     "output_type": "stream",
     "text": [
      "Save image to path  assets/addi/fire_database/image173.jpg\n",
      "Downloading image from  http://com.dataturks.a96-i23.open.s3.amazonaws.com/2c9fafb06702b2c1016723e86959020f/dc3401b3-9d68-4ec5-9d70-390037fdf71a___427.JPEG\n"
     ]
    },
    {
     "name": "stderr",
     "output_type": "stream",
     "text": [
      "\r",
      "- |                                              #  | 175 Elapsed Time: 0:01:23"
     ]
    },
    {
     "name": "stdout",
     "output_type": "stream",
     "text": [
      "Save image to path  assets/addi/fire_database/image174.jpg\n",
      "Downloading image from  http://com.dataturks.a96-i23.open.s3.amazonaws.com/2c9fafb06702b2c1016723e86959020f/735d1618-a80f-46e8-8b11-c875e3069436___FF264.JPEG\n"
     ]
    },
    {
     "name": "stderr",
     "output_type": "stream",
     "text": [
      "\r",
      "\\ |                                            #    | 176 Elapsed Time: 0:01:23"
     ]
    },
    {
     "name": "stdout",
     "output_type": "stream",
     "text": [
      "Save image to path  assets/addi/fire_database/image175.jpg\n",
      "Downloading image from  http://com.dataturks.a96-i23.open.s3.amazonaws.com/2c9fafb06702b2c1016723e86959020f/7cdbb5e3-e4a5-4798-a5bc-ff14578755fd___132.JPEG\n"
     ]
    },
    {
     "name": "stderr",
     "output_type": "stream",
     "text": [
      "\r",
      "| |                                       #         | 177 Elapsed Time: 0:01:24"
     ]
    },
    {
     "name": "stdout",
     "output_type": "stream",
     "text": [
      "Save image to path  assets/addi/fire_database/image176.jpg\n",
      "Downloading image from  http://com.dataturks.a96-i23.open.s3.amazonaws.com/2c9fafb06702b2c1016723e86959020f/7c5f8ef7-a2f8-4e73-9c0a-98a68c5936a2___FF272.JPEG\n"
     ]
    },
    {
     "name": "stderr",
     "output_type": "stream",
     "text": [
      "\r",
      "/ |                                   #             | 178 Elapsed Time: 0:01:24"
     ]
    },
    {
     "name": "stdout",
     "output_type": "stream",
     "text": [
      "Save image to path  assets/addi/fire_database/image177.jpg\n",
      "Downloading image from  http://com.dataturks.a96-i23.open.s3.amazonaws.com/2c9fafb06702b2c1016723e86959020f/cda48eba-6d78-4dd0-b82b-0f867dce5186___431.JPEG\n"
     ]
    },
    {
     "name": "stderr",
     "output_type": "stream",
     "text": [
      "\r",
      "- |                             #                   | 179 Elapsed Time: 0:01:25"
     ]
    },
    {
     "name": "stdout",
     "output_type": "stream",
     "text": [
      "Save image to path  assets/addi/fire_database/image178.jpg\n",
      "Downloading image from  http://com.dataturks.a96-i23.open.s3.amazonaws.com/2c9fafb06702b2c1016723e86959020f/8a3c299a-f48b-4ba4-8aa8-3f63e6565aff___93.JPEG\n"
     ]
    },
    {
     "name": "stderr",
     "output_type": "stream",
     "text": [
      "\r",
      "\\ |                       #                         | 180 Elapsed Time: 0:01:25"
     ]
    },
    {
     "name": "stdout",
     "output_type": "stream",
     "text": [
      "Save image to path  assets/addi/fire_database/image179.jpg\n",
      "Downloading image from  http://com.dataturks.a96-i23.open.s3.amazonaws.com/2c9fafb06702b2c1016723e86959020f/fd0e429c-17e0-46f9-94f6-4a361ed3ee09___124.JPEG\n"
     ]
    },
    {
     "name": "stderr",
     "output_type": "stream",
     "text": [
      "\r",
      "| |                  #                              | 181 Elapsed Time: 0:01:26"
     ]
    },
    {
     "name": "stdout",
     "output_type": "stream",
     "text": [
      "Save image to path  assets/addi/fire_database/image180.jpg\n",
      "Downloading image from  http://com.dataturks.a96-i23.open.s3.amazonaws.com/2c9fafb06702b2c1016723e86959020f/740fc8a0-3915-4f9e-86d6-0137f8eb18ef___348.JPEG\n"
     ]
    },
    {
     "name": "stderr",
     "output_type": "stream",
     "text": [
      "\r",
      "/ |            #                                    | 182 Elapsed Time: 0:01:26"
     ]
    },
    {
     "name": "stdout",
     "output_type": "stream",
     "text": [
      "Save image to path  assets/addi/fire_database/image181.jpg\n",
      "Downloading image from  http://com.dataturks.a96-i23.open.s3.amazonaws.com/2c9fafb06702b2c1016723e86959020f/0b2a7291-0489-4f16-9998-9fd1c9006f15___466.JPEG\n"
     ]
    },
    {
     "name": "stderr",
     "output_type": "stream",
     "text": [
      "\r",
      "- |      #                                          | 183 Elapsed Time: 0:01:27"
     ]
    },
    {
     "name": "stdout",
     "output_type": "stream",
     "text": [
      "Save image to path  assets/addi/fire_database/image182.jpg\n",
      "Downloading image from  http://com.dataturks.a96-i23.open.s3.amazonaws.com/2c9fafb06702b2c1016723e86959020f/3ebe2374-e31c-452e-b11c-6babb11dc0b7___FF225.JPEG\n"
     ]
    },
    {
     "name": "stderr",
     "output_type": "stream",
     "text": [
      "\r",
      "\\ |  #                                              | 184 Elapsed Time: 0:01:27"
     ]
    },
    {
     "name": "stdout",
     "output_type": "stream",
     "text": [
      "Save image to path  assets/addi/fire_database/image183.jpg\n",
      "Downloading image from  http://com.dataturks.a96-i23.open.s3.amazonaws.com/2c9fafb06702b2c1016723e86959020f/8c38e1db-a2bb-4a0c-ac0e-6cfa3e86d778___523.JPEG\n"
     ]
    },
    {
     "name": "stderr",
     "output_type": "stream",
     "text": [
      "\r",
      "| |  #                                              | 185 Elapsed Time: 0:01:28"
     ]
    },
    {
     "name": "stdout",
     "output_type": "stream",
     "text": [
      "Save image to path  assets/addi/fire_database/image184.jpg\n",
      "Downloading image from  http://com.dataturks.a96-i23.open.s3.amazonaws.com/2c9fafb06702b2c1016723e86959020f/3a7a83c0-3464-4ddb-bfd5-babfbb260a59___489.JPEG\n"
     ]
    },
    {
     "name": "stderr",
     "output_type": "stream",
     "text": [
      "\r",
      "/ |        #                                        | 186 Elapsed Time: 0:01:29"
     ]
    },
    {
     "name": "stdout",
     "output_type": "stream",
     "text": [
      "Save image to path  assets/addi/fire_database/image185.jpg\n",
      "Downloading image from  http://com.dataturks.a96-i23.open.s3.amazonaws.com/2c9fafb06702b2c1016723e86959020f/d4af4e60-c711-4f05-92f4-bec930c0a590___173.JPEG\n"
     ]
    },
    {
     "name": "stderr",
     "output_type": "stream",
     "text": [
      "\r",
      "- |            #                                    | 187 Elapsed Time: 0:01:29"
     ]
    },
    {
     "name": "stdout",
     "output_type": "stream",
     "text": [
      "Save image to path  assets/addi/fire_database/image186.jpg\n",
      "Downloading image from  http://com.dataturks.a96-i23.open.s3.amazonaws.com/2c9fafb06702b2c1016723e86959020f/ed597a94-4e21-40bc-880b-363afd6bb95c___558.JPEG\n"
     ]
    },
    {
     "name": "stderr",
     "output_type": "stream",
     "text": [
      "\r",
      "\\ |                 #                               | 188 Elapsed Time: 0:01:29"
     ]
    },
    {
     "name": "stdout",
     "output_type": "stream",
     "text": [
      "Save image to path  assets/addi/fire_database/image187.jpg\n",
      "Downloading image from  http://com.dataturks.a96-i23.open.s3.amazonaws.com/2c9fafb06702b2c1016723e86959020f/d8df2872-b1b5-454b-a319-f83cebf4154b___108.JPEG\n"
     ]
    },
    {
     "name": "stderr",
     "output_type": "stream",
     "text": [
      "\r",
      "| |                       #                         | 189 Elapsed Time: 0:01:30"
     ]
    },
    {
     "name": "stdout",
     "output_type": "stream",
     "text": [
      "Save image to path  assets/addi/fire_database/image188.jpg\n",
      "Downloading image from  http://com.dataturks.a96-i23.open.s3.amazonaws.com/2c9fafb06702b2c1016723e86959020f/633388e1-81cb-49de-b0eb-008d33313cf8___50.JPEG\n"
     ]
    },
    {
     "name": "stderr",
     "output_type": "stream",
     "text": [
      "\r",
      "/ |                           #                     | 190 Elapsed Time: 0:01:30"
     ]
    },
    {
     "name": "stdout",
     "output_type": "stream",
     "text": [
      "Save image to path  assets/addi/fire_database/image189.jpg\n",
      "Downloading image from  http://com.dataturks.a96-i23.open.s3.amazonaws.com/2c9fafb06702b2c1016723e86959020f/b71ec4e5-62dc-4656-9a7b-fcf3995af5f2___364.JPEG\n"
     ]
    },
    {
     "name": "stderr",
     "output_type": "stream",
     "text": [
      "\r",
      "- |                                 #               | 191 Elapsed Time: 0:01:31"
     ]
    },
    {
     "name": "stdout",
     "output_type": "stream",
     "text": [
      "Save image to path  assets/addi/fire_database/image190.jpg\n",
      "Downloading image from  http://com.dataturks.a96-i23.open.s3.amazonaws.com/2c9fafb06702b2c1016723e86959020f/1cb63bb7-e59c-446b-bedf-10ba51ef0b2d___FF177.JPEG\n"
     ]
    },
    {
     "name": "stderr",
     "output_type": "stream",
     "text": [
      "\r",
      "\\ |                                      #          | 192 Elapsed Time: 0:01:32"
     ]
    },
    {
     "name": "stdout",
     "output_type": "stream",
     "text": [
      "Save image to path  assets/addi/fire_database/image191.jpg\n",
      "Downloading image from  http://com.dataturks.a96-i23.open.s3.amazonaws.com/2c9fafb06702b2c1016723e86959020f/12cc716b-aaf7-4ab6-b22d-32ae797ee78d___FF36.JPEG\n"
     ]
    },
    {
     "name": "stderr",
     "output_type": "stream",
     "text": [
      "\r",
      "| |                                         #       | 193 Elapsed Time: 0:01:32"
     ]
    },
    {
     "name": "stdout",
     "output_type": "stream",
     "text": [
      "Save image to path  assets/addi/fire_database/image192.jpg\n",
      "Downloading image from  http://com.dataturks.a96-i23.open.s3.amazonaws.com/2c9fafb06702b2c1016723e86959020f/5ef3f5a6-f6da-4a42-bcd0-d58cbe50dba7___FF198.JPEG\n"
     ]
    },
    {
     "name": "stderr",
     "output_type": "stream",
     "text": [
      "\r",
      "/ |                                              #  | 194 Elapsed Time: 0:01:32"
     ]
    },
    {
     "name": "stdout",
     "output_type": "stream",
     "text": [
      "Save image to path  assets/addi/fire_database/image193.jpg\n",
      "Downloading image from  http://com.dataturks.a96-i23.open.s3.amazonaws.com/2c9fafb06702b2c1016723e86959020f/9dfb489d-7adb-40e7-89c4-edff6e01fed5___221.JPEG\n"
     ]
    },
    {
     "name": "stderr",
     "output_type": "stream",
     "text": [
      "\r",
      "- |                                              #  | 195 Elapsed Time: 0:01:33"
     ]
    },
    {
     "name": "stdout",
     "output_type": "stream",
     "text": [
      "Save image to path  assets/addi/fire_database/image194.jpg\n",
      "Downloading image from  http://com.dataturks.a96-i23.open.s3.amazonaws.com/2c9fafb06702b2c1016723e86959020f/567950f6-1b21-4b76-88c4-bd295bd8f0dc___FF209.JPEG\n"
     ]
    },
    {
     "name": "stderr",
     "output_type": "stream",
     "text": [
      "\r",
      "\\ |                                          #      | 196 Elapsed Time: 0:01:33"
     ]
    },
    {
     "name": "stdout",
     "output_type": "stream",
     "text": [
      "Save image to path  assets/addi/fire_database/image195.jpg\n",
      "Downloading image from  http://com.dataturks.a96-i23.open.s3.amazonaws.com/2c9fafb06702b2c1016723e86959020f/b9cf36c2-25eb-40a7-8a33-627da3c834fc___FF120.JPEG\n"
     ]
    },
    {
     "name": "stderr",
     "output_type": "stream",
     "text": [
      "\r",
      "| |                                      #          | 197 Elapsed Time: 0:01:34"
     ]
    },
    {
     "name": "stdout",
     "output_type": "stream",
     "text": [
      "Save image to path  assets/addi/fire_database/image196.jpg\n",
      "Downloading image from  http://com.dataturks.a96-i23.open.s3.amazonaws.com/2c9fafb06702b2c1016723e86959020f/83f51547-78f9-405b-a100-ed458df77e20___299.JPEG\n"
     ]
    },
    {
     "name": "stderr",
     "output_type": "stream",
     "text": [
      "\r",
      "/ |                                #                | 198 Elapsed Time: 0:01:34"
     ]
    },
    {
     "name": "stdout",
     "output_type": "stream",
     "text": [
      "Save image to path  assets/addi/fire_database/image197.jpg\n",
      "Downloading image from  http://com.dataturks.a96-i23.open.s3.amazonaws.com/2c9fafb06702b2c1016723e86959020f/e80c1c5f-1294-4819-86be-b71f1a0b31b5___333.JPEG\n"
     ]
    },
    {
     "name": "stderr",
     "output_type": "stream",
     "text": [
      "\r",
      "- |                          #                      | 199 Elapsed Time: 0:01:35"
     ]
    },
    {
     "name": "stdout",
     "output_type": "stream",
     "text": [
      "Save image to path  assets/addi/fire_database/image198.jpg\n",
      "Downloading image from  http://com.dataturks.a96-i23.open.s3.amazonaws.com/2c9fafb06702b2c1016723e86959020f/fac0e37a-697f-4ddc-9e2d-db40f66eac94___276.JPEG\n"
     ]
    },
    {
     "name": "stderr",
     "output_type": "stream",
     "text": [
      "\r",
      "\\ |                     #                           | 200 Elapsed Time: 0:01:35"
     ]
    },
    {
     "name": "stdout",
     "output_type": "stream",
     "text": [
      "Save image to path  assets/addi/fire_database/image199.jpg\n",
      "Downloading image from  http://com.dataturks.a96-i23.open.s3.amazonaws.com/2c9fafb06702b2c1016723e86959020f/dcaa59bc-887c-44f8-9e26-d1915e39d4c9___FF61.JPEG\n"
     ]
    },
    {
     "name": "stderr",
     "output_type": "stream",
     "text": [
      "\r",
      "| |                #                                | 201 Elapsed Time: 0:01:36"
     ]
    },
    {
     "name": "stdout",
     "output_type": "stream",
     "text": [
      "Save image to path  assets/addi/fire_database/image200.jpg\n",
      "Downloading image from  http://com.dataturks.a96-i23.open.s3.amazonaws.com/2c9fafb06702b2c1016723e86959020f/7a963761-3e03-49f0-9a5e-852c0ce3730e___519.JPEG\n"
     ]
    },
    {
     "name": "stderr",
     "output_type": "stream",
     "text": [
      "\r",
      "/ |           #                                     | 202 Elapsed Time: 0:01:36"
     ]
    },
    {
     "name": "stdout",
     "output_type": "stream",
     "text": [
      "Save image to path  assets/addi/fire_database/image201.jpg\n",
      "Downloading image from  http://com.dataturks.a96-i23.open.s3.amazonaws.com/2c9fafb06702b2c1016723e86959020f/3e7ca626-6d1c-4c9e-b893-7a0fb51331cc___FF3.JPEG\n"
     ]
    },
    {
     "name": "stderr",
     "output_type": "stream",
     "text": [
      "\r",
      "- |      #                                          | 203 Elapsed Time: 0:01:37"
     ]
    },
    {
     "name": "stdout",
     "output_type": "stream",
     "text": [
      "Save image to path  assets/addi/fire_database/image202.jpg\n",
      "Downloading image from  http://com.dataturks.a96-i23.open.s3.amazonaws.com/2c9fafb06702b2c1016723e86959020f/0707651c-752b-4c0e-a87c-9c1b495f33b9___149.JPEG\n"
     ]
    },
    {
     "name": "stderr",
     "output_type": "stream",
     "text": [
      "\r",
      "\\ | #                                               | 204 Elapsed Time: 0:01:37"
     ]
    },
    {
     "name": "stdout",
     "output_type": "stream",
     "text": [
      "Save image to path  assets/addi/fire_database/image203.jpg\n",
      "Downloading image from  http://com.dataturks.a96-i23.open.s3.amazonaws.com/2c9fafb06702b2c1016723e86959020f/a8b80d4b-28f3-4642-bb4d-6ccab55cfb40___11.JPEG\n"
     ]
    },
    {
     "name": "stderr",
     "output_type": "stream",
     "text": [
      "\r",
      "| |    #                                            | 205 Elapsed Time: 0:01:38"
     ]
    },
    {
     "name": "stdout",
     "output_type": "stream",
     "text": [
      "Save image to path  assets/addi/fire_database/image204.jpg\n",
      "Downloading image from  http://com.dataturks.a96-i23.open.s3.amazonaws.com/2c9fafb06702b2c1016723e86959020f/6ef2e2bc-b0de-476a-afce-8faa0a5d9f57___325.JPEG\n"
     ]
    },
    {
     "name": "stderr",
     "output_type": "stream",
     "text": [
      "\r",
      "/ |          #                                      | 206 Elapsed Time: 0:01:39"
     ]
    },
    {
     "name": "stdout",
     "output_type": "stream",
     "text": [
      "Save image to path  assets/addi/fire_database/image205.jpg\n",
      "Downloading image from  http://com.dataturks.a96-i23.open.s3.amazonaws.com/2c9fafb06702b2c1016723e86959020f/668590e6-e91e-49e9-8cd2-259385fa8a7c___FF98.JPEG\n"
     ]
    },
    {
     "name": "stderr",
     "output_type": "stream",
     "text": [
      "\r",
      "- |               #                                 | 207 Elapsed Time: 0:01:39"
     ]
    },
    {
     "name": "stdout",
     "output_type": "stream",
     "text": [
      "Save image to path  assets/addi/fire_database/image206.jpg\n",
      "Downloading image from  http://com.dataturks.a96-i23.open.s3.amazonaws.com/2c9fafb06702b2c1016723e86959020f/1e70cfab-d646-4a70-99fd-934c74647f64___FF136.JPEG\n"
     ]
    },
    {
     "name": "stderr",
     "output_type": "stream",
     "text": [
      "\r",
      "\\ |                    #                            | 208 Elapsed Time: 0:01:40"
     ]
    },
    {
     "name": "stdout",
     "output_type": "stream",
     "text": [
      "Save image to path  assets/addi/fire_database/image207.jpg\n",
      "Downloading image from  http://com.dataturks.a96-i23.open.s3.amazonaws.com/2c9fafb06702b2c1016723e86959020f/a8c8f6b8-6dc9-4b37-a331-6add3a128f16___FF77.JPEG\n"
     ]
    },
    {
     "name": "stderr",
     "output_type": "stream",
     "text": [
      "\r",
      "| |                        #                        | 209 Elapsed Time: 0:01:40"
     ]
    },
    {
     "name": "stdout",
     "output_type": "stream",
     "text": [
      "Save image to path  assets/addi/fire_database/image208.jpg\n",
      "Downloading image from  http://com.dataturks.a96-i23.open.s3.amazonaws.com/2c9fafb06702b2c1016723e86959020f/6752c7e6-43ca-428a-9f93-a3f5fe13400b___260.JPEG\n"
     ]
    },
    {
     "name": "stderr",
     "output_type": "stream",
     "text": [
      "\r",
      "/ |                             #                   | 210 Elapsed Time: 0:01:40"
     ]
    },
    {
     "name": "stdout",
     "output_type": "stream",
     "text": [
      "Save image to path  assets/addi/fire_database/image209.jpg\n",
      "Downloading image from  http://com.dataturks.a96-i23.open.s3.amazonaws.com/2c9fafb06702b2c1016723e86959020f/28cae37f-2e2c-4dfb-840b-2e761dd695b8___46.JPEG\n"
     ]
    },
    {
     "name": "stderr",
     "output_type": "stream",
     "text": [
      "\r",
      "- |                                  #              | 211 Elapsed Time: 0:01:41"
     ]
    },
    {
     "name": "stdout",
     "output_type": "stream",
     "text": [
      "Save image to path  assets/addi/fire_database/image210.jpg\n",
      "Downloading image from  http://com.dataturks.a96-i23.open.s3.amazonaws.com/2c9fafb06702b2c1016723e86959020f/5cabd19c-da49-4fe1-aca6-e9cea16ca1a0___FF248.JPEG\n"
     ]
    },
    {
     "name": "stderr",
     "output_type": "stream",
     "text": [
      "\r",
      "\\ |                                        #        | 212 Elapsed Time: 0:01:42"
     ]
    },
    {
     "name": "stdout",
     "output_type": "stream",
     "text": [
      "Save image to path  assets/addi/fire_database/image211.jpg\n",
      "Downloading image from  http://com.dataturks.a96-i23.open.s3.amazonaws.com/2c9fafb06702b2c1016723e86959020f/f41a6881-ab8d-41b5-8e32-0c6e0c386bc5___FF161.JPEG\n"
     ]
    },
    {
     "name": "stderr",
     "output_type": "stream",
     "text": [
      "\r",
      "| |                                             #   | 213 Elapsed Time: 0:01:42"
     ]
    },
    {
     "name": "stdout",
     "output_type": "stream",
     "text": [
      "Save image to path  assets/addi/fire_database/image212.jpg\n",
      "Downloading image from  http://com.dataturks.a96-i23.open.s3.amazonaws.com/2c9fafb06702b2c1016723e86959020f/a824d459-8003-4791-ab85-343cc4305f50___372.JPEG\n"
     ]
    },
    {
     "name": "stderr",
     "output_type": "stream",
     "text": [
      "\r",
      "/ |                                               # | 214 Elapsed Time: 0:01:43"
     ]
    },
    {
     "name": "stdout",
     "output_type": "stream",
     "text": [
      "Save image to path  assets/addi/fire_database/image213.jpg\n",
      "Downloading image from  http://com.dataturks.a96-i23.open.s3.amazonaws.com/2c9fafb06702b2c1016723e86959020f/373118e2-b474-4993-81ef-a81e16828103___237.JPEG\n"
     ]
    },
    {
     "name": "stderr",
     "output_type": "stream",
     "text": [
      "\r",
      "- |                                           #     | 215 Elapsed Time: 0:01:43"
     ]
    },
    {
     "name": "stdout",
     "output_type": "stream",
     "text": [
      "Save image to path  assets/addi/fire_database/image214.jpg\n",
      "Downloading image from  http://com.dataturks.a96-i23.open.s3.amazonaws.com/2c9fafb06702b2c1016723e86959020f/b7f6bb28-1a61-4be5-9bac-56709930fe13___FF20.JPEG\n"
     ]
    },
    {
     "name": "stderr",
     "output_type": "stream",
     "text": [
      "\r",
      "\\ |                                      #          | 216 Elapsed Time: 0:01:43"
     ]
    },
    {
     "name": "stdout",
     "output_type": "stream",
     "text": [
      "Save image to path  assets/addi/fire_database/image215.jpg\n",
      "Downloading image from  http://com.dataturks.a96-i23.open.s3.amazonaws.com/2c9fafb06702b2c1016723e86959020f/be212a5b-83da-47e4-9675-26cde42bf7b8___545.JPEG\n"
     ]
    },
    {
     "name": "stderr",
     "output_type": "stream",
     "text": [
      "\r",
      "| |                                #                | 217 Elapsed Time: 0:01:44"
     ]
    },
    {
     "name": "stdout",
     "output_type": "stream",
     "text": [
      "Save image to path  assets/addi/fire_database/image216.jpg\n",
      "Downloading image from  http://com.dataturks.a96-i23.open.s3.amazonaws.com/2c9fafb06702b2c1016723e86959020f/2d8226b0-7998-4ab3-bbf8-bc3d845e0987___FF306.JPEG\n"
     ]
    },
    {
     "name": "stderr",
     "output_type": "stream",
     "text": [
      "\r",
      "/ |                           #                     | 218 Elapsed Time: 0:01:45"
     ]
    },
    {
     "name": "stdout",
     "output_type": "stream",
     "text": [
      "Save image to path  assets/addi/fire_database/image217.jpg\n",
      "Downloading image from  http://com.dataturks.a96-i23.open.s3.amazonaws.com/2c9fafb06702b2c1016723e86959020f/5408d641-f2d7-4821-9abb-dffa164254f8___115.JPEG\n"
     ]
    },
    {
     "name": "stderr",
     "output_type": "stream",
     "text": [
      "\r",
      "- |                      #                          | 219 Elapsed Time: 0:01:45"
     ]
    },
    {
     "name": "stdout",
     "output_type": "stream",
     "text": [
      "Save image to path  assets/addi/fire_database/image218.jpg\n",
      "Downloading image from  http://com.dataturks.a96-i23.open.s3.amazonaws.com/2c9fafb06702b2c1016723e86959020f/abcaf570-1ba9-4dc7-8eab-cb965e0b9999___FF243.JPEG\n"
     ]
    },
    {
     "name": "stderr",
     "output_type": "stream",
     "text": [
      "\r",
      "\\ |                  #                              | 220 Elapsed Time: 0:01:45"
     ]
    },
    {
     "name": "stdout",
     "output_type": "stream",
     "text": [
      "Save image to path  assets/addi/fire_database/image219.jpg\n",
      "Downloading image from  http://com.dataturks.a96-i23.open.s3.amazonaws.com/2c9fafb06702b2c1016723e86959020f/447b457e-284d-46f4-8b4a-ba414f56ed23___400.JPEG\n"
     ]
    },
    {
     "name": "stderr",
     "output_type": "stream",
     "text": [
      "\r",
      "| |             #                                   | 221 Elapsed Time: 0:01:46"
     ]
    },
    {
     "name": "stdout",
     "output_type": "stream",
     "text": [
      "Save image to path  assets/addi/fire_database/image220.jpg\n",
      "Downloading image from  http://com.dataturks.a96-i23.open.s3.amazonaws.com/2c9fafb06702b2c1016723e86959020f/a76604ec-0997-496d-afb5-778ae471b7fc___379.JPEG\n"
     ]
    },
    {
     "name": "stderr",
     "output_type": "stream",
     "text": [
      "\r",
      "/ |         #                                       | 222 Elapsed Time: 0:01:46"
     ]
    },
    {
     "name": "stdout",
     "output_type": "stream",
     "text": [
      "Save image to path  assets/addi/fire_database/image221.jpg\n",
      "Downloading image from  http://com.dataturks.a96-i23.open.s3.amazonaws.com/2c9fafb06702b2c1016723e86959020f/63b2c5ff-1f48-45b3-b005-0621d0928bfd___FF185.JPEG\n"
     ]
    },
    {
     "name": "stderr",
     "output_type": "stream",
     "text": [
      "\r",
      "- |     #                                           | 223 Elapsed Time: 0:01:47"
     ]
    },
    {
     "name": "stdout",
     "output_type": "stream",
     "text": [
      "Save image to path  assets/addi/fire_database/image222.jpg\n",
      "Downloading image from  http://com.dataturks.a96-i23.open.s3.amazonaws.com/2c9fafb06702b2c1016723e86959020f/8604cec9-5225-4304-ba93-b25970aa7de3___396.JPEG\n"
     ]
    },
    {
     "name": "stderr",
     "output_type": "stream",
     "text": [
      "\r",
      "\\ | #                                               | 224 Elapsed Time: 0:01:47"
     ]
    },
    {
     "name": "stdout",
     "output_type": "stream",
     "text": [
      "Save image to path  assets/addi/fire_database/image223.jpg\n",
      "Downloading image from  http://com.dataturks.a96-i23.open.s3.amazonaws.com/2c9fafb06702b2c1016723e86959020f/37ca3098-bf0b-4dc4-852d-aa6f72b297cd___FF8.JPEG\n"
     ]
    },
    {
     "name": "stderr",
     "output_type": "stream",
     "text": [
      "\r",
      "| |  #                                              | 225 Elapsed Time: 0:01:48"
     ]
    },
    {
     "name": "stdout",
     "output_type": "stream",
     "text": [
      "Save image to path  assets/addi/fire_database/image224.jpg\n",
      "Downloading image from  http://com.dataturks.a96-i23.open.s3.amazonaws.com/2c9fafb06702b2c1016723e86959020f/a6402fcb-c2ab-483a-b68e-927207eba47f___142.JPEG\n"
     ]
    },
    {
     "name": "stderr",
     "output_type": "stream",
     "text": [
      "\r",
      "/ |       #                                         | 226 Elapsed Time: 0:01:48"
     ]
    },
    {
     "name": "stdout",
     "output_type": "stream",
     "text": [
      "Save image to path  assets/addi/fire_database/image225.jpg\n",
      "Downloading image from  http://com.dataturks.a96-i23.open.s3.amazonaws.com/2c9fafb06702b2c1016723e86959020f/bc1f4cf6-70a3-4fe3-b957-75c3941e5f81___512.JPEG\n"
     ]
    },
    {
     "name": "stderr",
     "output_type": "stream",
     "text": [
      "\r",
      "- |            #                                    | 227 Elapsed Time: 0:01:49"
     ]
    },
    {
     "name": "stdout",
     "output_type": "stream",
     "text": [
      "Save image to path  assets/addi/fire_database/image226.jpg\n",
      "Downloading image from  http://com.dataturks.a96-i23.open.s3.amazonaws.com/2c9fafb06702b2c1016723e86959020f/e74b8f9b-5672-4690-b2d1-0553687660d7___457.JPEG\n"
     ]
    },
    {
     "name": "stderr",
     "output_type": "stream",
     "text": [
      "\r",
      "\\ |               #                                 | 228 Elapsed Time: 0:01:49"
     ]
    },
    {
     "name": "stdout",
     "output_type": "stream",
     "text": [
      "Save image to path  assets/addi/fire_database/image227.jpg\n",
      "Downloading image from  http://com.dataturks.a96-i23.open.s3.amazonaws.com/2c9fafb06702b2c1016723e86959020f/289418b3-917b-49ad-b12b-082ce9ffbf62___FF214.JPEG\n"
     ]
    },
    {
     "name": "stderr",
     "output_type": "stream",
     "text": [
      "\r",
      "| |                    #                            | 229 Elapsed Time: 0:01:49"
     ]
    },
    {
     "name": "stdout",
     "output_type": "stream",
     "text": [
      "Save image to path  assets/addi/fire_database/image228.jpg\n",
      "Downloading image from  http://com.dataturks.a96-i23.open.s3.amazonaws.com/2c9fafb06702b2c1016723e86959020f/73e9a329-8770-4a69-9582-d33dbfcaa87a___FF93.JPEG\n"
     ]
    },
    {
     "name": "stderr",
     "output_type": "stream",
     "text": [
      "\r",
      "/ |                        #                        | 230 Elapsed Time: 0:01:50"
     ]
    },
    {
     "name": "stdout",
     "output_type": "stream",
     "text": [
      "Save image to path  assets/addi/fire_database/image229.jpg\n",
      "Downloading image from  http://com.dataturks.a96-i23.open.s3.amazonaws.com/2c9fafb06702b2c1016723e86959020f/51b1d756-9ecb-4a81-9872-3c3608d9bf8b___284.JPEG\n"
     ]
    },
    {
     "name": "stderr",
     "output_type": "stream",
     "text": [
      "\r",
      "- |                            #                    | 231 Elapsed Time: 0:01:50"
     ]
    },
    {
     "name": "stdout",
     "output_type": "stream",
     "text": [
      "Save image to path  assets/addi/fire_database/image230.jpg\n",
      "Downloading image from  http://com.dataturks.a96-i23.open.s3.amazonaws.com/2c9fafb06702b2c1016723e86959020f/0ba95d8b-3e67-479a-a1c8-58b8648ccec7___504.JPEG\n"
     ]
    },
    {
     "name": "stderr",
     "output_type": "stream",
     "text": [
      "\r",
      "\\ |                                  #              | 232 Elapsed Time: 0:01:51"
     ]
    },
    {
     "name": "stdout",
     "output_type": "stream",
     "text": [
      "Save image to path  assets/addi/fire_database/image231.jpg\n",
      "Downloading image from  http://com.dataturks.a96-i23.open.s3.amazonaws.com/2c9fafb06702b2c1016723e86959020f/45d2ad57-1b4d-4db0-b488-85646cabefd9___154.JPEG\n"
     ]
    },
    {
     "name": "stderr",
     "output_type": "stream",
     "text": [
      "\r",
      "| |                                       #         | 233 Elapsed Time: 0:01:51"
     ]
    },
    {
     "name": "stdout",
     "output_type": "stream",
     "text": [
      "Save image to path  assets/addi/fire_database/image232.jpg\n",
      "Downloading image from  http://com.dataturks.a96-i23.open.s3.amazonaws.com/2c9fafb06702b2c1016723e86959020f/573a1089-1f96-42fe-8e3d-ea8fc08ceae9___FF202.JPEG\n"
     ]
    },
    {
     "name": "stderr",
     "output_type": "stream",
     "text": [
      "\r",
      "/ |                                           #     | 234 Elapsed Time: 0:01:52"
     ]
    },
    {
     "name": "stdout",
     "output_type": "stream",
     "text": [
      "Save image to path  assets/addi/fire_database/image233.jpg\n",
      "Downloading image from  http://com.dataturks.a96-i23.open.s3.amazonaws.com/2c9fafb06702b2c1016723e86959020f/1167d759-a0a1-424e-9304-723f63630b01___441.JPEG\n"
     ]
    },
    {
     "name": "stderr",
     "output_type": "stream",
     "text": [
      "\r",
      "- |                                                #| 235 Elapsed Time: 0:01:52"
     ]
    },
    {
     "name": "stdout",
     "output_type": "stream",
     "text": [
      "Save image to path  assets/addi/fire_database/image234.jpg\n",
      "Downloading image from  http://com.dataturks.a96-i23.open.s3.amazonaws.com/2c9fafb06702b2c1016723e86959020f/6e743e0f-9703-4455-a82b-9bc4f77c6bcc___338.JPEG\n"
     ]
    },
    {
     "name": "stderr",
     "output_type": "stream",
     "text": [
      "\r",
      "\\ |                                          #      | 236 Elapsed Time: 0:01:53"
     ]
    },
    {
     "name": "stdout",
     "output_type": "stream",
     "text": [
      "Save image to path  assets/addi/fire_database/image235.jpg\n",
      "Downloading image from  http://com.dataturks.a96-i23.open.s3.amazonaws.com/2c9fafb06702b2c1016723e86959020f/077b60e0-7830-43d1-b64f-6c197f01fc13___292.JPEG\n"
     ]
    },
    {
     "name": "stderr",
     "output_type": "stream",
     "text": [
      "\r",
      "| |                                     #           | 237 Elapsed Time: 0:01:53"
     ]
    },
    {
     "name": "stdout",
     "output_type": "stream",
     "text": [
      "Save image to path  assets/addi/fire_database/image236.jpg\n",
      "Downloading image from  http://com.dataturks.a96-i23.open.s3.amazonaws.com/2c9fafb06702b2c1016723e86959020f/482560ab-7772-493d-bdd1-8e0879b93bb2___FF85.JPEG\n"
     ]
    },
    {
     "name": "stderr",
     "output_type": "stream",
     "text": [
      "\r",
      "/ |                                #                | 238 Elapsed Time: 0:01:54"
     ]
    },
    {
     "name": "stdout",
     "output_type": "stream",
     "text": [
      "Save image to path  assets/addi/fire_database/image237.jpg\n",
      "Downloading image from  http://com.dataturks.a96-i23.open.s3.amazonaws.com/2c9fafb06702b2c1016723e86959020f/ae7adc47-86d7-4fe7-bfea-b850f850a682___103.JPEG\n"
     ]
    },
    {
     "name": "stderr",
     "output_type": "stream",
     "text": [
      "\r",
      "- |                           #                     | 239 Elapsed Time: 0:01:54"
     ]
    },
    {
     "name": "stdout",
     "output_type": "stream",
     "text": [
      "Save image to path  assets/addi/fire_database/image238.jpg\n",
      "Downloading image from  http://com.dataturks.a96-i23.open.s3.amazonaws.com/2c9fafb06702b2c1016723e86959020f/20d787cb-7424-4484-811a-2ea648376b4c___FF310.JPEG\n"
     ]
    },
    {
     "name": "stderr",
     "output_type": "stream",
     "text": [
      "\r",
      "\\ |                       #                         | 240 Elapsed Time: 0:01:55"
     ]
    },
    {
     "name": "stdout",
     "output_type": "stream",
     "text": [
      "Save image to path  assets/addi/fire_database/image239.jpg\n",
      "Downloading image from  http://com.dataturks.a96-i23.open.s3.amazonaws.com/2c9fafb06702b2c1016723e86959020f/f1c2db8c-025e-482f-b292-2c59c95d4a08___553.JPEG\n"
     ]
    },
    {
     "name": "stderr",
     "output_type": "stream",
     "text": [
      "\r",
      "| |                 #                               | 241 Elapsed Time: 0:01:55"
     ]
    },
    {
     "name": "stdout",
     "output_type": "stream",
     "text": [
      "Save image to path  assets/addi/fire_database/image240.jpg\n",
      "Downloading image from  http://com.dataturks.a96-i23.open.s3.amazonaws.com/2c9fafb06702b2c1016723e86959020f/ccdb9b52-2bf1-479b-a4d4-10a76543a5e1___416.JPEG\n"
     ]
    },
    {
     "name": "stderr",
     "output_type": "stream",
     "text": [
      "\r",
      "/ |            #                                    | 242 Elapsed Time: 0:01:56"
     ]
    },
    {
     "name": "stdout",
     "output_type": "stream",
     "text": [
      "Save image to path  assets/addi/fire_database/image241.jpg\n",
      "Downloading image from  http://com.dataturks.a96-i23.open.s3.amazonaws.com/2c9fafb06702b2c1016723e86959020f/d96eff4b-db6a-4bb9-b7dc-5d1666bfacdc___FF255.JPEG\n"
     ]
    },
    {
     "name": "stderr",
     "output_type": "stream",
     "text": [
      "\r",
      "- |        #                                        | 243 Elapsed Time: 0:01:56"
     ]
    },
    {
     "name": "stdout",
     "output_type": "stream",
     "text": [
      "Save image to path  assets/addi/fire_database/image242.jpg\n",
      "Downloading image from  http://com.dataturks.a96-i23.open.s3.amazonaws.com/2c9fafb06702b2c1016723e86959020f/cf7e7e19-5a0e-4902-8c35-661baa89be64___380.JPEG\n"
     ]
    },
    {
     "name": "stderr",
     "output_type": "stream",
     "text": [
      "\r",
      "\\ |    #                                            | 244 Elapsed Time: 0:01:57"
     ]
    },
    {
     "name": "stdout",
     "output_type": "stream",
     "text": [
      "Save image to path  assets/addi/fire_database/image243.jpg\n",
      "Downloading image from  http://com.dataturks.a96-i23.open.s3.amazonaws.com/2c9fafb06702b2c1016723e86959020f/5dc75fef-b9de-4b4e-84dc-ebb78ab5ec32___FF193.JPEG\n"
     ]
    },
    {
     "name": "stderr",
     "output_type": "stream",
     "text": [
      "\r",
      "| | #                                               | 245 Elapsed Time: 0:01:57"
     ]
    },
    {
     "name": "stdout",
     "output_type": "stream",
     "text": [
      "Save image to path  assets/addi/fire_database/image244.jpg\n",
      "Downloading image from  http://com.dataturks.a96-i23.open.s3.amazonaws.com/2c9fafb06702b2c1016723e86959020f/ead2f94f-e10d-4f55-b991-868ba08c00a1___197.JPEG\n"
     ]
    },
    {
     "name": "stderr",
     "output_type": "stream",
     "text": [
      "\r",
      "/ |      #                                          | 246 Elapsed Time: 0:01:58"
     ]
    },
    {
     "name": "stdout",
     "output_type": "stream",
     "text": [
      "Save image to path  assets/addi/fire_database/image245.jpg\n",
      "Downloading image from  http://com.dataturks.a96-i23.open.s3.amazonaws.com/2c9fafb06702b2c1016723e86959020f/7438e0a0-65ec-41ad-b402-604bb7d43765___482.JPEG\n"
     ]
    },
    {
     "name": "stderr",
     "output_type": "stream",
     "text": [
      "\r",
      "- |           #                                     | 247 Elapsed Time: 0:01:58"
     ]
    },
    {
     "name": "stdout",
     "output_type": "stream",
     "text": [
      "Save image to path  assets/addi/fire_database/image246.jpg\n",
      "Downloading image from  http://com.dataturks.a96-i23.open.s3.amazonaws.com/2c9fafb06702b2c1016723e86959020f/cd45d41c-670b-4e8a-963b-b50de4731030___178.JPEG\n"
     ]
    },
    {
     "name": "stderr",
     "output_type": "stream",
     "text": [
      "\r",
      "\\ |               #                                 | 248 Elapsed Time: 0:01:59"
     ]
    },
    {
     "name": "stdout",
     "output_type": "stream",
     "text": [
      "Save image to path  assets/addi/fire_database/image247.jpg\n",
      "Downloading image from  http://com.dataturks.a96-i23.open.s3.amazonaws.com/2c9fafb06702b2c1016723e86959020f/32f608ac-712e-49c0-b2bf-8ad2966c9430___528.JPEG\n"
     ]
    },
    {
     "name": "stderr",
     "output_type": "stream",
     "text": [
      "\r",
      "| |                    #                            | 249 Elapsed Time: 0:01:59"
     ]
    },
    {
     "name": "stdout",
     "output_type": "stream",
     "text": [
      "Save image to path  assets/addi/fire_database/image248.jpg\n",
      "Downloading image from  http://com.dataturks.a96-i23.open.s3.amazonaws.com/2c9fafb06702b2c1016723e86959020f/871db9a4-71df-460b-9f14-58bc8f7d6be9___20.JPEG\n"
     ]
    },
    {
     "name": "stderr",
     "output_type": "stream",
     "text": [
      "\r",
      "/ |                          #                      | 250 Elapsed Time: 0:02:00"
     ]
    },
    {
     "name": "stdout",
     "output_type": "stream",
     "text": [
      "Save image to path  assets/addi/fire_database/image249.jpg\n",
      "Downloading image from  http://com.dataturks.a96-i23.open.s3.amazonaws.com/2c9fafb06702b2c1016723e86959020f/489c96ff-da83-4bab-bd84-af03ad9322a9___FF46.JPEG\n"
     ]
    },
    {
     "name": "stderr",
     "output_type": "stream",
     "text": [
      "\r",
      "- |                               #                 | 251 Elapsed Time: 0:02:00"
     ]
    },
    {
     "name": "stdout",
     "output_type": "stream",
     "text": [
      "Save image to path  assets/addi/fire_database/image250.jpg\n",
      "Downloading image from  http://com.dataturks.a96-i23.open.s3.amazonaws.com/2c9fafb06702b2c1016723e86959020f/df55ba9d-2449-4c7f-8694-b9d6875d8512___251.JPEG\n"
     ]
    },
    {
     "name": "stderr",
     "output_type": "stream",
     "text": [
      "\r",
      "\\ |                                    #            | 252 Elapsed Time: 0:02:01"
     ]
    },
    {
     "name": "stdout",
     "output_type": "stream",
     "text": [
      "Save image to path  assets/addi/fire_database/image251.jpg\n",
      "Downloading image from  http://com.dataturks.a96-i23.open.s3.amazonaws.com/2c9fafb06702b2c1016723e86959020f/21fd9809-09a6-4eec-90b1-5a4a59ddee31___FF107.JPEG\n"
     ]
    },
    {
     "name": "stderr",
     "output_type": "stream",
     "text": [
      "\r",
      "| |                                        #        | 253 Elapsed Time: 0:02:01"
     ]
    },
    {
     "name": "stdout",
     "output_type": "stream",
     "text": [
      "Save image to path  assets/addi/fire_database/image252.jpg\n",
      "Downloading image from  http://com.dataturks.a96-i23.open.s3.amazonaws.com/2c9fafb06702b2c1016723e86959020f/553e6c91-cb58-4dab-9beb-2a8f1bcd7e4f___314.JPEG\n"
     ]
    },
    {
     "name": "stderr",
     "output_type": "stream",
     "text": [
      "\r",
      "/ |                                            #    | 254 Elapsed Time: 0:02:02"
     ]
    },
    {
     "name": "stdout",
     "output_type": "stream",
     "text": [
      "Save image to path  assets/addi/fire_database/image253.jpg\n",
      "Downloading image from  http://com.dataturks.a96-i23.open.s3.amazonaws.com/2c9fafb06702b2c1016723e86959020f/b066e8e2-cca4-42bc-9a53-4d7e372b81cd___FF279.JPEG\n"
     ]
    },
    {
     "name": "stderr",
     "output_type": "stream",
     "text": [
      "\r",
      "- |                                               # | 255 Elapsed Time: 0:02:02"
     ]
    },
    {
     "name": "stdout",
     "output_type": "stream",
     "text": [
      "Save image to path  assets/addi/fire_database/image254.jpg\n",
      "Downloading image from  http://com.dataturks.a96-i23.open.s3.amazonaws.com/2c9fafb06702b2c1016723e86959020f/24cdd050-ee54-4f39-9b4e-6dcb2e6ea64b___98.JPEG\n"
     ]
    },
    {
     "name": "stderr",
     "output_type": "stream",
     "text": [
      "\r",
      "\\ |                                          #      | 256 Elapsed Time: 0:02:03"
     ]
    },
    {
     "name": "stdout",
     "output_type": "stream",
     "text": [
      "Save image to path  assets/addi/fire_database/image255.jpg\n",
      "Downloading image from  http://com.dataturks.a96-i23.open.s3.amazonaws.com/2c9fafb06702b2c1016723e86959020f/bf7415dc-45f9-4b11-9ee1-90370069e057___77.JPEG\n"
     ]
    },
    {
     "name": "stderr",
     "output_type": "stream",
     "text": [
      "\r",
      "| |                                     #           | 257 Elapsed Time: 0:02:03"
     ]
    },
    {
     "name": "stdout",
     "output_type": "stream",
     "text": [
      "Save image to path  assets/addi/fire_database/image256.jpg\n",
      "Downloading image from  http://com.dataturks.a96-i23.open.s3.amazonaws.com/2c9fafb06702b2c1016723e86959020f/69d11b66-ccfb-4505-989c-3ae69335a015___FF296.JPEG\n"
     ]
    },
    {
     "name": "stderr",
     "output_type": "stream",
     "text": [
      "\r",
      "/ |                                 #               | 258 Elapsed Time: 0:02:04"
     ]
    },
    {
     "name": "stdout",
     "output_type": "stream",
     "text": [
      "Save image to path  assets/addi/fire_database/image257.jpg\n",
      "Downloading image from  http://com.dataturks.a96-i23.open.s3.amazonaws.com/2c9fafb06702b2c1016723e86959020f/3bfa32c2-8f5a-45a5-b6e1-9efd759a9041___206.JPEG\n"
     ]
    },
    {
     "name": "stderr",
     "output_type": "stream",
     "text": [
      "\r",
      "- |                            #                    | 259 Elapsed Time: 0:02:04"
     ]
    },
    {
     "name": "stdout",
     "output_type": "stream",
     "text": [
      "Save image to path  assets/addi/fire_database/image258.jpg\n",
      "Downloading image from  http://com.dataturks.a96-i23.open.s3.amazonaws.com/2c9fafb06702b2c1016723e86959020f/09a8b580-6306-4bf8-848b-12708ce9fd4c___FF11.JPEG\n"
     ]
    },
    {
     "name": "stderr",
     "output_type": "stream",
     "text": [
      "\r",
      "\\ |                       #                         | 260 Elapsed Time: 0:02:05"
     ]
    },
    {
     "name": "stdout",
     "output_type": "stream",
     "text": [
      "Save image to path  assets/addi/fire_database/image259.jpg\n",
      "Downloading image from  http://com.dataturks.a96-i23.open.s3.amazonaws.com/2c9fafb06702b2c1016723e86959020f/d7de8739-43c9-4ffc-b475-3cf595af615f___343.JPEG\n"
     ]
    },
    {
     "name": "stderr",
     "output_type": "stream",
     "text": [
      "\r",
      "| |                  #                              | 261 Elapsed Time: 0:02:05"
     ]
    },
    {
     "name": "stdout",
     "output_type": "stream",
     "text": [
      "Save image to path  assets/addi/fire_database/image260.jpg\n",
      "Downloading image from  http://com.dataturks.a96-i23.open.s3.amazonaws.com/2c9fafb06702b2c1016723e86959020f/7226a7a9-367d-47a3-87a1-3db1da0b0f1e___FF150.JPEG\n"
     ]
    },
    {
     "name": "stderr",
     "output_type": "stream",
     "text": [
      "\r",
      "/ |             #                                   | 262 Elapsed Time: 0:02:06"
     ]
    },
    {
     "name": "stdout",
     "output_type": "stream",
     "text": [
      "Save image to path  assets/addi/fire_database/image261.jpg\n",
      "Downloading image from  http://com.dataturks.a96-i23.open.s3.amazonaws.com/2c9fafb06702b2c1016723e86959020f/840671ef-b5ea-4e40-b806-d3fbfe0c43d6___139.JPEG\n"
     ]
    },
    {
     "name": "stderr",
     "output_type": "stream",
     "text": [
      "\r",
      "- |        #                                        | 263 Elapsed Time: 0:02:06"
     ]
    },
    {
     "name": "stdout",
     "output_type": "stream",
     "text": [
      "Save image to path  assets/addi/fire_database/image262.jpg\n",
      "Downloading image from  http://com.dataturks.a96-i23.open.s3.amazonaws.com/2c9fafb06702b2c1016723e86959020f/d14b560c-3518-4a07-9042-39a8f90a8003___FF280.JPEG\n"
     ]
    },
    {
     "name": "stderr",
     "output_type": "stream",
     "text": [
      "\r",
      "\\ |   #                                             | 264 Elapsed Time: 0:02:07"
     ]
    },
    {
     "name": "stdout",
     "output_type": "stream",
     "text": [
      "Save image to path  assets/addi/fire_database/image263.jpg\n",
      "Downloading image from  http://com.dataturks.a96-i23.open.s3.amazonaws.com/2c9fafb06702b2c1016723e86959020f/703af1ad-d5d7-4932-85b6-a892d6227ffe___61.JPEG\n"
     ]
    },
    {
     "name": "stderr",
     "output_type": "stream",
     "text": [
      "\r",
      "| |  #                                              | 265 Elapsed Time: 0:02:07"
     ]
    },
    {
     "name": "stdout",
     "output_type": "stream",
     "text": [
      "Save image to path  assets/addi/fire_database/image264.jpg\n",
      "Downloading image from  http://com.dataturks.a96-i23.open.s3.amazonaws.com/2c9fafb06702b2c1016723e86959020f/c5fa14f5-2574-445d-80a2-3d70dea5b592___210.JPEG\n"
     ]
    },
    {
     "name": "stderr",
     "output_type": "stream",
     "text": [
      "\r",
      "/ |       #                                         | 266 Elapsed Time: 0:02:08"
     ]
    },
    {
     "name": "stdout",
     "output_type": "stream",
     "text": [
      "Save image to path  assets/addi/fire_database/image265.jpg\n",
      "Downloading image from  http://com.dataturks.a96-i23.open.s3.amazonaws.com/2c9fafb06702b2c1016723e86959020f/4e853936-2738-4796-8716-0001d6d8a2a6___FF146.JPEG\n"
     ]
    },
    {
     "name": "stderr",
     "output_type": "stream",
     "text": [
      "\r",
      "- |           #                                     | 267 Elapsed Time: 0:02:08"
     ]
    },
    {
     "name": "stdout",
     "output_type": "stream",
     "text": [
      "Save image to path  assets/addi/fire_database/image266.jpg\n",
      "Downloading image from  http://com.dataturks.a96-i23.open.s3.amazonaws.com/2c9fafb06702b2c1016723e86959020f/693f904d-244d-4370-a9c3-32a080ef27a6___355.JPEG\n"
     ]
    },
    {
     "name": "stderr",
     "output_type": "stream",
     "text": [
      "\r",
      "\\ |                #                                | 268 Elapsed Time: 0:02:09"
     ]
    },
    {
     "name": "stdout",
     "output_type": "stream",
     "text": [
      "Save image to path  assets/addi/fire_database/image267.jpg\n",
      "Downloading image from  http://com.dataturks.a96-i23.open.s3.amazonaws.com/2c9fafb06702b2c1016723e86959020f/b21c5007-a515-4a39-bcaf-bf4447f75ff2___181.JPEG\n"
     ]
    },
    {
     "name": "stderr",
     "output_type": "stream",
     "text": [
      "\r",
      "| |                     #                           | 269 Elapsed Time: 0:02:09"
     ]
    },
    {
     "name": "stdout",
     "output_type": "stream",
     "text": [
      "Save image to path  assets/addi/fire_database/image268.jpg\n",
      "Downloading image from  http://com.dataturks.a96-i23.open.s3.amazonaws.com/2c9fafb06702b2c1016723e86959020f/1227e1f8-04d1-4689-aeb5-6a73c629c2d5___FF238.JPEG\n"
     ]
    },
    {
     "name": "stderr",
     "output_type": "stream",
     "text": [
      "\r",
      "/ |                          #                      | 270 Elapsed Time: 0:02:10"
     ]
    },
    {
     "name": "stdout",
     "output_type": "stream",
     "text": [
      "Save image to path  assets/addi/fire_database/image269.jpg\n",
      "Downloading image from  http://com.dataturks.a96-i23.open.s3.amazonaws.com/2c9fafb06702b2c1016723e86959020f/d774b663-cc16-4f4b-88fc-03a35178771b___36.JPEG\n"
     ]
    },
    {
     "name": "stderr",
     "output_type": "stream",
     "text": [
      "\r",
      "- |                               #                 | 271 Elapsed Time: 0:02:10"
     ]
    },
    {
     "name": "stdout",
     "output_type": "stream",
     "text": [
      "Save image to path  assets/addi/fire_database/image270.jpg\n",
      "Downloading image from  http://com.dataturks.a96-i23.open.s3.amazonaws.com/2c9fafb06702b2c1016723e86959020f/42db826e-9e08-4362-8830-a83e5e4f04bd___494.JPEG\n"
     ]
    },
    {
     "name": "stderr",
     "output_type": "stream",
     "text": [
      "\r",
      "\\ |                                     #           | 272 Elapsed Time: 0:02:11"
     ]
    },
    {
     "name": "stdout",
     "output_type": "stream",
     "text": [
      "Save image to path  assets/addi/fire_database/image271.jpg\n",
      "Downloading image from  http://com.dataturks.a96-i23.open.s3.amazonaws.com/2c9fafb06702b2c1016723e86959020f/2a600ecf-0ef1-444a-b249-c008be929fb1___247.JPEG\n"
     ]
    },
    {
     "name": "stderr",
     "output_type": "stream",
     "text": [
      "\r",
      "| |                                        #        | 273 Elapsed Time: 0:02:11"
     ]
    },
    {
     "name": "stdout",
     "output_type": "stream",
     "text": [
      "Save image to path  assets/addi/fire_database/image272.jpg\n",
      "Downloading image from  http://com.dataturks.a96-i23.open.s3.amazonaws.com/2c9fafb06702b2c1016723e86959020f/2be3b8c5-e136-48ba-a46a-9fbac9406c99___FF50.JPEG\n"
     ]
    },
    {
     "name": "stderr",
     "output_type": "stream",
     "text": [
      "\r",
      "/ |                                              #  | 274 Elapsed Time: 0:02:12"
     ]
    },
    {
     "name": "stdout",
     "output_type": "stream",
     "text": [
      "Save image to path  assets/addi/fire_database/image273.jpg\n",
      "Downloading image from  http://com.dataturks.a96-i23.open.s3.amazonaws.com/2c9fafb06702b2c1016723e86959020f/45720e2a-c775-4b32-84a5-0aaf1b4841cd___302.JPEG\n"
     ]
    },
    {
     "name": "stderr",
     "output_type": "stream",
     "text": [
      "\r",
      "- |                                               # | 275 Elapsed Time: 0:02:12"
     ]
    },
    {
     "name": "stdout",
     "output_type": "stream",
     "text": [
      "Save image to path  assets/addi/fire_database/image274.jpg\n",
      "Downloading image from  http://com.dataturks.a96-i23.open.s3.amazonaws.com/2c9fafb06702b2c1016723e86959020f/058c8ffe-103d-4b15-ba5a-8e5f2ff97b49___FF111.JPEG\n"
     ]
    },
    {
     "name": "stderr",
     "output_type": "stream",
     "text": [
      "\r",
      "\\ |                                            #    | 276 Elapsed Time: 0:02:12"
     ]
    },
    {
     "name": "stdout",
     "output_type": "stream",
     "text": [
      "Save image to path  assets/addi/fire_database/image275.jpg\n",
      "Downloading image from  http://com.dataturks.a96-i23.open.s3.amazonaws.com/2c9fafb06702b2c1016723e86959020f/4853d136-c622-4a5e-a90b-9fd0c129dcf4___FF166.JPEG\n"
     ]
    },
    {
     "name": "stderr",
     "output_type": "stream",
     "text": [
      "\r",
      "| |                                     #           | 277 Elapsed Time: 0:02:13"
     ]
    },
    {
     "name": "stdout",
     "output_type": "stream",
     "text": [
      "Save image to path  assets/addi/fire_database/image276.jpg\n",
      "Downloading image from  http://com.dataturks.a96-i23.open.s3.amazonaws.com/2c9fafb06702b2c1016723e86959020f/8885fb22-f6eb-409a-aa49-522940f47e12___375.JPEG\n"
     ]
    },
    {
     "name": "stderr",
     "output_type": "stream",
     "text": [
      "\r",
      "/ |                                 #               | 278 Elapsed Time: 0:02:13"
     ]
    },
    {
     "name": "stdout",
     "output_type": "stream",
     "text": [
      "Save image to path  assets/addi/fire_database/image277.jpg\n",
      "Downloading image from  http://com.dataturks.a96-i23.open.s3.amazonaws.com/2c9fafb06702b2c1016723e86959020f/bbab6dcc-9827-4f60-b7b7-ffd1eaf4947a___FF27.JPEG\n"
     ]
    },
    {
     "name": "stderr",
     "output_type": "stream",
     "text": [
      "\r",
      "- |                            #                    | 279 Elapsed Time: 0:02:14"
     ]
    },
    {
     "name": "stdout",
     "output_type": "stream",
     "text": [
      "Save image to path  assets/addi/fire_database/image278.jpg\n",
      "Downloading image from  http://com.dataturks.a96-i23.open.s3.amazonaws.com/2c9fafb06702b2c1016723e86959020f/e3ca5616-6c34-4807-9747-2a9db59f77d5___230.JPEG\n"
     ]
    },
    {
     "name": "stderr",
     "output_type": "stream",
     "text": [
      "\r",
      "\\ |                       #                         | 280 Elapsed Time: 0:02:14"
     ]
    },
    {
     "name": "stdout",
     "output_type": "stream",
     "text": [
      "Save image to path  assets/addi/fire_database/image279.jpg\n",
      "Downloading image from  http://com.dataturks.a96-i23.open.s3.amazonaws.com/2c9fafb06702b2c1016723e86959020f/364c1e97-12ca-48ef-ab9e-179dde5c3385___FF189.JPEG\n"
     ]
    },
    {
     "name": "stderr",
     "output_type": "stream",
     "text": [
      "\r",
      "| |                   #                             | 281 Elapsed Time: 0:02:15"
     ]
    },
    {
     "name": "stdout",
     "output_type": "stream",
     "text": [
      "Save image to path  assets/addi/fire_database/image280.jpg\n",
      "Downloading image from  http://com.dataturks.a96-i23.open.s3.amazonaws.com/2c9fafb06702b2c1016723e86959020f/9c1e59b3-5f2c-4a84-8c68-502c81c37901___119.JPEG\n"
     ]
    },
    {
     "name": "stderr",
     "output_type": "stream",
     "text": [
      "\r",
      "/ |              #                                  | 282 Elapsed Time: 0:02:15"
     ]
    },
    {
     "name": "stdout",
     "output_type": "stream",
     "text": [
      "Save image to path  assets/addi/fire_database/image281.jpg\n",
      "Downloading image from  http://com.dataturks.a96-i23.open.s3.amazonaws.com/2c9fafb06702b2c1016723e86959020f/780e73c9-0ba9-4140-9be3-0b3e2918dcdf___549.JPEG\n"
     ]
    },
    {
     "name": "stderr",
     "output_type": "stream",
     "text": [
      "\r",
      "- |          #                                      | 283 Elapsed Time: 0:02:16"
     ]
    },
    {
     "name": "stdout",
     "output_type": "stream",
     "text": [
      "Save image to path  assets/addi/fire_database/image282.jpg\n",
      "Downloading image from  http://com.dataturks.a96-i23.open.s3.amazonaws.com/2c9fafb06702b2c1016723e86959020f/28797642-6660-40de-915e-f97016eecdd9___41.JPEG\n"
     ]
    },
    {
     "name": "stderr",
     "output_type": "stream",
     "text": [
      "\r",
      "\\ |     #                                           | 284 Elapsed Time: 0:02:16"
     ]
    },
    {
     "name": "stdout",
     "output_type": "stream",
     "text": [
      "Save image to path  assets/addi/fire_database/image283.jpg\n",
      "Downloading image from  http://com.dataturks.a96-i23.open.s3.amazonaws.com/2c9fafb06702b2c1016723e86959020f/29ff1b9d-0d8f-4271-86b0-ae2228b7683a___322.JPEG\n"
     ]
    },
    {
     "name": "stderr",
     "output_type": "stream",
     "text": [
      "\r",
      "| |#                                                | 285 Elapsed Time: 0:02:17"
     ]
    },
    {
     "name": "stdout",
     "output_type": "stream",
     "text": [
      "Save image to path  assets/addi/fire_database/image284.jpg\n",
      "Downloading image from  http://com.dataturks.a96-i23.open.s3.amazonaws.com/2c9fafb06702b2c1016723e86959020f/19bd57cb-d062-4d93-af8d-e628357e8686___288.JPEG\n"
     ]
    },
    {
     "name": "stderr",
     "output_type": "stream",
     "text": [
      "\r",
      "/ |    #                                            | 286 Elapsed Time: 0:02:17"
     ]
    },
    {
     "name": "stdout",
     "output_type": "stream",
     "text": [
      "Save image to path  assets/addi/fire_database/image285.jpg\n",
      "Downloading image from  http://com.dataturks.a96-i23.open.s3.amazonaws.com/2c9fafb06702b2c1016723e86959020f/54adb4e1-a1ec-4f2d-b7a5-679ddc2271a5___FF131.JPEG\n"
     ]
    },
    {
     "name": "stderr",
     "output_type": "stream",
     "text": [
      "\r",
      "- |         #                                       | 287 Elapsed Time: 0:02:18"
     ]
    },
    {
     "name": "stdout",
     "output_type": "stream",
     "text": [
      "Save image to path  assets/addi/fire_database/image286.jpg\n",
      "Downloading image from  http://com.dataturks.a96-i23.open.s3.amazonaws.com/2c9fafb06702b2c1016723e86959020f/2f182c46-0ce1-4a45-9e0c-32c2ae56b71b___267.JPEG\n"
     ]
    },
    {
     "name": "stderr",
     "output_type": "stream",
     "text": [
      "\r",
      "\\ |              #                                  | 288 Elapsed Time: 0:02:18"
     ]
    },
    {
     "name": "stdout",
     "output_type": "stream",
     "text": [
      "Save image to path  assets/addi/fire_database/image287.jpg\n",
      "Downloading image from  http://com.dataturks.a96-i23.open.s3.amazonaws.com/2c9fafb06702b2c1016723e86959020f/dd1ac2b1-a6a3-4268-9efb-34d7499a3969___FF70.JPEG\n"
     ]
    },
    {
     "name": "stderr",
     "output_type": "stream",
     "text": [
      "\r",
      "| |                   #                             | 289 Elapsed Time: 0:02:19"
     ]
    },
    {
     "name": "stdout",
     "output_type": "stream",
     "text": [
      "Save image to path  assets/addi/fire_database/image288.jpg\n",
      "Downloading image from  http://com.dataturks.a96-i23.open.s3.amazonaws.com/2c9fafb06702b2c1016723e86959020f/985405d5-14eb-4001-af24-04498ffec1af___16.JPEG\n"
     ]
    },
    {
     "name": "stderr",
     "output_type": "stream",
     "text": [
      "\r",
      "/ |                        #                        | 290 Elapsed Time: 0:02:19"
     ]
    },
    {
     "name": "stdout",
     "output_type": "stream",
     "text": [
      "Save image to path  assets/addi/fire_database/image289.jpg\n",
      "Downloading image from  http://com.dataturks.a96-i23.open.s3.amazonaws.com/2c9fafb06702b2c1016723e86959020f/024b4786-e065-4856-9458-292541eaf7e7___FF4.JPEG\n"
     ]
    },
    {
     "name": "stderr",
     "output_type": "stream",
     "text": [
      "\r",
      "- |                             #                   | 291 Elapsed Time: 0:02:20"
     ]
    },
    {
     "name": "stdout",
     "output_type": "stream",
     "text": [
      "Save image to path  assets/addi/fire_database/image290.jpg\n",
      "Downloading image from  http://com.dataturks.a96-i23.open.s3.amazonaws.com/2c9fafb06702b2c1016723e86959020f/f2a33375-06a9-42f5-bb23-8d189695a355___FF218.JPEG\n"
     ]
    },
    {
     "name": "stderr",
     "output_type": "stream",
     "text": [
      "\r",
      "\\ |                                 #               | 292 Elapsed Time: 0:02:20"
     ]
    },
    {
     "name": "stdout",
     "output_type": "stream",
     "text": [
      "Save image to path  assets/addi/fire_database/image291.jpg\n",
      "Downloading image from  http://com.dataturks.a96-i23.open.s3.amazonaws.com/2c9fafb06702b2c1016723e86959020f/4cc8a44c-f1c7-4cb9-a3b6-514e77e3f374___FF89.JPEG\n"
     ]
    },
    {
     "name": "stderr",
     "output_type": "stream",
     "text": [
      "\r",
      "| |                                     #           | 293 Elapsed Time: 0:02:20"
     ]
    },
    {
     "name": "stdout",
     "output_type": "stream",
     "text": [
      "Save image to path  assets/addi/fire_database/image292.jpg\n",
      "Downloading image from  http://com.dataturks.a96-i23.open.s3.amazonaws.com/2c9fafb06702b2c1016723e86959020f/8f2e9215-fee0-4a50-a240-59e333c3ccc1___FF127.JPEG\n"
     ]
    },
    {
     "name": "stderr",
     "output_type": "stream",
     "text": [
      "\r",
      "/ |                                          #      | 294 Elapsed Time: 0:02:21"
     ]
    },
    {
     "name": "stdout",
     "output_type": "stream",
     "text": [
      "Save image to path  assets/addi/fire_database/image293.jpg\n",
      "Downloading image from  http://com.dataturks.a96-i23.open.s3.amazonaws.com/2c9fafb06702b2c1016723e86959020f/828deecf-3cd3-48e9-a8c1-84be02556539___334.JPEG\n"
     ]
    },
    {
     "name": "stderr",
     "output_type": "stream",
     "text": [
      "\r",
      "- |                                              #  | 295 Elapsed Time: 0:02:21"
     ]
    },
    {
     "name": "stdout",
     "output_type": "stream",
     "text": [
      "Save image to path  assets/addi/fire_database/image294.jpg\n",
      "Downloading image from  http://com.dataturks.a96-i23.open.s3.amazonaws.com/2c9fafb06702b2c1016723e86959020f/28d741f4-ff5e-4f70-9c35-434628223090___FF66.JPEG\n"
     ]
    },
    {
     "name": "stderr",
     "output_type": "stream",
     "text": [
      "\r",
      "\\ |                                               # | 296 Elapsed Time: 0:02:22"
     ]
    },
    {
     "name": "stdout",
     "output_type": "stream",
     "text": [
      "Save image to path  assets/addi/fire_database/image295.jpg\n",
      "Downloading image from  http://com.dataturks.a96-i23.open.s3.amazonaws.com/2c9fafb06702b2c1016723e86959020f/766998d9-b910-439a-9c8b-afe53fb4539c___271.JPEG\n"
     ]
    },
    {
     "name": "stderr",
     "output_type": "stream",
     "text": [
      "\r",
      "| |                                         #       | 297 Elapsed Time: 0:02:22"
     ]
    },
    {
     "name": "stdout",
     "output_type": "stream",
     "text": [
      "Save image to path  assets/addi/fire_database/image296.jpg\n",
      "Downloading image from  http://com.dataturks.a96-i23.open.s3.amazonaws.com/2c9fafb06702b2c1016723e86959020f/f2426278-6232-4ddd-9cd6-3e8968f12467___158.JPEG\n"
     ]
    },
    {
     "name": "stderr",
     "output_type": "stream",
     "text": [
      "\r",
      "/ |                                    #            | 298 Elapsed Time: 0:02:23"
     ]
    },
    {
     "name": "stdout",
     "output_type": "stream",
     "text": [
      "Save image to path  assets/addi/fire_database/image297.jpg\n",
      "Downloading image from  http://com.dataturks.a96-i23.open.s3.amazonaws.com/2c9fafb06702b2c1016723e86959020f/0d982485-b683-4ad7-b967-c75ee33888ef___508.JPEG\n"
     ]
    },
    {
     "name": "stderr",
     "output_type": "stream",
     "text": [
      "\r",
      "- |                               #                 | 299 Elapsed Time: 0:02:23"
     ]
    },
    {
     "name": "stdout",
     "output_type": "stream",
     "text": [
      "Save image to path  assets/addi/fire_database/image298.jpg\n",
      "Downloading image from  http://com.dataturks.a96-i23.open.s3.amazonaws.com/2c9fafb06702b2c1016723e86959020f/161805fb-d9c2-4739-a6fc-194f95fb9fb0___363.JPEG\n"
     ]
    },
    {
     "name": "stderr",
     "output_type": "stream",
     "text": [
      "\r",
      "\\ |                           #                     | 300 Elapsed Time: 0:02:24"
     ]
    },
    {
     "name": "stdout",
     "output_type": "stream",
     "text": [
      "Save image to path  assets/addi/fire_database/image299.jpg\n",
      "Downloading image from  http://com.dataturks.a96-i23.open.s3.amazonaws.com/2c9fafb06702b2c1016723e86959020f/b9612f1f-aabf-4887-a754-4fef7141d2dc___FF170.JPEG\n"
     ]
    },
    {
     "name": "stderr",
     "output_type": "stream",
     "text": [
      "\r",
      "| |                      #                          | 301 Elapsed Time: 0:02:24"
     ]
    },
    {
     "name": "stdout",
     "output_type": "stream",
     "text": [
      "Save image to path  assets/addi/fire_database/image300.jpg\n",
      "Downloading image from  http://com.dataturks.a96-i23.open.s3.amazonaws.com/2c9fafb06702b2c1016723e86959020f/3a42a01a-b507-4ce6-9516-52ce9a641e52___226.JPEG\n"
     ]
    },
    {
     "name": "stderr",
     "output_type": "stream",
     "text": [
      "\r",
      "/ |                #                                | 302 Elapsed Time: 0:02:25"
     ]
    },
    {
     "name": "stdout",
     "output_type": "stream",
     "text": [
      "Save image to path  assets/addi/fire_database/image301.jpg\n",
      "Downloading image from  http://com.dataturks.a96-i23.open.s3.amazonaws.com/2c9fafb06702b2c1016723e86959020f/1bb6dd39-6038-4e0a-8c23-1bb49bfb5333___FF31.JPEG\n"
     ]
    },
    {
     "name": "stderr",
     "output_type": "stream",
     "text": [
      "\r",
      "- |            #                                    | 303 Elapsed Time: 0:02:25"
     ]
    },
    {
     "name": "stdout",
     "output_type": "stream",
     "text": [
      "Save image to path  assets/addi/fire_database/image302.jpg\n",
      "Downloading image from  http://com.dataturks.a96-i23.open.s3.amazonaws.com/2c9fafb06702b2c1016723e86959020f/df2bd9f9-f802-4a7c-af8e-a77661635b43___57.JPEG\n"
     ]
    },
    {
     "name": "stderr",
     "output_type": "stream",
     "text": [
      "\r",
      "\\ |       #                                         | 304 Elapsed Time: 0:02:26"
     ]
    },
    {
     "name": "stdout",
     "output_type": "stream",
     "text": [
      "Save image to path  assets/addi/fire_database/image303.jpg\n",
      "Downloading image from  http://com.dataturks.a96-i23.open.s3.amazonaws.com/2c9fafb06702b2c1016723e86959020f/6e310631-f49b-4188-a3df-7e0d253b7d4e___FF259.JPEG\n"
     ]
    },
    {
     "name": "stderr",
     "output_type": "stream",
     "text": [
      "\r",
      "| |   #                                             | 305 Elapsed Time: 0:02:26"
     ]
    },
    {
     "name": "stdout",
     "output_type": "stream",
     "text": [
      "Save image to path  assets/addi/fire_database/image304.jpg\n",
      "Downloading image from  http://com.dataturks.a96-i23.open.s3.amazonaws.com/2c9fafb06702b2c1016723e86959020f/328fc0a4-e0c1-4610-a694-aad684ce9e19___318.JPEG\n"
     ]
    },
    {
     "name": "stderr",
     "output_type": "stream",
     "text": [
      "\r",
      "/ |#                                                | 306 Elapsed Time: 0:02:27"
     ]
    },
    {
     "name": "stdout",
     "output_type": "stream",
     "text": [
      "Save image to path  assets/addi/fire_database/image305.jpg\n",
      "Downloading image from  http://com.dataturks.a96-i23.open.s3.amazonaws.com/2c9fafb06702b2c1016723e86959020f/365693d8-8c61-42c4-beb9-3fb950a0c526___FF222.JPEG\n"
     ]
    },
    {
     "name": "stderr",
     "output_type": "stream",
     "text": [
      "\r",
      "- |    #                                            | 307 Elapsed Time: 0:02:27"
     ]
    },
    {
     "name": "stdout",
     "output_type": "stream",
     "text": [
      "Save image to path  assets/addi/fire_database/image306.jpg\n",
      "Downloading image from  http://com.dataturks.a96-i23.open.s3.amazonaws.com/2c9fafb06702b2c1016723e86959020f/82580969-2834-44a4-8c99-81d582929c7b___461.JPEG\n"
     ]
    },
    {
     "name": "stderr",
     "output_type": "stream",
     "text": [
      "\r",
      "\\ |          #                                      | 308 Elapsed Time: 0:02:28"
     ]
    },
    {
     "name": "stdout",
     "output_type": "stream",
     "text": [
      "Save image to path  assets/addi/fire_database/image307.jpg\n",
      "Downloading image from  http://com.dataturks.a96-i23.open.s3.amazonaws.com/2c9fafb06702b2c1016723e86959020f/f3cf5887-9bd2-4e8a-ad88-9a9dd10a699d___524.JPEG\n"
     ]
    },
    {
     "name": "stderr",
     "output_type": "stream",
     "text": [
      "\r",
      "| |               #                                 | 309 Elapsed Time: 0:02:28"
     ]
    },
    {
     "name": "stdout",
     "output_type": "stream",
     "text": [
      "Save image to path  assets/addi/fire_database/image308.jpg\n",
      "Downloading image from  http://com.dataturks.a96-i23.open.s3.amazonaws.com/2c9fafb06702b2c1016723e86959020f/a8ed1fa8-8bd1-4674-bd87-5afafa95373b___174.JPEG\n"
     ]
    },
    {
     "name": "stderr",
     "output_type": "stream",
     "text": [
      "\r",
      "/ |                    #                            | 310 Elapsed Time: 0:02:29"
     ]
    },
    {
     "name": "stdout",
     "output_type": "stream",
     "text": [
      "Save image to path  assets/addi/fire_database/image309.jpg\n",
      "Downloading image from  http://com.dataturks.a96-i23.open.s3.amazonaws.com/2c9fafb06702b2c1016723e86959020f/d00d9b81-d30b-4585-a8d4-c554a7e59f8e___94.JPEG\n"
     ]
    },
    {
     "name": "stderr",
     "output_type": "stream",
     "text": [
      "\r",
      "- |                         #                       | 311 Elapsed Time: 0:02:29"
     ]
    },
    {
     "name": "stdout",
     "output_type": "stream",
     "text": [
      "Save image to path  assets/addi/fire_database/image310.jpg\n",
      "Downloading image from  http://com.dataturks.a96-i23.open.s3.amazonaws.com/2c9fafb06702b2c1016723e86959020f/a4e2e262-a57a-427e-99e4-09c44661fe08___436.JPEG\n"
     ]
    },
    {
     "name": "stderr",
     "output_type": "stream",
     "text": [
      "\r",
      "\\ |                               #                 | 312 Elapsed Time: 0:02:30"
     ]
    },
    {
     "name": "stdout",
     "output_type": "stream",
     "text": [
      "Save image to path  assets/addi/fire_database/image311.jpg\n",
      "Downloading image from  http://com.dataturks.a96-i23.open.s3.amazonaws.com/2c9fafb06702b2c1016723e86959020f/f662107e-28a2-4f35-8918-09ea4712f012___FF275.JPEG\n"
     ]
    },
    {
     "name": "stderr",
     "output_type": "stream",
     "text": [
      "\r",
      "| |                                   #             | 313 Elapsed Time: 0:02:30"
     ]
    },
    {
     "name": "stdout",
     "output_type": "stream",
     "text": [
      "Save image to path  assets/addi/fire_database/image312.jpg\n",
      "Downloading image from  http://com.dataturks.a96-i23.open.s3.amazonaws.com/2c9fafb06702b2c1016723e86959020f/3310d03c-0fd8-4f06-ba39-1fb2089f6b1c___123.JPEG\n"
     ]
    },
    {
     "name": "stderr",
     "output_type": "stream",
     "text": [
      "\r",
      "/ |                                        #        | 314 Elapsed Time: 0:02:31"
     ]
    },
    {
     "name": "stdout",
     "output_type": "stream",
     "text": [
      "Save image to path  assets/addi/fire_database/image313.jpg\n",
      "Downloading image from  http://com.dataturks.a96-i23.open.s3.amazonaws.com/2c9fafb06702b2c1016723e86959020f/4d42588d-efe1-4f91-a857-4718818bde22___359.JPEG\n"
     ]
    },
    {
     "name": "stderr",
     "output_type": "stream",
     "text": [
      "\r",
      "- |                                             #   | 315 Elapsed Time: 0:02:31"
     ]
    },
    {
     "name": "stdout",
     "output_type": "stream",
     "text": [
      "Save image to path  assets/addi/fire_database/image314.jpg\n",
      "Downloading image from  http://com.dataturks.a96-i23.open.s3.amazonaws.com/2c9fafb06702b2c1016723e86959020f/7916ab88-7002-4a16-a6de-d9ee46b8d550___FF263.JPEG\n"
     ]
    },
    {
     "name": "stderr",
     "output_type": "stream",
     "text": [
      "\r",
      "\\ |                                               # | 316 Elapsed Time: 0:02:32"
     ]
    },
    {
     "name": "stdout",
     "output_type": "stream",
     "text": [
      "Save image to path  assets/addi/fire_database/image315.jpg\n",
      "Downloading image from  http://com.dataturks.a96-i23.open.s3.amazonaws.com/2c9fafb06702b2c1016723e86959020f/5eee2840-5032-44cf-88ed-72310c758e44___420.JPEG\n"
     ]
    },
    {
     "name": "stderr",
     "output_type": "stream",
     "text": [
      "\r",
      "| |                                          #      | 317 Elapsed Time: 0:02:32"
     ]
    },
    {
     "name": "stdout",
     "output_type": "stream",
     "text": [
      "Save image to path  assets/addi/fire_database/image316.jpg\n",
      "Downloading image from  http://com.dataturks.a96-i23.open.s3.amazonaws.com/2c9fafb06702b2c1016723e86959020f/92df488a-4e61-4712-9062-3c5fea848626___6.JPEG\n"
     ]
    },
    {
     "name": "stderr",
     "output_type": "stream",
     "text": [
      "\r",
      "/ |                                     #           | 318 Elapsed Time: 0:02:33"
     ]
    },
    {
     "name": "stdout",
     "output_type": "stream",
     "text": [
      "Save image to path  assets/addi/fire_database/image317.jpg\n",
      "Downloading image from  http://com.dataturks.a96-i23.open.s3.amazonaws.com/2c9fafb06702b2c1016723e86959020f/e18731e9-26bc-4e4c-9c24-025f0e85560a___82.JPEG\n"
     ]
    },
    {
     "name": "stderr",
     "output_type": "stream",
     "text": [
      "\r",
      "- |                                #                | 319 Elapsed Time: 0:02:33"
     ]
    },
    {
     "name": "stdout",
     "output_type": "stream",
     "text": [
      "Save image to path  assets/addi/fire_database/image318.jpg\n",
      "Downloading image from  http://com.dataturks.a96-i23.open.s3.amazonaws.com/2c9fafb06702b2c1016723e86959020f/2fd8af57-9135-47a1-ae74-327600739787___135.JPEG\n"
     ]
    },
    {
     "name": "stderr",
     "output_type": "stream",
     "text": [
      "\r",
      "\\ |                          #                      | 320 Elapsed Time: 0:02:34"
     ]
    },
    {
     "name": "stdout",
     "output_type": "stream",
     "text": [
      "Save image to path  assets/addi/fire_database/image319.jpg\n",
      "Downloading image from  http://com.dataturks.a96-i23.open.s3.amazonaws.com/2c9fafb06702b2c1016723e86959020f/fcc96c0e-1d80-45b9-bbf4-9ef76ecdbab4___477.JPEG\n"
     ]
    },
    {
     "name": "stderr",
     "output_type": "stream",
     "text": [
      "\r",
      "| |                      #                          | 321 Elapsed Time: 0:02:34"
     ]
    },
    {
     "name": "stdout",
     "output_type": "stream",
     "text": [
      "Save image to path  assets/addi/fire_database/image320.jpg\n",
      "Downloading image from  http://com.dataturks.a96-i23.open.s3.amazonaws.com/2c9fafb06702b2c1016723e86959020f/2e24d2a1-0359-4cb9-99f3-0fd402c4e55e___FF234.JPEG\n"
     ]
    },
    {
     "name": "stderr",
     "output_type": "stream",
     "text": [
      "\r",
      "/ |                 #                               | 322 Elapsed Time: 0:02:35"
     ]
    },
    {
     "name": "stdout",
     "output_type": "stream",
     "text": [
      "Save image to path  assets/addi/fire_database/image321.jpg\n",
      "Downloading image from  http://com.dataturks.a96-i23.open.s3.amazonaws.com/2c9fafb06702b2c1016723e86959020f/c2f4e972-e787-40f1-b57c-c78b6dc5e844___498.JPEG\n"
     ]
    },
    {
     "name": "stderr",
     "output_type": "stream",
     "text": [
      "\r",
      "- |           #                                     | 323 Elapsed Time: 0:02:35"
     ]
    },
    {
     "name": "stdout",
     "output_type": "stream",
     "text": [
      "Save image to path  assets/addi/fire_database/image322.jpg\n",
      "Downloading image from  http://com.dataturks.a96-i23.open.s3.amazonaws.com/2c9fafb06702b2c1016723e86959020f/f9c910b6-069d-4f3b-9a2d-3f251201f3c9___162.JPEG\n"
     ]
    },
    {
     "name": "stderr",
     "output_type": "stream",
     "text": [
      "\r",
      "\\ |      #                                          | 324 Elapsed Time: 0:02:36"
     ]
    },
    {
     "name": "stdout",
     "output_type": "stream",
     "text": [
      "Save image to path  assets/addi/fire_database/image323.jpg\n",
      "Downloading image from  http://com.dataturks.a96-i23.open.s3.amazonaws.com/2c9fafb06702b2c1016723e86959020f/8e3116a8-6a3a-4329-b4af-d460003cf020___532.JPEG\n"
     ]
    },
    {
     "name": "stderr",
     "output_type": "stream",
     "text": [
      "\r",
      "| | #                                               | 325 Elapsed Time: 0:02:36"
     ]
    },
    {
     "name": "stdout",
     "output_type": "stream",
     "text": [
      "Save image to path  assets/addi/fire_database/image324.jpg\n",
      "Downloading image from  http://com.dataturks.a96-i23.open.s3.amazonaws.com/2c9fafb06702b2c1016723e86959020f/5626e719-dd10-42d5-8391-75d632e74958___476.JPEG\n"
     ]
    },
    {
     "name": "stderr",
     "output_type": "stream",
     "text": [
      "\r",
      "/ |    #                                            | 326 Elapsed Time: 0:02:37"
     ]
    },
    {
     "name": "stdout",
     "output_type": "stream",
     "text": [
      "Save image to path  assets/addi/fire_database/image325.jpg\n",
      "Downloading image from  http://com.dataturks.a96-i23.open.s3.amazonaws.com/2c9fafb06702b2c1016723e86959020f/43625e37-6f03-4124-9ace-4a89fa4c211f___FF235.JPEG\n"
     ]
    },
    {
     "name": "stderr",
     "output_type": "stream",
     "text": [
      "\r",
      "- |        #                                        | 327 Elapsed Time: 0:02:37"
     ]
    },
    {
     "name": "stdout",
     "output_type": "stream",
     "text": [
      "Save image to path  assets/addi/fire_database/image326.jpg\n",
      "Downloading image from  http://com.dataturks.a96-i23.open.s3.amazonaws.com/2c9fafb06702b2c1016723e86959020f/ea41269d-6fbf-42e2-840b-311dec0026f2___499.JPEG\n"
     ]
    },
    {
     "name": "stderr",
     "output_type": "stream",
     "text": [
      "\r",
      "\\ |             #                                   | 328 Elapsed Time: 0:02:38"
     ]
    },
    {
     "name": "stdout",
     "output_type": "stream",
     "text": [
      "Save image to path  assets/addi/fire_database/image327.jpg\n",
      "Downloading image from  http://com.dataturks.a96-i23.open.s3.amazonaws.com/2c9fafb06702b2c1016723e86959020f/75160981-139d-4364-b23d-6013aa04e1d7___163.JPEG\n"
     ]
    },
    {
     "name": "stderr",
     "output_type": "stream",
     "text": [
      "\r",
      "| |                 #                               | 329 Elapsed Time: 0:02:38"
     ]
    },
    {
     "name": "stdout",
     "output_type": "stream",
     "text": [
      "Save image to path  assets/addi/fire_database/image328.jpg\n",
      "Downloading image from  http://com.dataturks.a96-i23.open.s3.amazonaws.com/2c9fafb06702b2c1016723e86959020f/0ee73bfd-5077-451f-b896-ffbdcff66600___533.JPEG\n"
     ]
    },
    {
     "name": "stderr",
     "output_type": "stream",
     "text": [
      "\r",
      "/ |                      #                          | 330 Elapsed Time: 0:02:39"
     ]
    },
    {
     "name": "stdout",
     "output_type": "stream",
     "text": [
      "Save image to path  assets/addi/fire_database/image329.jpg\n",
      "Downloading image from  http://com.dataturks.a96-i23.open.s3.amazonaws.com/2c9fafb06702b2c1016723e86959020f/916d9a6d-82b4-4d63-aaea-fb5897bda0ca___FF262.JPEG\n"
     ]
    },
    {
     "name": "stderr",
     "output_type": "stream",
     "text": [
      "\r",
      "- |                          #                      | 331 Elapsed Time: 0:02:39"
     ]
    },
    {
     "name": "stdout",
     "output_type": "stream",
     "text": [
      "Save image to path  assets/addi/fire_database/image330.jpg\n",
      "Downloading image from  http://com.dataturks.a96-i23.open.s3.amazonaws.com/2c9fafb06702b2c1016723e86959020f/5b4924fc-e001-47d5-8825-1dd829b1150b___421.JPEG\n"
     ]
    },
    {
     "name": "stderr",
     "output_type": "stream",
     "text": [
      "\r",
      "\\ |                               #                 | 332 Elapsed Time: 0:02:39"
     ]
    },
    {
     "name": "stdout",
     "output_type": "stream",
     "text": [
      "Save image to path  assets/addi/fire_database/image331.jpg\n",
      "Downloading image from  http://com.dataturks.a96-i23.open.s3.amazonaws.com/2c9fafb06702b2c1016723e86959020f/b6afabc8-97ef-495e-a256-797152beff17___83.JPEG\n"
     ]
    },
    {
     "name": "stderr",
     "output_type": "stream",
     "text": [
      "\r",
      "| |                                    #            | 333 Elapsed Time: 0:02:40"
     ]
    },
    {
     "name": "stdout",
     "output_type": "stream",
     "text": [
      "Save image to path  assets/addi/fire_database/image332.jpg\n",
      "Downloading image from  http://com.dataturks.a96-i23.open.s3.amazonaws.com/2c9fafb06702b2c1016723e86959020f/f0db3a91-fd5a-4f08-92fc-e55d9b4f9bf2___7.JPEG\n"
     ]
    },
    {
     "name": "stderr",
     "output_type": "stream",
     "text": [
      "\r",
      "/ |                                         #       | 334 Elapsed Time: 0:02:40"
     ]
    },
    {
     "name": "stdout",
     "output_type": "stream",
     "text": [
      "Save image to path  assets/addi/fire_database/image333.jpg\n",
      "Downloading image from  http://com.dataturks.a96-i23.open.s3.amazonaws.com/2c9fafb06702b2c1016723e86959020f/42df0a64-9c83-464f-bb77-a55869fddeee___134.JPEG\n"
     ]
    },
    {
     "name": "stderr",
     "output_type": "stream",
     "text": [
      "\r",
      "- |                                               # | 335 Elapsed Time: 0:02:41"
     ]
    },
    {
     "name": "stdout",
     "output_type": "stream",
     "text": [
      "Save image to path  assets/addi/fire_database/image334.jpg\n",
      "Downloading image from  http://com.dataturks.a96-i23.open.s3.amazonaws.com/2c9fafb06702b2c1016723e86959020f/879faf6f-bdae-46db-942e-f921f8ea1aa6___358.JPEG\n"
     ]
    },
    {
     "name": "stderr",
     "output_type": "stream",
     "text": [
      "\r",
      "\\ |                                             #   | 336 Elapsed Time: 0:02:42"
     ]
    },
    {
     "name": "stdout",
     "output_type": "stream",
     "text": [
      "Save image to path  assets/addi/fire_database/image335.jpg\n",
      "Downloading image from  http://com.dataturks.a96-i23.open.s3.amazonaws.com/2c9fafb06702b2c1016723e86959020f/d60cfb81-2b3f-4682-b26d-509be6c2b7c4___95.JPEG\n"
     ]
    },
    {
     "name": "stderr",
     "output_type": "stream",
     "text": [
      "\r",
      "| |                                       #         | 337 Elapsed Time: 0:02:42"
     ]
    },
    {
     "name": "stdout",
     "output_type": "stream",
     "text": [
      "Save image to path  assets/addi/fire_database/image336.jpg\n",
      "Downloading image from  http://com.dataturks.a96-i23.open.s3.amazonaws.com/2c9fafb06702b2c1016723e86959020f/ca04d05d-1cf8-4671-a857-c2da90975e41___437.JPEG\n"
     ]
    },
    {
     "name": "stderr",
     "output_type": "stream",
     "text": [
      "\r",
      "/ |                                 #               | 338 Elapsed Time: 0:02:43"
     ]
    },
    {
     "name": "stdout",
     "output_type": "stream",
     "text": [
      "Save image to path  assets/addi/fire_database/image337.jpg\n",
      "Downloading image from  http://com.dataturks.a96-i23.open.s3.amazonaws.com/2c9fafb06702b2c1016723e86959020f/9dfed341-e668-4e56-bb36-df781f3a7e64___FF274.JPEG\n"
     ]
    },
    {
     "name": "stderr",
     "output_type": "stream",
     "text": [
      "\r",
      "- |                             #                   | 339 Elapsed Time: 0:02:43"
     ]
    },
    {
     "name": "stdout",
     "output_type": "stream",
     "text": [
      "Save image to path  assets/addi/fire_database/image338.jpg\n",
      "Downloading image from  http://com.dataturks.a96-i23.open.s3.amazonaws.com/2c9fafb06702b2c1016723e86959020f/fd5a3386-1c29-48b1-89a8-5346747e8c3d___122.JPEG\n"
     ]
    },
    {
     "name": "stderr",
     "output_type": "stream",
     "text": [
      "\r",
      "\\ |                       #                         | 340 Elapsed Time: 0:02:44"
     ]
    },
    {
     "name": "stdout",
     "output_type": "stream",
     "text": [
      "Save image to path  assets/addi/fire_database/image339.jpg\n",
      "Downloading image from  http://com.dataturks.a96-i23.open.s3.amazonaws.com/2c9fafb06702b2c1016723e86959020f/3aa335da-637c-4dbb-953f-8edfc3ee9171___FF223.JPEG\n"
     ]
    },
    {
     "name": "stderr",
     "output_type": "stream",
     "text": [
      "\r",
      "| |                   #                             | 341 Elapsed Time: 0:02:44"
     ]
    },
    {
     "name": "stdout",
     "output_type": "stream",
     "text": [
      "Save image to path  assets/addi/fire_database/image340.jpg\n",
      "Downloading image from  http://com.dataturks.a96-i23.open.s3.amazonaws.com/2c9fafb06702b2c1016723e86959020f/9f7a9d25-df94-4ae8-bfb2-5b5b1b3cda82___460.JPEG\n"
     ]
    },
    {
     "name": "stderr",
     "output_type": "stream",
     "text": [
      "\r",
      "/ |             #                                   | 342 Elapsed Time: 0:02:45"
     ]
    },
    {
     "name": "stdout",
     "output_type": "stream",
     "text": [
      "Save image to path  assets/addi/fire_database/image341.jpg\n",
      "Downloading image from  http://com.dataturks.a96-i23.open.s3.amazonaws.com/2c9fafb06702b2c1016723e86959020f/fa71e41d-0783-454e-b250-16b119835722___525.JPEG\n"
     ]
    },
    {
     "name": "stderr",
     "output_type": "stream",
     "text": [
      "\r",
      "- |        #                                        | 343 Elapsed Time: 0:02:45"
     ]
    },
    {
     "name": "stdout",
     "output_type": "stream",
     "text": [
      "Save image to path  assets/addi/fire_database/image342.jpg\n",
      "Downloading image from  http://com.dataturks.a96-i23.open.s3.amazonaws.com/2c9fafb06702b2c1016723e86959020f/defd0307-46b7-4a42-9a92-e2c7fbfeaf7d___175.JPEG\n"
     ]
    },
    {
     "name": "stderr",
     "output_type": "stream",
     "text": [
      "\r",
      "\\ |  #                                              | 344 Elapsed Time: 0:02:46"
     ]
    },
    {
     "name": "stdout",
     "output_type": "stream",
     "text": [
      "Save image to path  assets/addi/fire_database/image343.jpg\n",
      "Downloading image from  http://com.dataturks.a96-i23.open.s3.amazonaws.com/2c9fafb06702b2c1016723e86959020f/a630c25e-881e-4614-973d-e000b4b9d18a___319.JPEG\n"
     ]
    },
    {
     "name": "stderr",
     "output_type": "stream",
     "text": [
      "\r",
      "| |  #                                              | 345 Elapsed Time: 0:02:46"
     ]
    },
    {
     "name": "stdout",
     "output_type": "stream",
     "text": [
      "Save image to path  assets/addi/fire_database/image344.jpg\n",
      "Downloading image from  http://com.dataturks.a96-i23.open.s3.amazonaws.com/2c9fafb06702b2c1016723e86959020f/2a3ec27b-97e8-4940-b52a-0bdbe10cb7df___56.JPEG\n"
     ]
    },
    {
     "name": "stderr",
     "output_type": "stream",
     "text": [
      "\r",
      "/ |       #                                         | 346 Elapsed Time: 0:02:47"
     ]
    },
    {
     "name": "stdout",
     "output_type": "stream",
     "text": [
      "Save image to path  assets/addi/fire_database/image345.jpg\n",
      "Downloading image from  http://com.dataturks.a96-i23.open.s3.amazonaws.com/2c9fafb06702b2c1016723e86959020f/61b055d9-cce8-48db-9351-5363e01f3a10___FF258.JPEG\n"
     ]
    },
    {
     "name": "stderr",
     "output_type": "stream",
     "text": [
      "\r",
      "- |           #                                     | 347 Elapsed Time: 0:02:47"
     ]
    },
    {
     "name": "stdout",
     "output_type": "stream",
     "text": [
      "Save image to path  assets/addi/fire_database/image346.jpg\n",
      "Downloading image from  http://com.dataturks.a96-i23.open.s3.amazonaws.com/2c9fafb06702b2c1016723e86959020f/b703c476-d8b4-40c5-8b37-3d157146853d___362.JPEG\n"
     ]
    },
    {
     "name": "stderr",
     "output_type": "stream",
     "text": [
      "\r",
      "\\ |               #                                 | 348 Elapsed Time: 0:02:48"
     ]
    },
    {
     "name": "stdout",
     "output_type": "stream",
     "text": [
      "Save image to path  assets/addi/fire_database/image347.jpg\n",
      "Downloading image from  http://com.dataturks.a96-i23.open.s3.amazonaws.com/2c9fafb06702b2c1016723e86959020f/be3b8300-4ff7-4cf5-86fd-11dfdb7206ab___FF171.JPEG\n"
     ]
    },
    {
     "name": "stderr",
     "output_type": "stream",
     "text": [
      "\r",
      "| |                    #                            | 349 Elapsed Time: 0:02:48"
     ]
    },
    {
     "name": "stdout",
     "output_type": "stream",
     "text": [
      "Save image to path  assets/addi/fire_database/image348.jpg\n",
      "Downloading image from  http://com.dataturks.a96-i23.open.s3.amazonaws.com/2c9fafb06702b2c1016723e86959020f/d22c3888-8dc7-462e-98b1-14be179a7a25___227.JPEG\n"
     ]
    },
    {
     "name": "stderr",
     "output_type": "stream",
     "text": [
      "\r",
      "/ |                         #                       | 350 Elapsed Time: 0:02:49"
     ]
    },
    {
     "name": "stdout",
     "output_type": "stream",
     "text": [
      "Save image to path  assets/addi/fire_database/image349.jpg\n",
      "Downloading image from  http://com.dataturks.a96-i23.open.s3.amazonaws.com/2c9fafb06702b2c1016723e86959020f/90e9c6b2-8f34-49cb-a0b5-5a92e167bc86___FF30.JPEG\n"
     ]
    },
    {
     "name": "stderr",
     "output_type": "stream",
     "text": [
      "\r",
      "- |                             #                   | 351 Elapsed Time: 0:02:49"
     ]
    },
    {
     "name": "stdout",
     "output_type": "stream",
     "text": [
      "Save image to path  assets/addi/fire_database/image350.jpg\n",
      "Downloading image from  http://com.dataturks.a96-i23.open.s3.amazonaws.com/2c9fafb06702b2c1016723e86959020f/8270531b-c3cb-403e-bf12-b34a7d8d462d___159.JPEG\n"
     ]
    },
    {
     "name": "stderr",
     "output_type": "stream",
     "text": [
      "\r",
      "\\ |                                   #             | 352 Elapsed Time: 0:02:50"
     ]
    },
    {
     "name": "stdout",
     "output_type": "stream",
     "text": [
      "Save image to path  assets/addi/fire_database/image351.jpg\n",
      "Downloading image from  http://com.dataturks.a96-i23.open.s3.amazonaws.com/2c9fafb06702b2c1016723e86959020f/32a8e225-dcea-4c22-84e3-cf324de10999___509.JPEG\n"
     ]
    },
    {
     "name": "stderr",
     "output_type": "stream",
     "text": [
      "\r",
      "| |                                       #         | 353 Elapsed Time: 0:02:50"
     ]
    },
    {
     "name": "stdout",
     "output_type": "stream",
     "text": [
      "Save image to path  assets/addi/fire_database/image352.jpg\n",
      "Downloading image from  http://com.dataturks.a96-i23.open.s3.amazonaws.com/2c9fafb06702b2c1016723e86959020f/ff03b90d-1ba9-49e1-a739-e2ee3c3c78c0___FF88.JPEG\n"
     ]
    },
    {
     "name": "stderr",
     "output_type": "stream",
     "text": [
      "\r",
      "/ |                                            #    | 354 Elapsed Time: 0:02:51"
     ]
    },
    {
     "name": "stdout",
     "output_type": "stream",
     "text": [
      "Save image to path  assets/addi/fire_database/image353.jpg\n",
      "Downloading image from  http://com.dataturks.a96-i23.open.s3.amazonaws.com/2c9fafb06702b2c1016723e86959020f/6563a7b6-6c4d-44cf-93f2-2a4b0b46dce8___FF126.JPEG\n"
     ]
    },
    {
     "name": "stderr",
     "output_type": "stream",
     "text": [
      "\r",
      "- |                                               # | 355 Elapsed Time: 0:02:51"
     ]
    },
    {
     "name": "stdout",
     "output_type": "stream",
     "text": [
      "Save image to path  assets/addi/fire_database/image354.jpg\n",
      "Downloading image from  http://com.dataturks.a96-i23.open.s3.amazonaws.com/2c9fafb06702b2c1016723e86959020f/9bd02530-1bb6-4971-82a3-6768ea474f32___335.JPEG\n"
     ]
    },
    {
     "name": "stderr",
     "output_type": "stream",
     "text": [
      "\r",
      "\\ |                                          #      | 356 Elapsed Time: 0:02:52"
     ]
    },
    {
     "name": "stdout",
     "output_type": "stream",
     "text": [
      "Save image to path  assets/addi/fire_database/image355.jpg\n",
      "Downloading image from  http://com.dataturks.a96-i23.open.s3.amazonaws.com/2c9fafb06702b2c1016723e86959020f/7ab0ae43-0f65-4095-aba7-bab6d478210f___FF67.JPEG\n"
     ]
    },
    {
     "name": "stderr",
     "output_type": "stream",
     "text": [
      "\r",
      "| |                                      #          | 357 Elapsed Time: 0:02:52"
     ]
    },
    {
     "name": "stdout",
     "output_type": "stream",
     "text": [
      "Save image to path  assets/addi/fire_database/image356.jpg\n",
      "Downloading image from  http://com.dataturks.a96-i23.open.s3.amazonaws.com/2c9fafb06702b2c1016723e86959020f/9a3274a4-5cec-4cb8-8640-4079a6a21473___270.JPEG\n"
     ]
    },
    {
     "name": "stderr",
     "output_type": "stream",
     "text": [
      "\r",
      "/ |                                  #              | 358 Elapsed Time: 0:02:52"
     ]
    },
    {
     "name": "stdout",
     "output_type": "stream",
     "text": [
      "Save image to path  assets/addi/fire_database/image357.jpg\n",
      "Downloading image from  http://com.dataturks.a96-i23.open.s3.amazonaws.com/2c9fafb06702b2c1016723e86959020f/8b2f5177-9630-44cf-91b2-7382265fdc36___17.JPEG\n"
     ]
    },
    {
     "name": "stderr",
     "output_type": "stream",
     "text": [
      "\r",
      "- | #                                               | 359 Elapsed Time: 0:02:56"
     ]
    },
    {
     "name": "stdout",
     "output_type": "stream",
     "text": [
      "Save image to path  assets/addi/fire_database/image358.jpg\n",
      "Downloading image from  http://com.dataturks.a96-i23.open.s3.amazonaws.com/2c9fafb06702b2c1016723e86959020f/6cfad080-3508-401e-9973-3933b51f06a8___FF5.JPEG\n"
     ]
    },
    {
     "name": "stderr",
     "output_type": "stream",
     "text": [
      "\r",
      "\\ |      #                                          | 360 Elapsed Time: 0:02:57"
     ]
    },
    {
     "name": "stdout",
     "output_type": "stream",
     "text": [
      "Save image to path  assets/addi/fire_database/image359.jpg\n",
      "Downloading image from  http://com.dataturks.a96-i23.open.s3.amazonaws.com/2c9fafb06702b2c1016723e86959020f/dbb2501c-acf4-4254-a16f-b1c5042f6eb3___FF219.JPEG\n"
     ]
    },
    {
     "name": "stderr",
     "output_type": "stream",
     "text": [
      "\r",
      "| |          #                                      | 361 Elapsed Time: 0:02:57"
     ]
    },
    {
     "name": "stdout",
     "output_type": "stream",
     "text": [
      "Save image to path  assets/addi/fire_database/image360.jpg\n",
      "Downloading image from  http://com.dataturks.a96-i23.open.s3.amazonaws.com/2c9fafb06702b2c1016723e86959020f/0222ed3c-26dc-48bf-94a9-2d28e686d15e___323.JPEG\n"
     ]
    },
    {
     "name": "stderr",
     "output_type": "stream",
     "text": [
      "\r",
      "/ |               #                                 | 362 Elapsed Time: 0:02:57"
     ]
    },
    {
     "name": "stdout",
     "output_type": "stream",
     "text": [
      "Save image to path  assets/addi/fire_database/image361.jpg\n",
      "Downloading image from  http://com.dataturks.a96-i23.open.s3.amazonaws.com/2c9fafb06702b2c1016723e86959020f/64991219-46c5-4458-baf1-d89f7d007174___289.JPEG\n"
     ]
    },
    {
     "name": "stderr",
     "output_type": "stream",
     "text": [
      "\r",
      "- |                     #                           | 363 Elapsed Time: 0:02:58"
     ]
    },
    {
     "name": "stdout",
     "output_type": "stream",
     "text": [
      "Save image to path  assets/addi/fire_database/image362.jpg\n",
      "Downloading image from  http://com.dataturks.a96-i23.open.s3.amazonaws.com/2c9fafb06702b2c1016723e86959020f/24faba5f-1791-4682-99dc-4cff52e030f2___FF130.JPEG\n"
     ]
    },
    {
     "name": "stderr",
     "output_type": "stream",
     "text": [
      "\r",
      "\\ |                         #                       | 364 Elapsed Time: 0:02:58"
     ]
    },
    {
     "name": "stdout",
     "output_type": "stream",
     "text": [
      "Save image to path  assets/addi/fire_database/image363.jpg\n",
      "Downloading image from  http://com.dataturks.a96-i23.open.s3.amazonaws.com/2c9fafb06702b2c1016723e86959020f/df25058a-0771-4338-aef7-162b99e95db9___266.JPEG\n"
     ]
    },
    {
     "name": "stderr",
     "output_type": "stream",
     "text": [
      "\r",
      "| |                              #                  | 365 Elapsed Time: 0:02:59"
     ]
    },
    {
     "name": "stdout",
     "output_type": "stream",
     "text": [
      "Save image to path  assets/addi/fire_database/image364.jpg\n",
      "Downloading image from  http://com.dataturks.a96-i23.open.s3.amazonaws.com/2c9fafb06702b2c1016723e86959020f/0d8f478c-ad4e-40ba-b20d-40ce52bbf0fe___FF71.JPEG\n"
     ]
    },
    {
     "name": "stderr",
     "output_type": "stream",
     "text": [
      "\r",
      "/ |                                  #              | 366 Elapsed Time: 0:02:59"
     ]
    },
    {
     "name": "stdout",
     "output_type": "stream",
     "text": [
      "Save image to path  assets/addi/fire_database/image365.jpg\n",
      "Downloading image from  http://com.dataturks.a96-i23.open.s3.amazonaws.com/2c9fafb06702b2c1016723e86959020f/5f1ba1f2-6357-427e-9e3e-9bb6a64df5f1___118.JPEG\n"
     ]
    },
    {
     "name": "stderr",
     "output_type": "stream",
     "text": [
      "\r",
      "- |                                        #        | 367 Elapsed Time: 0:03:00"
     ]
    },
    {
     "name": "stdout",
     "output_type": "stream",
     "text": [
      "Save image to path  assets/addi/fire_database/image366.jpg\n",
      "Downloading image from  http://com.dataturks.a96-i23.open.s3.amazonaws.com/2c9fafb06702b2c1016723e86959020f/a16c0dc2-ca56-466b-a686-35e7dc68c4cf___548.JPEG\n"
     ]
    },
    {
     "name": "stderr",
     "output_type": "stream",
     "text": [
      "\r",
      "\\ |                                              #  | 368 Elapsed Time: 0:03:01"
     ]
    },
    {
     "name": "stdout",
     "output_type": "stream",
     "text": [
      "Save image to path  assets/addi/fire_database/image367.jpg\n",
      "Downloading image from  http://com.dataturks.a96-i23.open.s3.amazonaws.com/2c9fafb06702b2c1016723e86959020f/e907bb5d-fc1e-4a4d-9c37-b4ebe262325c___40.JPEG\n"
     ]
    },
    {
     "name": "stderr",
     "output_type": "stream",
     "text": [
      "\r",
      "| |                                              #  | 369 Elapsed Time: 0:03:01"
     ]
    },
    {
     "name": "stdout",
     "output_type": "stream",
     "text": [
      "Save image to path  assets/addi/fire_database/image368.jpg\n",
      "Downloading image from  http://com.dataturks.a96-i23.open.s3.amazonaws.com/2c9fafb06702b2c1016723e86959020f/2e9f970a-a984-41ee-9c92-113d954ace81___FF167.JPEG\n"
     ]
    },
    {
     "name": "stderr",
     "output_type": "stream",
     "text": [
      "\r",
      "/ |                                         #       | 370 Elapsed Time: 0:03:02"
     ]
    },
    {
     "name": "stdout",
     "output_type": "stream",
     "text": [
      "Save image to path  assets/addi/fire_database/image369.jpg\n",
      "Downloading image from  http://com.dataturks.a96-i23.open.s3.amazonaws.com/2c9fafb06702b2c1016723e86959020f/c196ef75-3e86-4afe-bf53-0c76c094ee6a___374.JPEG\n"
     ]
    },
    {
     "name": "stderr",
     "output_type": "stream",
     "text": [
      "\r",
      "- |                                     #           | 371 Elapsed Time: 0:03:02"
     ]
    },
    {
     "name": "stdout",
     "output_type": "stream",
     "text": [
      "Save image to path  assets/addi/fire_database/image370.jpg\n",
      "Downloading image from  http://com.dataturks.a96-i23.open.s3.amazonaws.com/2c9fafb06702b2c1016723e86959020f/0209ba64-5f8f-48ff-8d61-4558233d7d34___FF26.JPEG\n"
     ]
    },
    {
     "name": "stderr",
     "output_type": "stream",
     "text": [
      "\r",
      "\\ |                             #                   | 372 Elapsed Time: 0:03:03"
     ]
    },
    {
     "name": "stdout",
     "output_type": "stream",
     "text": [
      "Save image to path  assets/addi/fire_database/image371.jpg\n",
      "Downloading image from  http://com.dataturks.a96-i23.open.s3.amazonaws.com/2c9fafb06702b2c1016723e86959020f/0d4f20b4-7389-4405-8869-e6d4b37cfbbb___231.JPEG\n"
     ]
    },
    {
     "name": "stderr",
     "output_type": "stream",
     "text": [
      "\r",
      "| |                         #                       | 373 Elapsed Time: 0:03:03"
     ]
    },
    {
     "name": "stdout",
     "output_type": "stream",
     "text": [
      "Save image to path  assets/addi/fire_database/image372.jpg\n",
      "Downloading image from  http://com.dataturks.a96-i23.open.s3.amazonaws.com/2c9fafb06702b2c1016723e86959020f/9c4d3a0b-c9c9-4733-b8a5-b07dc28eec66___FF188.JPEG\n"
     ]
    },
    {
     "name": "stderr",
     "output_type": "stream",
     "text": [
      "\r",
      "/ |                     #                           | 374 Elapsed Time: 0:03:04"
     ]
    },
    {
     "name": "stdout",
     "output_type": "stream",
     "text": [
      "Save image to path  assets/addi/fire_database/image373.jpg\n",
      "Downloading image from  http://com.dataturks.a96-i23.open.s3.amazonaws.com/2c9fafb06702b2c1016723e86959020f/93c995c1-4138-4a03-a8fe-4e390f06fd7a___246.JPEG\n"
     ]
    },
    {
     "name": "stderr",
     "output_type": "stream",
     "text": [
      "\r",
      "- |               #                                 | 375 Elapsed Time: 0:03:04"
     ]
    },
    {
     "name": "stdout",
     "output_type": "stream",
     "text": [
      "Save image to path  assets/addi/fire_database/image374.jpg\n",
      "Downloading image from  http://com.dataturks.a96-i23.open.s3.amazonaws.com/2c9fafb06702b2c1016723e86959020f/089b7408-2f9b-4f49-a422-000b53bee8cb___FF51.JPEG\n"
     ]
    },
    {
     "name": "stderr",
     "output_type": "stream",
     "text": [
      "\r",
      "\\ |           #                                     | 376 Elapsed Time: 0:03:05"
     ]
    },
    {
     "name": "stdout",
     "output_type": "stream",
     "text": [
      "Save image to path  assets/addi/fire_database/image375.jpg\n",
      "Downloading image from  http://com.dataturks.a96-i23.open.s3.amazonaws.com/2c9fafb06702b2c1016723e86959020f/d6549a19-2877-4992-8d91-3ec3c8a9b593___303.JPEG\n"
     ]
    },
    {
     "name": "stderr",
     "output_type": "stream",
     "text": [
      "\r",
      "| |      #                                          | 377 Elapsed Time: 0:03:05"
     ]
    },
    {
     "name": "stdout",
     "output_type": "stream",
     "text": [
      "Save image to path  assets/addi/fire_database/image376.jpg\n",
      "Downloading image from  http://com.dataturks.a96-i23.open.s3.amazonaws.com/2c9fafb06702b2c1016723e86959020f/8721fcfd-6a22-446e-ac5c-7f662509c444___FF110.JPEG\n"
     ]
    },
    {
     "name": "stderr",
     "output_type": "stream",
     "text": [
      "\r",
      "/ | #                                               | 378 Elapsed Time: 0:03:06"
     ]
    },
    {
     "name": "stdout",
     "output_type": "stream",
     "text": [
      "Save image to path  assets/addi/fire_database/image377.jpg\n",
      "Downloading image from  http://com.dataturks.a96-i23.open.s3.amazonaws.com/2c9fafb06702b2c1016723e86959020f/8c6b2448-e4f4-481f-af3b-acb017a7faec___180.JPEG\n"
     ]
    },
    {
     "name": "stderr",
     "output_type": "stream",
     "text": [
      "\r",
      "- |   #                                             | 379 Elapsed Time: 0:03:06"
     ]
    },
    {
     "name": "stdout",
     "output_type": "stream",
     "text": [
      "Save image to path  assets/addi/fire_database/image378.jpg\n",
      "Downloading image from  http://com.dataturks.a96-i23.open.s3.amazonaws.com/2c9fafb06702b2c1016723e86959020f/f7a4c908-96ad-4bc0-865b-60b8447d4e8b___FF239.JPEG\n"
     ]
    },
    {
     "name": "stderr",
     "output_type": "stream",
     "text": [
      "\r",
      "\\ |       #                                         | 380 Elapsed Time: 0:03:06"
     ]
    },
    {
     "name": "stdout",
     "output_type": "stream",
     "text": [
      "Save image to path  assets/addi/fire_database/image379.jpg\n",
      "Downloading image from  http://com.dataturks.a96-i23.open.s3.amazonaws.com/2c9fafb06702b2c1016723e86959020f/1b9a446b-d372-4c25-91cc-2cd778f52a11___37.JPEG\n"
     ]
    },
    {
     "name": "stderr",
     "output_type": "stream",
     "text": [
      "\r",
      "| |            #                                    | 381 Elapsed Time: 0:03:07"
     ]
    },
    {
     "name": "stdout",
     "output_type": "stream",
     "text": [
      "Save image to path  assets/addi/fire_database/image380.jpg\n",
      "Downloading image from  http://com.dataturks.a96-i23.open.s3.amazonaws.com/2c9fafb06702b2c1016723e86959020f/06bd62c2-81f9-48f0-9ac6-26f542b8157f___495.JPEG\n"
     ]
    },
    {
     "name": "stderr",
     "output_type": "stream",
     "text": [
      "\r",
      "/ |                 #                               | 382 Elapsed Time: 0:03:07"
     ]
    },
    {
     "name": "stdout",
     "output_type": "stream",
     "text": [
      "Save image to path  assets/addi/fire_database/image381.jpg\n",
      "Downloading image from  http://com.dataturks.a96-i23.open.s3.amazonaws.com/2c9fafb06702b2c1016723e86959020f/0b42e07e-10ae-4d08-981c-f9cf61c6241c___211.JPEG\n"
     ]
    },
    {
     "name": "stderr",
     "output_type": "stream",
     "text": [
      "\r",
      "- |                       #                         | 383 Elapsed Time: 0:03:08"
     ]
    },
    {
     "name": "stdout",
     "output_type": "stream",
     "text": [
      "Save image to path  assets/addi/fire_database/image382.jpg\n",
      "Downloading image from  http://com.dataturks.a96-i23.open.s3.amazonaws.com/2c9fafb06702b2c1016723e86959020f/cd75d4df-a2f9-418c-8ba5-a8d354d7a16c___FF147.JPEG\n"
     ]
    },
    {
     "name": "stderr",
     "output_type": "stream",
     "text": [
      "\r",
      "\\ |                            #                    | 384 Elapsed Time: 0:03:09"
     ]
    },
    {
     "name": "stdout",
     "output_type": "stream",
     "text": [
      "Save image to path  assets/addi/fire_database/image383.jpg\n",
      "Downloading image from  http://com.dataturks.a96-i23.open.s3.amazonaws.com/2c9fafb06702b2c1016723e86959020f/2630f004-69c4-4a6f-97c1-9e24fe7cb6a9___354.JPEG\n"
     ]
    },
    {
     "name": "stderr",
     "output_type": "stream",
     "text": [
      "\r",
      "| |                                #                | 385 Elapsed Time: 0:03:09"
     ]
    },
    {
     "name": "stdout",
     "output_type": "stream",
     "text": [
      "Save image to path  assets/addi/fire_database/image384.jpg\n",
      "Downloading image from  http://com.dataturks.a96-i23.open.s3.amazonaws.com/2c9fafb06702b2c1016723e86959020f/c8204ef1-2a0b-4fd7-a5ae-3816d01db868___138.JPEG\n"
     ]
    },
    {
     "name": "stderr",
     "output_type": "stream",
     "text": [
      "\r",
      "/ |                                    #            | 386 Elapsed Time: 0:03:09"
     ]
    },
    {
     "name": "stdout",
     "output_type": "stream",
     "text": [
      "Save image to path  assets/addi/fire_database/image385.jpg\n",
      "Downloading image from  http://com.dataturks.a96-i23.open.s3.amazonaws.com/2c9fafb06702b2c1016723e86959020f/6c3bc71a-9bf1-48f7-81f5-57ab8014770c___FF281.JPEG\n"
     ]
    },
    {
     "name": "stderr",
     "output_type": "stream",
     "text": [
      "\r",
      "- |                                         #       | 387 Elapsed Time: 0:03:10"
     ]
    },
    {
     "name": "stdout",
     "output_type": "stream",
     "text": [
      "Save image to path  assets/addi/fire_database/image386.jpg\n",
      "Downloading image from  http://com.dataturks.a96-i23.open.s3.amazonaws.com/2c9fafb06702b2c1016723e86959020f/5784db59-924f-498d-978e-5c373e194d5b___60.JPEG\n"
     ]
    },
    {
     "name": "stderr",
     "output_type": "stream",
     "text": [
      "\r",
      "\\ |                                               # | 388 Elapsed Time: 0:03:10"
     ]
    },
    {
     "name": "stdout",
     "output_type": "stream",
     "text": [
      "Save image to path  assets/addi/fire_database/image387.jpg\n",
      "Downloading image from  http://com.dataturks.a96-i23.open.s3.amazonaws.com/2c9fafb06702b2c1016723e86959020f/af450dbf-00a8-453f-aa5a-e9e88a5c88ff___207.JPEG\n"
     ]
    },
    {
     "name": "stderr",
     "output_type": "stream",
     "text": [
      "\r",
      "| |                                             #   | 389 Elapsed Time: 0:03:11"
     ]
    },
    {
     "name": "stdout",
     "output_type": "stream",
     "text": [
      "Save image to path  assets/addi/fire_database/image388.jpg\n",
      "Downloading image from  http://com.dataturks.a96-i23.open.s3.amazonaws.com/2c9fafb06702b2c1016723e86959020f/3e583ccb-7523-4d74-b817-9cae5a333e51___FF10.JPEG\n"
     ]
    },
    {
     "name": "stderr",
     "output_type": "stream",
     "text": [
      "\r",
      "/ |                                      #          | 390 Elapsed Time: 0:03:12"
     ]
    },
    {
     "name": "stdout",
     "output_type": "stream",
     "text": [
      "Save image to path  assets/addi/fire_database/image389.jpg\n",
      "Downloading image from  http://com.dataturks.a96-i23.open.s3.amazonaws.com/2c9fafb06702b2c1016723e86959020f/8cdddcde-d83f-49b4-8b8c-49a6f94ca246___342.JPEG\n"
     ]
    },
    {
     "name": "stderr",
     "output_type": "stream",
     "text": [
      "\r",
      "- |                                #                | 391 Elapsed Time: 0:03:12"
     ]
    },
    {
     "name": "stdout",
     "output_type": "stream",
     "text": [
      "Save image to path  assets/addi/fire_database/image390.jpg\n",
      "Downloading image from  http://com.dataturks.a96-i23.open.s3.amazonaws.com/2c9fafb06702b2c1016723e86959020f/9785c167-8fc5-4b80-a90d-bf9508d1a8da___FF151.JPEG\n"
     ]
    },
    {
     "name": "stderr",
     "output_type": "stream",
     "text": [
      "\r",
      "\\ |                            #                    | 392 Elapsed Time: 0:03:13"
     ]
    },
    {
     "name": "stdout",
     "output_type": "stream",
     "text": [
      "Save image to path  assets/addi/fire_database/image391.jpg\n",
      "Downloading image from  http://com.dataturks.a96-i23.open.s3.amazonaws.com/2c9fafb06702b2c1016723e86959020f/5d1dc07d-e39b-4e01-b842-dc198bea59cb___FF278.JPEG\n"
     ]
    },
    {
     "name": "stderr",
     "output_type": "stream",
     "text": [
      "\r",
      "| |                        #                        | 393 Elapsed Time: 0:03:13"
     ]
    },
    {
     "name": "stdout",
     "output_type": "stream",
     "text": [
      "Save image to path  assets/addi/fire_database/image392.jpg\n",
      "Downloading image from  http://com.dataturks.a96-i23.open.s3.amazonaws.com/2c9fafb06702b2c1016723e86959020f/75b4a22a-273e-43fa-bf00-724824b0408a___99.JPEG\n"
     ]
    },
    {
     "name": "stderr",
     "output_type": "stream",
     "text": [
      "\r",
      "/ |                #                                | 394 Elapsed Time: 0:03:14"
     ]
    },
    {
     "name": "stdout",
     "output_type": "stream",
     "text": [
      "Save image to path  assets/addi/fire_database/image393.jpg\n",
      "Downloading image from  http://com.dataturks.a96-i23.open.s3.amazonaws.com/2c9fafb06702b2c1016723e86959020f/01746315-ef59-4f03-a3f4-60d0bb062f30___76.JPEG\n"
     ]
    },
    {
     "name": "stderr",
     "output_type": "stream",
     "text": [
      "\r",
      "- |          #                                      | 395 Elapsed Time: 0:03:14"
     ]
    },
    {
     "name": "stdout",
     "output_type": "stream",
     "text": [
      "Save image to path  assets/addi/fire_database/image394.jpg\n",
      "Downloading image from  http://com.dataturks.a96-i23.open.s3.amazonaws.com/2c9fafb06702b2c1016723e86959020f/79715461-06eb-43da-af67-867df39f0149___FF297.JPEG\n"
     ]
    },
    {
     "name": "stderr",
     "output_type": "stream",
     "text": [
      "\r",
      "\\ |      #                                          | 396 Elapsed Time: 0:03:15"
     ]
    },
    {
     "name": "stdout",
     "output_type": "stream",
     "text": [
      "Save image to path  assets/addi/fire_database/image395.jpg\n",
      "Downloading image from  http://com.dataturks.a96-i23.open.s3.amazonaws.com/2c9fafb06702b2c1016723e86959020f/285f8003-9db4-409f-b21f-72e639c340a4___FF47.JPEG\n"
     ]
    },
    {
     "name": "stderr",
     "output_type": "stream",
     "text": [
      "\r",
      "| | #                                               | 397 Elapsed Time: 0:03:15"
     ]
    },
    {
     "name": "stdout",
     "output_type": "stream",
     "text": [
      "Save image to path  assets/addi/fire_database/image396.jpg\n",
      "Downloading image from  http://com.dataturks.a96-i23.open.s3.amazonaws.com/2c9fafb06702b2c1016723e86959020f/2c91c62c-1e00-4bca-a78d-66548e40e4d2___250.JPEG\n"
     ]
    },
    {
     "name": "stderr",
     "output_type": "stream",
     "text": [
      "\r",
      "/ |   #                                             | 398 Elapsed Time: 0:03:16"
     ]
    },
    {
     "name": "stdout",
     "output_type": "stream",
     "text": [
      "Save image to path  assets/addi/fire_database/image397.jpg\n",
      "Downloading image from  http://com.dataturks.a96-i23.open.s3.amazonaws.com/2c9fafb06702b2c1016723e86959020f/0acfc9ce-aa20-4b25-aea1-c041f35ef511___FF106.JPEG\n"
     ]
    },
    {
     "name": "stderr",
     "output_type": "stream",
     "text": [
      "\r",
      "- |        #                                        | 399 Elapsed Time: 0:03:16"
     ]
    },
    {
     "name": "stdout",
     "output_type": "stream",
     "text": [
      "Save image to path  assets/addi/fire_database/image398.jpg\n",
      "Downloading image from  http://com.dataturks.a96-i23.open.s3.amazonaws.com/2c9fafb06702b2c1016723e86959020f/41e36634-9c67-4c0c-8391-c776bf224487___315.JPEG\n"
     ]
    },
    {
     "name": "stderr",
     "output_type": "stream",
     "text": [
      "\r",
      "\\ |              #                                  | 400 Elapsed Time: 0:03:17"
     ]
    },
    {
     "name": "stdout",
     "output_type": "stream",
     "text": [
      "Save image to path  assets/addi/fire_database/image399.jpg\n",
      "Downloading image from  http://com.dataturks.a96-i23.open.s3.amazonaws.com/2c9fafb06702b2c1016723e86959020f/acda0dff-0fbb-4ad0-961e-583e0ef87b6d___196.JPEG\n"
     ]
    },
    {
     "name": "stderr",
     "output_type": "stream",
     "text": [
      "\r",
      "| |                   #                             | 401 Elapsed Time: 0:03:17"
     ]
    },
    {
     "name": "stdout",
     "output_type": "stream",
     "text": [
      "Save image to path  assets/addi/fire_database/image400.jpg\n",
      "Downloading image from  http://com.dataturks.a96-i23.open.s3.amazonaws.com/2c9fafb06702b2c1016723e86959020f/8efaeb1e-3b1d-41b6-b533-bdc45a126c53___483.JPEG\n"
     ]
    },
    {
     "name": "stderr",
     "output_type": "stream",
     "text": [
      "\r",
      "/ |                         #                       | 402 Elapsed Time: 0:03:18"
     ]
    },
    {
     "name": "stdout",
     "output_type": "stream",
     "text": [
      "Save image to path  assets/addi/fire_database/image401.jpg\n",
      "Downloading image from  http://com.dataturks.a96-i23.open.s3.amazonaws.com/2c9fafb06702b2c1016723e86959020f/c39cc34d-a1c2-4885-b38e-f83458ba2f5f___179.JPEG\n"
     ]
    },
    {
     "name": "stderr",
     "output_type": "stream",
     "text": [
      "\r",
      "- |                              #                  | 403 Elapsed Time: 0:03:19"
     ]
    },
    {
     "name": "stdout",
     "output_type": "stream",
     "text": [
      "Save image to path  assets/addi/fire_database/image402.jpg\n",
      "Downloading image from  http://com.dataturks.a96-i23.open.s3.amazonaws.com/2c9fafb06702b2c1016723e86959020f/17732e9d-54a0-4ba6-ab49-a6fdf03dcd6a___529.JPEG\n"
     ]
    },
    {
     "name": "stderr",
     "output_type": "stream",
     "text": [
      "\r",
      "\\ |                                   #             | 404 Elapsed Time: 0:03:19"
     ]
    },
    {
     "name": "stdout",
     "output_type": "stream",
     "text": [
      "Save image to path  assets/addi/fire_database/image403.jpg\n",
      "Downloading image from  http://com.dataturks.a96-i23.open.s3.amazonaws.com/2c9fafb06702b2c1016723e86959020f/87841d66-4cd0-49a4-b29d-90a74067b57c___21.JPEG\n"
     ]
    },
    {
     "name": "stderr",
     "output_type": "stream",
     "text": [
      "\r",
      "| |                                        #        | 405 Elapsed Time: 0:03:20"
     ]
    },
    {
     "name": "stdout",
     "output_type": "stream",
     "text": [
      "Save image to path  assets/addi/fire_database/image404.jpg\n",
      "Downloading image from  http://com.dataturks.a96-i23.open.s3.amazonaws.com/2c9fafb06702b2c1016723e86959020f/c5d683ba-435b-4cd0-8661-280da7ee8aea___381.JPEG\n"
     ]
    },
    {
     "name": "stderr",
     "output_type": "stream",
     "text": [
      "\r",
      "/ |                                            #    | 406 Elapsed Time: 0:03:20"
     ]
    },
    {
     "name": "stdout",
     "output_type": "stream",
     "text": [
      "Save image to path  assets/addi/fire_database/image405.jpg\n",
      "Downloading image from  http://com.dataturks.a96-i23.open.s3.amazonaws.com/2c9fafb06702b2c1016723e86959020f/d24b3c51-a80f-477d-a24e-0e6a18e37beb___FF192.JPEG\n"
     ]
    },
    {
     "name": "stderr",
     "output_type": "stream",
     "text": [
      "\r",
      "- |                                                #| 407 Elapsed Time: 0:03:20"
     ]
    },
    {
     "name": "stdout",
     "output_type": "stream",
     "text": [
      "Save image to path  assets/addi/fire_database/image406.jpg\n",
      "Downloading image from  http://com.dataturks.a96-i23.open.s3.amazonaws.com/2c9fafb06702b2c1016723e86959020f/83a49a15-9022-4478-bea2-d0021b724507___102.JPEG\n"
     ]
    },
    {
     "name": "stderr",
     "output_type": "stream",
     "text": [
      "\r",
      "\\ |                                           #     | 408 Elapsed Time: 0:03:21"
     ]
    },
    {
     "name": "stdout",
     "output_type": "stream",
     "text": [
      "Save image to path  assets/addi/fire_database/image407.jpg\n",
      "Downloading image from  http://com.dataturks.a96-i23.open.s3.amazonaws.com/2c9fafb06702b2c1016723e86959020f/b876ad5a-6afd-476f-9ea3-476219320549___FF311.JPEG\n"
     ]
    },
    {
     "name": "stderr",
     "output_type": "stream",
     "text": [
      "\r",
      "| |                                       #         | 409 Elapsed Time: 0:03:21"
     ]
    },
    {
     "name": "stdout",
     "output_type": "stream",
     "text": [
      "Save image to path  assets/addi/fire_database/image408.jpg\n",
      "Downloading image from  http://com.dataturks.a96-i23.open.s3.amazonaws.com/2c9fafb06702b2c1016723e86959020f/041dcf2a-8154-4cb1-a6a6-7197c35c69cf___552.JPEG\n"
     ]
    },
    {
     "name": "stderr",
     "output_type": "stream",
     "text": [
      "\r",
      "/ |                                  #              | 410 Elapsed Time: 0:03:22"
     ]
    },
    {
     "name": "stdout",
     "output_type": "stream",
     "text": [
      "Save image to path  assets/addi/fire_database/image409.jpg\n",
      "Downloading image from  http://com.dataturks.a96-i23.open.s3.amazonaws.com/2c9fafb06702b2c1016723e86959020f/03577cb6-3bb2-40b0-a031-45fd50a431d2___417.JPEG\n"
     ]
    },
    {
     "name": "stderr",
     "output_type": "stream",
     "text": [
      "\r",
      "- |                             #                   | 411 Elapsed Time: 0:03:22"
     ]
    },
    {
     "name": "stdout",
     "output_type": "stream",
     "text": [
      "Save image to path  assets/addi/fire_database/image410.jpg\n",
      "Downloading image from  http://com.dataturks.a96-i23.open.s3.amazonaws.com/2c9fafb06702b2c1016723e86959020f/f25a731d-632c-4568-ad6e-3a63d84dc842___FF254.JPEG\n"
     ]
    },
    {
     "name": "stderr",
     "output_type": "stream",
     "text": [
      "\r",
      "\\ |                         #                       | 412 Elapsed Time: 0:03:23"
     ]
    },
    {
     "name": "stdout",
     "output_type": "stream",
     "text": [
      "Save image to path  assets/addi/fire_database/image411.jpg\n",
      "Downloading image from  http://com.dataturks.a96-i23.open.s3.amazonaws.com/2c9fafb06702b2c1016723e86959020f/3cca07f2-d174-4fb0-b505-314e6074fd2c___339.JPEG\n"
     ]
    },
    {
     "name": "stderr",
     "output_type": "stream",
     "text": [
      "\r",
      "| |                   #                             | 413 Elapsed Time: 0:03:23"
     ]
    },
    {
     "name": "stdout",
     "output_type": "stream",
     "text": [
      "Save image to path  assets/addi/fire_database/image412.jpg\n",
      "Downloading image from  http://com.dataturks.a96-i23.open.s3.amazonaws.com/2c9fafb06702b2c1016723e86959020f/6057dada-527a-4996-9f9c-1de21e691d79___293.JPEG\n"
     ]
    },
    {
     "name": "stderr",
     "output_type": "stream",
     "text": [
      "\r",
      "/ |              #                                  | 414 Elapsed Time: 0:03:24"
     ]
    },
    {
     "name": "stdout",
     "output_type": "stream",
     "text": [
      "Save image to path  assets/addi/fire_database/image413.jpg\n",
      "Downloading image from  http://com.dataturks.a96-i23.open.s3.amazonaws.com/2c9fafb06702b2c1016723e86959020f/7ce96afe-a45e-4b97-b66c-113906d7ea51___FF84.JPEG\n"
     ]
    },
    {
     "name": "stderr",
     "output_type": "stream",
     "text": [
      "\r",
      "- |         #                                       | 415 Elapsed Time: 0:03:24"
     ]
    },
    {
     "name": "stdout",
     "output_type": "stream",
     "text": [
      "Save image to path  assets/addi/fire_database/image414.jpg\n",
      "Downloading image from  http://com.dataturks.a96-i23.open.s3.amazonaws.com/2c9fafb06702b2c1016723e86959020f/1ddd7358-3172-44e7-b7b2-3f134d184e19___505.JPEG\n"
     ]
    },
    {
     "name": "stderr",
     "output_type": "stream",
     "text": [
      "\r",
      "\\ |   #                                             | 416 Elapsed Time: 0:03:25"
     ]
    },
    {
     "name": "stdout",
     "output_type": "stream",
     "text": [
      "Save image to path  assets/addi/fire_database/image415.jpg\n",
      "Downloading image from  http://com.dataturks.a96-i23.open.s3.amazonaws.com/2c9fafb06702b2c1016723e86959020f/44379d1d-5c63-43e2-9e8d-f79671c66290___155.JPEG\n"
     ]
    },
    {
     "name": "stderr",
     "output_type": "stream",
     "text": [
      "\r",
      "| |#                                                | 417 Elapsed Time: 0:03:25"
     ]
    },
    {
     "name": "stdout",
     "output_type": "stream",
     "text": [
      "Save image to path  assets/addi/fire_database/image416.jpg\n",
      "Downloading image from  http://com.dataturks.a96-i23.open.s3.amazonaws.com/2c9fafb06702b2c1016723e86959020f/09e2ad01-df41-4a48-8771-6d3cb3f24e12___FF203.JPEG\n"
     ]
    },
    {
     "name": "stderr",
     "output_type": "stream",
     "text": [
      "\r",
      "/ |    #                                            | 418 Elapsed Time: 0:03:26"
     ]
    },
    {
     "name": "stdout",
     "output_type": "stream",
     "text": [
      "Save image to path  assets/addi/fire_database/image417.jpg\n",
      "Downloading image from  http://com.dataturks.a96-i23.open.s3.amazonaws.com/2c9fafb06702b2c1016723e86959020f/56ced70b-971b-4efb-9c94-5bcc027cdd8d___440.JPEG\n"
     ]
    },
    {
     "name": "stderr",
     "output_type": "stream",
     "text": [
      "\r",
      "- |             #                                   | 419 Elapsed Time: 0:03:27"
     ]
    },
    {
     "name": "stdout",
     "output_type": "stream",
     "text": [
      "Save image to path  assets/addi/fire_database/image418.jpg\n",
      "Downloading image from  http://com.dataturks.a96-i23.open.s3.amazonaws.com/2c9fafb06702b2c1016723e86959020f/ee4141f7-6efc-4b92-a045-f3c9bada1baa___FF92.JPEG\n"
     ]
    },
    {
     "name": "stderr",
     "output_type": "stream",
     "text": [
      "\r",
      "\\ |                      #                          | 420 Elapsed Time: 0:03:28"
     ]
    },
    {
     "name": "stdout",
     "output_type": "stream",
     "text": [
      "Save image to path  assets/addi/fire_database/image419.jpg\n",
      "Downloading image from  http://com.dataturks.a96-i23.open.s3.amazonaws.com/2c9fafb06702b2c1016723e86959020f/255afdae-d37a-46b1-94d2-9ebbca72b428___285.JPEG\n"
     ]
    },
    {
     "name": "stderr",
     "output_type": "stream",
     "text": [
      "\r",
      "| |                          #                      | 421 Elapsed Time: 0:03:28"
     ]
    },
    {
     "name": "stdout",
     "output_type": "stream",
     "text": [
      "Save image to path  assets/addi/fire_database/image420.jpg\n",
      "Downloading image from  http://com.dataturks.a96-i23.open.s3.amazonaws.com/2c9fafb06702b2c1016723e86959020f/e563f951-25a2-4837-897d-277784ded5c6___143.JPEG\n"
     ]
    },
    {
     "name": "stderr",
     "output_type": "stream",
     "text": [
      "\r",
      "/ |                                #                | 422 Elapsed Time: 0:03:29"
     ]
    },
    {
     "name": "stdout",
     "output_type": "stream",
     "text": [
      "Save image to path  assets/addi/fire_database/image421.jpg\n",
      "Downloading image from  http://com.dataturks.a96-i23.open.s3.amazonaws.com/2c9fafb06702b2c1016723e86959020f/3140c3b0-c086-4c8c-9668-7458c023216f___513.JPEG\n"
     ]
    },
    {
     "name": "stderr",
     "output_type": "stream",
     "text": [
      "\r",
      "- |                                       #         | 423 Elapsed Time: 0:03:29"
     ]
    },
    {
     "name": "stdout",
     "output_type": "stream",
     "text": [
      "Save image to path  assets/addi/fire_database/image422.jpg\n",
      "Downloading image from  http://com.dataturks.a96-i23.open.s3.amazonaws.com/2c9fafb06702b2c1016723e86959020f/de62d282-93f6-4b44-b75f-9d34e55a82c6___456.JPEG\n"
     ]
    },
    {
     "name": "stderr",
     "output_type": "stream",
     "text": [
      "\r",
      "\\ |                                            #    | 424 Elapsed Time: 0:03:30"
     ]
    },
    {
     "name": "stdout",
     "output_type": "stream",
     "text": [
      "Save image to path  assets/addi/fire_database/image423.jpg\n",
      "Downloading image from  http://com.dataturks.a96-i23.open.s3.amazonaws.com/2c9fafb06702b2c1016723e86959020f/c76a019c-78ec-4ca2-b2f7-bb55da76ee47___FF215.JPEG\n"
     ]
    },
    {
     "name": "stderr",
     "output_type": "stream",
     "text": [
      "\r",
      "| |                                                #| 425 Elapsed Time: 0:03:30"
     ]
    },
    {
     "name": "stdout",
     "output_type": "stream",
     "text": [
      "Save image to path  assets/addi/fire_database/image424.jpg\n",
      "Downloading image from  http://com.dataturks.a96-i23.open.s3.amazonaws.com/2c9fafb06702b2c1016723e86959020f/7ffc32c7-281b-459f-9985-b5f86e5e0166___378.JPEG\n"
     ]
    },
    {
     "name": "stderr",
     "output_type": "stream",
     "text": [
      "\r",
      "/ |                                             #   | 426 Elapsed Time: 0:03:31"
     ]
    },
    {
     "name": "stdout",
     "output_type": "stream",
     "text": [
      "Save image to path  assets/addi/fire_database/image425.jpg\n",
      "Downloading image from  http://com.dataturks.a96-i23.open.s3.amazonaws.com/2c9fafb06702b2c1016723e86959020f/3a8ff2db-d858-40db-8414-1960b3d7ddbe___FF184.JPEG\n"
     ]
    },
    {
     "name": "stderr",
     "output_type": "stream",
     "text": [
      "\r",
      "- |                                         #       | 427 Elapsed Time: 0:03:31"
     ]
    },
    {
     "name": "stdout",
     "output_type": "stream",
     "text": [
      "Save image to path  assets/addi/fire_database/image426.jpg\n",
      "Downloading image from  http://com.dataturks.a96-i23.open.s3.amazonaws.com/2c9fafb06702b2c1016723e86959020f/321ec42d-4000-4c60-920f-f2a5c4c46f16___397.JPEG\n"
     ]
    },
    {
     "name": "stderr",
     "output_type": "stream",
     "text": [
      "\r",
      "\\ |                                     #           | 428 Elapsed Time: 0:03:31"
     ]
    },
    {
     "name": "stdout",
     "output_type": "stream",
     "text": [
      "Save image to path  assets/addi/fire_database/image427.jpg\n",
      "Downloading image from  http://com.dataturks.a96-i23.open.s3.amazonaws.com/2c9fafb06702b2c1016723e86959020f/d98c814a-21fd-42a3-9545-20d7dcf30a71___544.JPEG\n"
     ]
    },
    {
     "name": "stderr",
     "output_type": "stream",
     "text": [
      "\r",
      "| |                                #                | 429 Elapsed Time: 0:03:32"
     ]
    },
    {
     "name": "stdout",
     "output_type": "stream",
     "text": [
      "Save image to path  assets/addi/fire_database/image428.jpg\n",
      "Downloading image from  http://com.dataturks.a96-i23.open.s3.amazonaws.com/2c9fafb06702b2c1016723e86959020f/6b98728c-51bf-4186-b543-748b7a23def4___FF307.JPEG\n"
     ]
    },
    {
     "name": "stderr",
     "output_type": "stream",
     "text": [
      "\r",
      "/ |                           #                     | 430 Elapsed Time: 0:03:32"
     ]
    },
    {
     "name": "stdout",
     "output_type": "stream",
     "text": [
      "Save image to path  assets/addi/fire_database/image429.jpg\n",
      "Downloading image from  http://com.dataturks.a96-i23.open.s3.amazonaws.com/2c9fafb06702b2c1016723e86959020f/572cb8a1-0ea4-4d2a-846d-56307f37acb4___114.JPEG\n"
     ]
    },
    {
     "name": "stderr",
     "output_type": "stream",
     "text": [
      "\r",
      "- |                      #                          | 431 Elapsed Time: 0:03:33"
     ]
    },
    {
     "name": "stdout",
     "output_type": "stream",
     "text": [
      "Save image to path  assets/addi/fire_database/image430.jpg\n",
      "Downloading image from  http://com.dataturks.a96-i23.open.s3.amazonaws.com/2c9fafb06702b2c1016723e86959020f/89d9a134-2e26-45aa-9541-f9fedb39a61f___FF242.JPEG\n"
     ]
    },
    {
     "name": "stderr",
     "output_type": "stream",
     "text": [
      "\r",
      "\\ |                  #                              | 432 Elapsed Time: 0:03:33"
     ]
    },
    {
     "name": "stdout",
     "output_type": "stream",
     "text": [
      "Save image to path  assets/addi/fire_database/image431.jpg\n",
      "Downloading image from  http://com.dataturks.a96-i23.open.s3.amazonaws.com/2c9fafb06702b2c1016723e86959020f/99d00f91-7d0f-4966-b8dd-a1c8915ad39a___401.JPEG\n"
     ]
    },
    {
     "name": "stderr",
     "output_type": "stream",
     "text": [
      "\r",
      "| |             #                                   | 433 Elapsed Time: 0:03:34"
     ]
    },
    {
     "name": "stdout",
     "output_type": "stream",
     "text": [
      "Save image to path  assets/addi/fire_database/image432.jpg\n",
      "Downloading image from  http://com.dataturks.a96-i23.open.s3.amazonaws.com/2c9fafb06702b2c1016723e86959020f/8d2913d9-4ada-4db5-bb63-649876174261___300.JPEG\n"
     ]
    },
    {
     "name": "stderr",
     "output_type": "stream",
     "text": [
      "\r",
      "/ |        #                                        | 434 Elapsed Time: 0:03:34"
     ]
    },
    {
     "name": "stdout",
     "output_type": "stream",
     "text": [
      "Save image to path  assets/addi/fire_database/image433.jpg\n",
      "Downloading image from  http://com.dataturks.a96-i23.open.s3.amazonaws.com/2c9fafb06702b2c1016723e86959020f/5518fcbe-da0a-4298-badd-00692dcd6dd4___FF113.JPEG\n"
     ]
    },
    {
     "name": "stderr",
     "output_type": "stream",
     "text": [
      "\r",
      "- |    #                                            | 435 Elapsed Time: 0:03:35"
     ]
    },
    {
     "name": "stdout",
     "output_type": "stream",
     "text": [
      "Save image to path  assets/addi/fire_database/image434.jpg\n",
      "Downloading image from  http://com.dataturks.a96-i23.open.s3.amazonaws.com/2c9fafb06702b2c1016723e86959020f/08b182ef-55e3-4340-91e8-3d34f7542543___245.JPEG\n"
     ]
    },
    {
     "name": "stderr",
     "output_type": "stream",
     "text": [
      "\r",
      "\\ | #                                               | 436 Elapsed Time: 0:03:35"
     ]
    },
    {
     "name": "stdout",
     "output_type": "stream",
     "text": [
      "Save image to path  assets/addi/fire_database/image435.jpg\n",
      "Downloading image from  http://com.dataturks.a96-i23.open.s3.amazonaws.com/2c9fafb06702b2c1016723e86959020f/f575d8e0-4292-4b53-873c-66c214b46cd6___FF52.JPEG\n"
     ]
    },
    {
     "name": "stderr",
     "output_type": "stream",
     "text": [
      "\r",
      "| |      #                                          | 437 Elapsed Time: 0:03:36"
     ]
    },
    {
     "name": "stdout",
     "output_type": "stream",
     "text": [
      "Save image to path  assets/addi/fire_database/image436.jpg\n",
      "Downloading image from  http://com.dataturks.a96-i23.open.s3.amazonaws.com/2c9fafb06702b2c1016723e86959020f/b20ae32a-3c0f-4287-ab4e-e38868714e4f___496.JPEG\n"
     ]
    },
    {
     "name": "stderr",
     "output_type": "stream",
     "text": [
      "\r",
      "/ |          #                                      | 438 Elapsed Time: 0:03:36"
     ]
    },
    {
     "name": "stdout",
     "output_type": "stream",
     "text": [
      "Save image to path  assets/addi/fire_database/image437.jpg\n",
      "Downloading image from  http://com.dataturks.a96-i23.open.s3.amazonaws.com/2c9fafb06702b2c1016723e86959020f/0863fd63-851f-4bb7-9305-53d461af9499___34.JPEG\n"
     ]
    },
    {
     "name": "stderr",
     "output_type": "stream",
     "text": [
      "\r",
      "- |               #                                 | 439 Elapsed Time: 0:03:37"
     ]
    },
    {
     "name": "stdout",
     "output_type": "stream",
     "text": [
      "Save image to path  assets/addi/fire_database/image438.jpg\n",
      "Downloading image from  http://com.dataturks.a96-i23.open.s3.amazonaws.com/2c9fafb06702b2c1016723e86959020f/efba7470-b451-4e1a-a947-d6b2be76a70e___183.JPEG\n"
     ]
    },
    {
     "name": "stderr",
     "output_type": "stream",
     "text": [
      "\r",
      "\\ |                    #                            | 440 Elapsed Time: 0:03:37"
     ]
    },
    {
     "name": "stdout",
     "output_type": "stream",
     "text": [
      "Save image to path  assets/addi/fire_database/image439.jpg\n",
      "Downloading image from  http://com.dataturks.a96-i23.open.s3.amazonaws.com/2c9fafb06702b2c1016723e86959020f/6c85766b-8eb7-4749-86b2-e6303b9ccb26___479.JPEG\n"
     ]
    },
    {
     "name": "stderr",
     "output_type": "stream",
     "text": [
      "\r",
      "| |                          #                      | 441 Elapsed Time: 0:03:38"
     ]
    },
    {
     "name": "stdout",
     "output_type": "stream",
     "text": [
      "Save image to path  assets/addi/fire_database/image440.jpg\n",
      "Downloading image from  http://com.dataturks.a96-i23.open.s3.amazonaws.com/2c9fafb06702b2c1016723e86959020f/cc067b14-a6d1-421c-8c24-831e0c603d7f___FF144.JPEG\n"
     ]
    },
    {
     "name": "stderr",
     "output_type": "stream",
     "text": [
      "\r",
      "/ |                              #                  | 442 Elapsed Time: 0:03:38"
     ]
    },
    {
     "name": "stdout",
     "output_type": "stream",
     "text": [
      "Save image to path  assets/addi/fire_database/image441.jpg\n",
      "Downloading image from  http://com.dataturks.a96-i23.open.s3.amazonaws.com/2c9fafb06702b2c1016723e86959020f/e64dce71-7694-4495-8d32-c00500d3c091___357.JPEG\n"
     ]
    },
    {
     "name": "stderr",
     "output_type": "stream",
     "text": [
      "\r",
      "- |                                   #             | 443 Elapsed Time: 0:03:39"
     ]
    },
    {
     "name": "stdout",
     "output_type": "stream",
     "text": [
      "Save image to path  assets/addi/fire_database/image442.jpg\n",
      "Downloading image from  http://com.dataturks.a96-i23.open.s3.amazonaws.com/2c9fafb06702b2c1016723e86959020f/a4071ccd-1965-42da-aa46-aeacde00253a___212.JPEG\n"
     ]
    },
    {
     "name": "stderr",
     "output_type": "stream",
     "text": [
      "\r",
      "\\ |                                         #       | 444 Elapsed Time: 0:03:39"
     ]
    },
    {
     "name": "stdout",
     "output_type": "stream",
     "text": [
      "Save image to path  assets/addi/fire_database/image443.jpg\n",
      "Downloading image from  http://com.dataturks.a96-i23.open.s3.amazonaws.com/2c9fafb06702b2c1016723e86959020f/85f2db19-661d-423e-98fe-4301dc4257f4___63.JPEG\n"
     ]
    },
    {
     "name": "stderr",
     "output_type": "stream",
     "text": [
      "\r",
      "| |                                              #  | 445 Elapsed Time: 0:03:40"
     ]
    },
    {
     "name": "stdout",
     "output_type": "stream",
     "text": [
      "Save image to path  assets/addi/fire_database/image444.jpg\n",
      "Downloading image from  http://com.dataturks.a96-i23.open.s3.amazonaws.com/2c9fafb06702b2c1016723e86959020f/fea79162-7ae5-4a69-8f86-a6bd58271355___FF282.JPEG\n"
     ]
    },
    {
     "name": "stderr",
     "output_type": "stream",
     "text": [
      "\r",
      "/ |                                               # | 446 Elapsed Time: 0:03:40"
     ]
    },
    {
     "name": "stdout",
     "output_type": "stream",
     "text": [
      "Save image to path  assets/addi/fire_database/image445.jpg\n",
      "Downloading image from  http://com.dataturks.a96-i23.open.s3.amazonaws.com/2c9fafb06702b2c1016723e86959020f/66fb4f3b-8cf6-44a3-b7f5-afe75831494d___8.JPEG\n"
     ]
    },
    {
     "name": "stderr",
     "output_type": "stream",
     "text": [
      "\r",
      "- |                                         #       | 447 Elapsed Time: 0:03:41"
     ]
    },
    {
     "name": "stdout",
     "output_type": "stream",
     "text": [
      "Save image to path  assets/addi/fire_database/image446.jpg\n",
      "Downloading image from  http://com.dataturks.a96-i23.open.s3.amazonaws.com/2c9fafb06702b2c1016723e86959020f/f79f4022-94f6-40ce-bc11-fe9a4eab2121___341.JPEG\n"
     ]
    },
    {
     "name": "stderr",
     "output_type": "stream",
     "text": [
      "\r",
      "\\ |                                     #           | 448 Elapsed Time: 0:03:41"
     ]
    },
    {
     "name": "stdout",
     "output_type": "stream",
     "text": [
      "Save image to path  assets/addi/fire_database/image447.jpg\n",
      "Downloading image from  http://com.dataturks.a96-i23.open.s3.amazonaws.com/2c9fafb06702b2c1016723e86959020f/ba27814e-92db-4591-998c-7c295d1a0637___FF152.JPEG\n"
     ]
    },
    {
     "name": "stderr",
     "output_type": "stream",
     "text": [
      "\r",
      "| |                                 #               | 449 Elapsed Time: 0:03:42"
     ]
    },
    {
     "name": "stdout",
     "output_type": "stream",
     "text": [
      "Save image to path  assets/addi/fire_database/image448.jpg\n",
      "Downloading image from  http://com.dataturks.a96-i23.open.s3.amazonaws.com/2c9fafb06702b2c1016723e86959020f/8810a40c-05b3-430a-98cc-4451b2437c61___204.JPEG\n"
     ]
    },
    {
     "name": "stderr",
     "output_type": "stream",
     "text": [
      "\r",
      "/ |                            #                    | 450 Elapsed Time: 0:03:42"
     ]
    },
    {
     "name": "stdout",
     "output_type": "stream",
     "text": [
      "Save image to path  assets/addi/fire_database/image449.jpg\n",
      "Downloading image from  http://com.dataturks.a96-i23.open.s3.amazonaws.com/2c9fafb06702b2c1016723e86959020f/cc5e1928-17b1-4789-a011-af8f8db38a1e___FF13.JPEG\n"
     ]
    },
    {
     "name": "stderr",
     "output_type": "stream",
     "text": [
      "\r",
      "- |                       #                         | 451 Elapsed Time: 0:03:43"
     ]
    },
    {
     "name": "stdout",
     "output_type": "stream",
     "text": [
      "Save image to path  assets/addi/fire_database/image450.jpg\n",
      "Downloading image from  http://com.dataturks.a96-i23.open.s3.amazonaws.com/2c9fafb06702b2c1016723e86959020f/647e0aaf-5c2f-43f0-b277-dfe15f182025___FF294.JPEG\n"
     ]
    },
    {
     "name": "stderr",
     "output_type": "stream",
     "text": [
      "\r",
      "\\ |                   #                             | 452 Elapsed Time: 0:03:43"
     ]
    },
    {
     "name": "stdout",
     "output_type": "stream",
     "text": [
      "Save image to path  assets/addi/fire_database/image451.jpg\n",
      "Downloading image from  http://com.dataturks.a96-i23.open.s3.amazonaws.com/2c9fafb06702b2c1016723e86959020f/12d06869-ec45-49c3-bc40-420bfd74efda___75.JPEG\n"
     ]
    },
    {
     "name": "stderr",
     "output_type": "stream",
     "text": [
      "\r",
      "| |               #                                 | 453 Elapsed Time: 0:03:43"
     ]
    },
    {
     "name": "stdout",
     "output_type": "stream",
     "text": [
      "Save image to path  assets/addi/fire_database/image452.jpg\n",
      "Downloading image from  http://com.dataturks.a96-i23.open.s3.amazonaws.com/2c9fafb06702b2c1016723e86959020f/34966640-bcb3-4d92-8019-17f47c60fde1___438.JPEG\n"
     ]
    },
    {
     "name": "stderr",
     "output_type": "stream",
     "text": [
      "\r",
      "/ |         #                                       | 454 Elapsed Time: 0:03:44"
     ]
    },
    {
     "name": "stdout",
     "output_type": "stream",
     "text": [
      "Save image to path  assets/addi/fire_database/image453.jpg\n",
      "Downloading image from  http://com.dataturks.a96-i23.open.s3.amazonaws.com/2c9fafb06702b2c1016723e86959020f/150ae7ae-8b15-4d28-8173-ffafbd8a9855___FF105.JPEG\n"
     ]
    },
    {
     "name": "stderr",
     "output_type": "stream",
     "text": [
      "\r",
      "- |      #                                          | 455 Elapsed Time: 0:03:44"
     ]
    },
    {
     "name": "stdout",
     "output_type": "stream",
     "text": [
      "Save image to path  assets/addi/fire_database/image454.jpg\n",
      "Downloading image from  http://com.dataturks.a96-i23.open.s3.amazonaws.com/2c9fafb06702b2c1016723e86959020f/7373eac3-6895-4362-9e54-8de8d75eb09a___316.JPEG\n"
     ]
    },
    {
     "name": "stderr",
     "output_type": "stream",
     "text": [
      "\r",
      "\\ | #                                               | 456 Elapsed Time: 0:03:45"
     ]
    },
    {
     "name": "stdout",
     "output_type": "stream",
     "text": [
      "Save image to path  assets/addi/fire_database/image455.jpg\n",
      "Downloading image from  http://com.dataturks.a96-i23.open.s3.amazonaws.com/2c9fafb06702b2c1016723e86959020f/a80cb4ab-3a18-4e74-8d6b-66efd6d708a1___FF44.JPEG\n"
     ]
    },
    {
     "name": "stderr",
     "output_type": "stream",
     "text": [
      "\r",
      "| |      #                                          | 457 Elapsed Time: 0:03:46"
     ]
    },
    {
     "name": "stdout",
     "output_type": "stream",
     "text": [
      "Save image to path  assets/addi/fire_database/image456.jpg\n",
      "Downloading image from  http://com.dataturks.a96-i23.open.s3.amazonaws.com/2c9fafb06702b2c1016723e86959020f/e58faaf0-57ee-4077-8a2c-bdd45dbdc985___253.JPEG\n"
     ]
    },
    {
     "name": "stderr",
     "output_type": "stream",
     "text": [
      "\r",
      "/ |            #                                    | 458 Elapsed Time: 0:03:46"
     ]
    },
    {
     "name": "stdout",
     "output_type": "stream",
     "text": [
      "Save image to path  assets/addi/fire_database/image457.jpg\n",
      "Downloading image from  http://com.dataturks.a96-i23.open.s3.amazonaws.com/2c9fafb06702b2c1016723e86959020f/6b962c15-224a-4acc-8667-adaffad3fcbd___22.JPEG\n"
     ]
    },
    {
     "name": "stderr",
     "output_type": "stream",
     "text": [
      "\r",
      "- |                  #                              | 459 Elapsed Time: 0:03:47"
     ]
    },
    {
     "name": "stdout",
     "output_type": "stream",
     "text": [
      "Save image to path  assets/addi/fire_database/image458.jpg\n",
      "Downloading image from  http://com.dataturks.a96-i23.open.s3.amazonaws.com/2c9fafb06702b2c1016723e86959020f/7ccc02b3-9938-4903-874d-4a1b6ecf2059___480.JPEG\n"
     ]
    },
    {
     "name": "stderr",
     "output_type": "stream",
     "text": [
      "\r",
      "\\ |                       #                         | 460 Elapsed Time: 0:03:47"
     ]
    },
    {
     "name": "stdout",
     "output_type": "stream",
     "text": [
      "Save image to path  assets/addi/fire_database/image459.jpg\n",
      "Downloading image from  http://com.dataturks.a96-i23.open.s3.amazonaws.com/2c9fafb06702b2c1016723e86959020f/6568a3c7-5bf2-4f0a-ba42-b6934b31d19e___195.JPEG\n"
     ]
    },
    {
     "name": "stderr",
     "output_type": "stream",
     "text": [
      "\r",
      "| |                           #                     | 461 Elapsed Time: 0:03:48"
     ]
    },
    {
     "name": "stdout",
     "output_type": "stream",
     "text": [
      "Save image to path  assets/addi/fire_database/image460.jpg\n",
      "Downloading image from  http://com.dataturks.a96-i23.open.s3.amazonaws.com/2c9fafb06702b2c1016723e86959020f/29bdefca-5c36-4192-a87d-508ea05752a5___382.JPEG\n"
     ]
    },
    {
     "name": "stderr",
     "output_type": "stream",
     "text": [
      "\r",
      "/ |                               #                 | 462 Elapsed Time: 0:03:48"
     ]
    },
    {
     "name": "stdout",
     "output_type": "stream",
     "text": [
      "Save image to path  assets/addi/fire_database/image461.jpg\n",
      "Downloading image from  http://com.dataturks.a96-i23.open.s3.amazonaws.com/2c9fafb06702b2c1016723e86959020f/b594368e-caf3-4c8f-8314-d051359d4069___228.JPEG\n"
     ]
    },
    {
     "name": "stderr",
     "output_type": "stream",
     "text": [
      "\r",
      "- |                                     #           | 463 Elapsed Time: 0:03:49"
     ]
    },
    {
     "name": "stdout",
     "output_type": "stream",
     "text": [
      "Save image to path  assets/addi/fire_database/image462.jpg\n",
      "Downloading image from  http://com.dataturks.a96-i23.open.s3.amazonaws.com/2c9fafb06702b2c1016723e86959020f/22391949-309a-4b8b-9c10-8fedd468ed21___FF191.JPEG\n"
     ]
    },
    {
     "name": "stderr",
     "output_type": "stream",
     "text": [
      "\r",
      "\\ |                                         #       | 464 Elapsed Time: 0:03:49"
     ]
    },
    {
     "name": "stdout",
     "output_type": "stream",
     "text": [
      "Save image to path  assets/addi/fire_database/image463.jpg\n",
      "Downloading image from  http://com.dataturks.a96-i23.open.s3.amazonaws.com/2c9fafb06702b2c1016723e86959020f/1486ff6d-a3af-49bd-af50-1ee61b276a46___414.JPEG\n"
     ]
    },
    {
     "name": "stderr",
     "output_type": "stream",
     "text": [
      "\r",
      "| |                                             #   | 465 Elapsed Time: 0:03:49"
     ]
    },
    {
     "name": "stdout",
     "output_type": "stream",
     "text": [
      "Save image to path  assets/addi/fire_database/image464.jpg\n",
      "Downloading image from  http://com.dataturks.a96-i23.open.s3.amazonaws.com/2c9fafb06702b2c1016723e86959020f/32886206-8ce1-47c5-9625-2ed076f044bb___FF257.JPEG\n"
     ]
    },
    {
     "name": "stderr",
     "output_type": "stream",
     "text": [
      "\r",
      "/ |                                                #| 466 Elapsed Time: 0:03:50"
     ]
    },
    {
     "name": "stdout",
     "output_type": "stream",
     "text": [
      "Save image to path  assets/addi/fire_database/image465.jpg\n",
      "Downloading image from  http://com.dataturks.a96-i23.open.s3.amazonaws.com/2c9fafb06702b2c1016723e86959020f/3c59436a-a2a9-450a-b187-d34bf1b079f9___59.JPEG\n"
     ]
    },
    {
     "name": "stderr",
     "output_type": "stream",
     "text": [
      "\r",
      "- |                                           #     | 467 Elapsed Time: 0:03:50"
     ]
    },
    {
     "name": "stdout",
     "output_type": "stream",
     "text": [
      "Save image to path  assets/addi/fire_database/image466.jpg\n",
      "Downloading image from  http://com.dataturks.a96-i23.open.s3.amazonaws.com/2c9fafb06702b2c1016723e86959020f/1b987e77-92ca-40fe-8428-750a17d63bf7___101.JPEG\n"
     ]
    },
    {
     "name": "stderr",
     "output_type": "stream",
     "text": [
      "\r",
      "\\ |                                      #          | 468 Elapsed Time: 0:03:51"
     ]
    },
    {
     "name": "stdout",
     "output_type": "stream",
     "text": [
      "Save image to path  assets/addi/fire_database/image467.jpg\n",
      "Downloading image from  http://com.dataturks.a96-i23.open.s3.amazonaws.com/2c9fafb06702b2c1016723e86959020f/b89d4488-328d-4eee-80d6-dfc83367545d___FF312.JPEG\n"
     ]
    },
    {
     "name": "stderr",
     "output_type": "stream",
     "text": [
      "\r",
      "| |                                 #               | 469 Elapsed Time: 0:03:51"
     ]
    },
    {
     "name": "stdout",
     "output_type": "stream",
     "text": [
      "Save image to path  assets/addi/fire_database/image468.jpg\n",
      "Downloading image from  http://com.dataturks.a96-i23.open.s3.amazonaws.com/2c9fafb06702b2c1016723e86959020f/b252d2d2-1b4a-4ddf-b68f-1c542dfed23a___551.JPEG\n"
     ]
    },
    {
     "name": "stderr",
     "output_type": "stream",
     "text": [
      "\r",
      "/ |                            #                    | 470 Elapsed Time: 0:03:52"
     ]
    },
    {
     "name": "stdout",
     "output_type": "stream",
     "text": [
      "Save image to path  assets/addi/fire_database/image469.jpg\n",
      "Downloading image from  http://com.dataturks.a96-i23.open.s3.amazonaws.com/2c9fafb06702b2c1016723e86959020f/b8abc96b-4cd0-42ba-9654-fb0dc9c9e794___FF68.JPEG\n"
     ]
    },
    {
     "name": "stderr",
     "output_type": "stream",
     "text": [
      "\r",
      "- |                        #                        | 471 Elapsed Time: 0:03:52"
     ]
    },
    {
     "name": "stdout",
     "output_type": "stream",
     "text": [
      "Save image to path  assets/addi/fire_database/image470.jpg\n",
      "Downloading image from  http://com.dataturks.a96-i23.open.s3.amazonaws.com/2c9fafb06702b2c1016723e86959020f/1c9bb58e-0699-43c9-b560-af1ad5c75ef1___290.JPEG\n"
     ]
    },
    {
     "name": "stderr",
     "output_type": "stream",
     "text": [
      "\r",
      "\\ |                    #                            | 472 Elapsed Time: 0:03:53"
     ]
    },
    {
     "name": "stdout",
     "output_type": "stream",
     "text": [
      "Save image to path  assets/addi/fire_database/image471.jpg\n",
      "Downloading image from  http://com.dataturks.a96-i23.open.s3.amazonaws.com/2c9fafb06702b2c1016723e86959020f/8a06e72e-2239-4e8c-b50b-c05b76145483___FF129.JPEG\n"
     ]
    },
    {
     "name": "stderr",
     "output_type": "stream",
     "text": [
      "\r",
      "| |                #                                | 473 Elapsed Time: 0:03:53"
     ]
    },
    {
     "name": "stdout",
     "output_type": "stream",
     "text": [
      "Save image to path  assets/addi/fire_database/image472.jpg\n",
      "Downloading image from  http://com.dataturks.a96-i23.open.s3.amazonaws.com/2c9fafb06702b2c1016723e86959020f/8393984e-9f43-47dc-910d-1f06ad4784f6___FF87.JPEG\n"
     ]
    },
    {
     "name": "stderr",
     "output_type": "stream",
     "text": [
      "\r",
      "/ |            #                                    | 474 Elapsed Time: 0:03:53"
     ]
    },
    {
     "name": "stdout",
     "output_type": "stream",
     "text": [
      "Save image to path  assets/addi/fire_database/image473.jpg\n",
      "Downloading image from  http://com.dataturks.a96-i23.open.s3.amazonaws.com/2c9fafb06702b2c1016723e86959020f/d020991d-f731-4ce9-a846-ab0a02d3a202___FF200.JPEG\n"
     ]
    },
    {
     "name": "stderr",
     "output_type": "stream",
     "text": [
      "\r",
      "- |       #                                         | 475 Elapsed Time: 0:03:54"
     ]
    },
    {
     "name": "stdout",
     "output_type": "stream",
     "text": [
      "Save image to path  assets/addi/fire_database/image474.jpg\n",
      "Downloading image from  http://com.dataturks.a96-i23.open.s3.amazonaws.com/2c9fafb06702b2c1016723e86959020f/06ced992-374f-431d-a6b1-54e6502a75fe___443.JPEG\n"
     ]
    },
    {
     "name": "stderr",
     "output_type": "stream",
     "text": [
      "\r",
      "\\ |   #                                             | 476 Elapsed Time: 0:03:54"
     ]
    },
    {
     "name": "stdout",
     "output_type": "stream",
     "text": [
      "Save image to path  assets/addi/fire_database/image475.jpg\n",
      "Downloading image from  http://com.dataturks.a96-i23.open.s3.amazonaws.com/2c9fafb06702b2c1016723e86959020f/00b48897-7a94-4115-b669-0508fffc30ff___506.JPEG\n"
     ]
    },
    {
     "name": "stderr",
     "output_type": "stream",
     "text": [
      "\r",
      "| |  #                                              | 477 Elapsed Time: 0:03:55"
     ]
    },
    {
     "name": "stdout",
     "output_type": "stream",
     "text": [
      "Save image to path  assets/addi/fire_database/image476.jpg\n",
      "Downloading image from  http://com.dataturks.a96-i23.open.s3.amazonaws.com/2c9fafb06702b2c1016723e86959020f/f6600b39-7daa-48e9-81da-f3a332391946___156.JPEG\n"
     ]
    },
    {
     "name": "stderr",
     "output_type": "stream",
     "text": [
      "\r",
      "/ |       #                                         | 478 Elapsed Time: 0:03:55"
     ]
    },
    {
     "name": "stdout",
     "output_type": "stream",
     "text": [
      "Save image to path  assets/addi/fire_database/image477.jpg\n",
      "Downloading image from  http://com.dataturks.a96-i23.open.s3.amazonaws.com/2c9fafb06702b2c1016723e86959020f/16f7411f-2f92-4fd7-a9d1-4357e44a5156___269.JPEG\n"
     ]
    },
    {
     "name": "stderr",
     "output_type": "stream",
     "text": [
      "\r",
      "- |             #                                   | 479 Elapsed Time: 0:03:56"
     ]
    },
    {
     "name": "stdout",
     "output_type": "stream",
     "text": [
      "Save image to path  assets/addi/fire_database/image478.jpg\n",
      "Downloading image from  http://com.dataturks.a96-i23.open.s3.amazonaws.com/2c9fafb06702b2c1016723e86959020f/7d5bd893-d485-46fc-b935-399783875a8b___FF91.JPEG\n"
     ]
    },
    {
     "name": "stderr",
     "output_type": "stream",
     "text": [
      "\r",
      "\\ |                 #                               | 480 Elapsed Time: 0:03:56"
     ]
    },
    {
     "name": "stdout",
     "output_type": "stream",
     "text": [
      "Save image to path  assets/addi/fire_database/image479.jpg\n",
      "Downloading image from  http://com.dataturks.a96-i23.open.s3.amazonaws.com/2c9fafb06702b2c1016723e86959020f/70caf6c9-6dcb-41e6-a9e0-dd57cdcdfcd2___286.JPEG\n"
     ]
    },
    {
     "name": "stderr",
     "output_type": "stream",
     "text": [
      "\r",
      "| |                       #                         | 481 Elapsed Time: 0:03:57"
     ]
    },
    {
     "name": "stdout",
     "output_type": "stream",
     "text": [
      "Save image to path  assets/addi/fire_database/image480.jpg\n",
      "Downloading image from  http://com.dataturks.a96-i23.open.s3.amazonaws.com/2c9fafb06702b2c1016723e86959020f/2d83a4e7-fdbb-40bb-9c50-1208b25c06ed___455.JPEG\n"
     ]
    },
    {
     "name": "stderr",
     "output_type": "stream",
     "text": [
      "\r",
      "/ |                           #                     | 482 Elapsed Time: 0:03:57"
     ]
    },
    {
     "name": "stdout",
     "output_type": "stream",
     "text": [
      "Save image to path  assets/addi/fire_database/image481.jpg\n",
      "Downloading image from  http://com.dataturks.a96-i23.open.s3.amazonaws.com/2c9fafb06702b2c1016723e86959020f/efab1e45-e52c-4caf-84e1-93db1ba2a142___FF216.JPEG\n"
     ]
    },
    {
     "name": "stderr",
     "output_type": "stream",
     "text": [
      "\r",
      "- |                               #                 | 483 Elapsed Time: 0:03:58"
     ]
    },
    {
     "name": "stdout",
     "output_type": "stream",
     "text": [
      "Save image to path  assets/addi/fire_database/image482.jpg\n",
      "Downloading image from  http://com.dataturks.a96-i23.open.s3.amazonaws.com/2c9fafb06702b2c1016723e86959020f/ac83a766-2285-49c7-9055-674c0b803076___18.JPEG\n"
     ]
    },
    {
     "name": "stderr",
     "output_type": "stream",
     "text": [
      "\r",
      "\\ |                                     #           | 484 Elapsed Time: 0:03:58"
     ]
    },
    {
     "name": "stdout",
     "output_type": "stream",
     "text": [
      "Save image to path  assets/addi/fire_database/image483.jpg\n",
      "Downloading image from  http://com.dataturks.a96-i23.open.s3.amazonaws.com/2c9fafb06702b2c1016723e86959020f/d095fc7d-e5b9-4d9b-9840-a08ef29abbf5___140.JPEG\n"
     ]
    },
    {
     "name": "stderr",
     "output_type": "stream",
     "text": [
      "\r",
      "| |                                          #      | 485 Elapsed Time: 0:03:59"
     ]
    },
    {
     "name": "stdout",
     "output_type": "stream",
     "text": [
      "Save image to path  assets/addi/fire_database/image484.jpg\n",
      "Downloading image from  http://com.dataturks.a96-i23.open.s3.amazonaws.com/2c9fafb06702b2c1016723e86959020f/4bb2632a-a1d4-433a-bf2f-465d4140bc88___510.JPEG\n"
     ]
    },
    {
     "name": "stderr",
     "output_type": "stream",
     "text": [
      "\r",
      "/ |                                               # | 486 Elapsed Time: 0:03:59"
     ]
    },
    {
     "name": "stdout",
     "output_type": "stream",
     "text": [
      "Save image to path  assets/addi/fire_database/image485.jpg\n",
      "Downloading image from  http://com.dataturks.a96-i23.open.s3.amazonaws.com/2c9fafb06702b2c1016723e86959020f/2c10532c-354c-435b-b394-215043f72937___FF187.JPEG\n"
     ]
    },
    {
     "name": "stderr",
     "output_type": "stream",
     "text": [
      "\r",
      "- |                                             #   | 487 Elapsed Time: 0:04:00"
     ]
    },
    {
     "name": "stdout",
     "output_type": "stream",
     "text": [
      "Save image to path  assets/addi/fire_database/image486.jpg\n",
      "Downloading image from  http://com.dataturks.a96-i23.open.s3.amazonaws.com/2c9fafb06702b2c1016723e86959020f/205e8df0-ff04-4534-afc3-6ee2b9fad4ea___FF29.JPEG\n"
     ]
    },
    {
     "name": "stderr",
     "output_type": "stream",
     "text": [
      "\r",
      "\\ |                                         #       | 488 Elapsed Time: 0:04:00"
     ]
    },
    {
     "name": "stdout",
     "output_type": "stream",
     "text": [
      "Save image to path  assets/addi/fire_database/image487.jpg\n",
      "Downloading image from  http://com.dataturks.a96-i23.open.s3.amazonaws.com/2c9fafb06702b2c1016723e86959020f/983bbc15-aa4b-47d3-95e5-1b43152568b1___394.JPEG\n"
     ]
    },
    {
     "name": "stderr",
     "output_type": "stream",
     "text": [
      "\r",
      "| |                                    #            | 489 Elapsed Time: 0:04:01"
     ]
    },
    {
     "name": "stdout",
     "output_type": "stream",
     "text": [
      "Save image to path  assets/addi/fire_database/image488.jpg\n",
      "Downloading image from  http://com.dataturks.a96-i23.open.s3.amazonaws.com/2c9fafb06702b2c1016723e86959020f/0931b433-6f38-47ef-9c2a-2bbc131d763a___FF168.JPEG\n"
     ]
    },
    {
     "name": "stderr",
     "output_type": "stream",
     "text": [
      "\r",
      "/ |                                #                | 490 Elapsed Time: 0:04:01"
     ]
    },
    {
     "name": "stdout",
     "output_type": "stream",
     "text": [
      "Save image to path  assets/addi/fire_database/image489.jpg\n",
      "Downloading image from  http://com.dataturks.a96-i23.open.s3.amazonaws.com/2c9fafb06702b2c1016723e86959020f/f80de862-a0f3-483a-8231-61e436b377e1___FF241.JPEG\n"
     ]
    },
    {
     "name": "stderr",
     "output_type": "stream",
     "text": [
      "\r",
      "- |                           #                     | 491 Elapsed Time: 0:04:02"
     ]
    },
    {
     "name": "stdout",
     "output_type": "stream",
     "text": [
      "Save image to path  assets/addi/fire_database/image490.jpg\n",
      "Downloading image from  http://com.dataturks.a96-i23.open.s3.amazonaws.com/2c9fafb06702b2c1016723e86959020f/1f90ffe0-5abc-4c00-9692-3ec00eee7249___402.JPEG\n"
     ]
    },
    {
     "name": "stderr",
     "output_type": "stream",
     "text": [
      "\r",
      "\\ |                     #                           | 492 Elapsed Time: 0:04:02"
     ]
    },
    {
     "name": "stdout",
     "output_type": "stream",
     "text": [
      "Save image to path  assets/addi/fire_database/image491.jpg\n",
      "Downloading image from  http://com.dataturks.a96-i23.open.s3.amazonaws.com/2c9fafb06702b2c1016723e86959020f/408152a6-e317-4f7f-9bd2-79da4f77bfb6___547.JPEG\n"
     ]
    },
    {
     "name": "stderr",
     "output_type": "stream",
     "text": [
      "\r",
      "| |                 #                               | 493 Elapsed Time: 0:04:03"
     ]
    },
    {
     "name": "stdout",
     "output_type": "stream",
     "text": [
      "Save image to path  assets/addi/fire_database/image492.jpg\n",
      "Downloading image from  http://com.dataturks.a96-i23.open.s3.amazonaws.com/2c9fafb06702b2c1016723e86959020f/9d5908e0-ee73-4c33-8cdd-e4e8d79d2f84___FF304.JPEG\n"
     ]
    },
    {
     "name": "stderr",
     "output_type": "stream",
     "text": [
      "\r",
      "/ |              #                                  | 494 Elapsed Time: 0:04:03"
     ]
    },
    {
     "name": "stdout",
     "output_type": "stream",
     "text": [
      "Save image to path  assets/addi/fire_database/image493.jpg\n",
      "Downloading image from  http://com.dataturks.a96-i23.open.s3.amazonaws.com/2c9fafb06702b2c1016723e86959020f/c1668916-703f-49a8-a045-39e5b1700266___117.JPEG\n"
     ]
    },
    {
     "name": "stderr",
     "output_type": "stream",
     "text": [
      "\r",
      "- |        #                                        | 495 Elapsed Time: 0:04:04"
     ]
    },
    {
     "name": "stdout",
     "output_type": "stream",
     "text": [
      "Save image to path  assets/addi/fire_database/image494.jpg\n",
      "Downloading image from  http://com.dataturks.a96-i23.open.s3.amazonaws.com/2c9fafb06702b2c1016723e86959020f/d136d24a-a0bf-47c6-a9c4-5fda061075a3___38.JPEG\n"
     ]
    },
    {
     "name": "stderr",
     "output_type": "stream",
     "text": [
      "\r",
      "\\ |   #                                             | 496 Elapsed Time: 0:04:04"
     ]
    },
    {
     "name": "stdout",
     "output_type": "stream",
     "text": [
      "Save image to path  assets/addi/fire_database/image495.jpg\n",
      "Downloading image from  http://com.dataturks.a96-i23.open.s3.amazonaws.com/2c9fafb06702b2c1016723e86959020f/6a03030e-8701-43a7-bb50-02ef40dc6598___160.JPEG\n"
     ]
    },
    {
     "name": "stderr",
     "output_type": "stream",
     "text": [
      "\r",
      "| |  #                                              | 497 Elapsed Time: 0:04:05"
     ]
    },
    {
     "name": "stdout",
     "output_type": "stream",
     "text": [
      "Save image to path  assets/addi/fire_database/image496.jpg\n",
      "Downloading image from  http://com.dataturks.a96-i23.open.s3.amazonaws.com/2c9fafb06702b2c1016723e86959020f/032cab3f-36a8-472a-adb7-7124314d9e5a___530.JPEG\n"
     ]
    },
    {
     "name": "stderr",
     "output_type": "stream",
     "text": [
      "\r",
      "/ |      #                                          | 498 Elapsed Time: 0:04:05"
     ]
    },
    {
     "name": "stdout",
     "output_type": "stream",
     "text": [
      "Save image to path  assets/addi/fire_database/image497.jpg\n",
      "Downloading image from  http://com.dataturks.a96-i23.open.s3.amazonaws.com/2c9fafb06702b2c1016723e86959020f/1ec6080a-1187-4661-ae5f-da3b9810dcfd___475.JPEG\n"
     ]
    },
    {
     "name": "stderr",
     "output_type": "stream",
     "text": [
      "\r",
      "- |           #                                     | 499 Elapsed Time: 0:04:06"
     ]
    },
    {
     "name": "stdout",
     "output_type": "stream",
     "text": [
      "Save image to path  assets/addi/fire_database/image498.jpg\n",
      "Downloading image from  http://com.dataturks.a96-i23.open.s3.amazonaws.com/2c9fafb06702b2c1016723e86959020f/061b471e-6e41-48e0-a384-66763c9a0596___FF236.JPEG\n"
     ]
    },
    {
     "name": "stderr",
     "output_type": "stream",
     "text": [
      "\r",
      "\\ |                #                                | 500 Elapsed Time: 0:04:06"
     ]
    },
    {
     "name": "stdout",
     "output_type": "stream",
     "text": [
      "Save image to path  assets/addi/fire_database/image499.jpg\n",
      "Downloading image from  http://com.dataturks.a96-i23.open.s3.amazonaws.com/2c9fafb06702b2c1016723e86959020f/4b8e968b-c391-4d6e-8353-cb6e6a579faf___249.JPEG\n"
     ]
    },
    {
     "name": "stderr",
     "output_type": "stream",
     "text": [
      "\r",
      "| |                     #                           | 501 Elapsed Time: 0:04:07"
     ]
    },
    {
     "name": "stdout",
     "output_type": "stream",
     "text": [
      "Save image to path  assets/addi/fire_database/image500.jpg\n",
      "Downloading image from  http://com.dataturks.a96-i23.open.s3.amazonaws.com/2c9fafb06702b2c1016723e86959020f/c8ebb603-568d-460d-a2fa-b00d2f4984ad___137.JPEG\n"
     ]
    },
    {
     "name": "stderr",
     "output_type": "stream",
     "text": [
      "\r",
      "/ |                          #                      | 502 Elapsed Time: 0:04:07"
     ]
    },
    {
     "name": "stdout",
     "output_type": "stream",
     "text": [
      "Save image to path  assets/addi/fire_database/image501.jpg\n",
      "Downloading image from  http://com.dataturks.a96-i23.open.s3.amazonaws.com/2c9fafb06702b2c1016723e86959020f/86758e0c-504e-4543-b92d-680a23687829___80.JPEG\n"
     ]
    },
    {
     "name": "stderr",
     "output_type": "stream",
     "text": [
      "\r",
      "- |                                #                | 503 Elapsed Time: 0:04:08"
     ]
    },
    {
     "name": "stdout",
     "output_type": "stream",
     "text": [
      "Save image to path  assets/addi/fire_database/image502.jpg\n",
      "Downloading image from  http://com.dataturks.a96-i23.open.s3.amazonaws.com/2c9fafb06702b2c1016723e86959020f/562cebbd-08de-43c2-a204-2b0ea6af878a___4.JPEG\n"
     ]
    },
    {
     "name": "stderr",
     "output_type": "stream",
     "text": [
      "\r",
      "\\ |                                    #            | 504 Elapsed Time: 0:04:08"
     ]
    },
    {
     "name": "stdout",
     "output_type": "stream",
     "text": [
      "Save image to path  assets/addi/fire_database/image503.jpg\n",
      "Downloading image from  http://com.dataturks.a96-i23.open.s3.amazonaws.com/2c9fafb06702b2c1016723e86959020f/81764e50-5808-43a5-9190-2d71407e8957___FF261.JPEG\n"
     ]
    },
    {
     "name": "stderr",
     "output_type": "stream",
     "text": [
      "\r",
      "| |                                        #        | 505 Elapsed Time: 0:04:09"
     ]
    },
    {
     "name": "stdout",
     "output_type": "stream",
     "text": [
      "Save image to path  assets/addi/fire_database/image504.jpg\n",
      "Downloading image from  http://com.dataturks.a96-i23.open.s3.amazonaws.com/2c9fafb06702b2c1016723e86959020f/d9641ad4-1c1b-45a3-9e71-f40d1fa2189e___422.JPEG\n"
     ]
    },
    {
     "name": "stderr",
     "output_type": "stream",
     "text": [
      "\r",
      "/ |                                             #   | 506 Elapsed Time: 0:04:09"
     ]
    },
    {
     "name": "stdout",
     "output_type": "stream",
     "text": [
      "Save image to path  assets/addi/fire_database/image505.jpg\n",
      "Downloading image from  http://com.dataturks.a96-i23.open.s3.amazonaws.com/2c9fafb06702b2c1016723e86959020f/76c758a7-3afc-48c3-9cdc-94ed0069473b___FF148.JPEG\n"
     ]
    },
    {
     "name": "stderr",
     "output_type": "stream",
     "text": [
      "\r",
      "- |                                               # | 507 Elapsed Time: 0:04:10"
     ]
    },
    {
     "name": "stdout",
     "output_type": "stream",
     "text": [
      "Save image to path  assets/addi/fire_database/image506.jpg\n",
      "Downloading image from  http://com.dataturks.a96-i23.open.s3.amazonaws.com/2c9fafb06702b2c1016723e86959020f/a4d43bf7-357d-46a3-a541-bf4655563625___79.JPEG\n"
     ]
    },
    {
     "name": "stderr",
     "output_type": "stream",
     "text": [
      "\r",
      "\\ |                                          #      | 508 Elapsed Time: 0:04:10"
     ]
    },
    {
     "name": "stdout",
     "output_type": "stream",
     "text": [
      "Save image to path  assets/addi/fire_database/image507.jpg\n",
      "Downloading image from  http://com.dataturks.a96-i23.open.s3.amazonaws.com/2c9fafb06702b2c1016723e86959020f/bb596125-cc37-4310-a004-1b9e1333f4ef___121.JPEG\n"
     ]
    },
    {
     "name": "stderr",
     "output_type": "stream",
     "text": [
      "\r",
      "| |                                     #           | 509 Elapsed Time: 0:04:11"
     ]
    },
    {
     "name": "stdout",
     "output_type": "stream",
     "text": [
      "Save image to path  assets/addi/fire_database/image508.jpg\n",
      "Downloading image from  http://com.dataturks.a96-i23.open.s3.amazonaws.com/2c9fafb06702b2c1016723e86959020f/233d39d7-5237-4647-86c8-ca162a04e424___FF298.JPEG\n"
     ]
    },
    {
     "name": "stderr",
     "output_type": "stream",
     "text": [
      "\r",
      "/ |                                 #               | 510 Elapsed Time: 0:04:11"
     ]
    },
    {
     "name": "stdout",
     "output_type": "stream",
     "text": [
      "Save image to path  assets/addi/fire_database/image509.jpg\n",
      "Downloading image from  http://com.dataturks.a96-i23.open.s3.amazonaws.com/2c9fafb06702b2c1016723e86959020f/a0589de0-f131-44f8-8b2f-b94f31f52e11___434.JPEG\n"
     ]
    },
    {
     "name": "stderr",
     "output_type": "stream",
     "text": [
      "\r",
      "- |                            #                    | 511 Elapsed Time: 0:04:11"
     ]
    },
    {
     "name": "stdout",
     "output_type": "stream",
     "text": [
      "Save image to path  assets/addi/fire_database/image510.jpg\n",
      "Downloading image from  http://com.dataturks.a96-i23.open.s3.amazonaws.com/2c9fafb06702b2c1016723e86959020f/b1631301-ba46-47a2-8e56-5ac21393295e___FF277.JPEG\n"
     ]
    },
    {
     "name": "stderr",
     "output_type": "stream",
     "text": [
      "\r",
      "\\ |                        #                        | 512 Elapsed Time: 0:04:12"
     ]
    },
    {
     "name": "stdout",
     "output_type": "stream",
     "text": [
      "Save image to path  assets/addi/fire_database/image511.jpg\n",
      "Downloading image from  http://com.dataturks.a96-i23.open.s3.amazonaws.com/2c9fafb06702b2c1016723e86959020f/afbaed81-2b0e-496d-b099-13941fb6fed5___96.JPEG\n"
     ]
    },
    {
     "name": "stderr",
     "output_type": "stream",
     "text": [
      "\r",
      "| |                   #                             | 513 Elapsed Time: 0:04:12"
     ]
    },
    {
     "name": "stdout",
     "output_type": "stream",
     "text": [
      "Save image to path  assets/addi/fire_database/image512.jpg\n",
      "Downloading image from  http://com.dataturks.a96-i23.open.s3.amazonaws.com/2c9fafb06702b2c1016723e86959020f/4a135253-82fd-4b1b-8b9a-d0073ab93049___208.JPEG\n"
     ]
    },
    {
     "name": "stderr",
     "output_type": "stream",
     "text": [
      "\r",
      "/ |               #                                 | 514 Elapsed Time: 0:04:13"
     ]
    },
    {
     "name": "stdout",
     "output_type": "stream",
     "text": [
      "Save image to path  assets/addi/fire_database/image513.jpg\n",
      "Downloading image from  http://com.dataturks.a96-i23.open.s3.amazonaws.com/2c9fafb06702b2c1016723e86959020f/aaf5af15-8192-4538-87f9-08cb4630c0a2___526.JPEG\n"
     ]
    },
    {
     "name": "stderr",
     "output_type": "stream",
     "text": [
      "\r",
      "- |          #                                      | 515 Elapsed Time: 0:04:13"
     ]
    },
    {
     "name": "stdout",
     "output_type": "stream",
     "text": [
      "Save image to path  assets/addi/fire_database/image514.jpg\n",
      "Downloading image from  http://com.dataturks.a96-i23.open.s3.amazonaws.com/2c9fafb06702b2c1016723e86959020f/3aa3d462-b30f-41fd-97dd-f7d66c3d653c___176.JPEG\n"
     ]
    },
    {
     "name": "stderr",
     "output_type": "stream",
     "text": [
      "\r",
      "\\ |    #                                            | 516 Elapsed Time: 0:04:14"
     ]
    },
    {
     "name": "stdout",
     "output_type": "stream",
     "text": [
      "Save image to path  assets/addi/fire_database/image515.jpg\n",
      "Downloading image from  http://com.dataturks.a96-i23.open.s3.amazonaws.com/2c9fafb06702b2c1016723e86959020f/3912a3e5-0b5b-41dc-9054-60e346afed19___199.JPEG\n"
     ]
    },
    {
     "name": "stderr",
     "output_type": "stream",
     "text": [
      "\r",
      "| |#                                                | 517 Elapsed Time: 0:04:14"
     ]
    },
    {
     "name": "stdout",
     "output_type": "stream",
     "text": [
      "Save image to path  assets/addi/fire_database/image516.jpg\n",
      "Downloading image from  http://com.dataturks.a96-i23.open.s3.amazonaws.com/2c9fafb06702b2c1016723e86959020f/dc01f96f-3140-46af-858d-12eec4481483___FF220.JPEG\n"
     ]
    },
    {
     "name": "stderr",
     "output_type": "stream",
     "text": [
      "\r",
      "/ |   #                                             | 518 Elapsed Time: 0:04:15"
     ]
    },
    {
     "name": "stdout",
     "output_type": "stream",
     "text": [
      "Save image to path  assets/addi/fire_database/image517.jpg\n",
      "Downloading image from  http://com.dataturks.a96-i23.open.s3.amazonaws.com/2c9fafb06702b2c1016723e86959020f/558c3f18-3381-4f12-84e3-b74332952d94___463.JPEG\n"
     ]
    },
    {
     "name": "stderr",
     "output_type": "stream",
     "text": [
      "\r",
      "- |        #                                        | 519 Elapsed Time: 0:04:15"
     ]
    },
    {
     "name": "stdout",
     "output_type": "stream",
     "text": [
      "Save image to path  assets/addi/fire_database/image518.jpg\n",
      "Downloading image from  http://com.dataturks.a96-i23.open.s3.amazonaws.com/2c9fafb06702b2c1016723e86959020f/cb47cf2b-ca2f-4673-b8c8-4d821af1627e___FF109.JPEG\n"
     ]
    },
    {
     "name": "stderr",
     "output_type": "stream",
     "text": [
      "\r",
      "\\ |            #                                    | 520 Elapsed Time: 0:04:16"
     ]
    },
    {
     "name": "stdout",
     "output_type": "stream",
     "text": [
      "Save image to path  assets/addi/fire_database/image519.jpg\n",
      "Downloading image from  http://com.dataturks.a96-i23.open.s3.amazonaws.com/2c9fafb06702b2c1016723e86959020f/4706779f-28ca-4784-b7a7-3542a00b5660___FF48.JPEG\n"
     ]
    },
    {
     "name": "stderr",
     "output_type": "stream",
     "text": [
      "\r",
      "| |                  #                              | 521 Elapsed Time: 0:04:16"
     ]
    },
    {
     "name": "stdout",
     "output_type": "stream",
     "text": [
      "Save image to path  assets/addi/fire_database/image520.jpg\n",
      "Downloading image from  http://com.dataturks.a96-i23.open.s3.amazonaws.com/2c9fafb06702b2c1016723e86959020f/917997d0-acda-46fa-8f03-2b994c7560f3___418.JPEG\n"
     ]
    },
    {
     "name": "stderr",
     "output_type": "stream",
     "text": [
      "\r",
      "/ |                       #                         | 522 Elapsed Time: 0:04:17"
     ]
    },
    {
     "name": "stdout",
     "output_type": "stream",
     "text": [
      "Save image to path  assets/addi/fire_database/image521.jpg\n",
      "Downloading image from  http://com.dataturks.a96-i23.open.s3.amazonaws.com/2c9fafb06702b2c1016723e86959020f/c94cae98-fd10-46c2-b8ce-6c0b209098b9___55.JPEG\n"
     ]
    },
    {
     "name": "stderr",
     "output_type": "stream",
     "text": [
      "\r",
      "- |                             #                   | 523 Elapsed Time: 0:04:17"
     ]
    },
    {
     "name": "stdout",
     "output_type": "stream",
     "text": [
      "Save image to path  assets/addi/fire_database/image522.jpg\n",
      "Downloading image from  http://com.dataturks.a96-i23.open.s3.amazonaws.com/2c9fafb06702b2c1016723e86959020f/5378abfd-7ab1-48a8-992f-305946e34f6c___224.JPEG\n"
     ]
    },
    {
     "name": "stderr",
     "output_type": "stream",
     "text": [
      "\r",
      "\\ |                                   #             | 524 Elapsed Time: 0:04:18"
     ]
    },
    {
     "name": "stdout",
     "output_type": "stream",
     "text": [
      "Save image to path  assets/addi/fire_database/image523.jpg\n",
      "Downloading image from  http://com.dataturks.a96-i23.open.s3.amazonaws.com/2c9fafb06702b2c1016723e86959020f/57315a82-f161-4884-9b1f-490458e922e3___FF33.JPEG\n"
     ]
    },
    {
     "name": "stderr",
     "output_type": "stream",
     "text": [
      "\r",
      "| |                                       #         | 525 Elapsed Time: 0:04:18"
     ]
    },
    {
     "name": "stdout",
     "output_type": "stream",
     "text": [
      "Save image to path  assets/addi/fire_database/image524.jpg\n",
      "Downloading image from  http://com.dataturks.a96-i23.open.s3.amazonaws.com/2c9fafb06702b2c1016723e86959020f/f4430a75-71c3-4bf8-9374-5fad666a005c___361.JPEG\n"
     ]
    },
    {
     "name": "stderr",
     "output_type": "stream",
     "text": [
      "\r",
      "/ |                                                #| 526 Elapsed Time: 0:04:19"
     ]
    },
    {
     "name": "stdout",
     "output_type": "stream",
     "text": [
      "Save image to path  assets/addi/fire_database/image525.jpg\n",
      "Downloading image from  http://com.dataturks.a96-i23.open.s3.amazonaws.com/2c9fafb06702b2c1016723e86959020f/b7b55348-60b8-415c-92b5-0445e1b1e85d___FF172.JPEG\n"
     ]
    },
    {
     "name": "stderr",
     "output_type": "stream",
     "text": [
      "\r",
      "- |                                             #   | 527 Elapsed Time: 0:04:20"
     ]
    },
    {
     "name": "stdout",
     "output_type": "stream",
     "text": [
      "Save image to path  assets/addi/fire_database/image526.jpg\n",
      "Downloading image from  http://com.dataturks.a96-i23.open.s3.amazonaws.com/2c9fafb06702b2c1016723e86959020f/4786d498-5b9b-4e25-8ceb-f52dec4aa7cf___FF64.JPEG\n"
     ]
    },
    {
     "name": "stderr",
     "output_type": "stream",
     "text": [
      "\r",
      "\\ |                                        #        | 528 Elapsed Time: 0:04:20"
     ]
    },
    {
     "name": "stdout",
     "output_type": "stream",
     "text": [
      "Save image to path  assets/addi/fire_database/image527.jpg\n",
      "Downloading image from  http://com.dataturks.a96-i23.open.s3.amazonaws.com/2c9fafb06702b2c1016723e86959020f/391456c2-2588-4e75-9c84-09b6df93318b___273.JPEG\n"
     ]
    },
    {
     "name": "stderr",
     "output_type": "stream",
     "text": [
      "\r",
      "| |                                   #             | 529 Elapsed Time: 0:04:21"
     ]
    },
    {
     "name": "stdout",
     "output_type": "stream",
     "text": [
      "Save image to path  assets/addi/fire_database/image528.jpg\n",
      "Downloading image from  http://com.dataturks.a96-i23.open.s3.amazonaws.com/2c9fafb06702b2c1016723e86959020f/3fe8b63a-124c-4c1e-bce4-df09d35f2854___FF125.JPEG\n"
     ]
    },
    {
     "name": "stderr",
     "output_type": "stream",
     "text": [
      "\r",
      "/ |                               #                 | 530 Elapsed Time: 0:04:21"
     ]
    },
    {
     "name": "stdout",
     "output_type": "stream",
     "text": [
      "Save image to path  assets/addi/fire_database/image529.jpg\n",
      "Downloading image from  http://com.dataturks.a96-i23.open.s3.amazonaws.com/2c9fafb06702b2c1016723e86959020f/df9133dd-5a35-4099-92db-4796238d7c77___336.JPEG\n"
     ]
    },
    {
     "name": "stderr",
     "output_type": "stream",
     "text": [
      "\r",
      "- |                          #                      | 531 Elapsed Time: 0:04:21"
     ]
    },
    {
     "name": "stdout",
     "output_type": "stream",
     "text": [
      "Save image to path  assets/addi/fire_database/image530.jpg\n",
      "Downloading image from  http://com.dataturks.a96-i23.open.s3.amazonaws.com/2c9fafb06702b2c1016723e86959020f/9bb22f36-16bd-4d4c-8b56-9c91631faedf___459.JPEG\n"
     ]
    },
    {
     "name": "stderr",
     "output_type": "stream",
     "text": [
      "\r",
      "\\ |                    #                            | 532 Elapsed Time: 0:04:22"
     ]
    },
    {
     "name": "stdout",
     "output_type": "stream",
     "text": [
      "Save image to path  assets/addi/fire_database/image531.jpg\n",
      "Downloading image from  http://com.dataturks.a96-i23.open.s3.amazonaws.com/2c9fafb06702b2c1016723e86959020f/fe58523a-6835-4e88-b0aa-1c7ed5a07def___FF6.JPEG\n"
     ]
    },
    {
     "name": "stderr",
     "output_type": "stream",
     "text": [
      "\r",
      "| |                #                                | 533 Elapsed Time: 0:04:22"
     ]
    },
    {
     "name": "stdout",
     "output_type": "stream",
     "text": [
      "Save image to path  assets/addi/fire_database/image532.jpg\n",
      "Downloading image from  http://com.dataturks.a96-i23.open.s3.amazonaws.com/2c9fafb06702b2c1016723e86959020f/bb78398e-e429-429f-a97c-1ddbed039b07___14.JPEG\n"
     ]
    },
    {
     "name": "stderr",
     "output_type": "stream",
     "text": [
      "\r",
      "/ |           #                                     | 534 Elapsed Time: 0:04:23"
     ]
    },
    {
     "name": "stdout",
     "output_type": "stream",
     "text": [
      "Save image to path  assets/addi/fire_database/image533.jpg\n",
      "Downloading image from  http://com.dataturks.a96-i23.open.s3.amazonaws.com/2c9fafb06702b2c1016723e86959020f/c3265493-fa22-42f5-99ad-e4f1d5987dbc___265.JPEG\n"
     ]
    },
    {
     "name": "stderr",
     "output_type": "stream",
     "text": [
      "\r",
      "- |      #                                          | 535 Elapsed Time: 0:04:23"
     ]
    },
    {
     "name": "stdout",
     "output_type": "stream",
     "text": [
      "Save image to path  assets/addi/fire_database/image534.jpg\n",
      "Downloading image from  http://com.dataturks.a96-i23.open.s3.amazonaws.com/2c9fafb06702b2c1016723e86959020f/e69ba5f4-1d27-452a-b233-3b80da7e07cd___FF72.JPEG\n"
     ]
    },
    {
     "name": "stderr",
     "output_type": "stream",
     "text": [
      "\r",
      "\\ |  #                                              | 536 Elapsed Time: 0:04:24"
     ]
    },
    {
     "name": "stdout",
     "output_type": "stream",
     "text": [
      "Save image to path  assets/addi/fire_database/image535.jpg\n",
      "Downloading image from  http://com.dataturks.a96-i23.open.s3.amazonaws.com/2c9fafb06702b2c1016723e86959020f/5953ea84-de1d-4667-a773-694727586628___320.JPEG\n"
     ]
    },
    {
     "name": "stderr",
     "output_type": "stream",
     "text": [
      "\r",
      "| |    #                                            | 537 Elapsed Time: 0:04:25"
     ]
    },
    {
     "name": "stdout",
     "output_type": "stream",
     "text": [
      "Save image to path  assets/addi/fire_database/image536.jpg\n",
      "Downloading image from  http://com.dataturks.a96-i23.open.s3.amazonaws.com/2c9fafb06702b2c1016723e86959020f/3b2cc22b-5282-4938-aebf-2d3fb7565b3e___FF133.JPEG\n"
     ]
    },
    {
     "name": "stderr",
     "output_type": "stream",
     "text": [
      "\r",
      "/ |         #                                       | 538 Elapsed Time: 0:04:25"
     ]
    },
    {
     "name": "stdout",
     "output_type": "stream",
     "text": [
      "Save image to path  assets/addi/fire_database/image537.jpg\n",
      "Downloading image from  http://com.dataturks.a96-i23.open.s3.amazonaws.com/2c9fafb06702b2c1016723e86959020f/46dafba0-3ff9-4914-ad89-074a1168fb77___43.JPEG\n"
     ]
    },
    {
     "name": "stderr",
     "output_type": "stream",
     "text": [
      "\r",
      "- |               #                                 | 539 Elapsed Time: 0:04:26"
     ]
    },
    {
     "name": "stdout",
     "output_type": "stream",
     "text": [
      "Save image to path  assets/addi/fire_database/image538.jpg\n",
      "Downloading image from  http://com.dataturks.a96-i23.open.s3.amazonaws.com/2c9fafb06702b2c1016723e86959020f/7bb4921c-9bd5-46fa-814c-7a377b129345___FF308.JPEG\n"
     ]
    },
    {
     "name": "stderr",
     "output_type": "stream",
     "text": [
      "\r",
      "\\ |                   #                             | 540 Elapsed Time: 0:04:26"
     ]
    },
    {
     "name": "stdout",
     "output_type": "stream",
     "text": [
      "Save image to path  assets/addi/fire_database/image539.jpg\n",
      "Downloading image from  http://com.dataturks.a96-i23.open.s3.amazonaws.com/2c9fafb06702b2c1016723e86959020f/8e1e0f8c-05bd-4d91-a238-16434b3c0d92___398.JPEG\n"
     ]
    },
    {
     "name": "stderr",
     "output_type": "stream",
     "text": [
      "\r",
      "| |                         #                       | 541 Elapsed Time: 0:04:27"
     ]
    },
    {
     "name": "stdout",
     "output_type": "stream",
     "text": [
      "Save image to path  assets/addi/fire_database/image540.jpg\n",
      "Downloading image from  http://com.dataturks.a96-i23.open.s3.amazonaws.com/2c9fafb06702b2c1016723e86959020f/e6732934-9957-42b9-813c-bef35cbe3155___FF25.JPEG\n"
     ]
    },
    {
     "name": "stderr",
     "output_type": "stream",
     "text": [
      "\r",
      "/ |                             #                   | 542 Elapsed Time: 0:04:27"
     ]
    },
    {
     "name": "stdout",
     "output_type": "stream",
     "text": [
      "Save image to path  assets/addi/fire_database/image541.jpg\n",
      "Downloading image from  http://com.dataturks.a96-i23.open.s3.amazonaws.com/2c9fafb06702b2c1016723e86959020f/d0fc8273-4bbf-481a-ab19-0da4a68b7768___232.JPEG\n"
     ]
    },
    {
     "name": "stderr",
     "output_type": "stream",
     "text": [
      "\r",
      "- |                                  #              | 543 Elapsed Time: 0:04:28"
     ]
    },
    {
     "name": "stdout",
     "output_type": "stream",
     "text": [
      "Save image to path  assets/addi/fire_database/image542.jpg\n",
      "Downloading image from  http://com.dataturks.a96-i23.open.s3.amazonaws.com/2c9fafb06702b2c1016723e86959020f/f36795a8-5432-49f1-94f7-b7a3c6eacb61___FF164.JPEG\n"
     ]
    },
    {
     "name": "stderr",
     "output_type": "stream",
     "text": [
      "\r",
      "\\ |                                       #         | 544 Elapsed Time: 0:04:28"
     ]
    },
    {
     "name": "stdout",
     "output_type": "stream",
     "text": [
      "Save image to path  assets/addi/fire_database/image543.jpg\n",
      "Downloading image from  http://com.dataturks.a96-i23.open.s3.amazonaws.com/2c9fafb06702b2c1016723e86959020f/7dec1778-47ee-4ef5-a5f8-4b9718ef06d4___377.JPEG\n"
     ]
    },
    {
     "name": "stderr",
     "output_type": "stream",
     "text": [
      "\r",
      "| |                                             #   | 545 Elapsed Time: 0:04:29"
     ]
    },
    {
     "name": "stdout",
     "output_type": "stream",
     "text": [
      "Save image to path  assets/addi/fire_database/image544.jpg\n",
      "Downloading image from  http://com.dataturks.a96-i23.open.s3.amazonaws.com/2c9fafb06702b2c1016723e86959020f/de7391c0-ae44-4b1d-b032-a6023c0be0e2___399.JPEG\n"
     ]
    },
    {
     "name": "stderr",
     "output_type": "stream",
     "text": [
      "\r",
      "/ |                                              #  | 546 Elapsed Time: 0:04:29"
     ]
    },
    {
     "name": "stdout",
     "output_type": "stream",
     "text": [
      "Save image to path  assets/addi/fire_database/image545.jpg\n",
      "Downloading image from  http://com.dataturks.a96-i23.open.s3.amazonaws.com/2c9fafb06702b2c1016723e86959020f/9c277552-8da0-4859-9ba2-9afde0c34222___FF24.JPEG\n"
     ]
    },
    {
     "name": "stderr",
     "output_type": "stream",
     "text": [
      "\r",
      "- |                                      #          | 547 Elapsed Time: 0:04:30"
     ]
    },
    {
     "name": "stdout",
     "output_type": "stream",
     "text": [
      "Save image to path  assets/addi/fire_database/image546.jpg\n",
      "Downloading image from  http://com.dataturks.a96-i23.open.s3.amazonaws.com/2c9fafb06702b2c1016723e86959020f/ab4ef90b-2d04-444b-8fa0-0c03fb6c8b77___233.JPEG\n"
     ]
    },
    {
     "name": "stderr",
     "output_type": "stream",
     "text": [
      "\r",
      "\\ |                                  #              | 548 Elapsed Time: 0:04:30"
     ]
    },
    {
     "name": "stdout",
     "output_type": "stream",
     "text": [
      "Save image to path  assets/addi/fire_database/image547.jpg\n",
      "Downloading image from  http://com.dataturks.a96-i23.open.s3.amazonaws.com/2c9fafb06702b2c1016723e86959020f/86b1f356-a4a3-44fd-829f-6f90c9c51807___FF165.JPEG\n"
     ]
    },
    {
     "name": "stderr",
     "output_type": "stream",
     "text": [
      "\r",
      "| |                              #                  | 549 Elapsed Time: 0:04:31"
     ]
    },
    {
     "name": "stdout",
     "output_type": "stream",
     "text": [
      "Save image to path  assets/addi/fire_database/image548.jpg\n",
      "Downloading image from  http://com.dataturks.a96-i23.open.s3.amazonaws.com/2c9fafb06702b2c1016723e86959020f/88baca16-54c3-4fa8-8177-9cc0123876a4___376.JPEG\n"
     ]
    },
    {
     "name": "stderr",
     "output_type": "stream",
     "text": [
      "\r",
      "/ |                        #                        | 550 Elapsed Time: 0:04:31"
     ]
    },
    {
     "name": "stdout",
     "output_type": "stream",
     "text": [
      "Save image to path  assets/addi/fire_database/image549.jpg\n",
      "Downloading image from  http://com.dataturks.a96-i23.open.s3.amazonaws.com/2c9fafb06702b2c1016723e86959020f/98c8d8d2-3ea4-4759-825b-0a90b92980df___42.JPEG\n"
     ]
    },
    {
     "name": "stderr",
     "output_type": "stream",
     "text": [
      "\r",
      "- |                    #                            | 551 Elapsed Time: 0:04:32"
     ]
    },
    {
     "name": "stdout",
     "output_type": "stream",
     "text": [
      "Save image to path  assets/addi/fire_database/image550.jpg\n",
      "Downloading image from  http://com.dataturks.a96-i23.open.s3.amazonaws.com/2c9fafb06702b2c1016723e86959020f/7ca28f27-7d05-434b-879b-1cde4c4a3247___FF309.JPEG\n"
     ]
    },
    {
     "name": "stderr",
     "output_type": "stream",
     "text": [
      "\r",
      "\\ |              #                                  | 552 Elapsed Time: 0:04:32"
     ]
    },
    {
     "name": "stdout",
     "output_type": "stream",
     "text": [
      "Save image to path  assets/addi/fire_database/image551.jpg\n",
      "Downloading image from  http://com.dataturks.a96-i23.open.s3.amazonaws.com/2c9fafb06702b2c1016723e86959020f/0cfd5ced-2c20-4039-b327-158783ffa83e___264.JPEG\n"
     ]
    },
    {
     "name": "stderr",
     "output_type": "stream",
     "text": [
      "\r",
      "| |        #                                        | 553 Elapsed Time: 0:04:33"
     ]
    },
    {
     "name": "stdout",
     "output_type": "stream",
     "text": [
      "Save image to path  assets/addi/fire_database/image552.jpg\n",
      "Downloading image from  http://com.dataturks.a96-i23.open.s3.amazonaws.com/2c9fafb06702b2c1016723e86959020f/e95c83f4-d83a-4d9e-a1fc-28ff67e94b35___FF73.JPEG\n"
     ]
    },
    {
     "name": "stderr",
     "output_type": "stream",
     "text": [
      "\r",
      "/ |    #                                            | 554 Elapsed Time: 0:04:33"
     ]
    },
    {
     "name": "stdout",
     "output_type": "stream",
     "text": [
      "Save image to path  assets/addi/fire_database/image553.jpg\n",
      "Downloading image from  http://com.dataturks.a96-i23.open.s3.amazonaws.com/2c9fafb06702b2c1016723e86959020f/16fc6a9f-97a3-4450-890c-d2460c2c9d34___321.JPEG\n"
     ]
    },
    {
     "name": "stderr",
     "output_type": "stream",
     "text": [
      "\r",
      "- |#                                                | 555 Elapsed Time: 0:04:34"
     ]
    },
    {
     "name": "stdout",
     "output_type": "stream",
     "text": [
      "Save image to path  assets/addi/fire_database/image554.jpg\n",
      "Downloading image from  http://com.dataturks.a96-i23.open.s3.amazonaws.com/2c9fafb06702b2c1016723e86959020f/13ad9446-6c3b-4999-9722-ac8ce0fcb287___FF132.JPEG\n"
     ]
    },
    {
     "name": "stderr",
     "output_type": "stream",
     "text": [
      "\r",
      "\\ |    #                                            | 556 Elapsed Time: 0:04:34"
     ]
    },
    {
     "name": "stdout",
     "output_type": "stream",
     "text": [
      "Save image to path  assets/addi/fire_database/image555.jpg\n",
      "Downloading image from  http://com.dataturks.a96-i23.open.s3.amazonaws.com/2c9fafb06702b2c1016723e86959020f/83c0cc53-e27d-4eaa-84f9-aef4942a54e0___458.JPEG\n"
     ]
    },
    {
     "name": "stderr",
     "output_type": "stream",
     "text": [
      "\r",
      "| |          #                                      | 557 Elapsed Time: 0:04:35"
     ]
    },
    {
     "name": "stdout",
     "output_type": "stream",
     "text": [
      "Save image to path  assets/addi/fire_database/image556.jpg\n",
      "Downloading image from  http://com.dataturks.a96-i23.open.s3.amazonaws.com/2c9fafb06702b2c1016723e86959020f/aa2dc64f-e118-4bae-90f4-b21c8a60c601___FF7.JPEG\n"
     ]
    },
    {
     "name": "stderr",
     "output_type": "stream",
     "text": [
      "\r",
      "/ |             #                                   | 558 Elapsed Time: 0:04:35"
     ]
    },
    {
     "name": "stdout",
     "output_type": "stream",
     "text": [
      "Save image to path  assets/addi/fire_database/image557.jpg\n",
      "Downloading image from  http://com.dataturks.a96-i23.open.s3.amazonaws.com/2c9fafb06702b2c1016723e86959020f/11935b93-bfd3-46d7-b19a-878430ad2cc7___15.JPEG\n"
     ]
    },
    {
     "name": "stderr",
     "output_type": "stream",
     "text": [
      "\r",
      "- |                  #                              | 559 Elapsed Time: 0:04:36"
     ]
    },
    {
     "name": "stdout",
     "output_type": "stream",
     "text": [
      "Save image to path  assets/addi/fire_database/image558.jpg\n",
      "Downloading image from  http://com.dataturks.a96-i23.open.s3.amazonaws.com/2c9fafb06702b2c1016723e86959020f/fb3a039f-cb24-4eae-ac37-c542ff07eb6c___FF65.JPEG\n"
     ]
    },
    {
     "name": "stderr",
     "output_type": "stream",
     "text": [
      "\r",
      "\\ |                      #                          | 560 Elapsed Time: 0:04:36"
     ]
    },
    {
     "name": "stdout",
     "output_type": "stream",
     "text": [
      "Save image to path  assets/addi/fire_database/image559.jpg\n",
      "Downloading image from  http://com.dataturks.a96-i23.open.s3.amazonaws.com/2c9fafb06702b2c1016723e86959020f/43340740-64a0-4440-80af-7394636cf884___272.JPEG\n"
     ]
    },
    {
     "name": "stderr",
     "output_type": "stream",
     "text": [
      "\r",
      "| |                            #                    | 561 Elapsed Time: 0:04:37"
     ]
    },
    {
     "name": "stdout",
     "output_type": "stream",
     "text": [
      "Save image to path  assets/addi/fire_database/image560.jpg\n",
      "Downloading image from  http://com.dataturks.a96-i23.open.s3.amazonaws.com/2c9fafb06702b2c1016723e86959020f/7c91763e-c35e-4289-9f12-478e160db75c___FF124.JPEG\n"
     ]
    },
    {
     "name": "stderr",
     "output_type": "stream",
     "text": [
      "\r",
      "/ |                                #                | 562 Elapsed Time: 0:04:37"
     ]
    },
    {
     "name": "stdout",
     "output_type": "stream",
     "text": [
      "Save image to path  assets/addi/fire_database/image561.jpg\n",
      "Downloading image from  http://com.dataturks.a96-i23.open.s3.amazonaws.com/2c9fafb06702b2c1016723e86959020f/fd3c3887-a1a5-47fe-baa1-3c3f0f8f915e___337.JPEG\n"
     ]
    },
    {
     "name": "stderr",
     "output_type": "stream",
     "text": [
      "\r",
      "- |                                      #          | 563 Elapsed Time: 0:04:38"
     ]
    },
    {
     "name": "stdout",
     "output_type": "stream",
     "text": [
      "Save image to path  assets/addi/fire_database/image562.jpg\n",
      "Downloading image from  http://com.dataturks.a96-i23.open.s3.amazonaws.com/2c9fafb06702b2c1016723e86959020f/3a288f39-0a6e-4f56-afa5-9788f1734dcf___225.JPEG\n"
     ]
    },
    {
     "name": "stderr",
     "output_type": "stream",
     "text": [
      "\r",
      "\\ |                                           #     | 564 Elapsed Time: 0:04:38"
     ]
    },
    {
     "name": "stdout",
     "output_type": "stream",
     "text": [
      "Save image to path  assets/addi/fire_database/image563.jpg\n",
      "Downloading image from  http://com.dataturks.a96-i23.open.s3.amazonaws.com/2c9fafb06702b2c1016723e86959020f/2e84657c-f2c0-4593-b101-7f9daac57fc3___FF32.JPEG\n"
     ]
    },
    {
     "name": "stderr",
     "output_type": "stream",
     "text": [
      "\r",
      "| |                                                #| 565 Elapsed Time: 0:04:39"
     ]
    },
    {
     "name": "stdout",
     "output_type": "stream",
     "text": [
      "Save image to path  assets/addi/fire_database/image564.jpg\n",
      "Downloading image from  http://com.dataturks.a96-i23.open.s3.amazonaws.com/2c9fafb06702b2c1016723e86959020f/43d7e178-a8d8-482d-b80b-ac0b7c8dab9d___360.JPEG\n"
     ]
    },
    {
     "name": "stderr",
     "output_type": "stream",
     "text": [
      "\r",
      "/ |                                           #     | 566 Elapsed Time: 0:04:39"
     ]
    },
    {
     "name": "stdout",
     "output_type": "stream",
     "text": [
      "Save image to path  assets/addi/fire_database/image565.jpg\n",
      "Downloading image from  http://com.dataturks.a96-i23.open.s3.amazonaws.com/2c9fafb06702b2c1016723e86959020f/39e6cbc1-6abd-4a4c-9215-5f7ef3da92e5___FF173.JPEG\n"
     ]
    },
    {
     "name": "stderr",
     "output_type": "stream",
     "text": [
      "\r",
      "- |                                       #         | 567 Elapsed Time: 0:04:40"
     ]
    },
    {
     "name": "stdout",
     "output_type": "stream",
     "text": [
      "Save image to path  assets/addi/fire_database/image566.jpg\n",
      "Downloading image from  http://com.dataturks.a96-i23.open.s3.amazonaws.com/2c9fafb06702b2c1016723e86959020f/7fe611fa-85f4-4077-9958-9c8f2a6bd580___419.JPEG\n"
     ]
    },
    {
     "name": "stderr",
     "output_type": "stream",
     "text": [
      "\r",
      "\\ |                                 #               | 568 Elapsed Time: 0:04:40"
     ]
    },
    {
     "name": "stdout",
     "output_type": "stream",
     "text": [
      "Save image to path  assets/addi/fire_database/image567.jpg\n",
      "Downloading image from  http://com.dataturks.a96-i23.open.s3.amazonaws.com/2c9fafb06702b2c1016723e86959020f/3721c96d-f806-4a4f-84fe-8540a575b142___54.JPEG\n"
     ]
    },
    {
     "name": "stderr",
     "output_type": "stream",
     "text": [
      "\r",
      "| |                             #                   | 569 Elapsed Time: 0:04:41"
     ]
    },
    {
     "name": "stdout",
     "output_type": "stream",
     "text": [
      "Save image to path  assets/addi/fire_database/image568.jpg\n",
      "Downloading image from  http://com.dataturks.a96-i23.open.s3.amazonaws.com/2c9fafb06702b2c1016723e86959020f/a32814ed-e74a-4f8e-af58-9780244cb209___FF108.JPEG\n"
     ]
    },
    {
     "name": "stderr",
     "output_type": "stream",
     "text": [
      "\r",
      "/ |                         #                       | 570 Elapsed Time: 0:04:41"
     ]
    },
    {
     "name": "stdout",
     "output_type": "stream",
     "text": [
      "Save image to path  assets/addi/fire_database/image569.jpg\n",
      "Downloading image from  http://com.dataturks.a96-i23.open.s3.amazonaws.com/2c9fafb06702b2c1016723e86959020f/7cebbc77-14e8-43cb-bf70-fa8df36ac1e2___FF49.JPEG\n"
     ]
    },
    {
     "name": "stderr",
     "output_type": "stream",
     "text": [
      "\r",
      "- |                     #                           | 571 Elapsed Time: 0:04:42"
     ]
    },
    {
     "name": "stdout",
     "output_type": "stream",
     "text": [
      "Save image to path  assets/addi/fire_database/image570.jpg\n",
      "Downloading image from  http://com.dataturks.a96-i23.open.s3.amazonaws.com/2c9fafb06702b2c1016723e86959020f/a7d1db24-7274-4c34-ae58-fb37c4029b7d___527.JPEG\n"
     ]
    },
    {
     "name": "stderr",
     "output_type": "stream",
     "text": [
      "\r",
      "\\ |               #                                 | 572 Elapsed Time: 0:04:42"
     ]
    },
    {
     "name": "stdout",
     "output_type": "stream",
     "text": [
      "Save image to path  assets/addi/fire_database/image571.jpg\n",
      "Downloading image from  http://com.dataturks.a96-i23.open.s3.amazonaws.com/2c9fafb06702b2c1016723e86959020f/014fc0b3-bd41-4cfe-a085-5ca2982c0add___177.JPEG\n"
     ]
    },
    {
     "name": "stderr",
     "output_type": "stream",
     "text": [
      "\r",
      "| |           #                                     | 573 Elapsed Time: 0:04:43"
     ]
    },
    {
     "name": "stdout",
     "output_type": "stream",
     "text": [
      "Save image to path  assets/addi/fire_database/image572.jpg\n",
      "Downloading image from  http://com.dataturks.a96-i23.open.s3.amazonaws.com/2c9fafb06702b2c1016723e86959020f/1aaa1be3-1189-41f9-a8a4-dbbf1b6270a2___198.JPEG\n"
     ]
    },
    {
     "name": "stderr",
     "output_type": "stream",
     "text": [
      "\r",
      "/ |     #                                           | 574 Elapsed Time: 0:04:43"
     ]
    },
    {
     "name": "stdout",
     "output_type": "stream",
     "text": [
      "Save image to path  assets/addi/fire_database/image573.jpg\n",
      "Downloading image from  http://com.dataturks.a96-i23.open.s3.amazonaws.com/2c9fafb06702b2c1016723e86959020f/75b6481e-f93c-4c8c-9fa7-1f58204ee9fd___FF221.JPEG\n"
     ]
    },
    {
     "name": "stderr",
     "output_type": "stream",
     "text": [
      "\r",
      "- | #                                               | 575 Elapsed Time: 0:04:44"
     ]
    },
    {
     "name": "stdout",
     "output_type": "stream",
     "text": [
      "Save image to path  assets/addi/fire_database/image574.jpg\n",
      "Downloading image from  http://com.dataturks.a96-i23.open.s3.amazonaws.com/2c9fafb06702b2c1016723e86959020f/7b285ec5-df3f-424c-b1f1-f7dad57a7d5b___462.JPEG\n"
     ]
    },
    {
     "name": "stderr",
     "output_type": "stream",
     "text": [
      "\r",
      "\\ |  #                                              | 576 Elapsed Time: 0:04:44"
     ]
    },
    {
     "name": "stdout",
     "output_type": "stream",
     "text": [
      "Save image to path  assets/addi/fire_database/image575.jpg\n",
      "Downloading image from  http://com.dataturks.a96-i23.open.s3.amazonaws.com/2c9fafb06702b2c1016723e86959020f/a6689b03-8999-4790-a0a4-557b3198dcd7___209.JPEG\n"
     ]
    },
    {
     "name": "stderr",
     "output_type": "stream",
     "text": [
      "\r",
      "| |        #                                        | 577 Elapsed Time: 0:04:45"
     ]
    },
    {
     "name": "stdout",
     "output_type": "stream",
     "text": [
      "Save image to path  assets/addi/fire_database/image576.jpg\n",
      "Downloading image from  http://com.dataturks.a96-i23.open.s3.amazonaws.com/2c9fafb06702b2c1016723e86959020f/652857a6-a7e5-406c-af79-ff40469a1813___78.JPEG\n"
     ]
    },
    {
     "name": "stderr",
     "output_type": "stream",
     "text": [
      "\r",
      "/ |              #                                  | 578 Elapsed Time: 0:04:45"
     ]
    },
    {
     "name": "stdout",
     "output_type": "stream",
     "text": [
      "Save image to path  assets/addi/fire_database/image577.jpg\n",
      "Downloading image from  http://com.dataturks.a96-i23.open.s3.amazonaws.com/2c9fafb06702b2c1016723e86959020f/25a29e08-45d7-4c20-8e3d-885e8c81cf66___120.JPEG\n"
     ]
    },
    {
     "name": "stderr",
     "output_type": "stream",
     "text": [
      "\r",
      "- |                   #                             | 579 Elapsed Time: 0:04:46"
     ]
    },
    {
     "name": "stdout",
     "output_type": "stream",
     "text": [
      "Save image to path  assets/addi/fire_database/image578.jpg\n",
      "Downloading image from  http://com.dataturks.a96-i23.open.s3.amazonaws.com/2c9fafb06702b2c1016723e86959020f/34123f82-78de-4367-a2a8-867c957226aa___FF299.JPEG\n"
     ]
    },
    {
     "name": "stderr",
     "output_type": "stream",
     "text": [
      "\r",
      "\\ |                       #                         | 580 Elapsed Time: 0:04:46"
     ]
    },
    {
     "name": "stdout",
     "output_type": "stream",
     "text": [
      "Save image to path  assets/addi/fire_database/image579.jpg\n",
      "Downloading image from  http://com.dataturks.a96-i23.open.s3.amazonaws.com/2c9fafb06702b2c1016723e86959020f/891fe399-a6cc-46a5-999e-a88ad3b0397b___435.JPEG\n"
     ]
    },
    {
     "name": "stderr",
     "output_type": "stream",
     "text": [
      "\r",
      "| |                                       #         | 581 Elapsed Time: 0:04:50"
     ]
    },
    {
     "name": "stdout",
     "output_type": "stream",
     "text": [
      "Save image to path  assets/addi/fire_database/image580.jpg\n",
      "Downloading image from  http://com.dataturks.a96-i23.open.s3.amazonaws.com/2c9fafb06702b2c1016723e86959020f/0d277a43-f841-477f-a201-8b384c0673e6___FF276.JPEG\n"
     ]
    },
    {
     "name": "stderr",
     "output_type": "stream",
     "text": [
      "\r",
      "/ |                                  #              | 582 Elapsed Time: 0:04:50"
     ]
    },
    {
     "name": "stdout",
     "output_type": "stream",
     "text": [
      "Save image to path  assets/addi/fire_database/image581.jpg\n",
      "Downloading image from  http://com.dataturks.a96-i23.open.s3.amazonaws.com/2c9fafb06702b2c1016723e86959020f/77e03e99-900f-46f6-9485-4f2b1910c949___97.JPEG\n"
     ]
    },
    {
     "name": "stderr",
     "output_type": "stream",
     "text": [
      "\r",
      "- |                             #                   | 583 Elapsed Time: 0:04:51"
     ]
    },
    {
     "name": "stdout",
     "output_type": "stream",
     "text": [
      "Save image to path  assets/addi/fire_database/image582.jpg\n",
      "Downloading image from  http://com.dataturks.a96-i23.open.s3.amazonaws.com/2c9fafb06702b2c1016723e86959020f/71a09855-42a3-40ec-a169-25c163e848fe___FF149.JPEG\n"
     ]
    },
    {
     "name": "stderr",
     "output_type": "stream",
     "text": [
      "\r",
      "\\ |                         #                       | 584 Elapsed Time: 0:04:51"
     ]
    },
    {
     "name": "stdout",
     "output_type": "stream",
     "text": [
      "Save image to path  assets/addi/fire_database/image583.jpg\n",
      "Downloading image from  http://com.dataturks.a96-i23.open.s3.amazonaws.com/2c9fafb06702b2c1016723e86959020f/f6088436-8f56-4708-8d5d-5606a8d09aa7___136.JPEG\n"
     ]
    },
    {
     "name": "stderr",
     "output_type": "stream",
     "text": [
      "\r",
      "| |                    #                            | 585 Elapsed Time: 0:04:51"
     ]
    },
    {
     "name": "stdout",
     "output_type": "stream",
     "text": [
      "Save image to path  assets/addi/fire_database/image584.jpg\n",
      "Downloading image from  http://com.dataturks.a96-i23.open.s3.amazonaws.com/2c9fafb06702b2c1016723e86959020f/1825ee67-f6c6-43ce-95d3-99f95eb58c3b___5.JPEG\n"
     ]
    },
    {
     "name": "stderr",
     "output_type": "stream",
     "text": [
      "\r",
      "/ |               #                                 | 586 Elapsed Time: 0:04:52"
     ]
    },
    {
     "name": "stdout",
     "output_type": "stream",
     "text": [
      "Save image to path  assets/addi/fire_database/image585.jpg\n",
      "Downloading image from  http://com.dataturks.a96-i23.open.s3.amazonaws.com/2c9fafb06702b2c1016723e86959020f/4051acd6-cedc-4d88-ae8a-b255114ca6b6___81.JPEG\n"
     ]
    },
    {
     "name": "stderr",
     "output_type": "stream",
     "text": [
      "\r",
      "- |          #                                      | 587 Elapsed Time: 0:04:52"
     ]
    },
    {
     "name": "stdout",
     "output_type": "stream",
     "text": [
      "Save image to path  assets/addi/fire_database/image586.jpg\n",
      "Downloading image from  http://com.dataturks.a96-i23.open.s3.amazonaws.com/2c9fafb06702b2c1016723e86959020f/a8fcd359-aca5-4bda-9014-1e5d32d1fbcd___FF260.JPEG\n"
     ]
    },
    {
     "name": "stderr",
     "output_type": "stream",
     "text": [
      "\r",
      "\\ |    #                                            | 588 Elapsed Time: 0:04:53"
     ]
    },
    {
     "name": "stdout",
     "output_type": "stream",
     "text": [
      "Save image to path  assets/addi/fire_database/image587.jpg\n",
      "Downloading image from  http://com.dataturks.a96-i23.open.s3.amazonaws.com/2c9fafb06702b2c1016723e86959020f/37addd43-2211-49f7-9692-1bd249940f88___423.JPEG\n"
     ]
    },
    {
     "name": "stderr",
     "output_type": "stream",
     "text": [
      "\r",
      "| | #                                               | 589 Elapsed Time: 0:04:54"
     ]
    },
    {
     "name": "stdout",
     "output_type": "stream",
     "text": [
      "Save image to path  assets/addi/fire_database/image588.jpg\n",
      "Downloading image from  http://com.dataturks.a96-i23.open.s3.amazonaws.com/2c9fafb06702b2c1016723e86959020f/0ac7c504-c295-4bb4-a525-6bf2f2af7196___248.JPEG\n"
     ]
    },
    {
     "name": "stderr",
     "output_type": "stream",
     "text": [
      "\r",
      "/ |     #                                           | 590 Elapsed Time: 0:04:54"
     ]
    },
    {
     "name": "stdout",
     "output_type": "stream",
     "text": [
      "Save image to path  assets/addi/fire_database/image589.jpg\n",
      "Downloading image from  http://com.dataturks.a96-i23.open.s3.amazonaws.com/2c9fafb06702b2c1016723e86959020f/49c3156c-73bd-4e33-9817-0f135b238d92___39.JPEG\n"
     ]
    },
    {
     "name": "stderr",
     "output_type": "stream",
     "text": [
      "\r",
      "- |         #                                       | 591 Elapsed Time: 0:04:54"
     ]
    },
    {
     "name": "stdout",
     "output_type": "stream",
     "text": [
      "Save image to path  assets/addi/fire_database/image590.jpg\n",
      "Downloading image from  http://com.dataturks.a96-i23.open.s3.amazonaws.com/2c9fafb06702b2c1016723e86959020f/4173fcd5-5634-4a9f-bb79-9ed619ef3f89___161.JPEG\n"
     ]
    },
    {
     "name": "stderr",
     "output_type": "stream",
     "text": [
      "\r",
      "\\ |              #                                  | 592 Elapsed Time: 0:04:55"
     ]
    },
    {
     "name": "stdout",
     "output_type": "stream",
     "text": [
      "Save image to path  assets/addi/fire_database/image591.jpg\n",
      "Downloading image from  http://com.dataturks.a96-i23.open.s3.amazonaws.com/2c9fafb06702b2c1016723e86959020f/1bd113d8-d0a3-4ddd-bcaa-bb783c81ce40___531.JPEG\n"
     ]
    },
    {
     "name": "stderr",
     "output_type": "stream",
     "text": [
      "\r",
      "| |                   #                             | 593 Elapsed Time: 0:04:55"
     ]
    },
    {
     "name": "stdout",
     "output_type": "stream",
     "text": [
      "Save image to path  assets/addi/fire_database/image592.jpg\n",
      "Downloading image from  http://com.dataturks.a96-i23.open.s3.amazonaws.com/2c9fafb06702b2c1016723e86959020f/0d794ab9-a235-4c8a-ad4a-90f39258513b___474.JPEG\n"
     ]
    },
    {
     "name": "stderr",
     "output_type": "stream",
     "text": [
      "\r",
      "/ |                       #                         | 594 Elapsed Time: 0:04:56"
     ]
    },
    {
     "name": "stdout",
     "output_type": "stream",
     "text": [
      "Save image to path  assets/addi/fire_database/image593.jpg\n",
      "Downloading image from  http://com.dataturks.a96-i23.open.s3.amazonaws.com/2c9fafb06702b2c1016723e86959020f/5d2ec970-e70e-442b-9d96-aaeb161cbe89___FF237.JPEG\n"
     ]
    },
    {
     "name": "stderr",
     "output_type": "stream",
     "text": [
      "\r",
      "- |                            #                    | 595 Elapsed Time: 0:04:56"
     ]
    },
    {
     "name": "stdout",
     "output_type": "stream",
     "text": [
      "Save image to path  assets/addi/fire_database/image594.jpg\n",
      "Downloading image from  http://com.dataturks.a96-i23.open.s3.amazonaws.com/2c9fafb06702b2c1016723e86959020f/e35dcd35-9281-4e54-a691-042cfec76274___FF240.JPEG\n"
     ]
    },
    {
     "name": "stderr",
     "output_type": "stream",
     "text": [
      "\r",
      "\\ |                                #                | 596 Elapsed Time: 0:04:57"
     ]
    },
    {
     "name": "stdout",
     "output_type": "stream",
     "text": [
      "Save image to path  assets/addi/fire_database/image595.jpg\n",
      "Downloading image from  http://com.dataturks.a96-i23.open.s3.amazonaws.com/2c9fafb06702b2c1016723e86959020f/5fb3af20-533f-4fb6-b6c9-de9cc386f06d___403.JPEG\n"
     ]
    },
    {
     "name": "stderr",
     "output_type": "stream",
     "text": [
      "\r",
      "| |                                     #           | 597 Elapsed Time: 0:04:57"
     ]
    },
    {
     "name": "stdout",
     "output_type": "stream",
     "text": [
      "Save image to path  assets/addi/fire_database/image596.jpg\n",
      "Downloading image from  http://com.dataturks.a96-i23.open.s3.amazonaws.com/2c9fafb06702b2c1016723e86959020f/d4d212b8-c008-4166-80b8-6f5d0f9ac3a3___546.JPEG\n"
     ]
    },
    {
     "name": "stderr",
     "output_type": "stream",
     "text": [
      "\r",
      "/ |                                         #       | 598 Elapsed Time: 0:04:58"
     ]
    },
    {
     "name": "stdout",
     "output_type": "stream",
     "text": [
      "Save image to path  assets/addi/fire_database/image597.jpg\n",
      "Downloading image from  http://com.dataturks.a96-i23.open.s3.amazonaws.com/2c9fafb06702b2c1016723e86959020f/11e46ed2-b89e-4ff6-b86f-8b2202ee0ba3___FF305.JPEG\n"
     ]
    },
    {
     "name": "stderr",
     "output_type": "stream",
     "text": [
      "\r",
      "- |                                             #   | 599 Elapsed Time: 0:04:58"
     ]
    },
    {
     "name": "stdout",
     "output_type": "stream",
     "text": [
      "Save image to path  assets/addi/fire_database/image598.jpg\n",
      "Downloading image from  http://com.dataturks.a96-i23.open.s3.amazonaws.com/2c9fafb06702b2c1016723e86959020f/127cb8b7-5eaf-4ad4-9e2d-e6c32476a6d4___116.JPEG\n"
     ]
    },
    {
     "name": "stderr",
     "output_type": "stream",
     "text": [
      "\r",
      "\\ |                                              #  | 600 Elapsed Time: 0:04:59"
     ]
    },
    {
     "name": "stdout",
     "output_type": "stream",
     "text": [
      "Save image to path  assets/addi/fire_database/image599.jpg\n",
      "Downloading image from  http://com.dataturks.a96-i23.open.s3.amazonaws.com/2c9fafb06702b2c1016723e86959020f/abdb2cac-406a-4322-9275-e633a5d320e5___FF186.JPEG\n"
     ]
    },
    {
     "name": "stderr",
     "output_type": "stream",
     "text": [
      "\r",
      "| |                                         #       | 601 Elapsed Time: 0:04:59"
     ]
    },
    {
     "name": "stdout",
     "output_type": "stream",
     "text": [
      "Save image to path  assets/addi/fire_database/image600.jpg\n",
      "Downloading image from  http://com.dataturks.a96-i23.open.s3.amazonaws.com/2c9fafb06702b2c1016723e86959020f/d7806280-8672-4708-8b80-c083777ad796___FF28.JPEG\n"
     ]
    },
    {
     "name": "stderr",
     "output_type": "stream",
     "text": [
      "\r",
      "/ |                                     #           | 602 Elapsed Time: 0:05:00"
     ]
    },
    {
     "name": "stdout",
     "output_type": "stream",
     "text": [
      "Save image to path  assets/addi/fire_database/image601.jpg\n",
      "Downloading image from  http://com.dataturks.a96-i23.open.s3.amazonaws.com/2c9fafb06702b2c1016723e86959020f/579a18e7-0b09-40b6-8a66-578259434b51___395.JPEG\n"
     ]
    },
    {
     "name": "stderr",
     "output_type": "stream",
     "text": [
      "\r",
      "- |                                 #               | 603 Elapsed Time: 0:05:00"
     ]
    },
    {
     "name": "stdout",
     "output_type": "stream",
     "text": [
      "Save image to path  assets/addi/fire_database/image602.jpg\n",
      "Downloading image from  http://com.dataturks.a96-i23.open.s3.amazonaws.com/2c9fafb06702b2c1016723e86959020f/062001b2-815f-4b8c-b760-3bdc1113a57a___FF169.JPEG\n"
     ]
    },
    {
     "name": "stderr",
     "output_type": "stream",
     "text": [
      "\r",
      "\\ |                            #                    | 604 Elapsed Time: 0:05:00"
     ]
    },
    {
     "name": "stdout",
     "output_type": "stream",
     "text": [
      "Save image to path  assets/addi/fire_database/image603.jpg\n",
      "Downloading image from  http://com.dataturks.a96-i23.open.s3.amazonaws.com/2c9fafb06702b2c1016723e86959020f/21a12b9d-2556-46fb-b3c3-601983af79d8___454.JPEG\n"
     ]
    },
    {
     "name": "stderr",
     "output_type": "stream",
     "text": [
      "\r",
      "| |                       #                         | 605 Elapsed Time: 0:05:01"
     ]
    },
    {
     "name": "stdout",
     "output_type": "stream",
     "text": [
      "Save image to path  assets/addi/fire_database/image604.jpg\n",
      "Downloading image from  http://com.dataturks.a96-i23.open.s3.amazonaws.com/2c9fafb06702b2c1016723e86959020f/feedf1af-0468-4876-939d-fb830f0e9a5d___FF217.JPEG\n"
     ]
    },
    {
     "name": "stderr",
     "output_type": "stream",
     "text": [
      "\r",
      "/ |                    #                            | 606 Elapsed Time: 0:05:01"
     ]
    },
    {
     "name": "stdout",
     "output_type": "stream",
     "text": [
      "Save image to path  assets/addi/fire_database/image605.jpg\n",
      "Downloading image from  http://com.dataturks.a96-i23.open.s3.amazonaws.com/2c9fafb06702b2c1016723e86959020f/24bcd541-5989-4858-9028-11a0b7b6a4a9___19.JPEG\n"
     ]
    },
    {
     "name": "stderr",
     "output_type": "stream",
     "text": [
      "\r",
      "- |               #                                 | 607 Elapsed Time: 0:05:02"
     ]
    },
    {
     "name": "stdout",
     "output_type": "stream",
     "text": [
      "Save image to path  assets/addi/fire_database/image606.jpg\n",
      "Downloading image from  http://com.dataturks.a96-i23.open.s3.amazonaws.com/2c9fafb06702b2c1016723e86959020f/42b7f409-6c0c-42ba-a09f-b5a6329a8fa3___141.JPEG\n"
     ]
    },
    {
     "name": "stderr",
     "output_type": "stream",
     "text": [
      "\r",
      "\\ |         #                                       | 608 Elapsed Time: 0:05:02"
     ]
    },
    {
     "name": "stdout",
     "output_type": "stream",
     "text": [
      "Save image to path  assets/addi/fire_database/image607.jpg\n",
      "Downloading image from  http://com.dataturks.a96-i23.open.s3.amazonaws.com/2c9fafb06702b2c1016723e86959020f/eac0f553-6a56-469b-a41d-37924ac038b1___511.JPEG\n"
     ]
    },
    {
     "name": "stderr",
     "output_type": "stream",
     "text": [
      "\r",
      "| |   #                                             | 609 Elapsed Time: 0:05:03"
     ]
    },
    {
     "name": "stdout",
     "output_type": "stream",
     "text": [
      "Save image to path  assets/addi/fire_database/image608.jpg\n",
      "Downloading image from  http://com.dataturks.a96-i23.open.s3.amazonaws.com/2c9fafb06702b2c1016723e86959020f/af7fc1af-9d1e-400f-a6f2-d2885a420f42___268.JPEG\n"
     ]
    },
    {
     "name": "stderr",
     "output_type": "stream",
     "text": [
      "\r",
      "/ | #                                               | 610 Elapsed Time: 0:05:03"
     ]
    },
    {
     "name": "stdout",
     "output_type": "stream",
     "text": [
      "Save image to path  assets/addi/fire_database/image609.jpg\n",
      "Downloading image from  http://com.dataturks.a96-i23.open.s3.amazonaws.com/2c9fafb06702b2c1016723e86959020f/5d0034cf-4060-4abf-a36d-ad4cb5f4401d___FF90.JPEG\n"
     ]
    },
    {
     "name": "stderr",
     "output_type": "stream",
     "text": [
      "\r",
      "- |     #                                           | 611 Elapsed Time: 0:05:04"
     ]
    },
    {
     "name": "stdout",
     "output_type": "stream",
     "text": [
      "Save image to path  assets/addi/fire_database/image610.jpg\n",
      "Downloading image from  http://com.dataturks.a96-i23.open.s3.amazonaws.com/2c9fafb06702b2c1016723e86959020f/7c43b209-2fa0-447e-b14c-4a18306da744___287.JPEG\n"
     ]
    },
    {
     "name": "stderr",
     "output_type": "stream",
     "text": [
      "\r",
      "\\ |          #                                      | 612 Elapsed Time: 0:05:04"
     ]
    },
    {
     "name": "stdout",
     "output_type": "stream",
     "text": [
      "Save image to path  assets/addi/fire_database/image611.jpg\n",
      "Downloading image from  http://com.dataturks.a96-i23.open.s3.amazonaws.com/2c9fafb06702b2c1016723e86959020f/34141850-0fc3-4775-a603-28f95d0caa19___FF201.JPEG\n"
     ]
    },
    {
     "name": "stderr",
     "output_type": "stream",
     "text": [
      "\r",
      "| |               #                                 | 613 Elapsed Time: 0:05:05"
     ]
    },
    {
     "name": "stdout",
     "output_type": "stream",
     "text": [
      "Save image to path  assets/addi/fire_database/image612.jpg\n",
      "Downloading image from  http://com.dataturks.a96-i23.open.s3.amazonaws.com/2c9fafb06702b2c1016723e86959020f/b924d039-2906-4157-8de3-2cf50c81ca6c___442.JPEG\n"
     ]
    },
    {
     "name": "stderr",
     "output_type": "stream",
     "text": [
      "\r",
      "/ |                    #                            | 614 Elapsed Time: 0:05:05"
     ]
    },
    {
     "name": "stdout",
     "output_type": "stream",
     "text": [
      "Save image to path  assets/addi/fire_database/image613.jpg\n",
      "Downloading image from  http://com.dataturks.a96-i23.open.s3.amazonaws.com/2c9fafb06702b2c1016723e86959020f/2a0934a4-0afc-45ee-9941-6018be3bc563___507.JPEG\n"
     ]
    },
    {
     "name": "stderr",
     "output_type": "stream",
     "text": [
      "\r",
      "- |                         #                       | 615 Elapsed Time: 0:05:06"
     ]
    },
    {
     "name": "stdout",
     "output_type": "stream",
     "text": [
      "Save image to path  assets/addi/fire_database/image614.jpg\n",
      "Downloading image from  http://com.dataturks.a96-i23.open.s3.amazonaws.com/2c9fafb06702b2c1016723e86959020f/ed6a7410-979d-43f0-8760-8042842c38b2___157.JPEG\n"
     ]
    },
    {
     "name": "stderr",
     "output_type": "stream",
     "text": [
      "\r",
      "\\ |                               #                 | 616 Elapsed Time: 0:05:06"
     ]
    },
    {
     "name": "stdout",
     "output_type": "stream",
     "text": [
      "Save image to path  assets/addi/fire_database/image615.jpg\n",
      "Downloading image from  http://com.dataturks.a96-i23.open.s3.amazonaws.com/2c9fafb06702b2c1016723e86959020f/883db780-1f8f-4a3c-ac62-2aa769b43694___FF69.JPEG\n"
     ]
    },
    {
     "name": "stderr",
     "output_type": "stream",
     "text": [
      "\r",
      "| |                                   #             | 617 Elapsed Time: 0:05:07"
     ]
    },
    {
     "name": "stdout",
     "output_type": "stream",
     "text": [
      "Save image to path  assets/addi/fire_database/image616.jpg\n",
      "Downloading image from  http://com.dataturks.a96-i23.open.s3.amazonaws.com/2c9fafb06702b2c1016723e86959020f/9b1ce7c1-c021-4d3d-a2d7-c2dcee1feaf0___291.JPEG\n"
     ]
    },
    {
     "name": "stderr",
     "output_type": "stream",
     "text": [
      "\r",
      "/ |                                        #        | 618 Elapsed Time: 0:05:07"
     ]
    },
    {
     "name": "stdout",
     "output_type": "stream",
     "text": [
      "Save image to path  assets/addi/fire_database/image617.jpg\n",
      "Downloading image from  http://com.dataturks.a96-i23.open.s3.amazonaws.com/2c9fafb06702b2c1016723e86959020f/76449f12-8460-4e14-b8ed-a6b03deda187___FF128.JPEG\n"
     ]
    },
    {
     "name": "stderr",
     "output_type": "stream",
     "text": [
      "\r",
      "- |                                            #    | 619 Elapsed Time: 0:05:08"
     ]
    },
    {
     "name": "stdout",
     "output_type": "stream",
     "text": [
      "Save image to path  assets/addi/fire_database/image618.jpg\n",
      "Downloading image from  http://com.dataturks.a96-i23.open.s3.amazonaws.com/2c9fafb06702b2c1016723e86959020f/51c43799-4ba3-4d3d-95e7-1645f9d55600___FF86.JPEG\n"
     ]
    },
    {
     "name": "stderr",
     "output_type": "stream",
     "text": [
      "\r",
      "\\ |                                                #| 620 Elapsed Time: 0:05:08"
     ]
    },
    {
     "name": "stdout",
     "output_type": "stream",
     "text": [
      "Save image to path  assets/addi/fire_database/image619.jpg\n",
      "Downloading image from  http://com.dataturks.a96-i23.open.s3.amazonaws.com/2c9fafb06702b2c1016723e86959020f/00a729ab-4a46-4271-8cbb-e88c99d42b1e___415.JPEG\n"
     ]
    },
    {
     "name": "stderr",
     "output_type": "stream",
     "text": [
      "\r",
      "| |                                           #     | 621 Elapsed Time: 0:05:09"
     ]
    },
    {
     "name": "stdout",
     "output_type": "stream",
     "text": [
      "Save image to path  assets/addi/fire_database/image620.jpg\n",
      "Downloading image from  http://com.dataturks.a96-i23.open.s3.amazonaws.com/2c9fafb06702b2c1016723e86959020f/67b111a4-6304-417a-80aa-35af0a6e51eb___FF256.JPEG\n"
     ]
    },
    {
     "name": "stderr",
     "output_type": "stream",
     "text": [
      "\r",
      "/ |                                       #         | 622 Elapsed Time: 0:05:09"
     ]
    },
    {
     "name": "stdout",
     "output_type": "stream",
     "text": [
      "Save image to path  assets/addi/fire_database/image621.jpg\n",
      "Downloading image from  http://com.dataturks.a96-i23.open.s3.amazonaws.com/2c9fafb06702b2c1016723e86959020f/be557bf7-44d9-4280-b5ef-4a9ff2ee317e___58.JPEG\n"
     ]
    },
    {
     "name": "stderr",
     "output_type": "stream",
     "text": [
      "\r",
      "- |                                  #              | 623 Elapsed Time: 0:05:10"
     ]
    },
    {
     "name": "stdout",
     "output_type": "stream",
     "text": [
      "Save image to path  assets/addi/fire_database/image622.jpg\n",
      "Downloading image from  http://com.dataturks.a96-i23.open.s3.amazonaws.com/2c9fafb06702b2c1016723e86959020f/ed869d7a-aee2-484a-afba-307761ce609d___100.JPEG\n"
     ]
    },
    {
     "name": "stderr",
     "output_type": "stream",
     "text": [
      "\r",
      "\\ |                             #                   | 624 Elapsed Time: 0:05:10"
     ]
    },
    {
     "name": "stdout",
     "output_type": "stream",
     "text": [
      "Save image to path  assets/addi/fire_database/image623.jpg\n",
      "Downloading image from  http://com.dataturks.a96-i23.open.s3.amazonaws.com/2c9fafb06702b2c1016723e86959020f/1f7b93bc-ab2a-41a2-b97f-d575a4516506___FF313.JPEG\n"
     ]
    },
    {
     "name": "stderr",
     "output_type": "stream",
     "text": [
      "\r",
      "| |                        #                        | 625 Elapsed Time: 0:05:11"
     ]
    },
    {
     "name": "stdout",
     "output_type": "stream",
     "text": [
      "Save image to path  assets/addi/fire_database/image624.jpg\n",
      "Downloading image from  http://com.dataturks.a96-i23.open.s3.amazonaws.com/2c9fafb06702b2c1016723e86959020f/09c300bf-171c-49b1-944e-3b296aeedb96___550.JPEG\n"
     ]
    },
    {
     "name": "stderr",
     "output_type": "stream",
     "text": [
      "\r",
      "/ |                   #                             | 626 Elapsed Time: 0:05:11"
     ]
    },
    {
     "name": "stdout",
     "output_type": "stream",
     "text": [
      "Save image to path  assets/addi/fire_database/image625.jpg\n",
      "Downloading image from  http://com.dataturks.a96-i23.open.s3.amazonaws.com/2c9fafb06702b2c1016723e86959020f/44d34b71-3d96-4d51-8cf7-052adf409152___383.JPEG\n"
     ]
    },
    {
     "name": "stderr",
     "output_type": "stream",
     "text": [
      "\r",
      "- |              #                                  | 627 Elapsed Time: 0:05:12"
     ]
    },
    {
     "name": "stdout",
     "output_type": "stream",
     "text": [
      "Save image to path  assets/addi/fire_database/image626.jpg\n",
      "Downloading image from  http://com.dataturks.a96-i23.open.s3.amazonaws.com/2c9fafb06702b2c1016723e86959020f/54155904-f037-4862-9e70-0e673b34dbb4___229.JPEG\n"
     ]
    },
    {
     "name": "stderr",
     "output_type": "stream",
     "text": [
      "\r",
      "\\ |      #                                          | 628 Elapsed Time: 0:05:12"
     ]
    },
    {
     "name": "stdout",
     "output_type": "stream",
     "text": [
      "Save image to path  assets/addi/fire_database/image627.jpg\n",
      "Downloading image from  http://com.dataturks.a96-i23.open.s3.amazonaws.com/2c9fafb06702b2c1016723e86959020f/7a6455c1-e02e-47c6-a4e0-b7e394aa9e0b___FF190.JPEG\n"
     ]
    },
    {
     "name": "stderr",
     "output_type": "stream",
     "text": [
      "\r",
      "| | #                                               | 629 Elapsed Time: 0:05:13"
     ]
    },
    {
     "name": "stdout",
     "output_type": "stream",
     "text": [
      "Save image to path  assets/addi/fire_database/image628.jpg\n",
      "Downloading image from  http://com.dataturks.a96-i23.open.s3.amazonaws.com/2c9fafb06702b2c1016723e86959020f/4cc24f9e-627b-43a7-b545-3d35b67f90c7___23.JPEG\n"
     ]
    },
    {
     "name": "stderr",
     "output_type": "stream",
     "text": [
      "\r",
      "/ |  #                                              | 630 Elapsed Time: 0:05:13"
     ]
    },
    {
     "name": "stdout",
     "output_type": "stream",
     "text": [
      "Save image to path  assets/addi/fire_database/image629.jpg\n",
      "Downloading image from  http://com.dataturks.a96-i23.open.s3.amazonaws.com/2c9fafb06702b2c1016723e86959020f/d75e70a8-f083-4074-8e31-ea65fcc78f10___481.JPEG\n"
     ]
    },
    {
     "name": "stderr",
     "output_type": "stream",
     "text": [
      "\r",
      "- |       #                                         | 631 Elapsed Time: 0:05:14"
     ]
    },
    {
     "name": "stdout",
     "output_type": "stream",
     "text": [
      "Save image to path  assets/addi/fire_database/image630.jpg\n",
      "Downloading image from  http://com.dataturks.a96-i23.open.s3.amazonaws.com/2c9fafb06702b2c1016723e86959020f/fe53ef1e-2242-40df-8b87-27c7480660c2___194.JPEG\n"
     ]
    },
    {
     "name": "stderr",
     "output_type": "stream",
     "text": [
      "\r",
      "\\ |            #                                    | 632 Elapsed Time: 0:05:14"
     ]
    },
    {
     "name": "stdout",
     "output_type": "stream",
     "text": [
      "Save image to path  assets/addi/fire_database/image631.jpg\n",
      "Downloading image from  http://com.dataturks.a96-i23.open.s3.amazonaws.com/2c9fafb06702b2c1016723e86959020f/d9ff8d31-9545-418f-8213-aca1b8fa65e5___FF104.JPEG\n"
     ]
    },
    {
     "name": "stderr",
     "output_type": "stream",
     "text": [
      "\r",
      "| |                #                                | 633 Elapsed Time: 0:05:15"
     ]
    },
    {
     "name": "stdout",
     "output_type": "stream",
     "text": [
      "Save image to path  assets/addi/fire_database/image632.jpg\n",
      "Downloading image from  http://com.dataturks.a96-i23.open.s3.amazonaws.com/2c9fafb06702b2c1016723e86959020f/2e8c62e9-e5c6-4d78-8019-823930d6972e___317.JPEG\n"
     ]
    },
    {
     "name": "stderr",
     "output_type": "stream",
     "text": [
      "\r",
      "/ |                      #                          | 634 Elapsed Time: 0:05:15"
     ]
    },
    {
     "name": "stdout",
     "output_type": "stream",
     "text": [
      "Save image to path  assets/addi/fire_database/image633.jpg\n",
      "Downloading image from  http://com.dataturks.a96-i23.open.s3.amazonaws.com/2c9fafb06702b2c1016723e86959020f/b7fd7aa9-2513-4604-a4cc-b0e3710989b9___FF45.JPEG\n"
     ]
    },
    {
     "name": "stderr",
     "output_type": "stream",
     "text": [
      "\r",
      "- |                          #                      | 635 Elapsed Time: 0:05:16"
     ]
    },
    {
     "name": "stdout",
     "output_type": "stream",
     "text": [
      "Save image to path  assets/addi/fire_database/image634.jpg\n",
      "Downloading image from  http://com.dataturks.a96-i23.open.s3.amazonaws.com/2c9fafb06702b2c1016723e86959020f/dab6780c-a003-4375-9e39-4958ddb67b0d___252.JPEG\n"
     ]
    },
    {
     "name": "stderr",
     "output_type": "stream",
     "text": [
      "\r",
      "\\ |                               #                 | 636 Elapsed Time: 0:05:16"
     ]
    },
    {
     "name": "stdout",
     "output_type": "stream",
     "text": [
      "Save image to path  assets/addi/fire_database/image635.jpg\n",
      "Downloading image from  http://com.dataturks.a96-i23.open.s3.amazonaws.com/2c9fafb06702b2c1016723e86959020f/db993f70-1f2f-4f18-8f5f-49a2a02d18a0___FF295.JPEG\n"
     ]
    },
    {
     "name": "stderr",
     "output_type": "stream",
     "text": [
      "\r",
      "| |                                    #            | 637 Elapsed Time: 0:05:17"
     ]
    },
    {
     "name": "stdout",
     "output_type": "stream",
     "text": [
      "Save image to path  assets/addi/fire_database/image636.jpg\n",
      "Downloading image from  http://com.dataturks.a96-i23.open.s3.amazonaws.com/2c9fafb06702b2c1016723e86959020f/9ceaeb56-0c6f-49db-aa5e-92c48eaf722b___74.JPEG\n"
     ]
    },
    {
     "name": "stderr",
     "output_type": "stream",
     "text": [
      "\r",
      "/ |                                        #        | 638 Elapsed Time: 0:05:17"
     ]
    },
    {
     "name": "stdout",
     "output_type": "stream",
     "text": [
      "Save image to path  assets/addi/fire_database/image637.jpg\n",
      "Downloading image from  http://com.dataturks.a96-i23.open.s3.amazonaws.com/2c9fafb06702b2c1016723e86959020f/36a95ad5-177d-42c9-b757-de8ca30cfe4a___439.JPEG\n"
     ]
    },
    {
     "name": "stderr",
     "output_type": "stream",
     "text": [
      "\r",
      "- |                                              #  | 639 Elapsed Time: 0:05:18"
     ]
    },
    {
     "name": "stdout",
     "output_type": "stream",
     "text": [
      "Save image to path  assets/addi/fire_database/image638.jpg\n",
      "Downloading image from  http://com.dataturks.a96-i23.open.s3.amazonaws.com/2c9fafb06702b2c1016723e86959020f/043b20c2-df88-4f61-9a81-119e7688af65___340.JPEG\n"
     ]
    },
    {
     "name": "stderr",
     "output_type": "stream",
     "text": [
      "\r",
      "\\ |                                            #    | 640 Elapsed Time: 0:05:18"
     ]
    },
    {
     "name": "stdout",
     "output_type": "stream",
     "text": [
      "Save image to path  assets/addi/fire_database/image639.jpg\n",
      "Downloading image from  http://com.dataturks.a96-i23.open.s3.amazonaws.com/2c9fafb06702b2c1016723e86959020f/ec5dfa0e-4601-47c8-a31b-65f067aef52b___FF153.JPEG\n"
     ]
    },
    {
     "name": "stderr",
     "output_type": "stream",
     "text": [
      "\r",
      "| |                                        #        | 641 Elapsed Time: 0:05:19"
     ]
    },
    {
     "name": "stdout",
     "output_type": "stream",
     "text": [
      "Save image to path  assets/addi/fire_database/image640.jpg\n",
      "Downloading image from  http://com.dataturks.a96-i23.open.s3.amazonaws.com/2c9fafb06702b2c1016723e86959020f/c338a752-8001-42b1-bbe4-7805423780f6___205.JPEG\n"
     ]
    },
    {
     "name": "stderr",
     "output_type": "stream",
     "text": [
      "\r",
      "/ |                                   #             | 642 Elapsed Time: 0:05:19"
     ]
    },
    {
     "name": "stdout",
     "output_type": "stream",
     "text": [
      "Save image to path  assets/addi/fire_database/image641.jpg\n",
      "Downloading image from  http://com.dataturks.a96-i23.open.s3.amazonaws.com/2c9fafb06702b2c1016723e86959020f/9ddb0060-3cd5-47e2-b0af-b3f8e9ac45fe___FF12.JPEG\n"
     ]
    },
    {
     "name": "stderr",
     "output_type": "stream",
     "text": [
      "\r",
      "- |                             #                   | 643 Elapsed Time: 0:05:20"
     ]
    },
    {
     "name": "stdout",
     "output_type": "stream",
     "text": [
      "Save image to path  assets/addi/fire_database/image642.jpg\n",
      "Downloading image from  http://com.dataturks.a96-i23.open.s3.amazonaws.com/2c9fafb06702b2c1016723e86959020f/dc802339-63b6-4f7f-9b3b-30cc0f1e7547___62.JPEG\n"
     ]
    },
    {
     "name": "stderr",
     "output_type": "stream",
     "text": [
      "\r",
      "\\ |                        #                        | 644 Elapsed Time: 0:05:20"
     ]
    },
    {
     "name": "stdout",
     "output_type": "stream",
     "text": [
      "Save image to path  assets/addi/fire_database/image643.jpg\n",
      "Downloading image from  http://com.dataturks.a96-i23.open.s3.amazonaws.com/2c9fafb06702b2c1016723e86959020f/6c295d77-54a3-492e-8092-656c50e0d644___FF283.JPEG\n"
     ]
    },
    {
     "name": "stderr",
     "output_type": "stream",
     "text": [
      "\r",
      "| |                   #                             | 645 Elapsed Time: 0:05:21"
     ]
    },
    {
     "name": "stdout",
     "output_type": "stream",
     "text": [
      "Save image to path  assets/addi/fire_database/image644.jpg\n",
      "Downloading image from  http://com.dataturks.a96-i23.open.s3.amazonaws.com/2c9fafb06702b2c1016723e86959020f/f3b4f8f6-b18c-40fd-b5c9-b3360ccff766___9.JPEG\n"
     ]
    },
    {
     "name": "stderr",
     "output_type": "stream",
     "text": [
      "\r",
      "/ |              #                                  | 646 Elapsed Time: 0:05:21"
     ]
    },
    {
     "name": "stdout",
     "output_type": "stream",
     "text": [
      "Save image to path  assets/addi/fire_database/image645.jpg\n",
      "Downloading image from  http://com.dataturks.a96-i23.open.s3.amazonaws.com/2c9fafb06702b2c1016723e86959020f/bb621381-f62c-4362-b085-9d0b5704a27e___FF145.JPEG\n"
     ]
    },
    {
     "name": "stderr",
     "output_type": "stream",
     "text": [
      "\r",
      "- |        #                                        | 647 Elapsed Time: 0:05:22"
     ]
    },
    {
     "name": "stdout",
     "output_type": "stream",
     "text": [
      "Save image to path  assets/addi/fire_database/image646.jpg\n",
      "Downloading image from  http://com.dataturks.a96-i23.open.s3.amazonaws.com/2c9fafb06702b2c1016723e86959020f/8359c3e4-726a-42df-9315-d1c08c1a56c8___356.JPEG\n"
     ]
    },
    {
     "name": "stderr",
     "output_type": "stream",
     "text": [
      "\r",
      "\\ |    #                                            | 648 Elapsed Time: 0:05:22"
     ]
    },
    {
     "name": "stdout",
     "output_type": "stream",
     "text": [
      "Save image to path  assets/addi/fire_database/image647.jpg\n",
      "Downloading image from  http://com.dataturks.a96-i23.open.s3.amazonaws.com/2c9fafb06702b2c1016723e86959020f/29c11bfa-e89c-48fa-999f-1ca89f23ce1a___213.JPEG\n"
     ]
    },
    {
     "name": "stderr",
     "output_type": "stream",
     "text": [
      "\r",
      "| |#                                                | 649 Elapsed Time: 0:05:23"
     ]
    },
    {
     "name": "stdout",
     "output_type": "stream",
     "text": [
      "Save image to path  assets/addi/fire_database/image648.jpg\n",
      "Downloading image from  http://com.dataturks.a96-i23.open.s3.amazonaws.com/2c9fafb06702b2c1016723e86959020f/77884254-d69d-4dfb-8e3e-556616b13e4b___497.JPEG\n"
     ]
    },
    {
     "name": "stderr",
     "output_type": "stream",
     "text": [
      "\r",
      "/ |    #                                            | 650 Elapsed Time: 0:05:23"
     ]
    },
    {
     "name": "stdout",
     "output_type": "stream",
     "text": [
      "Save image to path  assets/addi/fire_database/image649.jpg\n",
      "Downloading image from  http://com.dataturks.a96-i23.open.s3.amazonaws.com/2c9fafb06702b2c1016723e86959020f/2df0989f-d078-41b2-87a3-5c8257f63cd8___35.JPEG\n"
     ]
    },
    {
     "name": "stderr",
     "output_type": "stream",
     "text": [
      "\r",
      "- |         #                                       | 651 Elapsed Time: 0:05:24"
     ]
    },
    {
     "name": "stdout",
     "output_type": "stream",
     "text": [
      "Save image to path  assets/addi/fire_database/image650.jpg\n",
      "Downloading image from  http://com.dataturks.a96-i23.open.s3.amazonaws.com/2c9fafb06702b2c1016723e86959020f/17768274-f62b-4209-9d77-5e2323a76048___182.JPEG\n"
     ]
    },
    {
     "name": "stderr",
     "output_type": "stream",
     "text": [
      "\r",
      "\\ |              #                                  | 652 Elapsed Time: 0:05:24"
     ]
    },
    {
     "name": "stdout",
     "output_type": "stream",
     "text": [
      "Save image to path  assets/addi/fire_database/image651.jpg\n",
      "Downloading image from  http://com.dataturks.a96-i23.open.s3.amazonaws.com/2c9fafb06702b2c1016723e86959020f/cc5f5ce3-b553-4431-a44b-f3002dbbcd7c___478.JPEG\n"
     ]
    },
    {
     "name": "stderr",
     "output_type": "stream",
     "text": [
      "\r",
      "| |                    #                            | 653 Elapsed Time: 0:05:25"
     ]
    },
    {
     "name": "stdout",
     "output_type": "stream",
     "text": [
      "Save image to path  assets/addi/fire_database/image652.jpg\n",
      "Downloading image from  http://com.dataturks.a96-i23.open.s3.amazonaws.com/2c9fafb06702b2c1016723e86959020f/2dd25936-0917-4704-b22f-f104ce8cd38f___301.JPEG\n"
     ]
    },
    {
     "name": "stderr",
     "output_type": "stream",
     "text": [
      "\r",
      "/ |                         #                       | 654 Elapsed Time: 0:05:25"
     ]
    },
    {
     "name": "stdout",
     "output_type": "stream",
     "text": [
      "Save image to path  assets/addi/fire_database/image653.jpg\n",
      "Downloading image from  http://com.dataturks.a96-i23.open.s3.amazonaws.com/2c9fafb06702b2c1016723e86959020f/77a0a346-6b05-4f7b-a01e-b787ae7cdc18___FF112.JPEG\n"
     ]
    },
    {
     "name": "stderr",
     "output_type": "stream",
     "text": [
      "\r",
      "- |                             #                   | 655 Elapsed Time: 0:05:26"
     ]
    },
    {
     "name": "stdout",
     "output_type": "stream",
     "text": [
      "Save image to path  assets/addi/fire_database/image654.jpg\n",
      "Downloading image from  http://com.dataturks.a96-i23.open.s3.amazonaws.com/2c9fafb06702b2c1016723e86959020f/72f7e61d-cff6-49c4-a284-b32d2c4b6780___244.JPEG\n"
     ]
    },
    {
     "name": "stderr",
     "output_type": "stream",
     "text": [
      "\r",
      "\\ |                                 #               | 656 Elapsed Time: 0:05:26"
     ]
    },
    {
     "name": "stdout",
     "output_type": "stream",
     "text": [
      "Save image to path  assets/addi/fire_database/image655.jpg\n",
      "Downloading image from  http://com.dataturks.a96-i23.open.s3.amazonaws.com/2c9fafb06702b2c1016723e86959020f/5602029c-da00-48b7-b7ba-63a0c0d723e2___FF53.JPEG\n"
     ]
    },
    {
     "name": "stderr",
     "output_type": "stream",
     "text": [
      "\r",
      "| |                                      #          | 657 Elapsed Time: 0:05:27"
     ]
    },
    {
     "name": "stdout",
     "output_type": "stream",
     "text": [
      "Save image to path  assets/addi/fire_database/image656.jpg\n",
      "Downloading image from  http://com.dataturks.a96-i23.open.s3.amazonaws.com/2c9fafb06702b2c1016723e86959020f/93937a08-3d52-4cd7-bfda-6efe44843384___166.JPEG\n"
     ]
    },
    {
     "name": "stderr",
     "output_type": "stream",
     "text": [
      "\r",
      "/ |                                          #      | 658 Elapsed Time: 0:05:27"
     ]
    },
    {
     "name": "stdout",
     "output_type": "stream",
     "text": [
      "Save image to path  assets/addi/fire_database/image657.jpg\n",
      "Downloading image from  http://com.dataturks.a96-i23.open.s3.amazonaws.com/2c9fafb06702b2c1016723e86959020f/1e39c468-9c4e-478c-a227-edc154c0d8ca___536.JPEG\n"
     ]
    },
    {
     "name": "stderr",
     "output_type": "stream",
     "text": [
      "\r",
      "- |                                               # | 659 Elapsed Time: 0:05:28"
     ]
    },
    {
     "name": "stdout",
     "output_type": "stream",
     "text": [
      "Save image to path  assets/addi/fire_database/image658.jpg\n",
      "Downloading image from  http://com.dataturks.a96-i23.open.s3.amazonaws.com/2c9fafb06702b2c1016723e86959020f/5c58dc43-838d-4e2e-b1bb-7b8a53b2351b___FF230.JPEG\n"
     ]
    },
    {
     "name": "stderr",
     "output_type": "stream",
     "text": [
      "\r",
      "\\ |                                              #  | 660 Elapsed Time: 0:05:28"
     ]
    },
    {
     "name": "stdout",
     "output_type": "stream",
     "text": [
      "Save image to path  assets/addi/fire_database/image659.jpg\n",
      "Downloading image from  http://com.dataturks.a96-i23.open.s3.amazonaws.com/2c9fafb06702b2c1016723e86959020f/d2b18f18-b861-46d3-883b-602fafed666f___189.JPEG\n"
     ]
    },
    {
     "name": "stderr",
     "output_type": "stream",
     "text": [
      "\r",
      "| |                                        #        | 661 Elapsed Time: 0:05:29"
     ]
    },
    {
     "name": "stdout",
     "output_type": "stream",
     "text": [
      "Save image to path  assets/addi/fire_database/image660.jpg\n",
      "Downloading image from  http://com.dataturks.a96-i23.open.s3.amazonaws.com/2c9fafb06702b2c1016723e86959020f/d068b18e-61e4-4286-87a9-d09a093d559a___473.JPEG\n"
     ]
    },
    {
     "name": "stderr",
     "output_type": "stream",
     "text": [
      "\r",
      "/ |                                   #             | 662 Elapsed Time: 0:05:29"
     ]
    },
    {
     "name": "stdout",
     "output_type": "stream",
     "text": [
      "Save image to path  assets/addi/fire_database/image661.jpg\n",
      "Downloading image from  http://com.dataturks.a96-i23.open.s3.amazonaws.com/2c9fafb06702b2c1016723e86959020f/ffd0eaba-4d01-4dea-aa52-5c29c8aea77b___FF119.JPEG\n"
     ]
    },
    {
     "name": "stderr",
     "output_type": "stream",
     "text": [
      "\r",
      "- |                              #                  | 663 Elapsed Time: 0:05:30"
     ]
    },
    {
     "name": "stdout",
     "output_type": "stream",
     "text": [
      "Save image to path  assets/addi/fire_database/image662.jpg\n",
      "Downloading image from  http://com.dataturks.a96-i23.open.s3.amazonaws.com/2c9fafb06702b2c1016723e86959020f/8c1a5268-23f2-417e-bde4-fe3033a9560b___FF58.JPEG\n"
     ]
    },
    {
     "name": "stderr",
     "output_type": "stream",
     "text": [
      "\r",
      "\\ |                          #                      | 664 Elapsed Time: 0:05:30"
     ]
    },
    {
     "name": "stdout",
     "output_type": "stream",
     "text": [
      "Save image to path  assets/addi/fire_database/image663.jpg\n",
      "Downloading image from  http://com.dataturks.a96-i23.open.s3.amazonaws.com/2c9fafb06702b2c1016723e86959020f/f23383a2-c5a5-454c-a1ef-5f4788670ff6___69.JPEG\n"
     ]
    },
    {
     "name": "stderr",
     "output_type": "stream",
     "text": [
      "\r",
      "| |                     #                           | 665 Elapsed Time: 0:05:31"
     ]
    },
    {
     "name": "stdout",
     "output_type": "stream",
     "text": [
      "Save image to path  assets/addi/fire_database/image664.jpg\n",
      "Downloading image from  http://com.dataturks.a96-i23.open.s3.amazonaws.com/2c9fafb06702b2c1016723e86959020f/36ec2a7e-8b58-40d8-abf5-e60b3c02a182___561.JPEG\n"
     ]
    },
    {
     "name": "stderr",
     "output_type": "stream",
     "text": [
      "\r",
      "/ |                #                                | 666 Elapsed Time: 0:05:31"
     ]
    },
    {
     "name": "stdout",
     "output_type": "stream",
     "text": [
      "Save image to path  assets/addi/fire_database/image665.jpg\n",
      "Downloading image from  http://com.dataturks.a96-i23.open.s3.amazonaws.com/2c9fafb06702b2c1016723e86959020f/4ecc32bb-0d30-4d7d-abe1-0448829c1252___FF288.JPEG\n"
     ]
    },
    {
     "name": "stderr",
     "output_type": "stream",
     "text": [
      "\r",
      "- |            #                                    | 667 Elapsed Time: 0:05:31"
     ]
    },
    {
     "name": "stdout",
     "output_type": "stream",
     "text": [
      "Save image to path  assets/addi/fire_database/image666.jpg\n",
      "Downloading image from  http://com.dataturks.a96-i23.open.s3.amazonaws.com/2c9fafb06702b2c1016723e86959020f/d33768c0-1d21-45e9-a395-729f30244832___131.JPEG\n"
     ]
    },
    {
     "name": "stderr",
     "output_type": "stream",
     "text": [
      "\r",
      "\\ |       #                                         | 668 Elapsed Time: 0:05:32"
     ]
    },
    {
     "name": "stdout",
     "output_type": "stream",
     "text": [
      "Save image to path  assets/addi/fire_database/image667.jpg\n",
      "Downloading image from  http://com.dataturks.a96-i23.open.s3.amazonaws.com/2c9fafb06702b2c1016723e86959020f/f959f91a-5996-467a-8222-a9b58b1eb214___424.JPEG\n"
     ]
    },
    {
     "name": "stderr",
     "output_type": "stream",
     "text": [
      "\r",
      "| |  #                                              | 669 Elapsed Time: 0:05:32"
     ]
    },
    {
     "name": "stdout",
     "output_type": "stream",
     "text": [
      "Save image to path  assets/addi/fire_database/image668.jpg\n",
      "Downloading image from  http://com.dataturks.a96-i23.open.s3.amazonaws.com/2c9fafb06702b2c1016723e86959020f/d1ab47c2-1c25-4830-a227-1b896334a3da___FF267.JPEG\n"
     ]
    },
    {
     "name": "stderr",
     "output_type": "stream",
     "text": [
      "\r",
      "/ |  #                                              | 670 Elapsed Time: 0:05:33"
     ]
    },
    {
     "name": "stdout",
     "output_type": "stream",
     "text": [
      "Save image to path  assets/addi/fire_database/image669.jpg\n",
      "Downloading image from  http://com.dataturks.a96-i23.open.s3.amazonaws.com/2c9fafb06702b2c1016723e86959020f/796203b9-b9eb-493c-8938-85110cb9313f___86.JPEG\n"
     ]
    },
    {
     "name": "stderr",
     "output_type": "stream",
     "text": [
      "\r",
      "- |       #                                         | 671 Elapsed Time: 0:05:33"
     ]
    },
    {
     "name": "stdout",
     "output_type": "stream",
     "text": [
      "Save image to path  assets/addi/fire_database/image670.jpg\n",
      "Downloading image from  http://com.dataturks.a96-i23.open.s3.amazonaws.com/2c9fafb06702b2c1016723e86959020f/c26d30f9-83e0-4bdc-8fdc-9bb6648c4fdf___2.JPEG\n"
     ]
    },
    {
     "name": "stderr",
     "output_type": "stream",
     "text": [
      "\r",
      "\\ |            #                                    | 672 Elapsed Time: 0:05:34"
     ]
    },
    {
     "name": "stdout",
     "output_type": "stream",
     "text": [
      "Save image to path  assets/addi/fire_database/image671.jpg\n",
      "Downloading image from  http://com.dataturks.a96-i23.open.s3.amazonaws.com/2c9fafb06702b2c1016723e86959020f/312619b8-11d1-41ed-81d6-2b1f0c8ce6e9___218.JPEG\n"
     ]
    },
    {
     "name": "stderr",
     "output_type": "stream",
     "text": [
      "\r",
      "| |                 #                               | 673 Elapsed Time: 0:05:34"
     ]
    },
    {
     "name": "stdout",
     "output_type": "stream",
     "text": [
      "Save image to path  assets/addi/fire_database/image672.jpg\n",
      "Downloading image from  http://com.dataturks.a96-i23.open.s3.amazonaws.com/2c9fafb06702b2c1016723e86959020f/72ee85df-b25a-435f-b7af-30392f862998___127.JPEG\n"
     ]
    },
    {
     "name": "stderr",
     "output_type": "stream",
     "text": [
      "\r",
      "/ |                       #                         | 674 Elapsed Time: 0:05:35"
     ]
    },
    {
     "name": "stdout",
     "output_type": "stream",
     "text": [
      "Save image to path  assets/addi/fire_database/image673.jpg\n",
      "Downloading image from  http://com.dataturks.a96-i23.open.s3.amazonaws.com/2c9fafb06702b2c1016723e86959020f/c622501b-8369-4a92-ab1f-28c5901113ce___90.JPEG\n"
     ]
    },
    {
     "name": "stderr",
     "output_type": "stream",
     "text": [
      "\r",
      "- |                            #                    | 675 Elapsed Time: 0:05:36"
     ]
    },
    {
     "name": "stdout",
     "output_type": "stream",
     "text": [
      "Save image to path  assets/addi/fire_database/image674.jpg\n",
      "Downloading image from  http://com.dataturks.a96-i23.open.s3.amazonaws.com/2c9fafb06702b2c1016723e86959020f/0d335ced-0da8-4e2f-a611-0d3da74b2ee5___FF271.JPEG\n"
     ]
    },
    {
     "name": "stderr",
     "output_type": "stream",
     "text": [
      "\r",
      "\\ |                                #                | 676 Elapsed Time: 0:05:36"
     ]
    },
    {
     "name": "stdout",
     "output_type": "stream",
     "text": [
      "Save image to path  assets/addi/fire_database/image675.jpg\n",
      "Downloading image from  http://com.dataturks.a96-i23.open.s3.amazonaws.com/2c9fafb06702b2c1016723e86959020f/575c1553-0370-4c10-b7d9-b4691bc4fc10___432.JPEG\n"
     ]
    },
    {
     "name": "stderr",
     "output_type": "stream",
     "text": [
      "\r",
      "| |                                       #         | 677 Elapsed Time: 0:05:37"
     ]
    },
    {
     "name": "stdout",
     "output_type": "stream",
     "text": [
      "Save image to path  assets/addi/fire_database/image676.jpg\n",
      "Downloading image from  http://com.dataturks.a96-i23.open.s3.amazonaws.com/2c9fafb06702b2c1016723e86959020f/2d93b08a-8bdd-4700-b53f-51c7094ccd6d___FF158.JPEG\n"
     ]
    },
    {
     "name": "stderr",
     "output_type": "stream",
     "text": [
      "\r",
      "/ |                                           #     | 678 Elapsed Time: 0:05:37"
     ]
    },
    {
     "name": "stdout",
     "output_type": "stream",
     "text": [
      "Save image to path  assets/addi/fire_database/image677.jpg\n",
      "Downloading image from  http://com.dataturks.a96-i23.open.s3.amazonaws.com/2c9fafb06702b2c1016723e86959020f/c95482d6-c6e0-4b83-81f5-cb1c6eaef906___FF19.JPEG\n"
     ]
    },
    {
     "name": "stderr",
     "output_type": "stream",
     "text": [
      "\r",
      "- |                                                #| 679 Elapsed Time: 0:05:38"
     ]
    },
    {
     "name": "stdout",
     "output_type": "stream",
     "text": [
      "Save image to path  assets/addi/fire_database/image678.jpg\n",
      "Downloading image from  http://com.dataturks.a96-i23.open.s3.amazonaws.com/2c9fafb06702b2c1016723e86959020f/cb6121af-3585-4fae-901a-d73d077c6f6c___28.JPEG\n"
     ]
    },
    {
     "name": "stderr",
     "output_type": "stream",
     "text": [
      "\r",
      "\\ |                                           #     | 680 Elapsed Time: 0:05:38"
     ]
    },
    {
     "name": "stdout",
     "output_type": "stream",
     "text": [
      "Save image to path  assets/addi/fire_database/image679.jpg\n",
      "Downloading image from  http://com.dataturks.a96-i23.open.s3.amazonaws.com/2c9fafb06702b2c1016723e86959020f/faf0814f-b923-40da-9766-6f1fe04f95c0___520.JPEG\n"
     ]
    },
    {
     "name": "stderr",
     "output_type": "stream",
     "text": [
      "\r",
      "| |                                     #           | 681 Elapsed Time: 0:05:39"
     ]
    },
    {
     "name": "stdout",
     "output_type": "stream",
     "text": [
      "Save image to path  assets/addi/fire_database/image680.jpg\n",
      "Downloading image from  http://com.dataturks.a96-i23.open.s3.amazonaws.com/2c9fafb06702b2c1016723e86959020f/0f6fae52-7a8e-4d7d-8b85-d314a98f2376___170.JPEG\n"
     ]
    },
    {
     "name": "stderr",
     "output_type": "stream",
     "text": [
      "\r",
      "/ |                                #                | 682 Elapsed Time: 0:05:39"
     ]
    },
    {
     "name": "stdout",
     "output_type": "stream",
     "text": [
      "Save image to path  assets/addi/fire_database/image681.jpg\n",
      "Downloading image from  http://com.dataturks.a96-i23.open.s3.amazonaws.com/2c9fafb06702b2c1016723e86959020f/eb280480-cb2e-4ca6-81f4-cc349f5419e6___465.JPEG\n"
     ]
    },
    {
     "name": "stderr",
     "output_type": "stream",
     "text": [
      "\r",
      "- |                           #                     | 683 Elapsed Time: 0:05:40"
     ]
    },
    {
     "name": "stdout",
     "output_type": "stream",
     "text": [
      "Save image to path  assets/addi/fire_database/image682.jpg\n",
      "Downloading image from  http://com.dataturks.a96-i23.open.s3.amazonaws.com/2c9fafb06702b2c1016723e86959020f/bcf4d8c8-2f21-47b2-9f00-bdb7446d42aa___FF226.JPEG\n"
     ]
    },
    {
     "name": "stderr",
     "output_type": "stream",
     "text": [
      "\r",
      "\\ |                       #                         | 684 Elapsed Time: 0:05:40"
     ]
    },
    {
     "name": "stdout",
     "output_type": "stream",
     "text": [
      "Save image to path  assets/addi/fire_database/image683.jpg\n",
      "Downloading image from  http://com.dataturks.a96-i23.open.s3.amazonaws.com/2c9fafb06702b2c1016723e86959020f/355d3907-09ef-4bbe-aafe-00027cc0c3f1___259.JPEG\n"
     ]
    },
    {
     "name": "stderr",
     "output_type": "stream",
     "text": [
      "\r",
      "| |                 #                               | 685 Elapsed Time: 0:05:41"
     ]
    },
    {
     "name": "stdout",
     "output_type": "stream",
     "text": [
      "Save image to path  assets/addi/fire_database/image684.jpg\n",
      "Downloading image from  http://com.dataturks.a96-i23.open.s3.amazonaws.com/2c9fafb06702b2c1016723e86959020f/67eaf6e0-c600-40cb-be9c-03640f564faf___53.JPEG\n"
     ]
    },
    {
     "name": "stderr",
     "output_type": "stream",
     "text": [
      "\r",
      "/ |             #                                   | 686 Elapsed Time: 0:05:41"
     ]
    },
    {
     "name": "stdout",
     "output_type": "stream",
     "text": [
      "Save image to path  assets/addi/fire_database/image685.jpg\n",
      "Downloading image from  http://com.dataturks.a96-i23.open.s3.amazonaws.com/2c9fafb06702b2c1016723e86959020f/8a90ae10-47c7-42f2-87e0-8d267624376d___FF318.JPEG\n"
     ]
    },
    {
     "name": "stderr",
     "output_type": "stream",
     "text": [
      "\r",
      "- |     #                                           | 687 Elapsed Time: 0:05:42"
     ]
    },
    {
     "name": "stdout",
     "output_type": "stream",
     "text": [
      "Save image to path  assets/addi/fire_database/image686.jpg\n",
      "Downloading image from  http://com.dataturks.a96-i23.open.s3.amazonaws.com/2c9fafb06702b2c1016723e86959020f/52a931d8-fbfb-45f4-8783-5e4081351395___FF35.JPEG\n"
     ]
    },
    {
     "name": "stderr",
     "output_type": "stream",
     "text": [
      "\r",
      "\\ | #                                               | 688 Elapsed Time: 0:05:42"
     ]
    },
    {
     "name": "stdout",
     "output_type": "stream",
     "text": [
      "Save image to path  assets/addi/fire_database/image687.jpg\n",
      "Downloading image from  http://com.dataturks.a96-i23.open.s3.amazonaws.com/2c9fafb06702b2c1016723e86959020f/ccb47ad5-9bf2-46b2-b04d-2f5ea01b4a51___222.JPEG\n"
     ]
    },
    {
     "name": "stderr",
     "output_type": "stream",
     "text": [
      "\r",
      "| |    #                                            | 689 Elapsed Time: 0:05:43"
     ]
    },
    {
     "name": "stdout",
     "output_type": "stream",
     "text": [
      "Save image to path  assets/addi/fire_database/image688.jpg\n",
      "Downloading image from  http://com.dataturks.a96-i23.open.s3.amazonaws.com/2c9fafb06702b2c1016723e86959020f/3e8e298a-d2c0-45fa-bfc9-4ae69e3f1068___388.JPEG\n"
     ]
    },
    {
     "name": "stderr",
     "output_type": "stream",
     "text": [
      "\r",
      "/ |        #                                        | 690 Elapsed Time: 0:05:43"
     ]
    },
    {
     "name": "stdout",
     "output_type": "stream",
     "text": [
      "Save image to path  assets/addi/fire_database/image689.jpg\n",
      "Downloading image from  http://com.dataturks.a96-i23.open.s3.amazonaws.com/2c9fafb06702b2c1016723e86959020f/f68b94a0-8768-4d53-9660-2012ef19bf52___367.JPEG\n"
     ]
    },
    {
     "name": "stderr",
     "output_type": "stream",
     "text": [
      "\r",
      "- |            #                                    | 691 Elapsed Time: 0:05:44"
     ]
    },
    {
     "name": "stdout",
     "output_type": "stream",
     "text": [
      "Save image to path  assets/addi/fire_database/image690.jpg\n",
      "Downloading image from  http://com.dataturks.a96-i23.open.s3.amazonaws.com/2c9fafb06702b2c1016723e86959020f/0454b1fb-bf10-48ab-9eda-5c37ba87f10e___FF174.JPEG\n"
     ]
    },
    {
     "name": "stderr",
     "output_type": "stream",
     "text": [
      "\r",
      "\\ |                #                                | 692 Elapsed Time: 0:05:44"
     ]
    },
    {
     "name": "stdout",
     "output_type": "stream",
     "text": [
      "Save image to path  assets/addi/fire_database/image691.jpg\n",
      "Downloading image from  http://com.dataturks.a96-i23.open.s3.amazonaws.com/2c9fafb06702b2c1016723e86959020f/d4327acc-f8dc-4aae-b0e6-6279864c2b08___449.JPEG\n"
     ]
    },
    {
     "name": "stderr",
     "output_type": "stream",
     "text": [
      "\r",
      "| |                     #                           | 693 Elapsed Time: 0:05:45"
     ]
    },
    {
     "name": "stdout",
     "output_type": "stream",
     "text": [
      "Save image to path  assets/addi/fire_database/image692.jpg\n",
      "Downloading image from  http://com.dataturks.a96-i23.open.s3.amazonaws.com/2c9fafb06702b2c1016723e86959020f/515bf901-36be-4238-ac2b-8bb123c8b0ff___275.JPEG\n"
     ]
    },
    {
     "name": "stderr",
     "output_type": "stream",
     "text": [
      "\r",
      "/ |                         #                       | 694 Elapsed Time: 0:05:45"
     ]
    },
    {
     "name": "stdout",
     "output_type": "stream",
     "text": [
      "Save image to path  assets/addi/fire_database/image693.jpg\n",
      "Downloading image from  http://com.dataturks.a96-i23.open.s3.amazonaws.com/2c9fafb06702b2c1016723e86959020f/79b02e0f-b359-4647-bf9d-f58b18352c7c___FF62.JPEG\n"
     ]
    },
    {
     "name": "stderr",
     "output_type": "stream",
     "text": [
      "\r",
      "- |                              #                  | 695 Elapsed Time: 0:05:46"
     ]
    },
    {
     "name": "stdout",
     "output_type": "stream",
     "text": [
      "Save image to path  assets/addi/fire_database/image694.jpg\n",
      "Downloading image from  http://com.dataturks.a96-i23.open.s3.amazonaws.com/2c9fafb06702b2c1016723e86959020f/b9fe85cf-0063-49a7-ad39-fbfee5d1464b___FF123.JPEG\n"
     ]
    },
    {
     "name": "stderr",
     "output_type": "stream",
     "text": [
      "\r",
      "\\ |                                  #              | 696 Elapsed Time: 0:05:46"
     ]
    },
    {
     "name": "stdout",
     "output_type": "stream",
     "text": [
      "Save image to path  assets/addi/fire_database/image695.jpg\n",
      "Downloading image from  http://com.dataturks.a96-i23.open.s3.amazonaws.com/2c9fafb06702b2c1016723e86959020f/af2810a4-94f2-47b5-ab5b-291bf200624c___330.JPEG\n"
     ]
    },
    {
     "name": "stderr",
     "output_type": "stream",
     "text": [
      "\r",
      "| |                                      #          | 697 Elapsed Time: 0:05:46"
     ]
    },
    {
     "name": "stdout",
     "output_type": "stream",
     "text": [
      "Save image to path  assets/addi/fire_database/image696.jpg\n",
      "Downloading image from  http://com.dataturks.a96-i23.open.s3.amazonaws.com/2c9fafb06702b2c1016723e86959020f/e8441a1d-7316-47fe-9654-ea9607352ecd___12.JPEG\n"
     ]
    },
    {
     "name": "stderr",
     "output_type": "stream",
     "text": [
      "\r",
      "/ |                                          #      | 698 Elapsed Time: 0:05:47"
     ]
    },
    {
     "name": "stdout",
     "output_type": "stream",
     "text": [
      "Save image to path  assets/addi/fire_database/image697.jpg\n",
      "Downloading image from  http://com.dataturks.a96-i23.open.s3.amazonaws.com/2c9fafb06702b2c1016723e86959020f/3b7e966a-c8d8-4cac-93ee-2bc634de412a___FF74.JPEG\n"
     ]
    },
    {
     "name": "stderr",
     "output_type": "stream",
     "text": [
      "\r",
      "- |                                               # | 699 Elapsed Time: 0:05:47"
     ]
    },
    {
     "name": "stdout",
     "output_type": "stream",
     "text": [
      "Save image to path  assets/addi/fire_database/image698.jpg\n",
      "Downloading image from  http://com.dataturks.a96-i23.open.s3.amazonaws.com/2c9fafb06702b2c1016723e86959020f/e2b34287-97e0-4b27-a3af-d802417b6184___263.JPEG\n"
     ]
    },
    {
     "name": "stderr",
     "output_type": "stream",
     "text": [
      "\r",
      "\\ |                                             #   | 700 Elapsed Time: 0:05:48"
     ]
    },
    {
     "name": "stdout",
     "output_type": "stream",
     "text": [
      "Save image to path  assets/addi/fire_database/image699.jpg\n",
      "Downloading image from  http://com.dataturks.a96-i23.open.s3.amazonaws.com/2c9fafb06702b2c1016723e86959020f/cbf04cfd-cbd4-42b2-ae11-639d0e12385f___326.JPEG\n"
     ]
    },
    {
     "name": "stderr",
     "output_type": "stream",
     "text": [
      "\r",
      "| |                                       #         | 701 Elapsed Time: 0:05:48"
     ]
    },
    {
     "name": "stdout",
     "output_type": "stream",
     "text": [
      "Save image to path  assets/addi/fire_database/image700.jpg\n",
      "Downloading image from  http://com.dataturks.a96-i23.open.s3.amazonaws.com/2c9fafb06702b2c1016723e86959020f/e71cbab4-c51a-4fdc-b27a-750c41a75f1e___FF135.JPEG\n"
     ]
    },
    {
     "name": "stderr",
     "output_type": "stream",
     "text": [
      "\r",
      "/ |                                  #              | 702 Elapsed Time: 0:05:49"
     ]
    },
    {
     "name": "stdout",
     "output_type": "stream",
     "text": [
      "Save image to path  assets/addi/fire_database/image701.jpg\n",
      "Downloading image from  http://com.dataturks.a96-i23.open.s3.amazonaws.com/2c9fafb06702b2c1016723e86959020f/f32b75ef-83a0-4a45-94f0-853ece1952d7___408.JPEG\n"
     ]
    },
    {
     "name": "stderr",
     "output_type": "stream",
     "text": [
      "\r",
      "- |                             #                   | 703 Elapsed Time: 0:05:49"
     ]
    },
    {
     "name": "stdout",
     "output_type": "stream",
     "text": [
      "Save image to path  assets/addi/fire_database/image702.jpg\n",
      "Downloading image from  http://com.dataturks.a96-i23.open.s3.amazonaws.com/2c9fafb06702b2c1016723e86959020f/d80e9885-5550-48b2-8e70-5858989416da___45.JPEG\n"
     ]
    },
    {
     "name": "stderr",
     "output_type": "stream",
     "text": [
      "\r",
      "\\ |                        #                        | 704 Elapsed Time: 0:05:50"
     ]
    },
    {
     "name": "stdout",
     "output_type": "stream",
     "text": [
      "Save image to path  assets/addi/fire_database/image703.jpg\n",
      "Downloading image from  http://com.dataturks.a96-i23.open.s3.amazonaws.com/2c9fafb06702b2c1016723e86959020f/c981e3c4-73c3-487e-8c90-958ef8899424___234.JPEG\n"
     ]
    },
    {
     "name": "stderr",
     "output_type": "stream",
     "text": [
      "\r",
      "| |            #                                    | 705 Elapsed Time: 0:05:54"
     ]
    },
    {
     "name": "stdout",
     "output_type": "stream",
     "text": [
      "Save image to path  assets/addi/fire_database/image704.jpg\n",
      "Downloading image from  http://com.dataturks.a96-i23.open.s3.amazonaws.com/2c9fafb06702b2c1016723e86959020f/7615debd-b47b-4e02-909a-51a9860677fa___FF23.JPEG\n"
     ]
    },
    {
     "name": "stderr",
     "output_type": "stream",
     "text": [
      "\r",
      "/ |                #                                | 706 Elapsed Time: 0:05:54"
     ]
    },
    {
     "name": "stdout",
     "output_type": "stream",
     "text": [
      "Save image to path  assets/addi/fire_database/image705.jpg\n",
      "Downloading image from  http://com.dataturks.a96-i23.open.s3.amazonaws.com/2c9fafb06702b2c1016723e86959020f/f524a415-5afb-4167-b8bd-07ac0b963337___FF162.JPEG\n"
     ]
    },
    {
     "name": "stderr",
     "output_type": "stream",
     "text": [
      "\r",
      "- |                      #                          | 707 Elapsed Time: 0:05:55"
     ]
    },
    {
     "name": "stdout",
     "output_type": "stream",
     "text": [
      "Save image to path  assets/addi/fire_database/image706.jpg\n",
      "Downloading image from  http://com.dataturks.a96-i23.open.s3.amazonaws.com/2c9fafb06702b2c1016723e86959020f/0d483561-2585-4f62-a4fa-2479a300c8c4___371.JPEG\n"
     ]
    },
    {
     "name": "stderr",
     "output_type": "stream",
     "text": [
      "\r",
      "\\ |                           #                     | 708 Elapsed Time: 0:05:55"
     ]
    },
    {
     "name": "stdout",
     "output_type": "stream",
     "text": [
      "Save image to path  assets/addi/fire_database/image707.jpg\n",
      "Downloading image from  http://com.dataturks.a96-i23.open.s3.amazonaws.com/2c9fafb06702b2c1016723e86959020f/edcb6d31-690e-4df9-84a1-c1295d081f5a___306.JPEG\n"
     ]
    },
    {
     "name": "stderr",
     "output_type": "stream",
     "text": [
      "\r",
      "| |                               #                 | 709 Elapsed Time: 0:05:55"
     ]
    },
    {
     "name": "stdout",
     "output_type": "stream",
     "text": [
      "Save image to path  assets/addi/fire_database/image708.jpg\n",
      "Downloading image from  http://com.dataturks.a96-i23.open.s3.amazonaws.com/2c9fafb06702b2c1016723e86959020f/e8d16672-69f2-4ff4-aa80-8f2c115b5bc6___FF115.JPEG\n"
     ]
    },
    {
     "name": "stderr",
     "output_type": "stream",
     "text": [
      "\r",
      "/ |                                   #             | 710 Elapsed Time: 0:05:56"
     ]
    },
    {
     "name": "stdout",
     "output_type": "stream",
     "text": [
      "Save image to path  assets/addi/fire_database/image709.jpg\n",
      "Downloading image from  http://com.dataturks.a96-i23.open.s3.amazonaws.com/2c9fafb06702b2c1016723e86959020f/5ecac65d-487c-44bd-a228-1cd74758b5bd___FF54.JPEG\n"
     ]
    },
    {
     "name": "stderr",
     "output_type": "stream",
     "text": [
      "\r",
      "- |                                       #         | 711 Elapsed Time: 0:05:56"
     ]
    },
    {
     "name": "stdout",
     "output_type": "stream",
     "text": [
      "Save image to path  assets/addi/fire_database/image710.jpg\n",
      "Downloading image from  http://com.dataturks.a96-i23.open.s3.amazonaws.com/2c9fafb06702b2c1016723e86959020f/91be9eed-47fb-4b83-bf71-5054c5a0f2a9___243.JPEG\n"
     ]
    },
    {
     "name": "stderr",
     "output_type": "stream",
     "text": [
      "\r",
      "\\ |                                            #    | 712 Elapsed Time: 0:05:57"
     ]
    },
    {
     "name": "stdout",
     "output_type": "stream",
     "text": [
      "Save image to path  assets/addi/fire_database/image711.jpg\n",
      "Downloading image from  http://com.dataturks.a96-i23.open.s3.amazonaws.com/2c9fafb06702b2c1016723e86959020f/dc82015e-750a-431f-8471-ff8a1e4eed6f___32.JPEG\n"
     ]
    },
    {
     "name": "stderr",
     "output_type": "stream",
     "text": [
      "\r",
      "| |                                                #| 713 Elapsed Time: 0:05:57"
     ]
    },
    {
     "name": "stdout",
     "output_type": "stream",
     "text": [
      "Save image to path  assets/addi/fire_database/image712.jpg\n",
      "Downloading image from  http://com.dataturks.a96-i23.open.s3.amazonaws.com/2c9fafb06702b2c1016723e86959020f/a0615559-42bb-4c21-b0b0-f16c0a9d54d8___490.JPEG\n"
     ]
    },
    {
     "name": "stderr",
     "output_type": "stream",
     "text": [
      "\r",
      "/ |                                           #     | 714 Elapsed Time: 0:05:58"
     ]
    },
    {
     "name": "stdout",
     "output_type": "stream",
     "text": [
      "Save image to path  assets/addi/fire_database/image713.jpg\n",
      "Downloading image from  http://com.dataturks.a96-i23.open.s3.amazonaws.com/2c9fafb06702b2c1016723e86959020f/7848cd73-b083-44f4-ba57-4bdad9bb3871___185.JPEG\n"
     ]
    },
    {
     "name": "stderr",
     "output_type": "stream",
     "text": [
      "\r",
      "- |                                       #         | 715 Elapsed Time: 0:05:58"
     ]
    },
    {
     "name": "stdout",
     "output_type": "stream",
     "text": [
      "Save image to path  assets/addi/fire_database/image714.jpg\n",
      "Downloading image from  http://com.dataturks.a96-i23.open.s3.amazonaws.com/2c9fafb06702b2c1016723e86959020f/ce7080d0-cbf9-4462-852b-244069d30728___FF142.JPEG\n"
     ]
    },
    {
     "name": "stderr",
     "output_type": "stream",
     "text": [
      "\r",
      "\\ |                                   #             | 716 Elapsed Time: 0:05:59"
     ]
    },
    {
     "name": "stdout",
     "output_type": "stream",
     "text": [
      "Save image to path  assets/addi/fire_database/image715.jpg\n",
      "Downloading image from  http://com.dataturks.a96-i23.open.s3.amazonaws.com/2c9fafb06702b2c1016723e86959020f/5b211d6e-7720-4b5a-8a00-f5d8fd342519___351.JPEG\n"
     ]
    },
    {
     "name": "stderr",
     "output_type": "stream",
     "text": [
      "\r",
      "| |                             #                   | 717 Elapsed Time: 0:05:59"
     ]
    },
    {
     "name": "stdout",
     "output_type": "stream",
     "text": [
      "Save image to path  assets/addi/fire_database/image716.jpg\n",
      "Downloading image from  http://com.dataturks.a96-i23.open.s3.amazonaws.com/2c9fafb06702b2c1016723e86959020f/accdb399-bf53-4a88-af22-9bc56a0fdbe7___214.JPEG\n"
     ]
    },
    {
     "name": "stderr",
     "output_type": "stream",
     "text": [
      "\r",
      "/ |                        #                        | 718 Elapsed Time: 0:06:00"
     ]
    },
    {
     "name": "stdout",
     "output_type": "stream",
     "text": [
      "Save image to path  assets/addi/fire_database/image717.jpg\n",
      "Downloading image from  http://com.dataturks.a96-i23.open.s3.amazonaws.com/2c9fafb06702b2c1016723e86959020f/db40f7c8-4043-4183-a827-91113f8b33d8___FF284.JPEG\n"
     ]
    },
    {
     "name": "stderr",
     "output_type": "stream",
     "text": [
      "\r",
      "- |                   #                             | 719 Elapsed Time: 0:06:00"
     ]
    },
    {
     "name": "stdout",
     "output_type": "stream",
     "text": [
      "Save image to path  assets/addi/fire_database/image718.jpg\n",
      "Downloading image from  http://com.dataturks.a96-i23.open.s3.amazonaws.com/2c9fafb06702b2c1016723e86959020f/4f9edd8c-b3f8-43f6-8e81-a557f16ecbb6___65.JPEG\n"
     ]
    },
    {
     "name": "stderr",
     "output_type": "stream",
     "text": [
      "\r",
      "\\ |             #                                   | 720 Elapsed Time: 0:06:01"
     ]
    },
    {
     "name": "stdout",
     "output_type": "stream",
     "text": [
      "Save image to path  assets/addi/fire_database/image719.jpg\n",
      "Downloading image from  http://com.dataturks.a96-i23.open.s3.amazonaws.com/2c9fafb06702b2c1016723e86959020f/7aff45b9-e6b5-4307-af74-c69a31e9c066___428.JPEG\n"
     ]
    },
    {
     "name": "stderr",
     "output_type": "stream",
     "text": [
      "\r",
      "| |        #                                        | 721 Elapsed Time: 0:06:01"
     ]
    },
    {
     "name": "stdout",
     "output_type": "stream",
     "text": [
      "Save image to path  assets/addi/fire_database/image720.jpg\n",
      "Downloading image from  http://com.dataturks.a96-i23.open.s3.amazonaws.com/2c9fafb06702b2c1016723e86959020f/c50fcfed-9249-4f87-8502-33e2fb6d689b___347.JPEG\n"
     ]
    },
    {
     "name": "stderr",
     "output_type": "stream",
     "text": [
      "\r",
      "/ |   #                                             | 722 Elapsed Time: 0:06:02"
     ]
    },
    {
     "name": "stdout",
     "output_type": "stream",
     "text": [
      "Save image to path  assets/addi/fire_database/image721.jpg\n",
      "Downloading image from  http://com.dataturks.a96-i23.open.s3.amazonaws.com/2c9fafb06702b2c1016723e86959020f/c37ea960-a56e-413a-b565-4b320341e6af___FF154.JPEG\n"
     ]
    },
    {
     "name": "stderr",
     "output_type": "stream",
     "text": [
      "\r",
      "- |#                                                | 723 Elapsed Time: 0:06:02"
     ]
    },
    {
     "name": "stdout",
     "output_type": "stream",
     "text": [
      "Save image to path  assets/addi/fire_database/image722.jpg\n",
      "Downloading image from  http://com.dataturks.a96-i23.open.s3.amazonaws.com/2c9fafb06702b2c1016723e86959020f/74e52ecd-b96f-412c-9a37-cd843e48d103___FF15.JPEG\n"
     ]
    },
    {
     "name": "stderr",
     "output_type": "stream",
     "text": [
      "\r",
      "\\ |    #                                            | 724 Elapsed Time: 0:06:03"
     ]
    },
    {
     "name": "stdout",
     "output_type": "stream",
     "text": [
      "Save image to path  assets/addi/fire_database/image723.jpg\n",
      "Downloading image from  http://com.dataturks.a96-i23.open.s3.amazonaws.com/2c9fafb06702b2c1016723e86959020f/26f596b9-f572-407b-bca2-47d1e89ca50a___202.JPEG\n"
     ]
    },
    {
     "name": "stderr",
     "output_type": "stream",
     "text": [
      "\r",
      "| |        #                                        | 725 Elapsed Time: 0:06:03"
     ]
    },
    {
     "name": "stdout",
     "output_type": "stream",
     "text": [
      "Save image to path  assets/addi/fire_database/image724.jpg\n",
      "Downloading image from  http://com.dataturks.a96-i23.open.s3.amazonaws.com/2c9fafb06702b2c1016723e86959020f/e127eefc-a879-41ec-898a-36f18d17ddba___73.JPEG\n"
     ]
    },
    {
     "name": "stderr",
     "output_type": "stream",
     "text": [
      "\r",
      "/ |             #                                   | 726 Elapsed Time: 0:06:03"
     ]
    },
    {
     "name": "stdout",
     "output_type": "stream",
     "text": [
      "Save image to path  assets/addi/fire_database/image725.jpg\n",
      "Downloading image from  http://com.dataturks.a96-i23.open.s3.amazonaws.com/2c9fafb06702b2c1016723e86959020f/970d5163-573b-4fc7-80e8-e7b273548a47___FF292.JPEG\n"
     ]
    },
    {
     "name": "stderr",
     "output_type": "stream",
     "text": [
      "\r",
      "- |                  #                              | 727 Elapsed Time: 0:06:04"
     ]
    },
    {
     "name": "stdout",
     "output_type": "stream",
     "text": [
      "Save image to path  assets/addi/fire_database/image726.jpg\n",
      "Downloading image from  http://com.dataturks.a96-i23.open.s3.amazonaws.com/2c9fafb06702b2c1016723e86959020f/293f8a17-2083-4ac3-9e68-7588df9ad677___FF103.JPEG\n"
     ]
    },
    {
     "name": "stderr",
     "output_type": "stream",
     "text": [
      "\r",
      "\\ |                        #                        | 728 Elapsed Time: 0:06:05"
     ]
    },
    {
     "name": "stdout",
     "output_type": "stream",
     "text": [
      "Save image to path  assets/addi/fire_database/image727.jpg\n",
      "Downloading image from  http://com.dataturks.a96-i23.open.s3.amazonaws.com/2c9fafb06702b2c1016723e86959020f/a9eeb1d7-001f-4faf-ab21-3bd917f535eb___310.JPEG\n"
     ]
    },
    {
     "name": "stderr",
     "output_type": "stream",
     "text": [
      "\r",
      "| |                             #                   | 729 Elapsed Time: 0:06:05"
     ]
    },
    {
     "name": "stdout",
     "output_type": "stream",
     "text": [
      "Save image to path  assets/addi/fire_database/image728.jpg\n",
      "Downloading image from  http://com.dataturks.a96-i23.open.s3.amazonaws.com/2c9fafb06702b2c1016723e86959020f/fe859f1e-fbf9-4e6e-95e3-fb0d278a7669___255.JPEG\n"
     ]
    },
    {
     "name": "stderr",
     "output_type": "stream",
     "text": [
      "\r",
      "/ |                                   #             | 730 Elapsed Time: 0:06:06"
     ]
    },
    {
     "name": "stdout",
     "output_type": "stream",
     "text": [
      "Save image to path  assets/addi/fire_database/image729.jpg\n",
      "Downloading image from  http://com.dataturks.a96-i23.open.s3.amazonaws.com/2c9fafb06702b2c1016723e86959020f/0a3a83cc-a641-4eec-8e78-8f2ce20c4bcc___FF42.JPEG\n"
     ]
    },
    {
     "name": "stderr",
     "output_type": "stream",
     "text": [
      "\r",
      "- |                                       #         | 731 Elapsed Time: 0:06:06"
     ]
    },
    {
     "name": "stdout",
     "output_type": "stream",
     "text": [
      "Save image to path  assets/addi/fire_database/image730.jpg\n",
      "Downloading image from  http://com.dataturks.a96-i23.open.s3.amazonaws.com/2c9fafb06702b2c1016723e86959020f/002e17bc-ec0f-4661-ab07-4dfa1ab779f4___486.JPEG\n"
     ]
    },
    {
     "name": "stderr",
     "output_type": "stream",
     "text": [
      "\r",
      "\\ |                                           #     | 732 Elapsed Time: 0:06:06"
     ]
    },
    {
     "name": "stdout",
     "output_type": "stream",
     "text": [
      "Save image to path  assets/addi/fire_database/image731.jpg\n",
      "Downloading image from  http://com.dataturks.a96-i23.open.s3.amazonaws.com/2c9fafb06702b2c1016723e86959020f/7db9de7a-b34d-4026-82b2-5447104b5537___24.JPEG\n"
     ]
    },
    {
     "name": "stderr",
     "output_type": "stream",
     "text": [
      "\r",
      "| |                                               # | 733 Elapsed Time: 0:06:07"
     ]
    },
    {
     "name": "stdout",
     "output_type": "stream",
     "text": [
      "Save image to path  assets/addi/fire_database/image732.jpg\n",
      "Downloading image from  http://com.dataturks.a96-i23.open.s3.amazonaws.com/2c9fafb06702b2c1016723e86959020f/677bbf88-a2d6-4c73-a2eb-a6d1950fde46___193.JPEG\n"
     ]
    },
    {
     "name": "stderr",
     "output_type": "stream",
     "text": [
      "\r",
      "/ |                                             #   | 734 Elapsed Time: 0:06:07"
     ]
    },
    {
     "name": "stdout",
     "output_type": "stream",
     "text": [
      "Save image to path  assets/addi/fire_database/image733.jpg\n",
      "Downloading image from  http://com.dataturks.a96-i23.open.s3.amazonaws.com/2c9fafb06702b2c1016723e86959020f/89306eb1-2727-4ba0-9f5c-efade2680d0b___469.JPEG\n"
     ]
    },
    {
     "name": "stderr",
     "output_type": "stream",
     "text": [
      "\r",
      "- |                                       #         | 735 Elapsed Time: 0:06:08"
     ]
    },
    {
     "name": "stdout",
     "output_type": "stream",
     "text": [
      "Save image to path  assets/addi/fire_database/image734.jpg\n",
      "Downloading image from  http://com.dataturks.a96-i23.open.s3.amazonaws.com/2c9fafb06702b2c1016723e86959020f/1f4d4d45-454f-462c-927a-b616f3dc7a98___384.JPEG\n"
     ]
    },
    {
     "name": "stderr",
     "output_type": "stream",
     "text": [
      "\r",
      "\\ |                                  #              | 736 Elapsed Time: 0:06:08"
     ]
    },
    {
     "name": "stdout",
     "output_type": "stream",
     "text": [
      "Save image to path  assets/addi/fire_database/image735.jpg\n",
      "Downloading image from  http://com.dataturks.a96-i23.open.s3.amazonaws.com/2c9fafb06702b2c1016723e86959020f/2ffecf04-caef-427e-b7e9-28eafc342894___FF197.JPEG\n"
     ]
    },
    {
     "name": "stderr",
     "output_type": "stream",
     "text": [
      "\r",
      "| |                             #                   | 737 Elapsed Time: 0:06:09"
     ]
    },
    {
     "name": "stdout",
     "output_type": "stream",
     "text": [
      "Save image to path  assets/addi/fire_database/image736.jpg\n",
      "Downloading image from  http://com.dataturks.a96-i23.open.s3.amazonaws.com/2c9fafb06702b2c1016723e86959020f/d78cb134-80c2-4320-8246-d33735560c63___FF39.JPEG\n"
     ]
    },
    {
     "name": "stderr",
     "output_type": "stream",
     "text": [
      "\r",
      "/ |                         #                       | 738 Elapsed Time: 0:06:09"
     ]
    },
    {
     "name": "stdout",
     "output_type": "stream",
     "text": [
      "Save image to path  assets/addi/fire_database/image737.jpg\n",
      "Downloading image from  http://com.dataturks.a96-i23.open.s3.amazonaws.com/2c9fafb06702b2c1016723e86959020f/110f0e20-1496-422c-82dc-8d9e897a39cc___FF178.JPEG\n"
     ]
    },
    {
     "name": "stderr",
     "output_type": "stream",
     "text": [
      "\r",
      "- |                     #                           | 739 Elapsed Time: 0:06:10"
     ]
    },
    {
     "name": "stdout",
     "output_type": "stream",
     "text": [
      "Save image to path  assets/addi/fire_database/image738.jpg\n",
      "Downloading image from  http://com.dataturks.a96-i23.open.s3.amazonaws.com/2c9fafb06702b2c1016723e86959020f/6fdd8874-8584-4617-960a-e74baff31d17___FF251.JPEG\n"
     ]
    },
    {
     "name": "stderr",
     "output_type": "stream",
     "text": [
      "\r",
      "\\ |               #                                 | 740 Elapsed Time: 0:06:10"
     ]
    },
    {
     "name": "stdout",
     "output_type": "stream",
     "text": [
      "Save image to path  assets/addi/fire_database/image739.jpg\n",
      "Downloading image from  http://com.dataturks.a96-i23.open.s3.amazonaws.com/2c9fafb06702b2c1016723e86959020f/9869d5c9-4266-482a-95e2-b6550f6030a3___412.JPEG\n"
     ]
    },
    {
     "name": "stderr",
     "output_type": "stream",
     "text": [
      "\r",
      "| |           #                                     | 741 Elapsed Time: 0:06:11"
     ]
    },
    {
     "name": "stdout",
     "output_type": "stream",
     "text": [
      "Save image to path  assets/addi/fire_database/image740.jpg\n",
      "Downloading image from  http://com.dataturks.a96-i23.open.s3.amazonaws.com/2c9fafb06702b2c1016723e86959020f/8a34c5af-759e-43e5-b560-76c9167a7caf___107.JPEG\n"
     ]
    },
    {
     "name": "stderr",
     "output_type": "stream",
     "text": [
      "\r",
      "/ |      #                                          | 742 Elapsed Time: 0:06:11"
     ]
    },
    {
     "name": "stdout",
     "output_type": "stream",
     "text": [
      "Save image to path  assets/addi/fire_database/image741.jpg\n",
      "Downloading image from  http://com.dataturks.a96-i23.open.s3.amazonaws.com/2c9fafb06702b2c1016723e86959020f/eb3abd6f-9dc4-4c54-ad1d-c85539d8e6a6___557.JPEG\n"
     ]
    },
    {
     "name": "stderr",
     "output_type": "stream",
     "text": [
      "\r",
      "- | #                                               | 743 Elapsed Time: 0:06:12"
     ]
    },
    {
     "name": "stdout",
     "output_type": "stream",
     "text": [
      "Save image to path  assets/addi/fire_database/image742.jpg\n",
      "Downloading image from  http://com.dataturks.a96-i23.open.s3.amazonaws.com/2c9fafb06702b2c1016723e86959020f/d274ab80-798d-437c-9dbb-62939788b7e6___FF314.JPEG\n"
     ]
    },
    {
     "name": "stderr",
     "output_type": "stream",
     "text": [
      "\r",
      "\\ |  #                                              | 744 Elapsed Time: 0:06:12"
     ]
    },
    {
     "name": "stdout",
     "output_type": "stream",
     "text": [
      "Save image to path  assets/addi/fire_database/image743.jpg\n",
      "Downloading image from  http://com.dataturks.a96-i23.open.s3.amazonaws.com/2c9fafb06702b2c1016723e86959020f/0001f27d-e4aa-4f21-bbee-c2812f6e9154___279.JPEG\n"
     ]
    },
    {
     "name": "stderr",
     "output_type": "stream",
     "text": [
      "\r",
      "| |        #                                        | 745 Elapsed Time: 0:06:13"
     ]
    },
    {
     "name": "stdout",
     "output_type": "stream",
     "text": [
      "Save image to path  assets/addi/fire_database/image744.jpg\n",
      "Downloading image from  http://com.dataturks.a96-i23.open.s3.amazonaws.com/2c9fafb06702b2c1016723e86959020f/2542fdcd-2b32-45a8-b518-57c85e95d08c___FF81.JPEG\n"
     ]
    },
    {
     "name": "stderr",
     "output_type": "stream",
     "text": [
      "\r",
      "/ |            #                                    | 746 Elapsed Time: 0:06:13"
     ]
    },
    {
     "name": "stdout",
     "output_type": "stream",
     "text": [
      "Save image to path  assets/addi/fire_database/image745.jpg\n",
      "Downloading image from  http://com.dataturks.a96-i23.open.s3.amazonaws.com/2c9fafb06702b2c1016723e86959020f/b5ae9543-f111-4259-85bd-7d88cba3c6df___296.JPEG\n"
     ]
    },
    {
     "name": "stderr",
     "output_type": "stream",
     "text": [
      "\r",
      "- |                  #                              | 747 Elapsed Time: 0:06:14"
     ]
    },
    {
     "name": "stdout",
     "output_type": "stream",
     "text": [
      "Save image to path  assets/addi/fire_database/image746.jpg\n",
      "Downloading image from  http://com.dataturks.a96-i23.open.s3.amazonaws.com/2c9fafb06702b2c1016723e86959020f/2da8413c-5dbc-4953-8873-b59efae6a12f___445.JPEG\n"
     ]
    },
    {
     "name": "stderr",
     "output_type": "stream",
     "text": [
      "\r",
      "\\ |                      #                          | 748 Elapsed Time: 0:06:14"
     ]
    },
    {
     "name": "stdout",
     "output_type": "stream",
     "text": [
      "Save image to path  assets/addi/fire_database/image747.jpg\n",
      "Downloading image from  http://com.dataturks.a96-i23.open.s3.amazonaws.com/2c9fafb06702b2c1016723e86959020f/b0cc40ea-dd07-4e98-a203-8a84dab4127a___FF206.JPEG\n"
     ]
    },
    {
     "name": "stderr",
     "output_type": "stream",
     "text": [
      "\r",
      "| |                          #                      | 749 Elapsed Time: 0:06:15"
     ]
    },
    {
     "name": "stdout",
     "output_type": "stream",
     "text": [
      "Save image to path  assets/addi/fire_database/image748.jpg\n",
      "Downloading image from  http://com.dataturks.a96-i23.open.s3.amazonaws.com/2c9fafb06702b2c1016723e86959020f/f2ac6777-d9da-44e9-afb5-e22615ab9ef4___500.JPEG\n"
     ]
    },
    {
     "name": "stderr",
     "output_type": "stream",
     "text": [
      "\r",
      "/ |                              #                  | 750 Elapsed Time: 0:06:15"
     ]
    },
    {
     "name": "stdout",
     "output_type": "stream",
     "text": [
      "Save image to path  assets/addi/fire_database/image749.jpg\n",
      "Downloading image from  http://com.dataturks.a96-i23.open.s3.amazonaws.com/2c9fafb06702b2c1016723e86959020f/b44641a8-a4df-48f8-aa5f-5dd1d1424d05___150.JPEG\n"
     ]
    },
    {
     "name": "stderr",
     "output_type": "stream",
     "text": [
      "\r",
      "- |                                    #            | 751 Elapsed Time: 0:06:16"
     ]
    },
    {
     "name": "stdout",
     "output_type": "stream",
     "text": [
      "Save image to path  assets/addi/fire_database/image750.jpg\n",
      "Downloading image from  http://com.dataturks.a96-i23.open.s3.amazonaws.com/2c9fafb06702b2c1016723e86959020f/d72455bf-efa9-44b1-a597-93cc9820b93d___FF78.JPEG\n"
     ]
    },
    {
     "name": "stderr",
     "output_type": "stream",
     "text": [
      "\r",
      "\\ |                                         #       | 752 Elapsed Time: 0:06:16"
     ]
    },
    {
     "name": "stdout",
     "output_type": "stream",
     "text": [
      "Save image to path  assets/addi/fire_database/image751.jpg\n",
      "Downloading image from  http://com.dataturks.a96-i23.open.s3.amazonaws.com/2c9fafb06702b2c1016723e86959020f/2ff3339b-a51b-49d3-bd14-b93160659117___FF139.JPEG\n"
     ]
    },
    {
     "name": "stderr",
     "output_type": "stream",
     "text": [
      "\r",
      "| |                                              #  | 753 Elapsed Time: 0:06:17"
     ]
    },
    {
     "name": "stdout",
     "output_type": "stream",
     "text": [
      "Save image to path  assets/addi/fire_database/image752.jpg\n",
      "Downloading image from  http://com.dataturks.a96-i23.open.s3.amazonaws.com/2c9fafb06702b2c1016723e86959020f/a19c5f07-3937-4a45-9c93-2bfe76a7a7e5___280.JPEG\n"
     ]
    },
    {
     "name": "stderr",
     "output_type": "stream",
     "text": [
      "\r",
      "/ |                                              #  | 754 Elapsed Time: 0:06:17"
     ]
    },
    {
     "name": "stdout",
     "output_type": "stream",
     "text": [
      "Save image to path  assets/addi/fire_database/image753.jpg\n",
      "Downloading image from  http://com.dataturks.a96-i23.open.s3.amazonaws.com/2c9fafb06702b2c1016723e86959020f/6b801c8a-bd5b-4064-9f23-d502f0de3ebc___FF97.JPEG\n"
     ]
    },
    {
     "name": "stderr",
     "output_type": "stream",
     "text": [
      "\r",
      "- |                                         #       | 755 Elapsed Time: 0:06:18"
     ]
    },
    {
     "name": "stdout",
     "output_type": "stream",
     "text": [
      "Save image to path  assets/addi/fire_database/image754.jpg\n",
      "Downloading image from  http://com.dataturks.a96-i23.open.s3.amazonaws.com/2c9fafb06702b2c1016723e86959020f/029264f1-68aa-4d1d-b9d5-8c1956eafcff___FF210.JPEG\n"
     ]
    },
    {
     "name": "stderr",
     "output_type": "stream",
     "text": [
      "\r",
      "\\ |                                     #           | 756 Elapsed Time: 0:06:18"
     ]
    },
    {
     "name": "stdout",
     "output_type": "stream",
     "text": [
      "Save image to path  assets/addi/fire_database/image755.jpg\n",
      "Downloading image from  http://com.dataturks.a96-i23.open.s3.amazonaws.com/2c9fafb06702b2c1016723e86959020f/2cb7462c-a60e-4237-a827-8ee555b344ed___453.JPEG\n"
     ]
    },
    {
     "name": "stderr",
     "output_type": "stream",
     "text": [
      "\r",
      "| |                               #                 | 757 Elapsed Time: 0:06:19"
     ]
    },
    {
     "name": "stdout",
     "output_type": "stream",
     "text": [
      "Save image to path  assets/addi/fire_database/image756.jpg\n",
      "Downloading image from  http://com.dataturks.a96-i23.open.s3.amazonaws.com/2c9fafb06702b2c1016723e86959020f/d115b194-d4e2-4bcd-b70d-f69973e1b16a___146.JPEG\n"
     ]
    },
    {
     "name": "stderr",
     "output_type": "stream",
     "text": [
      "\r",
      "/ |                          #                      | 758 Elapsed Time: 0:06:19"
     ]
    },
    {
     "name": "stdout",
     "output_type": "stream",
     "text": [
      "Save image to path  assets/addi/fire_database/image757.jpg\n",
      "Downloading image from  http://com.dataturks.a96-i23.open.s3.amazonaws.com/2c9fafb06702b2c1016723e86959020f/4fd0d944-5e21-4f91-b6df-28b6d015a62c___516.JPEG\n"
     ]
    },
    {
     "name": "stderr",
     "output_type": "stream",
     "text": [
      "\r",
      "- |                      #                          | 759 Elapsed Time: 0:06:19"
     ]
    },
    {
     "name": "stdout",
     "output_type": "stream",
     "text": [
      "Save image to path  assets/addi/fire_database/image758.jpg\n",
      "Downloading image from  http://com.dataturks.a96-i23.open.s3.amazonaws.com/2c9fafb06702b2c1016723e86959020f/453a578f-527a-4834-b0a6-a817f0f17322___FF181.JPEG\n"
     ]
    },
    {
     "name": "stderr",
     "output_type": "stream",
     "text": [
      "\r",
      "\\ |                  #                              | 760 Elapsed Time: 0:06:20"
     ]
    },
    {
     "name": "stdout",
     "output_type": "stream",
     "text": [
      "Save image to path  assets/addi/fire_database/image759.jpg\n",
      "Downloading image from  http://com.dataturks.a96-i23.open.s3.amazonaws.com/2c9fafb06702b2c1016723e86959020f/97ad85a4-7334-4072-9fd7-aadb326d323e___238.JPEG\n"
     ]
    },
    {
     "name": "stderr",
     "output_type": "stream",
     "text": [
      "\r",
      "| |             #                                   | 761 Elapsed Time: 0:06:20"
     ]
    },
    {
     "name": "stdout",
     "output_type": "stream",
     "text": [
      "Save image to path  assets/addi/fire_database/image760.jpg\n",
      "Downloading image from  http://com.dataturks.a96-i23.open.s3.amazonaws.com/2c9fafb06702b2c1016723e86959020f/6697cb54-d72c-43d5-8c45-f70f3c563cc8___392.JPEG\n"
     ]
    },
    {
     "name": "stderr",
     "output_type": "stream",
     "text": [
      "\r",
      "/ |        #                                        | 762 Elapsed Time: 0:06:21"
     ]
    },
    {
     "name": "stdout",
     "output_type": "stream",
     "text": [
      "Save image to path  assets/addi/fire_database/image761.jpg\n",
      "Downloading image from  http://com.dataturks.a96-i23.open.s3.amazonaws.com/2c9fafb06702b2c1016723e86959020f/dda5f9ad-4bc8-4246-ad13-c4aa8ad73578___404.JPEG\n"
     ]
    },
    {
     "name": "stderr",
     "output_type": "stream",
     "text": [
      "\r",
      "- |   #                                             | 763 Elapsed Time: 0:06:21"
     ]
    },
    {
     "name": "stdout",
     "output_type": "stream",
     "text": [
      "Save image to path  assets/addi/fire_database/image762.jpg\n",
      "Downloading image from  http://com.dataturks.a96-i23.open.s3.amazonaws.com/2c9fafb06702b2c1016723e86959020f/bb74dfcc-4981-41fd-aeea-489a5e54c3d6___FF247.JPEG\n"
     ]
    },
    {
     "name": "stderr",
     "output_type": "stream",
     "text": [
      "\r",
      "\\ |   #                                             | 764 Elapsed Time: 0:06:22"
     ]
    },
    {
     "name": "stdout",
     "output_type": "stream",
     "text": [
      "Save image to path  assets/addi/fire_database/image763.jpg\n",
      "Downloading image from  http://com.dataturks.a96-i23.open.s3.amazonaws.com/2c9fafb06702b2c1016723e86959020f/743e1ce9-3b8f-4581-ae1b-0173a354a65c___49.JPEG\n"
     ]
    },
    {
     "name": "stderr",
     "output_type": "stream",
     "text": [
      "\r",
      "| |         #                                       | 765 Elapsed Time: 0:06:23"
     ]
    },
    {
     "name": "stdout",
     "output_type": "stream",
     "text": [
      "Save image to path  assets/addi/fire_database/image764.jpg\n",
      "Downloading image from  http://com.dataturks.a96-i23.open.s3.amazonaws.com/2c9fafb06702b2c1016723e86959020f/6e76e138-83aa-41d5-8a97-7a3000aab58c___FF302.JPEG\n"
     ]
    },
    {
     "name": "stderr",
     "output_type": "stream",
     "text": [
      "\r",
      "/ |              #                                  | 766 Elapsed Time: 0:06:23"
     ]
    },
    {
     "name": "stdout",
     "output_type": "stream",
     "text": [
      "Save image to path  assets/addi/fire_database/image765.jpg\n",
      "Downloading image from  http://com.dataturks.a96-i23.open.s3.amazonaws.com/2c9fafb06702b2c1016723e86959020f/1befacaa-70f6-45a7-b128-e4afccdd6b40___541.JPEG\n"
     ]
    },
    {
     "name": "stderr",
     "output_type": "stream",
     "text": [
      "\r",
      "- |                   #                             | 767 Elapsed Time: 0:06:24"
     ]
    },
    {
     "name": "stdout",
     "output_type": "stream",
     "text": [
      "Save image to path  assets/addi/fire_database/image766.jpg\n",
      "Downloading image from  http://com.dataturks.a96-i23.open.s3.amazonaws.com/2c9fafb06702b2c1016723e86959020f/a523540f-80d1-4058-93fc-9119200ee21f___111.JPEG\n"
     ]
    },
    {
     "name": "stderr",
     "output_type": "stream",
     "text": [
      "\r",
      "\\ |                         #                       | 768 Elapsed Time: 0:06:24"
     ]
    },
    {
     "name": "stdout",
     "output_type": "stream",
     "text": [
      "Save image to path  assets/addi/fire_database/image767.jpg\n",
      "Downloading image from  http://com.dataturks.a96-i23.open.s3.amazonaws.com/2c9fafb06702b2c1016723e86959020f/395d6ce6-e117-4482-aa2a-927456d2719b___405.JPEG\n"
     ]
    },
    {
     "name": "stderr",
     "output_type": "stream",
     "text": [
      "\r",
      "| |                               #                 | 769 Elapsed Time: 0:06:25"
     ]
    },
    {
     "name": "stdout",
     "output_type": "stream",
     "text": [
      "Save image to path  assets/addi/fire_database/image768.jpg\n",
      "Downloading image from  http://com.dataturks.a96-i23.open.s3.amazonaws.com/2c9fafb06702b2c1016723e86959020f/bc638213-99a2-455e-889e-42f1abb64645___FF246.JPEG\n"
     ]
    },
    {
     "name": "stderr",
     "output_type": "stream",
     "text": [
      "\r",
      "/ |                                    #            | 770 Elapsed Time: 0:06:25"
     ]
    },
    {
     "name": "stdout",
     "output_type": "stream",
     "text": [
      "Save image to path  assets/addi/fire_database/image769.jpg\n",
      "Downloading image from  http://com.dataturks.a96-i23.open.s3.amazonaws.com/2c9fafb06702b2c1016723e86959020f/914b5093-a8a2-4b0c-9d42-14bb483af644___48.JPEG\n"
     ]
    },
    {
     "name": "stderr",
     "output_type": "stream",
     "text": [
      "\r",
      "- |                                        #        | 771 Elapsed Time: 0:06:26"
     ]
    },
    {
     "name": "stdout",
     "output_type": "stream",
     "text": [
      "Save image to path  assets/addi/fire_database/image770.jpg\n",
      "Downloading image from  http://com.dataturks.a96-i23.open.s3.amazonaws.com/2c9fafb06702b2c1016723e86959020f/73d1971d-0b51-4a6d-9c3e-43c0713cf829___FF303.JPEG\n"
     ]
    },
    {
     "name": "stderr",
     "output_type": "stream",
     "text": [
      "\r",
      "\\ |                                            #    | 772 Elapsed Time: 0:06:26"
     ]
    },
    {
     "name": "stdout",
     "output_type": "stream",
     "text": [
      "Save image to path  assets/addi/fire_database/image771.jpg\n",
      "Downloading image from  http://com.dataturks.a96-i23.open.s3.amazonaws.com/2c9fafb06702b2c1016723e86959020f/35cfa82e-1a2f-4004-ae95-eebd1a745ae4___540.JPEG\n"
     ]
    },
    {
     "name": "stderr",
     "output_type": "stream",
     "text": [
      "\r",
      "| |                                                #| 773 Elapsed Time: 0:06:27"
     ]
    },
    {
     "name": "stdout",
     "output_type": "stream",
     "text": [
      "Save image to path  assets/addi/fire_database/image772.jpg\n",
      "Downloading image from  http://com.dataturks.a96-i23.open.s3.amazonaws.com/2c9fafb06702b2c1016723e86959020f/52a1f30c-0875-4c48-8ef7-0eb14fc05187___110.JPEG\n"
     ]
    },
    {
     "name": "stderr",
     "output_type": "stream",
     "text": [
      "\r",
      "/ |                                            #    | 774 Elapsed Time: 0:06:27"
     ]
    },
    {
     "name": "stdout",
     "output_type": "stream",
     "text": [
      "Save image to path  assets/addi/fire_database/image773.jpg\n",
      "Downloading image from  http://com.dataturks.a96-i23.open.s3.amazonaws.com/2c9fafb06702b2c1016723e86959020f/33317290-be64-48fd-aa02-3e3f7e143251___FF180.JPEG\n"
     ]
    },
    {
     "name": "stderr",
     "output_type": "stream",
     "text": [
      "\r",
      "- |                                        #        | 775 Elapsed Time: 0:06:27"
     ]
    },
    {
     "name": "stdout",
     "output_type": "stream",
     "text": [
      "Save image to path  assets/addi/fire_database/image774.jpg\n",
      "Downloading image from  http://com.dataturks.a96-i23.open.s3.amazonaws.com/2c9fafb06702b2c1016723e86959020f/4c4f3335-b962-4693-ade0-f38f62ffe4b4___239.JPEG\n"
     ]
    },
    {
     "name": "stderr",
     "output_type": "stream",
     "text": [
      "\r",
      "\\ |                                  #              | 776 Elapsed Time: 0:06:28"
     ]
    },
    {
     "name": "stdout",
     "output_type": "stream",
     "text": [
      "Save image to path  assets/addi/fire_database/image775.jpg\n",
      "Downloading image from  http://com.dataturks.a96-i23.open.s3.amazonaws.com/2c9fafb06702b2c1016723e86959020f/95a2f5e1-9ea0-4d62-9ab5-d69d8447592e___393.JPEG\n"
     ]
    },
    {
     "name": "stderr",
     "output_type": "stream",
     "text": [
      "\r",
      "| |                             #                   | 777 Elapsed Time: 0:06:29"
     ]
    },
    {
     "name": "stdout",
     "output_type": "stream",
     "text": [
      "Save image to path  assets/addi/fire_database/image776.jpg\n",
      "Downloading image from  http://com.dataturks.a96-i23.open.s3.amazonaws.com/2c9fafb06702b2c1016723e86959020f/96f3aac8-fa82-4ec9-8ef9-9edbfeeb35b2___FF211.JPEG\n"
     ]
    },
    {
     "name": "stderr",
     "output_type": "stream",
     "text": [
      "\r",
      "/ |                         #                       | 778 Elapsed Time: 0:06:29"
     ]
    },
    {
     "name": "stdout",
     "output_type": "stream",
     "text": [
      "Save image to path  assets/addi/fire_database/image777.jpg\n",
      "Downloading image from  http://com.dataturks.a96-i23.open.s3.amazonaws.com/2c9fafb06702b2c1016723e86959020f/553d8c93-ab45-452a-9e85-32ad4140a616___452.JPEG\n"
     ]
    },
    {
     "name": "stderr",
     "output_type": "stream",
     "text": [
      "\r",
      "- |                    #                            | 779 Elapsed Time: 0:06:29"
     ]
    },
    {
     "name": "stdout",
     "output_type": "stream",
     "text": [
      "Save image to path  assets/addi/fire_database/image778.jpg\n",
      "Downloading image from  http://com.dataturks.a96-i23.open.s3.amazonaws.com/2c9fafb06702b2c1016723e86959020f/896c151e-cc42-4f65-b87f-12b910a6272b___147.JPEG\n"
     ]
    },
    {
     "name": "stderr",
     "output_type": "stream",
     "text": [
      "\r",
      "\\ |              #                                  | 780 Elapsed Time: 0:06:30"
     ]
    },
    {
     "name": "stdout",
     "output_type": "stream",
     "text": [
      "Save image to path  assets/addi/fire_database/image779.jpg\n",
      "Downloading image from  http://com.dataturks.a96-i23.open.s3.amazonaws.com/2c9fafb06702b2c1016723e86959020f/658e07c1-464c-41b5-b8f9-ec4f331cb7b6___517.JPEG\n"
     ]
    },
    {
     "name": "stderr",
     "output_type": "stream",
     "text": [
      "\r",
      "| |        #                                        | 781 Elapsed Time: 0:06:31"
     ]
    },
    {
     "name": "stdout",
     "output_type": "stream",
     "text": [
      "Save image to path  assets/addi/fire_database/image780.jpg\n",
      "Downloading image from  http://com.dataturks.a96-i23.open.s3.amazonaws.com/2c9fafb06702b2c1016723e86959020f/4a20dbea-93f2-4c52-b74b-6dd4a7f67577___FF79.JPEG\n"
     ]
    },
    {
     "name": "stderr",
     "output_type": "stream",
     "text": [
      "\r",
      "/ |    #                                            | 782 Elapsed Time: 0:06:31"
     ]
    },
    {
     "name": "stdout",
     "output_type": "stream",
     "text": [
      "Save image to path  assets/addi/fire_database/image781.jpg\n",
      "Downloading image from  http://com.dataturks.a96-i23.open.s3.amazonaws.com/2c9fafb06702b2c1016723e86959020f/4023cf3b-5710-47ca-bfde-10c3fad8d58b___FF138.JPEG\n"
     ]
    },
    {
     "name": "stderr",
     "output_type": "stream",
     "text": [
      "\r",
      "- |#                                                | 783 Elapsed Time: 0:06:31"
     ]
    },
    {
     "name": "stdout",
     "output_type": "stream",
     "text": [
      "Save image to path  assets/addi/fire_database/image782.jpg\n",
      "Downloading image from  http://com.dataturks.a96-i23.open.s3.amazonaws.com/2c9fafb06702b2c1016723e86959020f/3eba98aa-87e2-411b-b940-ee2312a52164___281.JPEG\n"
     ]
    },
    {
     "name": "stderr",
     "output_type": "stream",
     "text": [
      "\r",
      "\\ |    #                                            | 784 Elapsed Time: 0:06:32"
     ]
    },
    {
     "name": "stdout",
     "output_type": "stream",
     "text": [
      "Save image to path  assets/addi/fire_database/image783.jpg\n",
      "Downloading image from  http://com.dataturks.a96-i23.open.s3.amazonaws.com/2c9fafb06702b2c1016723e86959020f/b90d89af-e843-4ee5-b7d1-0b219d7c8516___FF96.JPEG\n"
     ]
    },
    {
     "name": "stderr",
     "output_type": "stream",
     "text": [
      "\r",
      "| |        #                                        | 785 Elapsed Time: 0:06:32"
     ]
    },
    {
     "name": "stdout",
     "output_type": "stream",
     "text": [
      "Save image to path  assets/addi/fire_database/image784.jpg\n",
      "Downloading image from  http://com.dataturks.a96-i23.open.s3.amazonaws.com/2c9fafb06702b2c1016723e86959020f/f19d7ee5-60fc-4003-9a1d-d7ad6868c634___444.JPEG\n"
     ]
    },
    {
     "name": "stderr",
     "output_type": "stream",
     "text": [
      "\r",
      "/ |             #                                   | 786 Elapsed Time: 0:06:33"
     ]
    },
    {
     "name": "stdout",
     "output_type": "stream",
     "text": [
      "Save image to path  assets/addi/fire_database/image785.jpg\n",
      "Downloading image from  http://com.dataturks.a96-i23.open.s3.amazonaws.com/2c9fafb06702b2c1016723e86959020f/858d0398-d739-4909-bfee-d3775479c122___FF207.JPEG\n"
     ]
    },
    {
     "name": "stderr",
     "output_type": "stream",
     "text": [
      "\r",
      "- |                 #                               | 787 Elapsed Time: 0:06:33"
     ]
    },
    {
     "name": "stdout",
     "output_type": "stream",
     "text": [
      "Save image to path  assets/addi/fire_database/image786.jpg\n",
      "Downloading image from  http://com.dataturks.a96-i23.open.s3.amazonaws.com/2c9fafb06702b2c1016723e86959020f/7e82decf-5319-46ba-89aa-22b08cc27ba6___501.JPEG\n"
     ]
    },
    {
     "name": "stderr",
     "output_type": "stream",
     "text": [
      "\r",
      "\\ |                        #                        | 788 Elapsed Time: 0:06:34"
     ]
    },
    {
     "name": "stdout",
     "output_type": "stream",
     "text": [
      "Save image to path  assets/addi/fire_database/image787.jpg\n",
      "Downloading image from  http://com.dataturks.a96-i23.open.s3.amazonaws.com/2c9fafb06702b2c1016723e86959020f/430ac7bc-92cb-4f99-83ae-6f88f03f26a6___151.JPEG\n"
     ]
    },
    {
     "name": "stderr",
     "output_type": "stream",
     "text": [
      "\r",
      "| |                              #                  | 789 Elapsed Time: 0:06:35"
     ]
    },
    {
     "name": "stdout",
     "output_type": "stream",
     "text": [
      "Save image to path  assets/addi/fire_database/image788.jpg\n",
      "Downloading image from  http://com.dataturks.a96-i23.open.s3.amazonaws.com/2c9fafb06702b2c1016723e86959020f/73d89289-962a-41f5-b3dd-0a5542fd7d69___278.JPEG\n"
     ]
    },
    {
     "name": "stderr",
     "output_type": "stream",
     "text": [
      "\r",
      "/ |                                  #              | 790 Elapsed Time: 0:06:35"
     ]
    },
    {
     "name": "stdout",
     "output_type": "stream",
     "text": [
      "Save image to path  assets/addi/fire_database/image789.jpg\n",
      "Downloading image from  http://com.dataturks.a96-i23.open.s3.amazonaws.com/2c9fafb06702b2c1016723e86959020f/2db4d401-c2ea-414d-af9f-4e9845069d01___FF80.JPEG\n"
     ]
    },
    {
     "name": "stderr",
     "output_type": "stream",
     "text": [
      "\r",
      "- |                                      #          | 791 Elapsed Time: 0:06:35"
     ]
    },
    {
     "name": "stdout",
     "output_type": "stream",
     "text": [
      "Save image to path  assets/addi/fire_database/image790.jpg\n",
      "Downloading image from  http://com.dataturks.a96-i23.open.s3.amazonaws.com/2c9fafb06702b2c1016723e86959020f/63d847e4-87f1-40d7-9b01-b639de7578a1___297.JPEG\n"
     ]
    },
    {
     "name": "stderr",
     "output_type": "stream",
     "text": [
      "\r",
      "\\ |                                          #      | 792 Elapsed Time: 0:06:36"
     ]
    },
    {
     "name": "stdout",
     "output_type": "stream",
     "text": [
      "Save image to path  assets/addi/fire_database/image791.jpg\n",
      "Downloading image from  http://com.dataturks.a96-i23.open.s3.amazonaws.com/2c9fafb06702b2c1016723e86959020f/ca8c3f52-ea4a-482d-aabe-2bd58bdcbf09___FF250.JPEG\n"
     ]
    },
    {
     "name": "stderr",
     "output_type": "stream",
     "text": [
      "\r",
      "| |                                              #  | 793 Elapsed Time: 0:06:36"
     ]
    },
    {
     "name": "stdout",
     "output_type": "stream",
     "text": [
      "Save image to path  assets/addi/fire_database/image792.jpg\n",
      "Downloading image from  http://com.dataturks.a96-i23.open.s3.amazonaws.com/2c9fafb06702b2c1016723e86959020f/108ff88f-9e11-4e72-a42d-4dce20c4dbfe___413.JPEG\n"
     ]
    },
    {
     "name": "stderr",
     "output_type": "stream",
     "text": [
      "\r",
      "/ |                                             #   | 794 Elapsed Time: 0:06:37"
     ]
    },
    {
     "name": "stdout",
     "output_type": "stream",
     "text": [
      "Save image to path  assets/addi/fire_database/image793.jpg\n",
      "Downloading image from  http://com.dataturks.a96-i23.open.s3.amazonaws.com/2c9fafb06702b2c1016723e86959020f/703cab82-36a7-457b-ad89-c600694fc22e___106.JPEG\n"
     ]
    },
    {
     "name": "stderr",
     "output_type": "stream",
     "text": [
      "\r",
      "- |                                    #            | 795 Elapsed Time: 0:06:38"
     ]
    },
    {
     "name": "stdout",
     "output_type": "stream",
     "text": [
      "Save image to path  assets/addi/fire_database/image794.jpg\n",
      "Downloading image from  http://com.dataturks.a96-i23.open.s3.amazonaws.com/2c9fafb06702b2c1016723e86959020f/bb6221a9-f906-4b8c-a8cd-a39e27c5c648___556.JPEG\n"
     ]
    },
    {
     "name": "stderr",
     "output_type": "stream",
     "text": [
      "\r",
      "\\ |                              #                  | 796 Elapsed Time: 0:06:38"
     ]
    },
    {
     "name": "stdout",
     "output_type": "stream",
     "text": [
      "Save image to path  assets/addi/fire_database/image795.jpg\n",
      "Downloading image from  http://com.dataturks.a96-i23.open.s3.amazonaws.com/2c9fafb06702b2c1016723e86959020f/5eed9bd2-1e84-44c2-97e1-f27949e69dd9___FF315.JPEG\n"
     ]
    },
    {
     "name": "stderr",
     "output_type": "stream",
     "text": [
      "\r",
      "| |                          #                      | 797 Elapsed Time: 0:06:39"
     ]
    },
    {
     "name": "stdout",
     "output_type": "stream",
     "text": [
      "Save image to path  assets/addi/fire_database/image796.jpg\n",
      "Downloading image from  http://com.dataturks.a96-i23.open.s3.amazonaws.com/2c9fafb06702b2c1016723e86959020f/62c70ab3-6959-497d-8b52-b33d429d927e___385.JPEG\n"
     ]
    },
    {
     "name": "stderr",
     "output_type": "stream",
     "text": [
      "\r",
      "/ |                    #                            | 798 Elapsed Time: 0:06:39"
     ]
    },
    {
     "name": "stdout",
     "output_type": "stream",
     "text": [
      "Save image to path  assets/addi/fire_database/image797.jpg\n",
      "Downloading image from  http://com.dataturks.a96-i23.open.s3.amazonaws.com/2c9fafb06702b2c1016723e86959020f/d851a62f-42ab-4c9b-84e6-007976332b08___FF196.JPEG\n"
     ]
    },
    {
     "name": "stderr",
     "output_type": "stream",
     "text": [
      "\r",
      "- |                #                                | 799 Elapsed Time: 0:06:40"
     ]
    },
    {
     "name": "stdout",
     "output_type": "stream",
     "text": [
      "Save image to path  assets/addi/fire_database/image798.jpg\n",
      "Downloading image from  http://com.dataturks.a96-i23.open.s3.amazonaws.com/2c9fafb06702b2c1016723e86959020f/82919755-bb4b-4d8a-901a-b00d294d935a___FF38.JPEG\n"
     ]
    },
    {
     "name": "stderr",
     "output_type": "stream",
     "text": [
      "\r",
      "\\ |            #                                    | 800 Elapsed Time: 0:06:40"
     ]
    },
    {
     "name": "stdout",
     "output_type": "stream",
     "text": [
      "Save image to path  assets/addi/fire_database/image799.jpg\n",
      "Downloading image from  http://com.dataturks.a96-i23.open.s3.amazonaws.com/2c9fafb06702b2c1016723e86959020f/c9bcdb4d-e19a-479a-bec5-a9b415292e76___FF179.JPEG\n"
     ]
    },
    {
     "name": "stderr",
     "output_type": "stream",
     "text": [
      "\r",
      "| |       #                                         | 801 Elapsed Time: 0:06:41"
     ]
    },
    {
     "name": "stdout",
     "output_type": "stream",
     "text": [
      "Save image to path  assets/addi/fire_database/image800.jpg\n",
      "Downloading image from  http://com.dataturks.a96-i23.open.s3.amazonaws.com/2c9fafb06702b2c1016723e86959020f/47937853-556f-4dc8-ba8d-72b9512253e4___487.JPEG\n"
     ]
    },
    {
     "name": "stderr",
     "output_type": "stream",
     "text": [
      "\r",
      "/ | #                                               | 802 Elapsed Time: 0:06:41"
     ]
    },
    {
     "name": "stdout",
     "output_type": "stream",
     "text": [
      "Save image to path  assets/addi/fire_database/image801.jpg\n",
      "Downloading image from  http://com.dataturks.a96-i23.open.s3.amazonaws.com/2c9fafb06702b2c1016723e86959020f/c5cfc5e3-08c8-4d92-aa4d-ee16b489c3b5___25.JPEG\n"
     ]
    },
    {
     "name": "stderr",
     "output_type": "stream",
     "text": [
      "\r",
      "- |    #                                            | 803 Elapsed Time: 0:06:42"
     ]
    },
    {
     "name": "stdout",
     "output_type": "stream",
     "text": [
      "Save image to path  assets/addi/fire_database/image802.jpg\n",
      "Downloading image from  http://com.dataturks.a96-i23.open.s3.amazonaws.com/2c9fafb06702b2c1016723e86959020f/19d9c604-1f40-48a3-9d60-de33157ec168___192.JPEG\n"
     ]
    },
    {
     "name": "stderr",
     "output_type": "stream",
     "text": [
      "\r",
      "\\ |         #                                       | 804 Elapsed Time: 0:06:42"
     ]
    },
    {
     "name": "stdout",
     "output_type": "stream",
     "text": [
      "Save image to path  assets/addi/fire_database/image803.jpg\n",
      "Downloading image from  http://com.dataturks.a96-i23.open.s3.amazonaws.com/2c9fafb06702b2c1016723e86959020f/e3d6df5e-4e31-462a-a159-95bf3dd18eb9___468.JPEG\n"
     ]
    },
    {
     "name": "stderr",
     "output_type": "stream",
     "text": [
      "\r",
      "| |               #                                 | 805 Elapsed Time: 0:06:43"
     ]
    },
    {
     "name": "stdout",
     "output_type": "stream",
     "text": [
      "Save image to path  assets/addi/fire_database/image804.jpg\n",
      "Downloading image from  http://com.dataturks.a96-i23.open.s3.amazonaws.com/2c9fafb06702b2c1016723e86959020f/a327198f-78ca-45af-a8d1-6d09b35ebef6___FF102.JPEG\n"
     ]
    },
    {
     "name": "stderr",
     "output_type": "stream",
     "text": [
      "\r",
      "/ |                    #                            | 806 Elapsed Time: 0:06:43"
     ]
    },
    {
     "name": "stdout",
     "output_type": "stream",
     "text": [
      "Save image to path  assets/addi/fire_database/image805.jpg\n",
      "Downloading image from  http://com.dataturks.a96-i23.open.s3.amazonaws.com/2c9fafb06702b2c1016723e86959020f/7191e610-f92d-4c7c-894a-be1e177a402e___311.JPEG\n"
     ]
    },
    {
     "name": "stderr",
     "output_type": "stream",
     "text": [
      "\r",
      "- |                         #                       | 807 Elapsed Time: 0:06:44"
     ]
    },
    {
     "name": "stdout",
     "output_type": "stream",
     "text": [
      "Save image to path  assets/addi/fire_database/image806.jpg\n",
      "Downloading image from  http://com.dataturks.a96-i23.open.s3.amazonaws.com/2c9fafb06702b2c1016723e86959020f/ee121902-e411-4d19-9bcf-6a4056cec7aa___254.JPEG\n"
     ]
    },
    {
     "name": "stderr",
     "output_type": "stream",
     "text": [
      "\r",
      "\\ |                                  #              | 808 Elapsed Time: 0:06:45"
     ]
    },
    {
     "name": "stdout",
     "output_type": "stream",
     "text": [
      "Save image to path  assets/addi/fire_database/image807.jpg\n",
      "Downloading image from  http://com.dataturks.a96-i23.open.s3.amazonaws.com/2c9fafb06702b2c1016723e86959020f/cc326b8c-1dd9-4b2e-aea1-6386f85ae59e___FF43.JPEG\n"
     ]
    },
    {
     "name": "stderr",
     "output_type": "stream",
     "text": [
      "\r",
      "| |                                      #          | 809 Elapsed Time: 0:06:45"
     ]
    },
    {
     "name": "stdout",
     "output_type": "stream",
     "text": [
      "Save image to path  assets/addi/fire_database/image808.jpg\n",
      "Downloading image from  http://com.dataturks.a96-i23.open.s3.amazonaws.com/2c9fafb06702b2c1016723e86959020f/33d1772f-97e9-4904-9b04-3ae55e60e395___72.JPEG\n"
     ]
    },
    {
     "name": "stderr",
     "output_type": "stream",
     "text": [
      "\r",
      "/ |                                            #    | 810 Elapsed Time: 0:06:46"
     ]
    },
    {
     "name": "stdout",
     "output_type": "stream",
     "text": [
      "Save image to path  assets/addi/fire_database/image809.jpg\n",
      "Downloading image from  http://com.dataturks.a96-i23.open.s3.amazonaws.com/2c9fafb06702b2c1016723e86959020f/571700d6-b734-4cbe-9955-633bd9f0848c___FF293.JPEG\n"
     ]
    },
    {
     "name": "stderr",
     "output_type": "stream",
     "text": [
      "\r",
      "- |                                               # | 811 Elapsed Time: 0:06:46"
     ]
    },
    {
     "name": "stdout",
     "output_type": "stream",
     "text": [
      "Save image to path  assets/addi/fire_database/image810.jpg\n",
      "Downloading image from  http://com.dataturks.a96-i23.open.s3.amazonaws.com/2c9fafb06702b2c1016723e86959020f/e58feb30-900a-4578-9b05-64cf70896daa___346.JPEG\n"
     ]
    },
    {
     "name": "stderr",
     "output_type": "stream",
     "text": [
      "\r",
      "\\ |                                        #        | 812 Elapsed Time: 0:06:47"
     ]
    },
    {
     "name": "stdout",
     "output_type": "stream",
     "text": [
      "Save image to path  assets/addi/fire_database/image811.jpg\n",
      "Downloading image from  http://com.dataturks.a96-i23.open.s3.amazonaws.com/2c9fafb06702b2c1016723e86959020f/4a5ad579-6fb5-4e19-97df-4d35b9a25574___FF155.JPEG\n"
     ]
    },
    {
     "name": "stderr",
     "output_type": "stream",
     "text": [
      "\r",
      "| |                                    #            | 813 Elapsed Time: 0:06:47"
     ]
    },
    {
     "name": "stdout",
     "output_type": "stream",
     "text": [
      "Save image to path  assets/addi/fire_database/image812.jpg\n",
      "Downloading image from  http://com.dataturks.a96-i23.open.s3.amazonaws.com/2c9fafb06702b2c1016723e86959020f/4637c45b-4c8d-45f2-85f2-6863f0ed2b44___FF14.JPEG\n"
     ]
    },
    {
     "name": "stderr",
     "output_type": "stream",
     "text": [
      "\r",
      "/ |                               #                 | 814 Elapsed Time: 0:06:48"
     ]
    },
    {
     "name": "stdout",
     "output_type": "stream",
     "text": [
      "Save image to path  assets/addi/fire_database/image813.jpg\n",
      "Downloading image from  http://com.dataturks.a96-i23.open.s3.amazonaws.com/2c9fafb06702b2c1016723e86959020f/4e9f5e33-2804-4d42-b7ef-5e6962ca566d___203.JPEG\n"
     ]
    },
    {
     "name": "stderr",
     "output_type": "stream",
     "text": [
      "\r",
      "- |                          #                      | 815 Elapsed Time: 0:06:48"
     ]
    },
    {
     "name": "stdout",
     "output_type": "stream",
     "text": [
      "Save image to path  assets/addi/fire_database/image814.jpg\n",
      "Downloading image from  http://com.dataturks.a96-i23.open.s3.amazonaws.com/2c9fafb06702b2c1016723e86959020f/010b4166-5691-4a53-bc22-150e0c5514c3___FF285.JPEG\n"
     ]
    },
    {
     "name": "stderr",
     "output_type": "stream",
     "text": [
      "\r",
      "\\ |                   #                             | 816 Elapsed Time: 0:06:49"
     ]
    },
    {
     "name": "stdout",
     "output_type": "stream",
     "text": [
      "Save image to path  assets/addi/fire_database/image815.jpg\n",
      "Downloading image from  http://com.dataturks.a96-i23.open.s3.amazonaws.com/2c9fafb06702b2c1016723e86959020f/9ec39b89-d457-4369-b90b-fcb94ff6195c___64.JPEG\n"
     ]
    },
    {
     "name": "stderr",
     "output_type": "stream",
     "text": [
      "\r",
      "| |              #                                  | 817 Elapsed Time: 0:06:50"
     ]
    },
    {
     "name": "stdout",
     "output_type": "stream",
     "text": [
      "Save image to path  assets/addi/fire_database/image816.jpg\n",
      "Downloading image from  http://com.dataturks.a96-i23.open.s3.amazonaws.com/2c9fafb06702b2c1016723e86959020f/db8dd06e-add4-49b3-9328-75965590fc4c___429.JPEG\n"
     ]
    }
   ],
   "source": [
    "import urllib.request\n",
    "from PIL import Image\n",
    "import time\n",
    "import progressbar\n",
    "\n",
    "bar = progressbar.ProgressBar(max_value=progressbar.UnknownLength)\n",
    "path =\"assets/addi/fire_database/image\"\n",
    "counter = 1\n",
    "for link in link_list: \n",
    "    print(\"Downloading image from \", link)\n",
    "    image = Image.open(urllib.request.urlopen(link))\n",
    "    save_path = path + str(counter) + \".jpg\"\n",
    "    image.save(save_path)\n",
    "    print(\"Save image to path \", save_path)\n",
    "    counter += 1\n",
    "    bar.update(counter)"
   ]
  },
  {
   "cell_type": "code",
   "execution_count": 18,
   "metadata": {},
   "outputs": [],
   "source": []
  },
  {
   "cell_type": "code",
   "execution_count": null,
   "metadata": {},
   "outputs": [],
   "source": []
  }
 ],
 "metadata": {
  "kernelspec": {
   "display_name": "Python 3",
   "language": "python",
   "name": "python3"
  },
  "language_info": {
   "codemirror_mode": {
    "name": "ipython",
    "version": 3
   },
   "file_extension": ".py",
   "mimetype": "text/x-python",
   "name": "python",
   "nbconvert_exporter": "python",
   "pygments_lexer": "ipython3",
   "version": "3.7.6"
  }
 },
 "nbformat": 4,
 "nbformat_minor": 2
}
