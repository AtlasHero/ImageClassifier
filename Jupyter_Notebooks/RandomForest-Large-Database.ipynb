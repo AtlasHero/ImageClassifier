{
 "cells": [
  {
   "cell_type": "code",
   "execution_count": 1,
   "metadata": {},
   "outputs": [],
   "source": [
    "import os\n",
    "import numpy as np\n",
    "import matplotlib.pyplot as plt\n",
    "import matplotlib.image as mpimg\n",
    "import cv2\n",
    "\n",
    "# defining global variable path\n",
    "image_path = \"assets\"\n",
    "\n",
    "'''function to load folder into arrays and \n",
    "then it returns that same array'''\n",
    "def load_images(path):\n",
    "    list_of_files = []\n",
    "    dirName = path\n",
    "    for (dirpath, dirnames, filenames) in os.walk(dirName):\n",
    "        list_of_files += [os.path.join(dirpath, file) for file in filenames]\n",
    "    return list_of_files"
   ]
  },
  {
   "cell_type": "code",
   "execution_count": 3,
   "metadata": {
    "scrolled": true
   },
   "outputs": [
    {
     "name": "stderr",
     "output_type": "stream",
     "text": [
      "Using TensorFlow backend.\n"
     ]
    }
   ],
   "source": [
    "from scipy import ndimage#\n",
    "from keras.preprocessing.image import ImageDataGenerator, array_to_img, img_to_array, load_img"
   ]
  },
  {
   "cell_type": "code",
   "execution_count": 4,
   "metadata": {},
   "outputs": [],
   "source": [
    "def process_image(image_path): \n",
    "    images = []\n",
    "    list_image_paths = load_images(image_path)\n",
    "    for path in list_image_paths: \n",
    "        image= (load_img(path))\n",
    "        image.resize((640 ,480))\n",
    "        images.append((img_to_array(image).flatten()))\n",
    "        if i % 20 == 0: \n",
    "            print(\"image\", i)\n",
    "        #print(type(img))\n",
    "        #print(img.mode)\n",
    "    #img.show()\n",
    "    return images"
   ]
  },
  {
   "cell_type": "code",
   "execution_count": 5,
   "metadata": {},
   "outputs": [],
   "source": [
    "import gc\n",
    "def load_images_from_list(image_list):\n",
    "    images = []\n",
    "    i = 1\n",
    "    for image_path in image_list: \n",
    "        f = open(image_path, 'rb')\n",
    "        image= (load_img(image_path))\n",
    "        image = image.resize((640 ,480))\n",
    "        image_arr = img_to_array(image).flatten()\n",
    "        images.append(image_arr)\n",
    "        image.close()\n",
    "        del image\n",
    "        gc.collect()\n",
    "        if i % 20 == 0: \n",
    "            print(\"image\", i)\n",
    "        f.close()\n",
    "        i += 1\n",
    "        #print(type(img))\n",
    "        #print(img.mode)\n",
    "    #img.show()\n",
    "    return images"
   ]
  },
  {
   "cell_type": "code",
   "execution_count": 6,
   "metadata": {},
   "outputs": [
    {
     "name": "stdout",
     "output_type": "stream",
     "text": [
      "314\n"
     ]
    }
   ],
   "source": [
    "import pandas as pd\n",
    "from sklearn.utils import shuffle\n",
    "from sklearn.model_selection import train_test_split\n",
    "from sklearn.ensemble import RandomForestClassifier\n",
    "df = pd.read_csv(\"fire_aug_database.csv\")\n",
    "df = shuffle(df)\n",
    "df = df.drop(list(df.columns)[0], axis=1)\n",
    "list_files=df[\"file\"].tolist()\n",
    "print(len(list_files))\n",
    "\n"
   ]
  },
  {
   "cell_type": "code",
   "execution_count": 7,
   "metadata": {},
   "outputs": [
    {
     "name": "stdout",
     "output_type": "stream",
     "text": [
      "image 20\n",
      "image 40\n",
      "image 60\n",
      "image 80\n",
      "image 100\n",
      "image 120\n",
      "image 140\n",
      "image 160\n",
      "image 180\n",
      "image 200\n",
      "image 220\n",
      "image 240\n",
      "image 260\n",
      "image 280\n",
      "image 300\n"
     ]
    }
   ],
   "source": [
    "X_images = np.array(load_images_from_list(list_files))\n",
    "y = df[\"label\"].to_list()\n",
    "train_X, test_X, train_y, test_y = train_test_split(X_images, y, test_size=0.10, random_state=42)"
   ]
  },
  {
   "cell_type": "code",
   "execution_count": 8,
   "metadata": {},
   "outputs": [],
   "source": [
    "parameters = {'bootstrap': True,\n",
    "              'min_samples_leaf': 4,\n",
    "              'n_estimators':30, \n",
    "              'min_samples_split': 10,\n",
    "              'max_features': 'sqrt',\n",
    "              'max_depth': 4,\n",
    "              'max_leaf_nodes': None}"
   ]
  },
  {
   "cell_type": "code",
   "execution_count": 9,
   "metadata": {},
   "outputs": [
    {
     "name": "stdout",
     "output_type": "stream",
     "text": [
      "1157529600 bytes\n"
     ]
    }
   ],
   "source": [
    "print(\"%d bytes\" % (X_images.size * X_images.itemsize))"
   ]
  },
  {
   "cell_type": "code",
   "execution_count": 10,
   "metadata": {},
   "outputs": [],
   "source": [
    "RF_model = RandomForestClassifier(**parameters)"
   ]
  },
  {
   "cell_type": "code",
   "execution_count": 11,
   "metadata": {
    "scrolled": true
   },
   "outputs": [
    {
     "data": {
      "text/plain": [
       "RandomForestClassifier(bootstrap=True, class_weight=None, criterion='gini',\n",
       "                       max_depth=4, max_features='sqrt', max_leaf_nodes=None,\n",
       "                       min_impurity_decrease=0.0, min_impurity_split=None,\n",
       "                       min_samples_leaf=4, min_samples_split=10,\n",
       "                       min_weight_fraction_leaf=0.0, n_estimators=30,\n",
       "                       n_jobs=None, oob_score=False, random_state=None,\n",
       "                       verbose=0, warm_start=False)"
      ]
     },
     "execution_count": 11,
     "metadata": {},
     "output_type": "execute_result"
    }
   ],
   "source": [
    "RF_model.fit(train_X, train_y)\n"
   ]
  },
  {
   "cell_type": "code",
   "execution_count": 13,
   "metadata": {},
   "outputs": [
    {
     "name": "stdout",
     "output_type": "stream",
     "text": [
      "0.84375\n"
     ]
    }
   ],
   "source": [
    "from sklearn.metrics import accuracy_score\n",
    "RF_predictions = RF_model.predict(test_X)\n",
    "score = accuracy_score(test_y ,RF_predictions)\n",
    "print(score)\n"
   ]
  },
  {
   "cell_type": "code",
   "execution_count": 14,
   "metadata": {},
   "outputs": [
    {
     "data": {
      "text/plain": [
       "array([[18,  4],\n",
       "       [ 1,  9]], dtype=int64)"
      ]
     },
     "execution_count": 14,
     "metadata": {},
     "output_type": "execute_result"
    }
   ],
   "source": [
    "from sklearn.metrics import confusion_matrix\n",
    "confusion_matrix(test_y, RF_predictions)"
   ]
  },
  {
   "cell_type": "code",
   "execution_count": 15,
   "metadata": {},
   "outputs": [
    {
     "name": "stdout",
     "output_type": "stream",
     "text": [
      "0.9680851063829787\n"
     ]
    }
   ],
   "source": [
    "from sklearn.metrics import accuracy_score\n",
    "RF_predictions = RF_model.predict(train_X)\n",
    "score = accuracy_score(train_y ,RF_predictions)\n",
    "print(score)"
   ]
  },
  {
   "cell_type": "code",
   "execution_count": 16,
   "metadata": {},
   "outputs": [
    {
     "data": {
      "text/plain": [
       "array([[137,   9],\n",
       "       [  0, 136]], dtype=int64)"
      ]
     },
     "execution_count": 16,
     "metadata": {},
     "output_type": "execute_result"
    }
   ],
   "source": [
    "confusion_matrix(train_y, RF_predictions)"
   ]
  },
  {
   "cell_type": "code",
   "execution_count": 17,
   "metadata": {},
   "outputs": [
    {
     "data": {
      "text/plain": [
       "168"
      ]
     },
     "execution_count": 17,
     "metadata": {},
     "output_type": "execute_result"
    }
   ],
   "source": [
    "labels = df[\"label\"]\n",
    "y_fire = len(labels[labels == \"fire\"])\n",
    "y_fire"
   ]
  },
  {
   "cell_type": "code",
   "execution_count": 18,
   "metadata": {},
   "outputs": [
    {
     "data": {
      "text/plain": [
       "146"
      ]
     },
     "execution_count": 18,
     "metadata": {},
     "output_type": "execute_result"
    }
   ],
   "source": [
    "y_no_fire = len(labels[labels == \"no_fire\"])\n",
    "y_no_fire"
   ]
  },
  {
   "cell_type": "code",
   "execution_count": 19,
   "metadata": {},
   "outputs": [
    {
     "name": "stdout",
     "output_type": "stream",
     "text": [
      "0.535031847133758\n"
     ]
    }
   ],
   "source": [
    "distribution = y_fire/(y_no_fire+y_fire)\n",
    "print(distribution)"
   ]
  },
  {
   "cell_type": "markdown",
   "metadata": {},
   "source": [
    "# Algorithm in Action\n",
    "\n",
    "## Fire images"
   ]
  },
  {
   "cell_type": "code",
   "execution_count": 20,
   "metadata": {},
   "outputs": [],
   "source": [
    "import os\n",
    "entries_fire = os.listdir('assets/addi/drone_shots')\n",
    "entries_fire = ['assets/addi/fire_database/image31.jpg',\n",
    "                \"assets/addi/drone_shots/EC5F69EDF7433C9F50E8B4C445CD0806.JPG\",\n",
    "                'assets/addi/fire_database/image6.jpg',\n",
    "                'assets/addi/fire_database/image88.jpg',\n",
    "                'assets/addi/fire_database/image66.jpg',\n",
    "                'assets/addi/fire_database/image656.jpg', \n",
    "                \"assets/addi/fire_database/image666.jpg\", \n",
    "                \"assets/addi/fire_database/image799.jpg\"]\n",
    "X_images_prod = load_images_from_list(entries_fire)"
   ]
  },
  {
   "cell_type": "code",
   "execution_count": 21,
   "metadata": {},
   "outputs": [
    {
     "name": "stdout",
     "output_type": "stream",
     "text": [
      "['assets/addi/fire_database/image31.jpg', 'assets/addi/drone_shots/EC5F69EDF7433C9F50E8B4C445CD0806.JPG', 'assets/addi/fire_database/image6.jpg', 'assets/addi/fire_database/image88.jpg', 'assets/addi/fire_database/image66.jpg', 'assets/addi/fire_database/image656.jpg', 'assets/addi/fire_database/image666.jpg', 'assets/addi/fire_database/image799.jpg']\n"
     ]
    },
    {
     "data": {
      "text/plain": [
       "array(['fire', 'fire', 'fire', 'fire', 'fire', 'fire', 'fire', 'fire'],\n",
       "      dtype='<U7')"
      ]
     },
     "execution_count": 21,
     "metadata": {},
     "output_type": "execute_result"
    }
   ],
   "source": [
    "print(entries_fire)\n",
    "RF_predictions_prod = RF_model.predict(X_images_prod)\n",
    "RF_predictions_prod"
   ]
  },
  {
   "cell_type": "markdown",
   "metadata": {},
   "source": [
    "## No Fire "
   ]
  },
  {
   "cell_type": "code",
   "execution_count": 22,
   "metadata": {},
   "outputs": [],
   "source": [
    "import os\n",
    "entries_fire = os.listdir('assets/addi/drone_shots')\n",
    "entries_fire = ['assets/addi/fire_database/image168.jpg',\n",
    "                \n",
    "                'assets/addi/fire_database/image227.jpg',\n",
    "                'assets/addi/fire_database/image235.jpg',\n",
    "                'assets/addi/fire_database/image852.jpg', \n",
    "                \"assets/addi/fire_database/image869.jpg\", \n",
    "                \"assets/addi/fire_database/image593.jpg\"]\n",
    "X_images_prod = load_images_from_list(entries_fire)"
   ]
  },
  {
   "cell_type": "code",
   "execution_count": 23,
   "metadata": {},
   "outputs": [
    {
     "name": "stdout",
     "output_type": "stream",
     "text": [
      "['assets/addi/fire_database/image168.jpg', 'assets/addi/fire_database/image227.jpg', 'assets/addi/fire_database/image235.jpg', 'assets/addi/fire_database/image852.jpg', 'assets/addi/fire_database/image869.jpg', 'assets/addi/fire_database/image593.jpg']\n"
     ]
    },
    {
     "data": {
      "text/plain": [
       "array(['no_fire', 'no_fire', 'no_fire', 'no_fire', 'no_fire', 'no_fire'],\n",
       "      dtype='<U7')"
      ]
     },
     "execution_count": 23,
     "metadata": {},
     "output_type": "execute_result"
    }
   ],
   "source": [
    "print(entries_fire)\n",
    "RF_predictions_prod = RF_model.predict(X_images_prod)\n",
    "RF_predictions_prod"
   ]
  },
  {
   "cell_type": "code",
   "execution_count": 24,
   "metadata": {},
   "outputs": [
    {
     "name": "stdout",
     "output_type": "stream",
     "text": [
      "image 20\n",
      "image 40\n",
      "image 60\n",
      "image 80\n",
      "image 100\n",
      "image 120\n",
      "image 140\n",
      "image 160\n",
      "image 180\n",
      "image 200\n",
      "image 220\n",
      "image 240\n",
      "image 260\n",
      "image 280\n",
      "image 300\n",
      "image 320\n",
      "image 340\n",
      "image 360\n",
      "image 380\n",
      "image 400\n",
      "image 420\n",
      "image 440\n",
      "image 460\n",
      "image 480\n",
      "image 500\n",
      "image 520\n",
      "image 540\n",
      "image 560\n",
      "image 580\n",
      "image 600\n",
      "image 620\n",
      "image 640\n",
      "image 660\n",
      "image 680\n",
      "image 700\n",
      "image 720\n",
      "image 740\n"
     ]
    }
   ],
   "source": [
    "df = pd.read_csv(\"fire_data_large_database.csv\")\n",
    "list_files=df[\"file\"].tolist()\n",
    "X_images_prod = load_images_from_list(list_files)\n",
    "label_test = df[\"label\"].tolist()"
   ]
  },
  {
   "cell_type": "code",
   "execution_count": 25,
   "metadata": {},
   "outputs": [
    {
     "name": "stdout",
     "output_type": "stream",
     "text": [
      "0.47580645161290325\n"
     ]
    }
   ],
   "source": [
    "RF_predictions = RF_model.predict(X_images_prod)\n",
    "score = accuracy_score(label_test ,RF_predictions)\n",
    "print(score)"
   ]
  },
  {
   "cell_type": "code",
   "execution_count": 26,
   "metadata": {},
   "outputs": [
    {
     "data": {
      "text/plain": [
       "array([[151, 121],\n",
       "       [269, 203]], dtype=int64)"
      ]
     },
     "execution_count": 26,
     "metadata": {},
     "output_type": "execute_result"
    }
   ],
   "source": [
    "confusion_matrix(label_test, RF_predictions)"
   ]
  },
  {
   "cell_type": "markdown",
   "metadata": {},
   "source": [
    "# Fazit\n",
    "+ Algorithm learns to detect smoke \n",
    "+ Algorithm does not necessarily detect fire \n",
    "+ Algorithm gets confused by fake smoke \n",
    "+ Enhance data base according to these findings "
   ]
  },
  {
   "cell_type": "code",
   "execution_count": null,
   "metadata": {},
   "outputs": [],
   "source": []
  }
 ],
 "metadata": {
  "kernelspec": {
   "display_name": "Python 3",
   "language": "python",
   "name": "python3"
  },
  "language_info": {
   "codemirror_mode": {
    "name": "ipython",
    "version": 3
   },
   "file_extension": ".py",
   "mimetype": "text/x-python",
   "name": "python",
   "nbconvert_exporter": "python",
   "pygments_lexer": "ipython3",
   "version": "3.7.3"
  }
 },
 "nbformat": 4,
 "nbformat_minor": 2
}
